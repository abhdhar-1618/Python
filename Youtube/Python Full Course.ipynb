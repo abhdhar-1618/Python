{
 "cells": [
  {
   "cell_type": "markdown",
   "id": "a2d65495",
   "metadata": {},
   "source": [
    "## Source :- [Bro Code](https://www.youtube.com/watch?v=XKHEtdqhLK8)"
   ]
  },
  {
   "cell_type": "markdown",
   "id": "373d840b",
   "metadata": {},
   "source": [
    "## Variables"
   ]
  },
  {
   "cell_type": "code",
   "execution_count": 1,
   "id": "237164ad",
   "metadata": {},
   "outputs": [
    {
     "name": "stdout",
     "output_type": "stream",
     "text": [
      "Bro Code\n"
     ]
    }
   ],
   "source": [
    "name = 'Bro Code'\n",
    "print(name)\n"
   ]
  },
  {
   "cell_type": "markdown",
   "id": "c98a6b50",
   "metadata": {},
   "source": [
    "## IF Statement\n",
    "\n",
    "( A block of code that will execute if it's condition is true)"
   ]
  },
  {
   "cell_type": "code",
   "execution_count": 25,
   "id": "8228df62",
   "metadata": {},
   "outputs": [
    {
     "name": "stdout",
     "output_type": "stream",
     "text": [
      "How old are you?: 0\n",
      "You are not born yet!\n"
     ]
    }
   ],
   "source": [
    "age  = int(input(\"How old are you?: \"))\n",
    "if age >= 100:\n",
    "    print(\"You are a century old!\")\n",
    "elif age >= 18:\n",
    "    print(\"You are an adult!\")\n",
    "elif age <= 0:\n",
    "    print(\"You are not born yet!\")\n",
    "else:\n",
    "    print(\"You are a child!\")"
   ]
  },
  {
   "cell_type": "markdown",
   "id": "3a81ba99",
   "metadata": {},
   "source": []
  },
  {
   "cell_type": "markdown",
   "id": "e1c5e3ab",
   "metadata": {},
   "source": [
    "## And Operator"
   ]
  },
  {
   "cell_type": "code",
   "execution_count": 26,
   "id": "2a616a8b",
   "metadata": {},
   "outputs": [
    {
     "name": "stdout",
     "output_type": "stream",
     "text": [
      "Example 1: Both conditions are true\n",
      "Example 2: Both conditions are true\n",
      "Example 3: All conditions are true\n",
      "Example 4: All conditions are true, including arithmetic expression\n",
      "Example 5: Boolean expression using AND is true\n",
      "Example 6: List comprehension result: [3, 4]\n"
     ]
    }
   ],
   "source": [
    "# Initialize variables\n",
    "x = 5\n",
    "y = 10\n",
    "z = 15\n",
    "\n",
    "# Example 1: Basic AND operation\n",
    "if x < y and y < z:\n",
    "    print(\"Example 1: Both conditions are true\")\n",
    "\n",
    "# Example 2: Using parentheses for clarity\n",
    "if (x < y) and (y < z):\n",
    "    print(\"Example 2: Both conditions are true\")\n",
    "\n",
    "# Example 3: Chaining multiple AND conditions\n",
    "if x < y and y < z and x < z:\n",
    "    print(\"Example 3: All conditions are true\")\n",
    "\n",
    "# Example 4: Combining AND with other logical operators\n",
    "if x < y and y < z and (x + y == z):\n",
    "    print(\"Example 4: All conditions are true, including arithmetic expression\")\n",
    "\n",
    "# Example 5: Using AND in a boolean expression\n",
    "is_greater = x < y and y < z\n",
    "if is_greater:\n",
    "    print(\"Example 5: Boolean expression using AND is true\")\n",
    "\n",
    "# Example 6: Using AND in a list comprehension\n",
    "numbers = [1, 2, 3, 4, 5, 6]\n",
    "filtered_numbers = [num for num in numbers if num > 2 and num < 5]\n",
    "print(f\"Example 6: List comprehension result: {filtered_numbers}\")\n"
   ]
  },
  {
   "cell_type": "markdown",
   "id": "9d6128e5",
   "metadata": {},
   "source": [
    "## OR operator"
   ]
  },
  {
   "cell_type": "markdown",
   "id": "a7eda432",
   "metadata": {},
   "source": [
    "### Example 1: Basic OR operation"
   ]
  },
  {
   "cell_type": "markdown",
   "id": "66f28dae",
   "metadata": {},
   "source": [
    "Explanation: In this example, we're deciding whether to plan a beach vacation based on the weather forecast (sunny) or having a flexible budget (more than $800). In this case if any of the OR statements are satisfied, the if statement will run. To get the ELIF statement, both the or conditions need to fail."
   ]
  },
  {
   "cell_type": "code",
   "execution_count": 53,
   "id": "0e7f0bbb",
   "metadata": {},
   "outputs": [
    {
     "name": "stdout",
     "output_type": "stream",
     "text": [
      "Example 1: Let's plan a beach vacation!\n"
     ]
    }
   ],
   "source": [
    "# Real-world example: Vacation Planning\n",
    "weather_forecast = \"Sunny\"  # Change the weather forecast\n",
    "budget = 800\n",
    "\n",
    "# Basic OR operation\n",
    "if weather_forecast == \"Sunny\" or budget > 800:\n",
    "    print(\"Example 1: Let's plan a beach vacation!\")\n",
    "else:\n",
    "    print(\"Example 1: Beach vacation might not be the best option this time.\")"
   ]
  },
  {
   "cell_type": "markdown",
   "id": "9843fb58",
   "metadata": {},
   "source": [
    "### Example 2: Using parentheses for clarity"
   ]
  },
  {
   "cell_type": "markdown",
   "id": "84f4c851",
   "metadata": {},
   "source": [
    "In summary, the or operator is used to combine conditions in both the if and elif statements. The if block is executed if at least one of the conditions is True, and the elif block is skipped once the first True condition is found. If all conditions are False, the else block is executed."
   ]
  },
  {
   "cell_type": "code",
   "execution_count": 63,
   "id": "4a2724d4",
   "metadata": {},
   "outputs": [
    {
     "name": "stdout",
     "output_type": "stream",
     "text": [
      "Example 2: Qualified for a senior position!\n"
     ]
    }
   ],
   "source": [
    "# Real-world example: Job Application\n",
    "years_of_experience = 1\n",
    "education_level = \"Ph.D.\"\n",
    "\n",
    "# Using parentheses for clarity with if and elif statements\n",
    "if (years_of_experience > 5) or (education_level == \"Ph.D.\"):\n",
    "    print(\"Example 2: Qualified for a senior position!\")\n",
    "elif years_of_experience > 2 or education_level == \"Master's\":\n",
    "    print(\"Example 2: Qualified for a mid-level position.\")\n",
    "else:\n",
    "    print(\"Example 2: Not qualified for the specified positions.\")"
   ]
  },
  {
   "cell_type": "markdown",
   "id": "ee30695c",
   "metadata": {},
   "source": [
    "## Example 3: Chaining multiple OR conditions"
   ]
  },
  {
   "cell_type": "code",
   "execution_count": 68,
   "id": "2bd50228",
   "metadata": {},
   "outputs": [
    {
     "name": "stdout",
     "output_type": "stream",
     "text": [
      "Example 3: Eligible for scholarship!\n"
     ]
    }
   ],
   "source": [
    "# Real-world example: Scholarship Eligibility\n",
    "gpa = 3.5\n",
    "extracurricular_activities = True\n",
    "family_income = 25000\n",
    "\n",
    "# Chaining multiple OR conditions with if and else statements\n",
    "if gpa > 3.8 or extracurricular_activities or family_income < 20000:\n",
    "    print(\"Example 3: Eligible for scholarship!\")\n",
    "else:\n",
    "    print(\"Example 3: Not eligible for the scholarship.\")"
   ]
  },
  {
   "cell_type": "markdown",
   "id": "593cf507",
   "metadata": {},
   "source": [
    "In summary, the or operator is used to combine multiple conditions in the if statement. The if block is executed if at least one of the conditions is True. In this specific scenario, eligibility for the scholarship is determined based on GPA, extracurricular activities, and family income. If any of these conditions are met, the student is considered eligible; otherwise, they are not eligible for the scholarship."
   ]
  },
  {
   "cell_type": "markdown",
   "id": "17e2dcfe",
   "metadata": {},
   "source": [
    "## Example 4: Combining OR with other logical operators"
   ]
  },
  {
   "cell_type": "code",
   "execution_count": 69,
   "id": "bed3811d",
   "metadata": {},
   "outputs": [
    {
     "name": "stdout",
     "output_type": "stream",
     "text": [
      "Example 4: Enjoy comprehensive job benefits!\n"
     ]
    }
   ],
   "source": [
    "# Real-world example: Job Benefits\n",
    "has_health_insurance = True\n",
    "has_retirement_plan = False\n",
    "has_stock_options = True\n",
    "\n",
    "# Combining OR with other logical operators using if and elif statements\n",
    "if has_health_insurance or (not has_retirement_plan and has_stock_options):\n",
    "    print(\"Example 4: Enjoy comprehensive job benefits!\")\n",
    "elif has_retirement_plan or has_stock_options:\n",
    "    print(\"Example 4: Enjoy some job benefits.\")\n",
    "else:\n",
    "    print(\"Example 4: Limited job benefits.\")"
   ]
  },
  {
   "cell_type": "markdown",
   "id": "c6ddbdc2",
   "metadata": {},
   "source": [
    "Summary:\n",
    "The or operator is used in combination with other logical operators (not and and) in the if statement.\n",
    "The first condition checks if the employee has health insurance (has_health_insurance). If true, it prints \"Enjoy comprehensive job benefits!\"\n",
    "The subsequent elif and else blocks are skipped once the if block is executed.\n",
    "In this scenario, having health insurance is considered a comprehensive job benefit, and other benefits related to retirement plans and stock options are not evaluated due to the short-circuit behavior of or."
   ]
  },
  {
   "cell_type": "markdown",
   "id": "721419fa",
   "metadata": {},
   "source": [
    "## Example 5: Using OR in a boolean expression"
   ]
  },
  {
   "cell_type": "code",
   "execution_count": 70,
   "id": "2d931e83",
   "metadata": {},
   "outputs": [
    {
     "name": "stdout",
     "output_type": "stream",
     "text": [
      "Example 5: User is a subscriber.\n"
     ]
    }
   ],
   "source": [
    "# Real-world example: Subscription Status\n",
    "has_premium_account = True\n",
    "has_unlimited_access = False\n",
    "\n",
    "# Using OR in a boolean expression with if and else statements\n",
    "is_subscriber = has_premium_account or has_unlimited_access\n",
    "if is_subscriber:\n",
    "    print(\"Example 5: User is a subscriber.\")\n",
    "else:\n",
    "    print(\"Example 5: User is not a subscriber.\")"
   ]
  },
  {
   "cell_type": "markdown",
   "id": "7fd3b36b",
   "metadata": {},
   "source": [
    "Summary:\n",
    "\n",
    "The or operator is used to combine two conditions in the boolean expression.\n",
    "The boolean expression is_subscriber is True if at least one of its components (has_premium_account or has_unlimited_access) is True.\n",
    "In this scenario, having a premium account (has_premium_account) is sufficient to consider the user as a subscriber.\n",
    "The else block is not executed because the if condition is True."
   ]
  },
  {
   "cell_type": "markdown",
   "id": "19a7f9f0",
   "metadata": {},
   "source": [
    "## Example 6: Using OR in a list comprehension"
   ]
  },
  {
   "cell_type": "code",
   "execution_count": 71,
   "id": "4c9d8353",
   "metadata": {},
   "outputs": [
    {
     "name": "stdout",
     "output_type": "stream",
     "text": [
      "Example 6: High-rated genres: ['Action', 'Sci-Fi']\n"
     ]
    }
   ],
   "source": [
    "# Real-world example: Movie Ratings\n",
    "movie_ratings = {'Action': 8, 'Drama': 7, 'Comedy': 6, 'Sci-Fi': 9}\n",
    "\n",
    "# Using OR in a list comprehension\n",
    "high_rated_genres = [genre for genre, rating in movie_ratings.items() if rating > 7 or 'Sci-Fi' in genre]\n",
    "print(f\"Example 6: High-rated genres: {high_rated_genres}\")"
   ]
  },
  {
   "cell_type": "markdown",
   "id": "102383f7",
   "metadata": {},
   "source": [
    "Summary:\n",
    "\n",
    "The or operator is used in the list comprehension to filter genres based on high ratings or the presence of the 'Sci-Fi' genre.\n",
    "Genres with ratings greater than 7 or the 'Sci-Fi' genre are considered high-rated.\n",
    "The resulting list, high_rated_genres, contains the genres that meet the specified conditions."
   ]
  },
  {
   "cell_type": "markdown",
   "id": "dd25a6b5",
   "metadata": {},
   "source": [
    "- Practice questions:\n",
    "\n",
    "- Basic OR Operation (Example 1):\n",
    "\n",
    "What is the purpose of the basic OR operation in Python?\n",
    "Can you provide an example scenario where a basic OR operation is useful?\n",
    "\n",
    "- Using Parentheses for Clarity (Example 2):\n",
    "\n",
    "Explain the significance of using parentheses for clarity in logical operations.\n",
    "How does using parentheses impact the evaluation of conditions in Python?\n",
    "\n",
    "- Chaining Multiple OR Conditions (Example 3):\n",
    "\n",
    "Describe a situation where chaining multiple OR conditions is beneficial.\n",
    "What is the potential drawback of chaining too many OR conditions in an if statement?\n",
    "\n",
    "- Combining OR with Other Logical Operators (Example 4):\n",
    "\n",
    "How can you combine the OR operator with other logical operators for more complex conditions?\n",
    "Provide an example where combining OR with other logical operators is necessary.\n",
    "\n",
    "- Using OR in a Boolean Expression (Example 5):\n",
    "\n",
    "Explain the concept of using OR in a boolean expression.\n",
    "In what scenarios is using OR in a boolean expression advantageous?\n",
    "\n",
    "- Using OR in a List Comprehension (Example 6):\n",
    "\n",
    "Describe the purpose of using OR in a list comprehension.\n",
    "Provide an example where using OR in a list comprehension is a concise and effective approach."
   ]
  }
 ],
 "metadata": {
  "kernelspec": {
   "display_name": "Python 3 (ipykernel)",
   "language": "python",
   "name": "python3"
  },
  "language_info": {
   "codemirror_mode": {
    "name": "ipython",
    "version": 3
   },
   "file_extension": ".py",
   "mimetype": "text/x-python",
   "name": "python",
   "nbconvert_exporter": "python",
   "pygments_lexer": "ipython3",
   "version": "3.11.5"
  },
  "varInspector": {
   "cols": {
    "lenName": 16,
    "lenType": 16,
    "lenVar": 40
   },
   "kernels_config": {
    "python": {
     "delete_cmd_postfix": "",
     "delete_cmd_prefix": "del ",
     "library": "var_list.py",
     "varRefreshCmd": "print(var_dic_list())"
    },
    "r": {
     "delete_cmd_postfix": ") ",
     "delete_cmd_prefix": "rm(",
     "library": "var_list.r",
     "varRefreshCmd": "cat(var_dic_list()) "
    }
   },
   "types_to_exclude": [
    "module",
    "function",
    "builtin_function_or_method",
    "instance",
    "_Feature"
   ],
   "window_display": false
  }
 },
 "nbformat": 4,
 "nbformat_minor": 5
}
