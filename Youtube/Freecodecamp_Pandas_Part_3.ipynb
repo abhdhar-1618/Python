{
 "cells": [
  {
   "cell_type": "markdown",
   "id": "68b619b0",
   "metadata": {},
   "source": [
    "# Resources\n",
    "## Instructor Name:- Santiago Basulto\n",
    "## Channel:- [Freecodecamp](https://www.youtube.com/watch?v=gtjxAH8uaP0)\n",
    "## Resource Link:- [Youtube](https://youtu.be/gtjxAH8uaP0?t=5070)"
   ]
  },
  {
   "cell_type": "code",
   "execution_count": 5,
   "id": "d37dcc16",
   "metadata": {},
   "outputs": [],
   "source": [
    "import math"
   ]
  },
  {
   "cell_type": "code",
   "execution_count": 2,
   "id": "84fa22e3",
   "metadata": {},
   "outputs": [],
   "source": [
    "def nCr(n, k):\n",
    "    f = math.factorial\n",
    "    return f(n) / (f(k) * f(n - k))"
   ]
  },
  {
   "cell_type": "code",
   "execution_count": 6,
   "id": "00296c9d",
   "metadata": {},
   "outputs": [
    {
     "data": {
      "text/plain": [
       "21.0"
      ]
     },
     "execution_count": 6,
     "metadata": {},
     "output_type": "execute_result"
    }
   ],
   "source": [
    "nCr(7,2)"
   ]
  },
  {
   "cell_type": "markdown",
   "id": "cb7f9b18",
   "metadata": {},
   "source": [
    "##### 1. What's the probability when `n` = 10?"
   ]
  },
  {
   "cell_type": "code",
   "execution_count": 7,
   "id": "03004797",
   "metadata": {},
   "outputs": [
    {
     "data": {
      "text/plain": [
       "45.0"
      ]
     },
     "execution_count": 7,
     "metadata": {},
     "output_type": "execute_result"
    }
   ],
   "source": [
    "nCr(10,2)"
   ]
  },
  {
   "cell_type": "markdown",
   "id": "43c050b2",
   "metadata": {},
   "source": [
    "##### 2. What's the probability when `n` is 15?"
   ]
  },
  {
   "cell_type": "code",
   "execution_count": 8,
   "id": "cb1c7a2b",
   "metadata": {},
   "outputs": [
    {
     "data": {
      "text/plain": [
       "105.0"
      ]
     },
     "execution_count": 8,
     "metadata": {},
     "output_type": "execute_result"
    }
   ],
   "source": [
    "nCr(15,2)"
   ]
  },
  {
   "cell_type": "markdown",
   "id": "0e6a0d15",
   "metadata": {},
   "source": [
    "##### 3. Implement the `birthday_probability` function"
   ]
  },
  {
   "cell_type": "code",
   "execution_count": 15,
   "id": "9396c7e9",
   "metadata": {},
   "outputs": [
    {
     "data": {
      "text/plain": [
       "0.11614023654879224"
      ]
     },
     "execution_count": 15,
     "metadata": {},
     "output_type": "execute_result"
    }
   ],
   "source": [
    "# Method 1\n",
    "\n",
    "1 - ((364 / 365) ** nCr(10, 2))"
   ]
  },
  {
   "cell_type": "code",
   "execution_count": 17,
   "id": "cbc54d69",
   "metadata": {},
   "outputs": [
    {
     "data": {
      "text/plain": [
       "0.12"
      ]
     },
     "execution_count": 17,
     "metadata": {},
     "output_type": "execute_result"
    }
   ],
   "source": [
    "# Method 2\n",
    "round(1 - ((364 / 365) ** nCr(10, 2)), 2)"
   ]
  },
  {
   "cell_type": "markdown",
   "id": "89e80743",
   "metadata": {},
   "source": [
    "### NBA Birthday Paradox Analysis"
   ]
  },
  {
   "cell_type": "code",
   "execution_count": 18,
   "id": "40088e26",
   "metadata": {},
   "outputs": [],
   "source": [
    "import pandas as pd"
   ]
  },
  {
   "cell_type": "code",
   "execution_count": 19,
   "id": "6fa5a1a9",
   "metadata": {},
   "outputs": [],
   "source": [
    "df = pd.read_csv('nba_2017.csv')"
   ]
  },
  {
   "cell_type": "code",
   "execution_count": 20,
   "id": "270bb699",
   "metadata": {},
   "outputs": [
    {
     "data": {
      "text/html": [
       "<div>\n",
       "<style scoped>\n",
       "    .dataframe tbody tr th:only-of-type {\n",
       "        vertical-align: middle;\n",
       "    }\n",
       "\n",
       "    .dataframe tbody tr th {\n",
       "        vertical-align: top;\n",
       "    }\n",
       "\n",
       "    .dataframe thead th {\n",
       "        text-align: right;\n",
       "    }\n",
       "</style>\n",
       "<table border=\"1\" class=\"dataframe\">\n",
       "  <thead>\n",
       "    <tr style=\"text-align: right;\">\n",
       "      <th></th>\n",
       "      <th>Player</th>\n",
       "      <th>Pos</th>\n",
       "      <th>Age</th>\n",
       "      <th>Team</th>\n",
       "      <th>Birth Date</th>\n",
       "    </tr>\n",
       "  </thead>\n",
       "  <tbody>\n",
       "    <tr>\n",
       "      <th>0</th>\n",
       "      <td>Alex Abrines</td>\n",
       "      <td>SG</td>\n",
       "      <td>23</td>\n",
       "      <td>Oklahoma City Thunder</td>\n",
       "      <td>01-08-1993</td>\n",
       "    </tr>\n",
       "    <tr>\n",
       "      <th>1</th>\n",
       "      <td>Quincy Acy</td>\n",
       "      <td>PF</td>\n",
       "      <td>26</td>\n",
       "      <td>Dallas Mavericks</td>\n",
       "      <td>06-10-1990</td>\n",
       "    </tr>\n",
       "    <tr>\n",
       "      <th>2</th>\n",
       "      <td>Quincy Acy</td>\n",
       "      <td>PF</td>\n",
       "      <td>26</td>\n",
       "      <td>Brooklyn Nets</td>\n",
       "      <td>06-10-1990</td>\n",
       "    </tr>\n",
       "    <tr>\n",
       "      <th>3</th>\n",
       "      <td>Steven Adams</td>\n",
       "      <td>C</td>\n",
       "      <td>23</td>\n",
       "      <td>Oklahoma City Thunder</td>\n",
       "      <td>20-07-1993</td>\n",
       "    </tr>\n",
       "    <tr>\n",
       "      <th>4</th>\n",
       "      <td>Arron Afflalo</td>\n",
       "      <td>SG</td>\n",
       "      <td>31</td>\n",
       "      <td>Sacramento Kings</td>\n",
       "      <td>15-10-1985</td>\n",
       "    </tr>\n",
       "  </tbody>\n",
       "</table>\n",
       "</div>"
      ],
      "text/plain": [
       "          Player Pos  Age                   Team  Birth Date\n",
       "0   Alex Abrines  SG   23  Oklahoma City Thunder  01-08-1993\n",
       "1     Quincy Acy  PF   26       Dallas Mavericks  06-10-1990\n",
       "2     Quincy Acy  PF   26          Brooklyn Nets  06-10-1990\n",
       "3   Steven Adams   C   23  Oklahoma City Thunder  20-07-1993\n",
       "4  Arron Afflalo  SG   31       Sacramento Kings  15-10-1985"
      ]
     },
     "execution_count": 20,
     "metadata": {},
     "output_type": "execute_result"
    }
   ],
   "source": [
    "df.head()"
   ]
  },
  {
   "cell_type": "code",
   "execution_count": 28,
   "id": "d664b985",
   "metadata": {},
   "outputs": [
    {
     "name": "stdout",
     "output_type": "stream",
     "text": [
      "Data Types of Columns:\n",
      "Player                          object\n",
      "Pos                             object\n",
      "Age                              int64\n",
      "Team                            object\n",
      "Birth Date              datetime64[ns]\n",
      "Birth Date Formatted            object\n",
      "dtype: object\n"
     ]
    }
   ],
   "source": [
    "import pandas as pd\n",
    "\n",
    "# Assuming your DataFrame is named 'df'\n",
    "# Display the data types of all columns\n",
    "print(\"Data Types of Columns:\")\n",
    "print(df.dtypes)"
   ]
  },
  {
   "cell_type": "markdown",
   "id": "7df53942",
   "metadata": {},
   "source": [
    "##### 4. Create the `Birth Date` column"
   ]
  },
  {
   "cell_type": "code",
   "execution_count": 26,
   "id": "5963f1d0",
   "metadata": {},
   "outputs": [
    {
     "name": "stdout",
     "output_type": "stream",
     "text": [
      "    Birth Date Birth Date Formatted\n",
      "0   1993-01-08                01-08\n",
      "1   1990-06-10                06-10\n",
      "2   1990-06-10                06-10\n",
      "3          NaT                  NaN\n",
      "4          NaT                  NaN\n",
      "..         ...                  ...\n",
      "546 1992-05-10                05-10\n",
      "547        NaT                  NaN\n",
      "548 1996-09-09                09-09\n",
      "549        NaT                  NaN\n",
      "550        NaT                  NaN\n",
      "\n",
      "[551 rows x 2 columns]\n"
     ]
    }
   ],
   "source": [
    "# Assuming your DataFrame is named 'df' and has a 'Birth Date' column\n",
    "# Convert 'Birth Date' to datetime type\n",
    "df['Birth Date'] = pd.to_datetime(df['Birth Date'], errors='coerce')  # 'coerce' handles invalid dates by converting them to NaT\n",
    "\n",
    "# Check if 'Birth Date' is now a datetime type\n",
    "if pd.api.types.is_datetime64_any_dtype(df['Birth Date']):\n",
    "    # Apply the strftime formatting\n",
    "    df['Birth Date Formatted'] = df['Birth Date'].dt.strftime('%m-%d')\n",
    "    print(df[['Birth Date', 'Birth Date Formatted']])\n",
    "else:\n",
    "    print(\"Conversion to datetime failed. Check the 'Birth Date' column.\")"
   ]
  },
  {
   "cell_type": "code",
   "execution_count": 27,
   "id": "a4c038d3",
   "metadata": {},
   "outputs": [
    {
     "data": {
      "text/html": [
       "<div>\n",
       "<style scoped>\n",
       "    .dataframe tbody tr th:only-of-type {\n",
       "        vertical-align: middle;\n",
       "    }\n",
       "\n",
       "    .dataframe tbody tr th {\n",
       "        vertical-align: top;\n",
       "    }\n",
       "\n",
       "    .dataframe thead th {\n",
       "        text-align: right;\n",
       "    }\n",
       "</style>\n",
       "<table border=\"1\" class=\"dataframe\">\n",
       "  <thead>\n",
       "    <tr style=\"text-align: right;\">\n",
       "      <th></th>\n",
       "      <th>Player</th>\n",
       "      <th>Pos</th>\n",
       "      <th>Age</th>\n",
       "      <th>Team</th>\n",
       "      <th>Birth Date</th>\n",
       "      <th>Birth Date Formatted</th>\n",
       "    </tr>\n",
       "  </thead>\n",
       "  <tbody>\n",
       "    <tr>\n",
       "      <th>0</th>\n",
       "      <td>Alex Abrines</td>\n",
       "      <td>SG</td>\n",
       "      <td>23</td>\n",
       "      <td>Oklahoma City Thunder</td>\n",
       "      <td>1993-01-08</td>\n",
       "      <td>01-08</td>\n",
       "    </tr>\n",
       "    <tr>\n",
       "      <th>1</th>\n",
       "      <td>Quincy Acy</td>\n",
       "      <td>PF</td>\n",
       "      <td>26</td>\n",
       "      <td>Dallas Mavericks</td>\n",
       "      <td>1990-06-10</td>\n",
       "      <td>06-10</td>\n",
       "    </tr>\n",
       "  </tbody>\n",
       "</table>\n",
       "</div>"
      ],
      "text/plain": [
       "         Player Pos  Age                   Team Birth Date  \\\n",
       "0  Alex Abrines  SG   23  Oklahoma City Thunder 1993-01-08   \n",
       "1    Quincy Acy  PF   26       Dallas Mavericks 1990-06-10   \n",
       "\n",
       "  Birth Date Formatted  \n",
       "0                01-08  \n",
       "1                06-10  "
      ]
     },
     "execution_count": 27,
     "metadata": {},
     "output_type": "execute_result"
    }
   ],
   "source": [
    "df.head(2)"
   ]
  },
  {
   "cell_type": "markdown",
   "id": "7c45a090",
   "metadata": {},
   "source": [
    "### Interlude: Combinatorics\n",
    "\n",
    "For this project, you're free to use any techinque that you prefer to answer how many players share a birthday for a given team. But, one recommendation would be to use combinatorics; specifically the *Combinations*, using the `itertools.combinations` function. Here's a quick example. Suppose we have these samples:\n",
    "\n",
    "| Name | Birthday  |\n",
    "|------|-----------|\n",
    "| John | March 5th |\n",
    "| Mary | Sept 20th |\n",
    "| Rob  | March 5th |\n",
    "\n",
    "Using combinations, we can take all the samples in paris (`r=2`) to compare them:\n",
    "\n",
    "| Person 1 | Person 2  |\n",
    "|------|-----------|\n",
    "| John | Mary |\n",
    "| John | Rob |\n",
    "| Mary  | Rob |\n",
    "\n",
    "Using Python:"
   ]
  },
  {
   "cell_type": "code",
   "execution_count": 29,
   "id": "82a032c9",
   "metadata": {},
   "outputs": [],
   "source": [
    "from itertools import combinations"
   ]
  },
  {
   "cell_type": "code",
   "execution_count": null,
   "id": "37402ad5",
   "metadata": {},
   "outputs": [],
   "source": []
  },
  {
   "cell_type": "code",
   "execution_count": null,
   "id": "85fc51f9",
   "metadata": {},
   "outputs": [],
   "source": []
  },
  {
   "cell_type": "markdown",
   "id": "6874c709",
   "metadata": {},
   "source": [
    "### Activities"
   ]
  },
  {
   "cell_type": "markdown",
   "id": "21f96843",
   "metadata": {},
   "source": [
    "##### 5. How many pairs of players share a birthday for the **Atlanta Hawks**?"
   ]
  },
  {
   "cell_type": "code",
   "execution_count": 32,
   "id": "ffe074a2",
   "metadata": {},
   "outputs": [
    {
     "data": {
      "text/html": [
       "<div>\n",
       "<style scoped>\n",
       "    .dataframe tbody tr th:only-of-type {\n",
       "        vertical-align: middle;\n",
       "    }\n",
       "\n",
       "    .dataframe tbody tr th {\n",
       "        vertical-align: top;\n",
       "    }\n",
       "\n",
       "    .dataframe thead th {\n",
       "        text-align: right;\n",
       "    }\n",
       "</style>\n",
       "<table border=\"1\" class=\"dataframe\">\n",
       "  <thead>\n",
       "    <tr style=\"text-align: right;\">\n",
       "      <th></th>\n",
       "      <th>Player</th>\n",
       "      <th>Pos</th>\n",
       "      <th>Age</th>\n",
       "      <th>Team</th>\n",
       "      <th>Birth Date</th>\n",
       "      <th>Birth Date Formatted</th>\n",
       "    </tr>\n",
       "  </thead>\n",
       "  <tbody>\n",
       "    <tr>\n",
       "      <th>37</th>\n",
       "      <td>Kent Bazemore</td>\n",
       "      <td>SF</td>\n",
       "      <td>27</td>\n",
       "      <td>Atlanta Hawks</td>\n",
       "      <td>1989-01-07</td>\n",
       "      <td>01-07</td>\n",
       "    </tr>\n",
       "    <tr>\n",
       "      <th>42</th>\n",
       "      <td>DeAndre' Bembry</td>\n",
       "      <td>SF</td>\n",
       "      <td>22</td>\n",
       "      <td>Atlanta Hawks</td>\n",
       "      <td>1994-04-07</td>\n",
       "      <td>04-07</td>\n",
       "    </tr>\n",
       "    <tr>\n",
       "      <th>75</th>\n",
       "      <td>Jose Calderon</td>\n",
       "      <td>PG</td>\n",
       "      <td>35</td>\n",
       "      <td>Atlanta Hawks</td>\n",
       "      <td>NaT</td>\n",
       "      <td>NaN</td>\n",
       "    </tr>\n",
       "    <tr>\n",
       "      <th>116</th>\n",
       "      <td>Malcolm Delaney</td>\n",
       "      <td>PG</td>\n",
       "      <td>27</td>\n",
       "      <td>Atlanta Hawks</td>\n",
       "      <td>1989-11-03</td>\n",
       "      <td>11-03</td>\n",
       "    </tr>\n",
       "    <tr>\n",
       "      <th>130</th>\n",
       "      <td>Mike Dunleavy</td>\n",
       "      <td>SF</td>\n",
       "      <td>36</td>\n",
       "      <td>Atlanta Hawks</td>\n",
       "      <td>NaT</td>\n",
       "      <td>NaN</td>\n",
       "    </tr>\n",
       "  </tbody>\n",
       "</table>\n",
       "</div>"
      ],
      "text/plain": [
       "              Player Pos  Age           Team Birth Date Birth Date Formatted\n",
       "37     Kent Bazemore  SF   27  Atlanta Hawks 1989-01-07                01-07\n",
       "42   DeAndre' Bembry  SF   22  Atlanta Hawks 1994-04-07                04-07\n",
       "75     Jose Calderon  PG   35  Atlanta Hawks        NaT                  NaN\n",
       "116  Malcolm Delaney  PG   27  Atlanta Hawks 1989-11-03                11-03\n",
       "130    Mike Dunleavy  SF   36  Atlanta Hawks        NaT                  NaN"
      ]
     },
     "execution_count": 32,
     "metadata": {},
     "output_type": "execute_result"
    }
   ],
   "source": [
    "team_df = df.loc[df['Team'] == 'Atlanta Hawks']\n",
    "team_df.head()\n"
   ]
  },
  {
   "cell_type": "code",
   "execution_count": 33,
   "id": "912d7ea6",
   "metadata": {},
   "outputs": [
    {
     "data": {
      "text/plain": [
       "(22, 6)"
      ]
     },
     "execution_count": 33,
     "metadata": {},
     "output_type": "execute_result"
    }
   ],
   "source": [
    "team_df.shape"
   ]
  },
  {
   "cell_type": "code",
   "execution_count": 34,
   "id": "03f15030",
   "metadata": {},
   "outputs": [
    {
     "data": {
      "text/html": [
       "<div>\n",
       "<style scoped>\n",
       "    .dataframe tbody tr th:only-of-type {\n",
       "        vertical-align: middle;\n",
       "    }\n",
       "\n",
       "    .dataframe tbody tr th {\n",
       "        vertical-align: top;\n",
       "    }\n",
       "\n",
       "    .dataframe thead th {\n",
       "        text-align: right;\n",
       "    }\n",
       "</style>\n",
       "<table border=\"1\" class=\"dataframe\">\n",
       "  <thead>\n",
       "    <tr style=\"text-align: right;\">\n",
       "      <th></th>\n",
       "      <th>Player 1</th>\n",
       "      <th>Player 2</th>\n",
       "    </tr>\n",
       "  </thead>\n",
       "  <tbody>\n",
       "    <tr>\n",
       "      <th>0</th>\n",
       "      <td>Kent Bazemore</td>\n",
       "      <td>DeAndre' Bembry</td>\n",
       "    </tr>\n",
       "    <tr>\n",
       "      <th>1</th>\n",
       "      <td>Kent Bazemore</td>\n",
       "      <td>Jose Calderon</td>\n",
       "    </tr>\n",
       "    <tr>\n",
       "      <th>2</th>\n",
       "      <td>Kent Bazemore</td>\n",
       "      <td>Malcolm Delaney</td>\n",
       "    </tr>\n",
       "    <tr>\n",
       "      <th>3</th>\n",
       "      <td>Kent Bazemore</td>\n",
       "      <td>Mike Dunleavy</td>\n",
       "    </tr>\n",
       "    <tr>\n",
       "      <th>4</th>\n",
       "      <td>Kent Bazemore</td>\n",
       "      <td>Mike Dunleavy</td>\n",
       "    </tr>\n",
       "    <tr>\n",
       "      <th>...</th>\n",
       "      <td>...</td>\n",
       "      <td>...</td>\n",
       "    </tr>\n",
       "    <tr>\n",
       "      <th>226</th>\n",
       "      <td>Mike Scott</td>\n",
       "      <td>Edy Tavares</td>\n",
       "    </tr>\n",
       "    <tr>\n",
       "      <th>227</th>\n",
       "      <td>Mike Scott</td>\n",
       "      <td>Taurean Waller-Prince</td>\n",
       "    </tr>\n",
       "    <tr>\n",
       "      <th>228</th>\n",
       "      <td>Thabo Sefolosha</td>\n",
       "      <td>Edy Tavares</td>\n",
       "    </tr>\n",
       "    <tr>\n",
       "      <th>229</th>\n",
       "      <td>Thabo Sefolosha</td>\n",
       "      <td>Taurean Waller-Prince</td>\n",
       "    </tr>\n",
       "    <tr>\n",
       "      <th>230</th>\n",
       "      <td>Edy Tavares</td>\n",
       "      <td>Taurean Waller-Prince</td>\n",
       "    </tr>\n",
       "  </tbody>\n",
       "</table>\n",
       "<p>231 rows × 2 columns</p>\n",
       "</div>"
      ],
      "text/plain": [
       "            Player 1               Player 2\n",
       "0      Kent Bazemore        DeAndre' Bembry\n",
       "1      Kent Bazemore          Jose Calderon\n",
       "2      Kent Bazemore        Malcolm Delaney\n",
       "3      Kent Bazemore          Mike Dunleavy\n",
       "4      Kent Bazemore          Mike Dunleavy\n",
       "..               ...                    ...\n",
       "226       Mike Scott            Edy Tavares\n",
       "227       Mike Scott  Taurean Waller-Prince\n",
       "228  Thabo Sefolosha            Edy Tavares\n",
       "229  Thabo Sefolosha  Taurean Waller-Prince\n",
       "230      Edy Tavares  Taurean Waller-Prince\n",
       "\n",
       "[231 rows x 2 columns]"
      ]
     },
     "execution_count": 34,
     "metadata": {},
     "output_type": "execute_result"
    }
   ],
   "source": [
    "names_df = pd.DataFrame(combinations(team_df['Player'], 2), columns = [\"Player 1\", \"Player 2\"])\n",
    "names_df"
   ]
  },
  {
   "cell_type": "code",
   "execution_count": null,
   "id": "03338626",
   "metadata": {},
   "outputs": [],
   "source": []
  },
  {
   "cell_type": "code",
   "execution_count": null,
   "id": "a4c76299",
   "metadata": {},
   "outputs": [],
   "source": []
  },
  {
   "cell_type": "code",
   "execution_count": null,
   "id": "bfe14428",
   "metadata": {},
   "outputs": [],
   "source": []
  },
  {
   "cell_type": "code",
   "execution_count": null,
   "id": "c549f1a9",
   "metadata": {},
   "outputs": [],
   "source": []
  },
  {
   "cell_type": "markdown",
   "id": "6854613f",
   "metadata": {},
   "source": [
    "##### 6. How many pairs of players share a birthday in the **Cleveland Cavaliers**?"
   ]
  },
  {
   "cell_type": "code",
   "execution_count": null,
   "id": "12394142",
   "metadata": {},
   "outputs": [],
   "source": []
  },
  {
   "cell_type": "markdown",
   "id": "0a2e3b6b",
   "metadata": {},
   "source": [
    "##### 7. In the **Dallas Mavericks**, who shares a birthday with *J.J. Barea*?"
   ]
  }
 ],
 "metadata": {
  "kernelspec": {
   "display_name": "Python 3 (ipykernel)",
   "language": "python",
   "name": "python3"
  },
  "language_info": {
   "codemirror_mode": {
    "name": "ipython",
    "version": 3
   },
   "file_extension": ".py",
   "mimetype": "text/x-python",
   "name": "python",
   "nbconvert_exporter": "python",
   "pygments_lexer": "ipython3",
   "version": "3.11.5"
  },
  "varInspector": {
   "cols": {
    "lenName": 16,
    "lenType": 16,
    "lenVar": 40
   },
   "kernels_config": {
    "python": {
     "delete_cmd_postfix": "",
     "delete_cmd_prefix": "del ",
     "library": "var_list.py",
     "varRefreshCmd": "print(var_dic_list())"
    },
    "r": {
     "delete_cmd_postfix": ") ",
     "delete_cmd_prefix": "rm(",
     "library": "var_list.r",
     "varRefreshCmd": "cat(var_dic_list()) "
    }
   },
   "types_to_exclude": [
    "module",
    "function",
    "builtin_function_or_method",
    "instance",
    "_Feature"
   ],
   "window_display": false
  }
 },
 "nbformat": 4,
 "nbformat_minor": 5
}
