{
 "cells": [
  {
   "cell_type": "markdown",
   "id": "7b24aa63",
   "metadata": {},
   "source": [
    "# Resources\n",
    "## Instructor Name:- Santiago Basulto\n",
    "## Channel:- [Freecodecamp](https://www.youtube.com/watch?v=gtjxAH8uaP0)\n",
    "## Resource Link:- [Youtube](https://youtu.be/gtjxAH8uaP0?t=8657)"
   ]
  },
  {
   "cell_type": "code",
   "execution_count": 1,
   "id": "f616cc98",
   "metadata": {},
   "outputs": [],
   "source": [
    "import pandas as pd\n",
    "import numpy as np\n",
    "import seaborn as sns\n",
    "import missingno as msno"
   ]
  },
  {
   "cell_type": "code",
   "execution_count": 41,
   "id": "f9539525",
   "metadata": {
    "scrolled": true
   },
   "outputs": [
    {
     "data": {
      "text/html": [
       "<div>\n",
       "<style scoped>\n",
       "    .dataframe tbody tr th:only-of-type {\n",
       "        vertical-align: middle;\n",
       "    }\n",
       "\n",
       "    .dataframe tbody tr th {\n",
       "        vertical-align: top;\n",
       "    }\n",
       "\n",
       "    .dataframe thead th {\n",
       "        text-align: right;\n",
       "    }\n",
       "</style>\n",
       "<table border=\"1\" class=\"dataframe\">\n",
       "  <thead>\n",
       "    <tr style=\"text-align: right;\">\n",
       "      <th></th>\n",
       "      <th>App</th>\n",
       "      <th>Category</th>\n",
       "      <th>Rating</th>\n",
       "      <th>Reviews</th>\n",
       "      <th>Size</th>\n",
       "      <th>Installs</th>\n",
       "      <th>Type</th>\n",
       "      <th>Price</th>\n",
       "      <th>Content Rating</th>\n",
       "      <th>Genres</th>\n",
       "      <th>Last Updated</th>\n",
       "      <th>Current Ver</th>\n",
       "      <th>Android Ver</th>\n",
       "    </tr>\n",
       "  </thead>\n",
       "  <tbody>\n",
       "    <tr>\n",
       "      <th>3194</th>\n",
       "      <td>BI-LO Rx</td>\n",
       "      <td>lifestyle</td>\n",
       "      <td>3.9</td>\n",
       "      <td>77</td>\n",
       "      <td>Varies with device</td>\n",
       "      <td>10,000+</td>\n",
       "      <td>Free</td>\n",
       "      <td>0</td>\n",
       "      <td>Everyone</td>\n",
       "      <td>Lifestyle</td>\n",
       "      <td>March 26, 2018</td>\n",
       "      <td>Varies with device</td>\n",
       "      <td>Varies with device</td>\n",
       "    </tr>\n",
       "    <tr>\n",
       "      <th>2118</th>\n",
       "      <td>An Elite Warrior Ex</td>\n",
       "      <td>game</td>\n",
       "      <td>4.7</td>\n",
       "      <td>15</td>\n",
       "      <td>93M</td>\n",
       "      <td>100+</td>\n",
       "      <td>Paid</td>\n",
       "      <td>$0.99</td>\n",
       "      <td>Everyone</td>\n",
       "      <td>Adventure</td>\n",
       "      <td>November 21, 2016</td>\n",
       "      <td>1.59</td>\n",
       "      <td>4.0.3 and up</td>\n",
       "    </tr>\n",
       "    <tr>\n",
       "      <th>4626</th>\n",
       "      <td>Walking for Weight Loss - Walk Tracker</td>\n",
       "      <td>health_and_fitness</td>\n",
       "      <td>4.5</td>\n",
       "      <td>644</td>\n",
       "      <td>5.5M</td>\n",
       "      <td>100,000+</td>\n",
       "      <td>Free</td>\n",
       "      <td>0</td>\n",
       "      <td>Everyone</td>\n",
       "      <td>Health &amp; Fitness</td>\n",
       "      <td>July 25, 2018</td>\n",
       "      <td>1.0.4</td>\n",
       "      <td>4.1 and up</td>\n",
       "    </tr>\n",
       "    <tr>\n",
       "      <th>9430</th>\n",
       "      <td>Six Pack in 30 Days - Abs Workout</td>\n",
       "      <td>health_and_fitness</td>\n",
       "      <td>4.9</td>\n",
       "      <td>272337</td>\n",
       "      <td>13M</td>\n",
       "      <td>10,000,000+</td>\n",
       "      <td>Free</td>\n",
       "      <td>0</td>\n",
       "      <td>Everyone</td>\n",
       "      <td>Health &amp; Fitness</td>\n",
       "      <td>June 21, 2018</td>\n",
       "      <td>1.0.2</td>\n",
       "      <td>4.2 and up</td>\n",
       "    </tr>\n",
       "    <tr>\n",
       "      <th>691</th>\n",
       "      <td>BU Beauty Rooms</td>\n",
       "      <td>beauty</td>\n",
       "      <td>NaN</td>\n",
       "      <td>1</td>\n",
       "      <td>6.0M</td>\n",
       "      <td>50+</td>\n",
       "      <td>Free</td>\n",
       "      <td>0</td>\n",
       "      <td>Everyone</td>\n",
       "      <td>Beauty</td>\n",
       "      <td>February 17, 2017</td>\n",
       "      <td>1</td>\n",
       "      <td>4.4 and up</td>\n",
       "    </tr>\n",
       "  </tbody>\n",
       "</table>\n",
       "</div>"
      ],
      "text/plain": [
       "                                         App            Category  Rating  \\\n",
       "3194                                BI-LO Rx           lifestyle     3.9   \n",
       "2118                     An Elite Warrior Ex                game     4.7   \n",
       "4626  Walking for Weight Loss - Walk Tracker  health_and_fitness     4.5   \n",
       "9430       Six Pack in 30 Days - Abs Workout  health_and_fitness     4.9   \n",
       "691                          BU Beauty Rooms              beauty     NaN   \n",
       "\n",
       "     Reviews                Size     Installs  Type  Price Content Rating  \\\n",
       "3194      77  Varies with device      10,000+  Free      0       Everyone   \n",
       "2118      15                 93M         100+  Paid  $0.99       Everyone   \n",
       "4626     644                5.5M     100,000+  Free      0       Everyone   \n",
       "9430  272337                 13M  10,000,000+  Free      0       Everyone   \n",
       "691        1                6.0M          50+  Free      0       Everyone   \n",
       "\n",
       "                Genres       Last Updated         Current Ver  \\\n",
       "3194         Lifestyle     March 26, 2018  Varies with device   \n",
       "2118         Adventure  November 21, 2016                1.59   \n",
       "4626  Health & Fitness      July 25, 2018               1.0.4   \n",
       "9430  Health & Fitness      June 21, 2018               1.0.2   \n",
       "691             Beauty  February 17, 2017                   1   \n",
       "\n",
       "             Android Ver  \n",
       "3194  Varies with device  \n",
       "2118        4.0.3 and up  \n",
       "4626          4.1 and up  \n",
       "9430          4.2 and up  \n",
       "691           4.4 and up  "
      ]
     },
     "execution_count": 41,
     "metadata": {},
     "output_type": "execute_result"
    }
   ],
   "source": [
    "df = pd.read_csv('googleplaystore.csv')\n",
    "df.sample(5)"
   ]
  },
  {
   "cell_type": "code",
   "execution_count": 5,
   "id": "ed5cde47",
   "metadata": {},
   "outputs": [
    {
     "name": "stdout",
     "output_type": "stream",
     "text": [
      "<class 'pandas.core.frame.DataFrame'>\n",
      "RangeIndex: 10841 entries, 0 to 10840\n",
      "Data columns (total 13 columns):\n",
      " #   Column          Non-Null Count  Dtype  \n",
      "---  ------          --------------  -----  \n",
      " 0   App             10841 non-null  object \n",
      " 1   Category        10841 non-null  object \n",
      " 2   Rating          9367 non-null   float64\n",
      " 3   Reviews         10841 non-null  object \n",
      " 4   Size            10841 non-null  object \n",
      " 5   Installs        10841 non-null  object \n",
      " 6   Type            10840 non-null  object \n",
      " 7   Price           10841 non-null  object \n",
      " 8   Content Rating  10840 non-null  object \n",
      " 9   Genres          10841 non-null  object \n",
      " 10  Last Updated    10841 non-null  object \n",
      " 11  Current Ver     10833 non-null  object \n",
      " 12  Android Ver     10838 non-null  object \n",
      "dtypes: float64(1), object(12)\n",
      "memory usage: 1.1+ MB\n"
     ]
    }
   ],
   "source": [
    "df.info()"
   ]
  },
  {
   "cell_type": "code",
   "execution_count": null,
   "id": "15c99041",
   "metadata": {},
   "outputs": [],
   "source": []
  },
  {
   "cell_type": "markdown",
   "id": "3d55a368",
   "metadata": {},
   "source": [
    "### Data Cleaning"
   ]
  },
  {
   "cell_type": "markdown",
   "id": "3d700e8f",
   "metadata": {},
   "source": [
    "##### 1. Which of the following column(s) has/have null values?"
   ]
  },
  {
   "cell_type": "code",
   "execution_count": 7,
   "id": "4224646e",
   "metadata": {},
   "outputs": [
    {
     "data": {
      "image/png": "[encoded data removed]",
      "text/plain": [
       "<Figure size 2500x1000 with 3 Axes>"
      ]
     },
     "metadata": {},
     "output_type": "display_data"
    }
   ],
   "source": [
    "msno.bar(df);"
   ]
  },
  {
   "cell_type": "code",
   "execution_count": 8,
   "id": "e73dc12c",
   "metadata": {},
   "outputs": [
    {
     "data": {
      "text/plain": [
       "Rating            1474\n",
       "Current Ver          8\n",
       "Android Ver          3\n",
       "Type                 1\n",
       "Content Rating       1\n",
       "App                  0\n",
       "Category             0\n",
       "Reviews              0\n",
       "Size                 0\n",
       "Installs             0\n",
       "Price                0\n",
       "Genres               0\n",
       "Last Updated         0\n",
       "dtype: int64"
      ]
     },
     "execution_count": 8,
     "metadata": {},
     "output_type": "execute_result"
    }
   ],
   "source": [
    "df.isna().sum().sort_values(ascending=False)"
   ]
  },
  {
   "cell_type": "markdown",
   "id": "4477e9fb",
   "metadata": {},
   "source": [
    "##### 2. Clean the `Rating` column and the other columns containing null values"
   ]
  },
  {
   "cell_type": "code",
   "execution_count": 10,
   "id": "3d640f82",
   "metadata": {},
   "outputs": [
    {
     "data": {
      "image/png": "[encoded data removed]",
      "text/plain": [
       "<Figure size 640x480 with 1 Axes>"
      ]
     },
     "metadata": {},
     "output_type": "display_data"
    }
   ],
   "source": [
    "df['Rating'].plot(kind='hist');"
   ]
  },
  {
   "cell_type": "code",
   "execution_count": 13,
   "id": "1649eae2",
   "metadata": {},
   "outputs": [
    {
     "data": {
      "image/png": "[encoded data removed]",
      "text/plain": [
       "<Figure size 640x480 with 1 Axes>"
      ]
     },
     "metadata": {},
     "output_type": "display_data"
    }
   ],
   "source": [
    "df['Rating'].plot(kind='box', vert=False);"
   ]
  },
  {
   "cell_type": "code",
   "execution_count": 12,
   "id": "63d34799",
   "metadata": {},
   "outputs": [
    {
     "data": {
      "text/plain": [
       "count    9367.000000\n",
       "mean        4.193338\n",
       "std         0.537431\n",
       "min         1.000000\n",
       "25%         4.000000\n",
       "50%         4.300000\n",
       "75%         4.500000\n",
       "max        19.000000\n",
       "Name: Rating, dtype: float64"
      ]
     },
     "execution_count": 12,
     "metadata": {},
     "output_type": "execute_result"
    }
   ],
   "source": [
    "df['Rating'].describe()"
   ]
  },
  {
   "cell_type": "code",
   "execution_count": 14,
   "id": "92adfefb",
   "metadata": {},
   "outputs": [],
   "source": [
    "df.loc[df['Rating'] > 5, 'Rating'] = np.nan"
   ]
  },
  {
   "cell_type": "code",
   "execution_count": 15,
   "id": "645c9b4c",
   "metadata": {},
   "outputs": [],
   "source": [
    "df['Rating'].fillna(df['Rating'].mean(), inplace=True)"
   ]
  },
  {
   "cell_type": "code",
   "execution_count": 16,
   "id": "bfbc6100",
   "metadata": {},
   "outputs": [],
   "source": [
    "df.dropna(inplace=True)"
   ]
  },
  {
   "cell_type": "code",
   "execution_count": 17,
   "id": "b1353a06",
   "metadata": {},
   "outputs": [
    {
     "data": {
      "text/plain": [
       "App               0\n",
       "Category          0\n",
       "Rating            0\n",
       "Reviews           0\n",
       "Size              0\n",
       "Installs          0\n",
       "Type              0\n",
       "Price             0\n",
       "Content Rating    0\n",
       "Genres            0\n",
       "Last Updated      0\n",
       "Current Ver       0\n",
       "Android Ver       0\n",
       "dtype: int64"
      ]
     },
     "execution_count": 17,
     "metadata": {},
     "output_type": "execute_result"
    }
   ],
   "source": [
    "df.isna().sum().sort_values(ascending=False)"
   ]
  },
  {
   "cell_type": "markdown",
   "id": "111b7176",
   "metadata": {},
   "source": [
    "##### 3. Clean the column `Reviews` and make it numeric"
   ]
  },
  {
   "cell_type": "code",
   "execution_count": 18,
   "id": "15c8ff7a",
   "metadata": {},
   "outputs": [],
   "source": [
    "df['Reviews Numeric'] = pd.to_numeric(df['Reviews'], errors = 'coerce')"
   ]
  },
  {
   "cell_type": "code",
   "execution_count": 19,
   "id": "c21b1726",
   "metadata": {},
   "outputs": [
    {
     "data": {
      "text/html": [
       "<div>\n",
       "<style scoped>\n",
       "    .dataframe tbody tr th:only-of-type {\n",
       "        vertical-align: middle;\n",
       "    }\n",
       "\n",
       "    .dataframe tbody tr th {\n",
       "        vertical-align: top;\n",
       "    }\n",
       "\n",
       "    .dataframe thead th {\n",
       "        text-align: right;\n",
       "    }\n",
       "</style>\n",
       "<table border=\"1\" class=\"dataframe\">\n",
       "  <thead>\n",
       "    <tr style=\"text-align: right;\">\n",
       "      <th></th>\n",
       "      <th>App</th>\n",
       "      <th>Category</th>\n",
       "      <th>Rating</th>\n",
       "      <th>Reviews</th>\n",
       "      <th>Size</th>\n",
       "      <th>Installs</th>\n",
       "      <th>Type</th>\n",
       "      <th>Price</th>\n",
       "      <th>Content Rating</th>\n",
       "      <th>Genres</th>\n",
       "      <th>Last Updated</th>\n",
       "      <th>Current Ver</th>\n",
       "      <th>Android Ver</th>\n",
       "      <th>Reviews Numeric</th>\n",
       "    </tr>\n",
       "  </thead>\n",
       "  <tbody>\n",
       "  </tbody>\n",
       "</table>\n",
       "</div>"
      ],
      "text/plain": [
       "Empty DataFrame\n",
       "Columns: [App, Category, Rating, Reviews, Size, Installs, Type, Price, Content Rating, Genres, Last Updated, Current Ver, Android Ver, Reviews Numeric]\n",
       "Index: []"
      ]
     },
     "execution_count": 19,
     "metadata": {},
     "output_type": "execute_result"
    }
   ],
   "source": [
    "df.loc[df['Reviews Numeric'].isna()]"
   ]
  },
  {
   "cell_type": "code",
   "execution_count": 26,
   "id": "f79839d5",
   "metadata": {},
   "outputs": [
    {
     "data": {
      "text/plain": [
       "Series([], Name: Reviews, dtype: object)"
      ]
     },
     "execution_count": 26,
     "metadata": {},
     "output_type": "execute_result"
    }
   ],
   "source": [
    "df.loc[df['Reviews'].str.contains('M'), 'Reviews']"
   ]
  },
  {
   "cell_type": "code",
   "execution_count": 30,
   "id": "8acc1be0",
   "metadata": {},
   "outputs": [],
   "source": [
    "df['Reviews'] = pd.to_numeric(df['Reviews'])"
   ]
  },
  {
   "cell_type": "markdown",
   "id": "7d43e5d6",
   "metadata": {},
   "source": [
    "##### 4. How many duplicated apps are there?"
   ]
  },
  {
   "cell_type": "code",
   "execution_count": 37,
   "id": "be56a823",
   "metadata": {},
   "outputs": [
    {
     "data": {
      "text/html": [
       "<div>\n",
       "<style scoped>\n",
       "    .dataframe tbody tr th:only-of-type {\n",
       "        vertical-align: middle;\n",
       "    }\n",
       "\n",
       "    .dataframe tbody tr th {\n",
       "        vertical-align: top;\n",
       "    }\n",
       "\n",
       "    .dataframe thead th {\n",
       "        text-align: right;\n",
       "    }\n",
       "</style>\n",
       "<table border=\"1\" class=\"dataframe\">\n",
       "  <thead>\n",
       "    <tr style=\"text-align: right;\">\n",
       "      <th></th>\n",
       "      <th>App</th>\n",
       "      <th>Category</th>\n",
       "      <th>Rating</th>\n",
       "      <th>Reviews</th>\n",
       "      <th>Size</th>\n",
       "      <th>Installs</th>\n",
       "      <th>Type</th>\n",
       "      <th>Price</th>\n",
       "      <th>Content Rating</th>\n",
       "      <th>Genres</th>\n",
       "      <th>Last Updated</th>\n",
       "      <th>Current Ver</th>\n",
       "      <th>Android Ver</th>\n",
       "      <th>Reviews Numeric</th>\n",
       "    </tr>\n",
       "  </thead>\n",
       "  <tbody>\n",
       "    <tr>\n",
       "      <th>1407</th>\n",
       "      <td>10 Best Foods for You</td>\n",
       "      <td>HEALTH_AND_FITNESS</td>\n",
       "      <td>4.0</td>\n",
       "      <td>2490</td>\n",
       "      <td>3.8M</td>\n",
       "      <td>500,000+</td>\n",
       "      <td>Free</td>\n",
       "      <td>0</td>\n",
       "      <td>Everyone 10+</td>\n",
       "      <td>Health &amp; Fitness</td>\n",
       "      <td>February 17, 2017</td>\n",
       "      <td>1.9</td>\n",
       "      <td>2.3.3 and up</td>\n",
       "      <td>2490</td>\n",
       "    </tr>\n",
       "    <tr>\n",
       "      <th>2543</th>\n",
       "      <td>1800 Contacts - Lens Store</td>\n",
       "      <td>MEDICAL</td>\n",
       "      <td>4.7</td>\n",
       "      <td>23160</td>\n",
       "      <td>26M</td>\n",
       "      <td>1,000,000+</td>\n",
       "      <td>Free</td>\n",
       "      <td>0</td>\n",
       "      <td>Everyone</td>\n",
       "      <td>Medical</td>\n",
       "      <td>July 27, 2018</td>\n",
       "      <td>7.4.1</td>\n",
       "      <td>5.0 and up</td>\n",
       "      <td>23160</td>\n",
       "    </tr>\n",
       "    <tr>\n",
       "      <th>2385</th>\n",
       "      <td>2017 EMRA Antibiotic Guide</td>\n",
       "      <td>MEDICAL</td>\n",
       "      <td>4.4</td>\n",
       "      <td>12</td>\n",
       "      <td>3.8M</td>\n",
       "      <td>1,000+</td>\n",
       "      <td>Paid</td>\n",
       "      <td>$16.99</td>\n",
       "      <td>Everyone</td>\n",
       "      <td>Medical</td>\n",
       "      <td>January 27, 2017</td>\n",
       "      <td>1.0.5</td>\n",
       "      <td>4.0.3 and up</td>\n",
       "      <td>12</td>\n",
       "    </tr>\n",
       "    <tr>\n",
       "      <th>1434</th>\n",
       "      <td>21-Day Meditation Experience</td>\n",
       "      <td>HEALTH_AND_FITNESS</td>\n",
       "      <td>4.4</td>\n",
       "      <td>11506</td>\n",
       "      <td>15M</td>\n",
       "      <td>100,000+</td>\n",
       "      <td>Free</td>\n",
       "      <td>0</td>\n",
       "      <td>Everyone</td>\n",
       "      <td>Health &amp; Fitness</td>\n",
       "      <td>August 2, 2018</td>\n",
       "      <td>3.0.0</td>\n",
       "      <td>4.1 and up</td>\n",
       "      <td>11506</td>\n",
       "    </tr>\n",
       "    <tr>\n",
       "      <th>5415</th>\n",
       "      <td>365Scores - Live Scores</td>\n",
       "      <td>SPORTS</td>\n",
       "      <td>4.6</td>\n",
       "      <td>666246</td>\n",
       "      <td>25M</td>\n",
       "      <td>10,000,000+</td>\n",
       "      <td>Free</td>\n",
       "      <td>0</td>\n",
       "      <td>Everyone</td>\n",
       "      <td>Sports</td>\n",
       "      <td>July 29, 2018</td>\n",
       "      <td>5.5.9</td>\n",
       "      <td>4.1 and up</td>\n",
       "      <td>666246</td>\n",
       "    </tr>\n",
       "    <tr>\n",
       "      <th>...</th>\n",
       "      <td>...</td>\n",
       "      <td>...</td>\n",
       "      <td>...</td>\n",
       "      <td>...</td>\n",
       "      <td>...</td>\n",
       "      <td>...</td>\n",
       "      <td>...</td>\n",
       "      <td>...</td>\n",
       "      <td>...</td>\n",
       "      <td>...</td>\n",
       "      <td>...</td>\n",
       "      <td>...</td>\n",
       "      <td>...</td>\n",
       "      <td>...</td>\n",
       "    </tr>\n",
       "    <tr>\n",
       "      <th>3055</th>\n",
       "      <td>theScore: Live Sports Scores, News, Stats &amp; Vi...</td>\n",
       "      <td>SPORTS</td>\n",
       "      <td>4.4</td>\n",
       "      <td>133833</td>\n",
       "      <td>34M</td>\n",
       "      <td>10,000,000+</td>\n",
       "      <td>Free</td>\n",
       "      <td>0</td>\n",
       "      <td>Everyone 10+</td>\n",
       "      <td>Sports</td>\n",
       "      <td>July 25, 2018</td>\n",
       "      <td>6.17.2</td>\n",
       "      <td>4.4 and up</td>\n",
       "      <td>133833</td>\n",
       "    </tr>\n",
       "    <tr>\n",
       "      <th>3014</th>\n",
       "      <td>theScore: Live Sports Scores, News, Stats &amp; Vi...</td>\n",
       "      <td>SPORTS</td>\n",
       "      <td>4.4</td>\n",
       "      <td>133825</td>\n",
       "      <td>34M</td>\n",
       "      <td>10,000,000+</td>\n",
       "      <td>Free</td>\n",
       "      <td>0</td>\n",
       "      <td>Everyone 10+</td>\n",
       "      <td>Sports</td>\n",
       "      <td>July 25, 2018</td>\n",
       "      <td>6.17.2</td>\n",
       "      <td>4.4 and up</td>\n",
       "      <td>133825</td>\n",
       "    </tr>\n",
       "    <tr>\n",
       "      <th>3202</th>\n",
       "      <td>trivago: Hotels &amp; Travel</td>\n",
       "      <td>TRAVEL_AND_LOCAL</td>\n",
       "      <td>4.2</td>\n",
       "      <td>219848</td>\n",
       "      <td>Varies with device</td>\n",
       "      <td>50,000,000+</td>\n",
       "      <td>Free</td>\n",
       "      <td>0</td>\n",
       "      <td>Everyone</td>\n",
       "      <td>Travel &amp; Local</td>\n",
       "      <td>August 2, 2018</td>\n",
       "      <td>Varies with device</td>\n",
       "      <td>Varies with device</td>\n",
       "      <td>219848</td>\n",
       "    </tr>\n",
       "    <tr>\n",
       "      <th>3118</th>\n",
       "      <td>trivago: Hotels &amp; Travel</td>\n",
       "      <td>TRAVEL_AND_LOCAL</td>\n",
       "      <td>4.2</td>\n",
       "      <td>219848</td>\n",
       "      <td>Varies with device</td>\n",
       "      <td>50,000,000+</td>\n",
       "      <td>Free</td>\n",
       "      <td>0</td>\n",
       "      <td>Everyone</td>\n",
       "      <td>Travel &amp; Local</td>\n",
       "      <td>August 2, 2018</td>\n",
       "      <td>Varies with device</td>\n",
       "      <td>Varies with device</td>\n",
       "      <td>219848</td>\n",
       "    </tr>\n",
       "    <tr>\n",
       "      <th>8291</th>\n",
       "      <td>wetter.com - Weather and Radar</td>\n",
       "      <td>WEATHER</td>\n",
       "      <td>4.2</td>\n",
       "      <td>189310</td>\n",
       "      <td>38M</td>\n",
       "      <td>10,000,000+</td>\n",
       "      <td>Free</td>\n",
       "      <td>0</td>\n",
       "      <td>Everyone</td>\n",
       "      <td>Weather</td>\n",
       "      <td>August 6, 2018</td>\n",
       "      <td>Varies with device</td>\n",
       "      <td>Varies with device</td>\n",
       "      <td>189310</td>\n",
       "    </tr>\n",
       "  </tbody>\n",
       "</table>\n",
       "<p>1181 rows × 14 columns</p>\n",
       "</div>"
      ],
      "text/plain": [
       "                                                    App            Category  \\\n",
       "1407                              10 Best Foods for You  HEALTH_AND_FITNESS   \n",
       "2543                         1800 Contacts - Lens Store             MEDICAL   \n",
       "2385                         2017 EMRA Antibiotic Guide             MEDICAL   \n",
       "1434                       21-Day Meditation Experience  HEALTH_AND_FITNESS   \n",
       "5415                            365Scores - Live Scores              SPORTS   \n",
       "...                                                 ...                 ...   \n",
       "3055  theScore: Live Sports Scores, News, Stats & Vi...              SPORTS   \n",
       "3014  theScore: Live Sports Scores, News, Stats & Vi...              SPORTS   \n",
       "3202                           trivago: Hotels & Travel    TRAVEL_AND_LOCAL   \n",
       "3118                           trivago: Hotels & Travel    TRAVEL_AND_LOCAL   \n",
       "8291                     wetter.com - Weather and Radar             WEATHER   \n",
       "\n",
       "      Rating  Reviews                Size     Installs  Type   Price  \\\n",
       "1407     4.0     2490                3.8M     500,000+  Free       0   \n",
       "2543     4.7    23160                 26M   1,000,000+  Free       0   \n",
       "2385     4.4       12                3.8M       1,000+  Paid  $16.99   \n",
       "1434     4.4    11506                 15M     100,000+  Free       0   \n",
       "5415     4.6   666246                 25M  10,000,000+  Free       0   \n",
       "...      ...      ...                 ...          ...   ...     ...   \n",
       "3055     4.4   133833                 34M  10,000,000+  Free       0   \n",
       "3014     4.4   133825                 34M  10,000,000+  Free       0   \n",
       "3202     4.2   219848  Varies with device  50,000,000+  Free       0   \n",
       "3118     4.2   219848  Varies with device  50,000,000+  Free       0   \n",
       "8291     4.2   189310                 38M  10,000,000+  Free       0   \n",
       "\n",
       "     Content Rating            Genres       Last Updated         Current Ver  \\\n",
       "1407   Everyone 10+  Health & Fitness  February 17, 2017                 1.9   \n",
       "2543       Everyone           Medical      July 27, 2018               7.4.1   \n",
       "2385       Everyone           Medical   January 27, 2017               1.0.5   \n",
       "1434       Everyone  Health & Fitness     August 2, 2018               3.0.0   \n",
       "5415       Everyone            Sports      July 29, 2018               5.5.9   \n",
       "...             ...               ...                ...                 ...   \n",
       "3055   Everyone 10+            Sports      July 25, 2018              6.17.2   \n",
       "3014   Everyone 10+            Sports      July 25, 2018              6.17.2   \n",
       "3202       Everyone    Travel & Local     August 2, 2018  Varies with device   \n",
       "3118       Everyone    Travel & Local     August 2, 2018  Varies with device   \n",
       "8291       Everyone           Weather     August 6, 2018  Varies with device   \n",
       "\n",
       "             Android Ver  Reviews Numeric  \n",
       "1407        2.3.3 and up             2490  \n",
       "2543          5.0 and up            23160  \n",
       "2385        4.0.3 and up               12  \n",
       "1434          4.1 and up            11506  \n",
       "5415          4.1 and up           666246  \n",
       "...                  ...              ...  \n",
       "3055          4.4 and up           133833  \n",
       "3014          4.4 and up           133825  \n",
       "3202  Varies with device           219848  \n",
       "3118  Varies with device           219848  \n",
       "8291  Varies with device           189310  \n",
       "\n",
       "[1181 rows x 14 columns]"
      ]
     },
     "execution_count": 37,
     "metadata": {},
     "output_type": "execute_result"
    }
   ],
   "source": [
    "df.loc[df.duplicated(subset=['App'])].sort_values(by='App')"
   ]
  },
  {
   "cell_type": "code",
   "execution_count": 38,
   "id": "34af47e3",
   "metadata": {},
   "outputs": [
    {
     "data": {
      "text/html": [
       "<div>\n",
       "<style scoped>\n",
       "    .dataframe tbody tr th:only-of-type {\n",
       "        vertical-align: middle;\n",
       "    }\n",
       "\n",
       "    .dataframe tbody tr th {\n",
       "        vertical-align: top;\n",
       "    }\n",
       "\n",
       "    .dataframe thead th {\n",
       "        text-align: right;\n",
       "    }\n",
       "</style>\n",
       "<table border=\"1\" class=\"dataframe\">\n",
       "  <thead>\n",
       "    <tr style=\"text-align: right;\">\n",
       "      <th></th>\n",
       "      <th>App</th>\n",
       "      <th>Category</th>\n",
       "      <th>Rating</th>\n",
       "      <th>Reviews</th>\n",
       "      <th>Size</th>\n",
       "      <th>Installs</th>\n",
       "      <th>Type</th>\n",
       "      <th>Price</th>\n",
       "      <th>Content Rating</th>\n",
       "      <th>Genres</th>\n",
       "      <th>Last Updated</th>\n",
       "      <th>Current Ver</th>\n",
       "      <th>Android Ver</th>\n",
       "      <th>Reviews Numeric</th>\n",
       "    </tr>\n",
       "  </thead>\n",
       "  <tbody>\n",
       "    <tr>\n",
       "      <th>1407</th>\n",
       "      <td>10 Best Foods for You</td>\n",
       "      <td>HEALTH_AND_FITNESS</td>\n",
       "      <td>4.0</td>\n",
       "      <td>2490</td>\n",
       "      <td>3.8M</td>\n",
       "      <td>500,000+</td>\n",
       "      <td>Free</td>\n",
       "      <td>0</td>\n",
       "      <td>Everyone 10+</td>\n",
       "      <td>Health &amp; Fitness</td>\n",
       "      <td>February 17, 2017</td>\n",
       "      <td>1.9</td>\n",
       "      <td>2.3.3 and up</td>\n",
       "      <td>2490</td>\n",
       "    </tr>\n",
       "    <tr>\n",
       "      <th>2543</th>\n",
       "      <td>1800 Contacts - Lens Store</td>\n",
       "      <td>MEDICAL</td>\n",
       "      <td>4.7</td>\n",
       "      <td>23160</td>\n",
       "      <td>26M</td>\n",
       "      <td>1,000,000+</td>\n",
       "      <td>Free</td>\n",
       "      <td>0</td>\n",
       "      <td>Everyone</td>\n",
       "      <td>Medical</td>\n",
       "      <td>July 27, 2018</td>\n",
       "      <td>7.4.1</td>\n",
       "      <td>5.0 and up</td>\n",
       "      <td>23160</td>\n",
       "    </tr>\n",
       "    <tr>\n",
       "      <th>2385</th>\n",
       "      <td>2017 EMRA Antibiotic Guide</td>\n",
       "      <td>MEDICAL</td>\n",
       "      <td>4.4</td>\n",
       "      <td>12</td>\n",
       "      <td>3.8M</td>\n",
       "      <td>1,000+</td>\n",
       "      <td>Paid</td>\n",
       "      <td>$16.99</td>\n",
       "      <td>Everyone</td>\n",
       "      <td>Medical</td>\n",
       "      <td>January 27, 2017</td>\n",
       "      <td>1.0.5</td>\n",
       "      <td>4.0.3 and up</td>\n",
       "      <td>12</td>\n",
       "    </tr>\n",
       "    <tr>\n",
       "      <th>1434</th>\n",
       "      <td>21-Day Meditation Experience</td>\n",
       "      <td>HEALTH_AND_FITNESS</td>\n",
       "      <td>4.4</td>\n",
       "      <td>11506</td>\n",
       "      <td>15M</td>\n",
       "      <td>100,000+</td>\n",
       "      <td>Free</td>\n",
       "      <td>0</td>\n",
       "      <td>Everyone</td>\n",
       "      <td>Health &amp; Fitness</td>\n",
       "      <td>August 2, 2018</td>\n",
       "      <td>3.0.0</td>\n",
       "      <td>4.1 and up</td>\n",
       "      <td>11506</td>\n",
       "    </tr>\n",
       "    <tr>\n",
       "      <th>5415</th>\n",
       "      <td>365Scores - Live Scores</td>\n",
       "      <td>SPORTS</td>\n",
       "      <td>4.6</td>\n",
       "      <td>666246</td>\n",
       "      <td>25M</td>\n",
       "      <td>10,000,000+</td>\n",
       "      <td>Free</td>\n",
       "      <td>0</td>\n",
       "      <td>Everyone</td>\n",
       "      <td>Sports</td>\n",
       "      <td>July 29, 2018</td>\n",
       "      <td>5.5.9</td>\n",
       "      <td>4.1 and up</td>\n",
       "      <td>666246</td>\n",
       "    </tr>\n",
       "    <tr>\n",
       "      <th>...</th>\n",
       "      <td>...</td>\n",
       "      <td>...</td>\n",
       "      <td>...</td>\n",
       "      <td>...</td>\n",
       "      <td>...</td>\n",
       "      <td>...</td>\n",
       "      <td>...</td>\n",
       "      <td>...</td>\n",
       "      <td>...</td>\n",
       "      <td>...</td>\n",
       "      <td>...</td>\n",
       "      <td>...</td>\n",
       "      <td>...</td>\n",
       "      <td>...</td>\n",
       "    </tr>\n",
       "    <tr>\n",
       "      <th>3055</th>\n",
       "      <td>theScore: Live Sports Scores, News, Stats &amp; Vi...</td>\n",
       "      <td>SPORTS</td>\n",
       "      <td>4.4</td>\n",
       "      <td>133833</td>\n",
       "      <td>34M</td>\n",
       "      <td>10,000,000+</td>\n",
       "      <td>Free</td>\n",
       "      <td>0</td>\n",
       "      <td>Everyone 10+</td>\n",
       "      <td>Sports</td>\n",
       "      <td>July 25, 2018</td>\n",
       "      <td>6.17.2</td>\n",
       "      <td>4.4 and up</td>\n",
       "      <td>133833</td>\n",
       "    </tr>\n",
       "    <tr>\n",
       "      <th>3014</th>\n",
       "      <td>theScore: Live Sports Scores, News, Stats &amp; Vi...</td>\n",
       "      <td>SPORTS</td>\n",
       "      <td>4.4</td>\n",
       "      <td>133825</td>\n",
       "      <td>34M</td>\n",
       "      <td>10,000,000+</td>\n",
       "      <td>Free</td>\n",
       "      <td>0</td>\n",
       "      <td>Everyone 10+</td>\n",
       "      <td>Sports</td>\n",
       "      <td>July 25, 2018</td>\n",
       "      <td>6.17.2</td>\n",
       "      <td>4.4 and up</td>\n",
       "      <td>133825</td>\n",
       "    </tr>\n",
       "    <tr>\n",
       "      <th>3202</th>\n",
       "      <td>trivago: Hotels &amp; Travel</td>\n",
       "      <td>TRAVEL_AND_LOCAL</td>\n",
       "      <td>4.2</td>\n",
       "      <td>219848</td>\n",
       "      <td>Varies with device</td>\n",
       "      <td>50,000,000+</td>\n",
       "      <td>Free</td>\n",
       "      <td>0</td>\n",
       "      <td>Everyone</td>\n",
       "      <td>Travel &amp; Local</td>\n",
       "      <td>August 2, 2018</td>\n",
       "      <td>Varies with device</td>\n",
       "      <td>Varies with device</td>\n",
       "      <td>219848</td>\n",
       "    </tr>\n",
       "    <tr>\n",
       "      <th>3118</th>\n",
       "      <td>trivago: Hotels &amp; Travel</td>\n",
       "      <td>TRAVEL_AND_LOCAL</td>\n",
       "      <td>4.2</td>\n",
       "      <td>219848</td>\n",
       "      <td>Varies with device</td>\n",
       "      <td>50,000,000+</td>\n",
       "      <td>Free</td>\n",
       "      <td>0</td>\n",
       "      <td>Everyone</td>\n",
       "      <td>Travel &amp; Local</td>\n",
       "      <td>August 2, 2018</td>\n",
       "      <td>Varies with device</td>\n",
       "      <td>Varies with device</td>\n",
       "      <td>219848</td>\n",
       "    </tr>\n",
       "    <tr>\n",
       "      <th>8291</th>\n",
       "      <td>wetter.com - Weather and Radar</td>\n",
       "      <td>WEATHER</td>\n",
       "      <td>4.2</td>\n",
       "      <td>189310</td>\n",
       "      <td>38M</td>\n",
       "      <td>10,000,000+</td>\n",
       "      <td>Free</td>\n",
       "      <td>0</td>\n",
       "      <td>Everyone</td>\n",
       "      <td>Weather</td>\n",
       "      <td>August 6, 2018</td>\n",
       "      <td>Varies with device</td>\n",
       "      <td>Varies with device</td>\n",
       "      <td>189310</td>\n",
       "    </tr>\n",
       "  </tbody>\n",
       "</table>\n",
       "<p>1181 rows × 14 columns</p>\n",
       "</div>"
      ],
      "text/plain": [
       "                                                    App            Category  \\\n",
       "1407                              10 Best Foods for You  HEALTH_AND_FITNESS   \n",
       "2543                         1800 Contacts - Lens Store             MEDICAL   \n",
       "2385                         2017 EMRA Antibiotic Guide             MEDICAL   \n",
       "1434                       21-Day Meditation Experience  HEALTH_AND_FITNESS   \n",
       "5415                            365Scores - Live Scores              SPORTS   \n",
       "...                                                 ...                 ...   \n",
       "3055  theScore: Live Sports Scores, News, Stats & Vi...              SPORTS   \n",
       "3014  theScore: Live Sports Scores, News, Stats & Vi...              SPORTS   \n",
       "3202                           trivago: Hotels & Travel    TRAVEL_AND_LOCAL   \n",
       "3118                           trivago: Hotels & Travel    TRAVEL_AND_LOCAL   \n",
       "8291                     wetter.com - Weather and Radar             WEATHER   \n",
       "\n",
       "      Rating  Reviews                Size     Installs  Type   Price  \\\n",
       "1407     4.0     2490                3.8M     500,000+  Free       0   \n",
       "2543     4.7    23160                 26M   1,000,000+  Free       0   \n",
       "2385     4.4       12                3.8M       1,000+  Paid  $16.99   \n",
       "1434     4.4    11506                 15M     100,000+  Free       0   \n",
       "5415     4.6   666246                 25M  10,000,000+  Free       0   \n",
       "...      ...      ...                 ...          ...   ...     ...   \n",
       "3055     4.4   133833                 34M  10,000,000+  Free       0   \n",
       "3014     4.4   133825                 34M  10,000,000+  Free       0   \n",
       "3202     4.2   219848  Varies with device  50,000,000+  Free       0   \n",
       "3118     4.2   219848  Varies with device  50,000,000+  Free       0   \n",
       "8291     4.2   189310                 38M  10,000,000+  Free       0   \n",
       "\n",
       "     Content Rating            Genres       Last Updated         Current Ver  \\\n",
       "1407   Everyone 10+  Health & Fitness  February 17, 2017                 1.9   \n",
       "2543       Everyone           Medical      July 27, 2018               7.4.1   \n",
       "2385       Everyone           Medical   January 27, 2017               1.0.5   \n",
       "1434       Everyone  Health & Fitness     August 2, 2018               3.0.0   \n",
       "5415       Everyone            Sports      July 29, 2018               5.5.9   \n",
       "...             ...               ...                ...                 ...   \n",
       "3055   Everyone 10+            Sports      July 25, 2018              6.17.2   \n",
       "3014   Everyone 10+            Sports      July 25, 2018              6.17.2   \n",
       "3202       Everyone    Travel & Local     August 2, 2018  Varies with device   \n",
       "3118       Everyone    Travel & Local     August 2, 2018  Varies with device   \n",
       "8291       Everyone           Weather     August 6, 2018  Varies with device   \n",
       "\n",
       "             Android Ver  Reviews Numeric  \n",
       "1407        2.3.3 and up             2490  \n",
       "2543          5.0 and up            23160  \n",
       "2385        4.0.3 and up               12  \n",
       "1434          4.1 and up            11506  \n",
       "5415          4.1 and up           666246  \n",
       "...                  ...              ...  \n",
       "3055          4.4 and up           133833  \n",
       "3014          4.4 and up           133825  \n",
       "3202  Varies with device           219848  \n",
       "3118  Varies with device           219848  \n",
       "8291  Varies with device           189310  \n",
       "\n",
       "[1181 rows x 14 columns]"
      ]
     },
     "execution_count": 38,
     "metadata": {},
     "output_type": "execute_result"
    }
   ],
   "source": [
    "df[df.duplicated(subset=['App'])].sort_values(by='App')"
   ]
  },
  {
   "cell_type": "markdown",
   "id": "9caa0917",
   "metadata": {},
   "source": [
    "##### 5. Drop duplicated apps keeping the ones with the greatest number of reviews"
   ]
  },
  {
   "cell_type": "code",
   "execution_count": null,
   "id": "819dd94a",
   "metadata": {},
   "outputs": [],
   "source": []
  },
  {
   "cell_type": "markdown",
   "id": "74e91c4d",
   "metadata": {},
   "source": [
    "##### 6. Format the `Category` column"
   ]
  },
  {
   "cell_type": "code",
   "execution_count": 43,
   "id": "c20e2273",
   "metadata": {},
   "outputs": [
    {
     "data": {
      "text/html": [
       "<div>\n",
       "<style scoped>\n",
       "    .dataframe tbody tr th:only-of-type {\n",
       "        vertical-align: middle;\n",
       "    }\n",
       "\n",
       "    .dataframe tbody tr th {\n",
       "        vertical-align: top;\n",
       "    }\n",
       "\n",
       "    .dataframe thead th {\n",
       "        text-align: right;\n",
       "    }\n",
       "</style>\n",
       "<table border=\"1\" class=\"dataframe\">\n",
       "  <thead>\n",
       "    <tr style=\"text-align: right;\">\n",
       "      <th></th>\n",
       "      <th>App</th>\n",
       "      <th>Category</th>\n",
       "      <th>Rating</th>\n",
       "      <th>Reviews</th>\n",
       "      <th>Size</th>\n",
       "      <th>Installs</th>\n",
       "      <th>Type</th>\n",
       "      <th>Price</th>\n",
       "      <th>Content Rating</th>\n",
       "      <th>Genres</th>\n",
       "      <th>Last Updated</th>\n",
       "      <th>Current Ver</th>\n",
       "      <th>Android Ver</th>\n",
       "    </tr>\n",
       "  </thead>\n",
       "  <tbody>\n",
       "    <tr>\n",
       "      <th>0</th>\n",
       "      <td>Truth or Dare Pro</td>\n",
       "      <td>dating</td>\n",
       "      <td>NaN</td>\n",
       "      <td>0</td>\n",
       "      <td>20M</td>\n",
       "      <td>50+</td>\n",
       "      <td>Paid</td>\n",
       "      <td>$1.49</td>\n",
       "      <td>Teen</td>\n",
       "      <td>Dating</td>\n",
       "      <td>September 1, 2017</td>\n",
       "      <td>1</td>\n",
       "      <td>4.0 and up</td>\n",
       "    </tr>\n",
       "    <tr>\n",
       "      <th>1</th>\n",
       "      <td>Private Dating, Hide App- Blue for PrivacyHider</td>\n",
       "      <td>dating</td>\n",
       "      <td>NaN</td>\n",
       "      <td>0</td>\n",
       "      <td>18k</td>\n",
       "      <td>100+</td>\n",
       "      <td>Paid</td>\n",
       "      <td>$2.99</td>\n",
       "      <td>Everyone</td>\n",
       "      <td>Dating</td>\n",
       "      <td>July 25, 2017</td>\n",
       "      <td>1.0.1</td>\n",
       "      <td>4.0 and up</td>\n",
       "    </tr>\n",
       "  </tbody>\n",
       "</table>\n",
       "</div>"
      ],
      "text/plain": [
       "                                               App Category  Rating Reviews  \\\n",
       "0                                Truth or Dare Pro   dating     NaN       0   \n",
       "1  Private Dating, Hide App- Blue for PrivacyHider   dating     NaN       0   \n",
       "\n",
       "  Size Installs  Type  Price Content Rating  Genres       Last Updated  \\\n",
       "0  20M      50+  Paid  $1.49           Teen  Dating  September 1, 2017   \n",
       "1  18k     100+  Paid  $2.99       Everyone  Dating      July 25, 2017   \n",
       "\n",
       "  Current Ver Android Ver  \n",
       "0           1  4.0 and up  \n",
       "1       1.0.1  4.0 and up  "
      ]
     },
     "execution_count": 43,
     "metadata": {},
     "output_type": "execute_result"
    }
   ],
   "source": [
    "df.head(2)"
   ]
  },
  {
   "cell_type": "code",
   "execution_count": 44,
   "id": "d74d95d3",
   "metadata": {},
   "outputs": [
    {
     "data": {
      "text/plain": [
       "Category\n",
       "family                 1972\n",
       "game                   1144\n",
       "tools                   843\n",
       "medical                 463\n",
       "business                460\n",
       "productivity            424\n",
       "personalization         392\n",
       "communication           387\n",
       "sports                  384\n",
       "lifestyle               382\n",
       "finance                 366\n",
       "health_and_fitness      341\n",
       "photography             335\n",
       "social                  295\n",
       "news_and_magazines      283\n",
       "shopping                260\n",
       "travel_and_local        258\n",
       "dating                  234\n",
       "books_and_reference     231\n",
       "video_players           175\n",
       "education               156\n",
       "entertainment           149\n",
       "maps_and_navigation     137\n",
       "food_and_drink          127\n",
       "house_and_home           88\n",
       "libraries_and_demo       85\n",
       "auto_and_vehicles        85\n",
       "weather                  82\n",
       "art_and_design           65\n",
       "events                   64\n",
       "comics                   60\n",
       "parenting                60\n",
       "beauty                   53\n",
       "1.9                       1\n",
       "Name: count, dtype: int64"
      ]
     },
     "execution_count": 44,
     "metadata": {},
     "output_type": "execute_result"
    }
   ],
   "source": [
    "df['Category'].value_counts()"
   ]
  },
  {
   "cell_type": "code",
   "execution_count": 45,
   "id": "a25b4ac2",
   "metadata": {},
   "outputs": [],
   "source": [
    "df['Category'] = df['Category'].str.replace('_',' ')"
   ]
  },
  {
   "cell_type": "code",
   "execution_count": 46,
   "id": "f78e4a65",
   "metadata": {},
   "outputs": [
    {
     "data": {
      "text/plain": [
       "Category\n",
       "family                 1972\n",
       "game                   1144\n",
       "tools                   843\n",
       "medical                 463\n",
       "business                460\n",
       "productivity            424\n",
       "personalization         392\n",
       "communication           387\n",
       "sports                  384\n",
       "lifestyle               382\n",
       "finance                 366\n",
       "health and fitness      341\n",
       "photography             335\n",
       "social                  295\n",
       "news and magazines      283\n",
       "shopping                260\n",
       "travel and local        258\n",
       "dating                  234\n",
       "books and reference     231\n",
       "video players           175\n",
       "education               156\n",
       "entertainment           149\n",
       "maps and navigation     137\n",
       "food and drink          127\n",
       "house and home           88\n",
       "libraries and demo       85\n",
       "auto and vehicles        85\n",
       "weather                  82\n",
       "art and design           65\n",
       "events                   64\n",
       "comics                   60\n",
       "parenting                60\n",
       "beauty                   53\n",
       "1.9                       1\n",
       "Name: count, dtype: int64"
      ]
     },
     "execution_count": 46,
     "metadata": {},
     "output_type": "execute_result"
    }
   ],
   "source": [
    "df['Category'].value_counts()"
   ]
  },
  {
   "cell_type": "code",
   "execution_count": 47,
   "id": "08bb82ee",
   "metadata": {},
   "outputs": [],
   "source": [
    "df['Category'] = df['Category'].str.capitalize()"
   ]
  },
  {
   "cell_type": "code",
   "execution_count": 48,
   "id": "a9548340",
   "metadata": {},
   "outputs": [
    {
     "data": {
      "text/plain": [
       "Category\n",
       "Family                 1972\n",
       "Game                   1144\n",
       "Tools                   843\n",
       "Medical                 463\n",
       "Business                460\n",
       "Productivity            424\n",
       "Personalization         392\n",
       "Communication           387\n",
       "Sports                  384\n",
       "Lifestyle               382\n",
       "Finance                 366\n",
       "Health and fitness      341\n",
       "Photography             335\n",
       "Social                  295\n",
       "News and magazines      283\n",
       "Shopping                260\n",
       "Travel and local        258\n",
       "Dating                  234\n",
       "Books and reference     231\n",
       "Video players           175\n",
       "Education               156\n",
       "Entertainment           149\n",
       "Maps and navigation     137\n",
       "Food and drink          127\n",
       "House and home           88\n",
       "Libraries and demo       85\n",
       "Auto and vehicles        85\n",
       "Weather                  82\n",
       "Art and design           65\n",
       "Events                   64\n",
       "Comics                   60\n",
       "Parenting                60\n",
       "Beauty                   53\n",
       "1.9                       1\n",
       "Name: count, dtype: int64"
      ]
     },
     "execution_count": 48,
     "metadata": {},
     "output_type": "execute_result"
    }
   ],
   "source": [
    "df['Category'].value_counts()"
   ]
  },
  {
   "cell_type": "markdown",
   "id": "7525e811",
   "metadata": {},
   "source": [
    "##### 7. Clean and convert the `Installs` column to numeric type"
   ]
  },
  {
   "cell_type": "code",
   "execution_count": 50,
   "id": "8879ba16",
   "metadata": {},
   "outputs": [
    {
     "data": {
      "text/html": [
       "<div>\n",
       "<style scoped>\n",
       "    .dataframe tbody tr th:only-of-type {\n",
       "        vertical-align: middle;\n",
       "    }\n",
       "\n",
       "    .dataframe tbody tr th {\n",
       "        vertical-align: top;\n",
       "    }\n",
       "\n",
       "    .dataframe thead th {\n",
       "        text-align: right;\n",
       "    }\n",
       "</style>\n",
       "<table border=\"1\" class=\"dataframe\">\n",
       "  <thead>\n",
       "    <tr style=\"text-align: right;\">\n",
       "      <th></th>\n",
       "      <th>App</th>\n",
       "      <th>Category</th>\n",
       "      <th>Rating</th>\n",
       "      <th>Reviews</th>\n",
       "      <th>Size</th>\n",
       "      <th>Installs</th>\n",
       "      <th>Type</th>\n",
       "      <th>Price</th>\n",
       "      <th>Content Rating</th>\n",
       "      <th>Genres</th>\n",
       "      <th>Last Updated</th>\n",
       "      <th>Current Ver</th>\n",
       "      <th>Android Ver</th>\n",
       "    </tr>\n",
       "  </thead>\n",
       "  <tbody>\n",
       "    <tr>\n",
       "      <th>0</th>\n",
       "      <td>Truth or Dare Pro</td>\n",
       "      <td>Dating</td>\n",
       "      <td>NaN</td>\n",
       "      <td>0</td>\n",
       "      <td>20M</td>\n",
       "      <td>50+</td>\n",
       "      <td>Paid</td>\n",
       "      <td>$1.49</td>\n",
       "      <td>Teen</td>\n",
       "      <td>Dating</td>\n",
       "      <td>September 1, 2017</td>\n",
       "      <td>1</td>\n",
       "      <td>4.0 and up</td>\n",
       "    </tr>\n",
       "    <tr>\n",
       "      <th>1</th>\n",
       "      <td>Private Dating, Hide App- Blue for PrivacyHider</td>\n",
       "      <td>Dating</td>\n",
       "      <td>NaN</td>\n",
       "      <td>0</td>\n",
       "      <td>18k</td>\n",
       "      <td>100+</td>\n",
       "      <td>Paid</td>\n",
       "      <td>$2.99</td>\n",
       "      <td>Everyone</td>\n",
       "      <td>Dating</td>\n",
       "      <td>July 25, 2017</td>\n",
       "      <td>1.0.1</td>\n",
       "      <td>4.0 and up</td>\n",
       "    </tr>\n",
       "    <tr>\n",
       "      <th>2</th>\n",
       "      <td>Dating White Girls</td>\n",
       "      <td>Dating</td>\n",
       "      <td>NaN</td>\n",
       "      <td>0</td>\n",
       "      <td>3.6M</td>\n",
       "      <td>50+</td>\n",
       "      <td>Free</td>\n",
       "      <td>0</td>\n",
       "      <td>Mature 17+</td>\n",
       "      <td>Dating</td>\n",
       "      <td>July 20, 2018</td>\n",
       "      <td>1</td>\n",
       "      <td>4.0 and up</td>\n",
       "    </tr>\n",
       "    <tr>\n",
       "      <th>3</th>\n",
       "      <td>Geeks Dating</td>\n",
       "      <td>Dating</td>\n",
       "      <td>NaN</td>\n",
       "      <td>0</td>\n",
       "      <td>13M</td>\n",
       "      <td>50+</td>\n",
       "      <td>Free</td>\n",
       "      <td>0</td>\n",
       "      <td>Mature 17+</td>\n",
       "      <td>Dating</td>\n",
       "      <td>July 10, 2018</td>\n",
       "      <td>1</td>\n",
       "      <td>4.1 and up</td>\n",
       "    </tr>\n",
       "    <tr>\n",
       "      <th>4</th>\n",
       "      <td>CAM5678 Video Chat</td>\n",
       "      <td>Dating</td>\n",
       "      <td>NaN</td>\n",
       "      <td>0</td>\n",
       "      <td>39M</td>\n",
       "      <td>500+</td>\n",
       "      <td>Free</td>\n",
       "      <td>0</td>\n",
       "      <td>Mature 17+</td>\n",
       "      <td>Dating</td>\n",
       "      <td>July 13, 2018</td>\n",
       "      <td>5.5.8</td>\n",
       "      <td>4.0.3 and up</td>\n",
       "    </tr>\n",
       "  </tbody>\n",
       "</table>\n",
       "</div>"
      ],
      "text/plain": [
       "                                               App Category  Rating Reviews  \\\n",
       "0                                Truth or Dare Pro   Dating     NaN       0   \n",
       "1  Private Dating, Hide App- Blue for PrivacyHider   Dating     NaN       0   \n",
       "2                               Dating White Girls   Dating     NaN       0   \n",
       "3                                     Geeks Dating   Dating     NaN       0   \n",
       "4                               CAM5678 Video Chat   Dating     NaN       0   \n",
       "\n",
       "   Size Installs  Type  Price Content Rating  Genres       Last Updated  \\\n",
       "0   20M      50+  Paid  $1.49           Teen  Dating  September 1, 2017   \n",
       "1   18k     100+  Paid  $2.99       Everyone  Dating      July 25, 2017   \n",
       "2  3.6M      50+  Free      0     Mature 17+  Dating      July 20, 2018   \n",
       "3   13M      50+  Free      0     Mature 17+  Dating      July 10, 2018   \n",
       "4   39M     500+  Free      0     Mature 17+  Dating      July 13, 2018   \n",
       "\n",
       "  Current Ver   Android Ver  \n",
       "0           1    4.0 and up  \n",
       "1       1.0.1    4.0 and up  \n",
       "2           1    4.0 and up  \n",
       "3           1    4.1 and up  \n",
       "4       5.5.8  4.0.3 and up  "
      ]
     },
     "execution_count": 50,
     "metadata": {},
     "output_type": "execute_result"
    }
   ],
   "source": [
    "df.loc[pd.to_numeric(df['Installs'], errors='coerce').isna()].head()"
   ]
  },
  {
   "cell_type": "markdown",
   "id": "bb758f82",
   "metadata": {},
   "source": [
    "##### 8. Clean and convert the `Size` column to numeric (representing bytes)"
   ]
  },
  {
   "cell_type": "code",
   "execution_count": null,
   "id": "0b380527",
   "metadata": {},
   "outputs": [],
   "source": []
  },
  {
   "cell_type": "markdown",
   "id": "76e39a05",
   "metadata": {},
   "source": [
    "##### 9. Clean and convert the `Price` column to numeric"
   ]
  },
  {
   "cell_type": "code",
   "execution_count": null,
   "id": "b9cee268",
   "metadata": {},
   "outputs": [],
   "source": []
  },
  {
   "cell_type": "markdown",
   "id": "ea2ef1ba",
   "metadata": {},
   "source": [
    "##### 10. Paid or free?"
   ]
  },
  {
   "cell_type": "code",
   "execution_count": null,
   "id": "2e65d35a",
   "metadata": {},
   "outputs": [],
   "source": []
  },
  {
   "cell_type": "markdown",
   "id": "4294c30e",
   "metadata": {},
   "source": [
    "### Analysis"
   ]
  },
  {
   "cell_type": "markdown",
   "id": "707b084c",
   "metadata": {},
   "source": [
    "##### 11. Which app has the most reviews?"
   ]
  },
  {
   "cell_type": "code",
   "execution_count": null,
   "id": "849a7061",
   "metadata": {},
   "outputs": [],
   "source": []
  },
  {
   "cell_type": "markdown",
   "id": "6077c5f3",
   "metadata": {},
   "source": [
    "##### 12. What category has the highest number of apps uploaded to the store?"
   ]
  },
  {
   "cell_type": "code",
   "execution_count": null,
   "id": "df318d1d",
   "metadata": {},
   "outputs": [],
   "source": []
  },
  {
   "cell_type": "markdown",
   "id": "52b1e9a2",
   "metadata": {},
   "source": [
    "##### 13. To which category belongs the most expensive app?"
   ]
  },
  {
   "cell_type": "code",
   "execution_count": null,
   "id": "2a499593",
   "metadata": {},
   "outputs": [],
   "source": []
  },
  {
   "cell_type": "markdown",
   "id": "3bbbfaf7",
   "metadata": {},
   "source": [
    "##### 14. What's the name of the most expensive game?"
   ]
  },
  {
   "cell_type": "code",
   "execution_count": null,
   "id": "371234f4",
   "metadata": {},
   "outputs": [],
   "source": []
  },
  {
   "cell_type": "markdown",
   "id": "e770b957",
   "metadata": {},
   "source": [
    "##### 15. Which is the most popular Finance App?"
   ]
  },
  {
   "cell_type": "code",
   "execution_count": null,
   "id": "bc363e7c",
   "metadata": {},
   "outputs": [],
   "source": []
  },
  {
   "cell_type": "markdown",
   "id": "5e9d23a6",
   "metadata": {},
   "source": [
    "##### 16. What *Teen* Game has the most reviews?"
   ]
  },
  {
   "cell_type": "code",
   "execution_count": null,
   "id": "c25f499b",
   "metadata": {},
   "outputs": [],
   "source": []
  },
  {
   "cell_type": "markdown",
   "id": "070d5ea3",
   "metadata": {},
   "source": [
    "##### 17. Which is the free game with the most reviews?"
   ]
  },
  {
   "cell_type": "code",
   "execution_count": null,
   "id": "28b90a1f",
   "metadata": {},
   "outputs": [],
   "source": []
  },
  {
   "cell_type": "markdown",
   "id": "370062bc",
   "metadata": {},
   "source": [
    "##### 18. How many TB (terabytes) were transferred (overall) for the most popular Lifestyle app?"
   ]
  },
  {
   "cell_type": "code",
   "execution_count": null,
   "id": "29e3e413",
   "metadata": {},
   "outputs": [],
   "source": []
  },
  {
   "cell_type": "code",
   "execution_count": null,
   "id": "a3619db0",
   "metadata": {},
   "outputs": [],
   "source": []
  }
 ],
 "metadata": {
  "kernelspec": {
   "display_name": "Python 3 (ipykernel)",
   "language": "python",
   "name": "python3"
  },
  "language_info": {
   "codemirror_mode": {
    "name": "ipython",
    "version": 3
   },
   "file_extension": ".py",
   "mimetype": "text/x-python",
   "name": "python",
   "nbconvert_exporter": "python",
   "pygments_lexer": "ipython3",
   "version": "3.11.5"
  },
  "varInspector": {
   "cols": {
    "lenName": 16,
    "lenType": 16,
    "lenVar": 40
   },
   "kernels_config": {
    "python": {
     "delete_cmd_postfix": "",
     "delete_cmd_prefix": "del ",
     "library": "var_list.py",
     "varRefreshCmd": "print(var_dic_list())"
    },
    "r": {
     "delete_cmd_postfix": ") ",
     "delete_cmd_prefix": "rm(",
     "library": "var_list.r",
     "varRefreshCmd": "cat(var_dic_list()) "
    }
   },
   "types_to_exclude": [
    "module",
    "function",
    "builtin_function_or_method",
    "instance",
    "_Feature"
   ],
   "window_display": false
  }
 },
 "nbformat": 4,
 "nbformat_minor": 5
}
