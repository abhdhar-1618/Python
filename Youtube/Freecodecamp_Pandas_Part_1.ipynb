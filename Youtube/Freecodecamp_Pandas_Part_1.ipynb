{
 "cells": [
  {
   "cell_type": "markdown",
   "id": "bfc9c7da",
   "metadata": {},
   "source": [
    "# Resources\n",
    "## Instructor Name:- Santiago Basulto\n",
    "## Channel:- [Freecodecamp](https://www.youtube.com/watch?v=gtjxAH8uaP0)\n",
    "## Resource Link:- [Youtube](https://www.youtube.com/watch?v=gtjxAH8uaP0)"
   ]
  },
  {
   "cell_type": "code",
   "execution_count": 2,
   "id": "7c924f6b",
   "metadata": {},
   "outputs": [],
   "source": [
    "import pandas as pd"
   ]
  },
  {
   "cell_type": "code",
   "execution_count": 3,
   "id": "e15385b9",
   "metadata": {},
   "outputs": [],
   "source": [
    "df = pd.read_csv('words.csv', index_col='Word')"
   ]
  },
  {
   "cell_type": "code",
   "execution_count": 4,
   "id": "e869da14",
   "metadata": {},
   "outputs": [
    {
     "data": {
      "text/html": [
       "<div>\n",
       "<style scoped>\n",
       "    .dataframe tbody tr th:only-of-type {\n",
       "        vertical-align: middle;\n",
       "    }\n",
       "\n",
       "    .dataframe tbody tr th {\n",
       "        vertical-align: top;\n",
       "    }\n",
       "\n",
       "    .dataframe thead th {\n",
       "        text-align: right;\n",
       "    }\n",
       "</style>\n",
       "<table border=\"1\" class=\"dataframe\">\n",
       "  <thead>\n",
       "    <tr style=\"text-align: right;\">\n",
       "      <th></th>\n",
       "      <th>Char Count</th>\n",
       "      <th>Value</th>\n",
       "    </tr>\n",
       "    <tr>\n",
       "      <th>Word</th>\n",
       "      <th></th>\n",
       "      <th></th>\n",
       "    </tr>\n",
       "  </thead>\n",
       "  <tbody>\n",
       "    <tr>\n",
       "      <th>a</th>\n",
       "      <td>1</td>\n",
       "      <td>1</td>\n",
       "    </tr>\n",
       "    <tr>\n",
       "      <th>aa</th>\n",
       "      <td>2</td>\n",
       "      <td>2</td>\n",
       "    </tr>\n",
       "    <tr>\n",
       "      <th>aaa</th>\n",
       "      <td>3</td>\n",
       "      <td>3</td>\n",
       "    </tr>\n",
       "    <tr>\n",
       "      <th>aah</th>\n",
       "      <td>3</td>\n",
       "      <td>10</td>\n",
       "    </tr>\n",
       "    <tr>\n",
       "      <th>aahed</th>\n",
       "      <td>5</td>\n",
       "      <td>19</td>\n",
       "    </tr>\n",
       "  </tbody>\n",
       "</table>\n",
       "</div>"
      ],
      "text/plain": [
       "       Char Count  Value\n",
       "Word                    \n",
       "a               1      1\n",
       "aa              2      2\n",
       "aaa             3      3\n",
       "aah             3     10\n",
       "aahed           5     19"
      ]
     },
     "execution_count": 4,
     "metadata": {},
     "output_type": "execute_result"
    }
   ],
   "source": [
    "df.head()"
   ]
  },
  {
   "cell_type": "markdown",
   "id": "9f14c2f7",
   "metadata": {},
   "source": [
    "### How many elements does the dataframe have?"
   ]
  },
  {
   "cell_type": "code",
   "execution_count": 7,
   "id": "095a83ab",
   "metadata": {},
   "outputs": [
    {
     "name": "stdout",
     "output_type": "stream",
     "text": [
      "<class 'pandas.core.frame.DataFrame'>\n",
      "Index: 370103 entries, a to zyzzyvas\n",
      "Data columns (total 2 columns):\n",
      " #   Column      Non-Null Count   Dtype\n",
      "---  ------      --------------   -----\n",
      " 0   Char Count  370103 non-null  int64\n",
      " 1   Value       370103 non-null  int64\n",
      "dtypes: int64(2)\n",
      "memory usage: 8.5+ MB\n"
     ]
    }
   ],
   "source": [
    "# method 1\n",
    "\n",
    "df.info()"
   ]
  },
  {
   "cell_type": "code",
   "execution_count": 8,
   "id": "22d34826",
   "metadata": {},
   "outputs": [
    {
     "data": {
      "text/plain": [
       "(370103, 2)"
      ]
     },
     "execution_count": 8,
     "metadata": {},
     "output_type": "execute_result"
    }
   ],
   "source": [
    "# method 2\n",
    "\n",
    "df.shape"
   ]
  },
  {
   "cell_type": "markdown",
   "id": "6369f2bc",
   "metadata": {},
   "source": [
    "### What is the value of the word <mark>microspectrophotometric ?"
   ]
  },
  {
   "cell_type": "code",
   "execution_count": 10,
   "id": "7feefd89",
   "metadata": {},
   "outputs": [
    {
     "data": {
      "text/plain": [
       "Char Count     23\n",
       "Value         296\n",
       "Name: microspectrophotometric, dtype: int64"
      ]
     },
     "execution_count": 10,
     "metadata": {},
     "output_type": "execute_result"
    }
   ],
   "source": [
    "df.loc['microspectrophotometric']"
   ]
  },
  {
   "cell_type": "markdown",
   "id": "293b6c87",
   "metadata": {},
   "source": [
    "### What is the highest possible value of a word?"
   ]
  },
  {
   "cell_type": "code",
   "execution_count": 13,
   "id": "b7929197",
   "metadata": {},
   "outputs": [
    {
     "data": {
      "text/plain": [
       "390"
      ]
     },
     "execution_count": 13,
     "metadata": {},
     "output_type": "execute_result"
    }
   ],
   "source": [
    "#Method 1\n",
    "\n",
    "df['Value'].max()"
   ]
  },
  {
   "cell_type": "code",
   "execution_count": 14,
   "id": "bf713c1d",
   "metadata": {},
   "outputs": [
    {
     "data": {
      "text/plain": [
       "Char Count     31\n",
       "Value         390\n",
       "dtype: int64"
      ]
     },
     "execution_count": 14,
     "metadata": {},
     "output_type": "execute_result"
    }
   ],
   "source": [
    "#Method 2\n",
    "\n",
    "df.max()"
   ]
  },
  {
   "cell_type": "code",
   "execution_count": 16,
   "id": "9d07bc4c",
   "metadata": {},
   "outputs": [
    {
     "data": {
      "text/html": [
       "<div>\n",
       "<style scoped>\n",
       "    .dataframe tbody tr th:only-of-type {\n",
       "        vertical-align: middle;\n",
       "    }\n",
       "\n",
       "    .dataframe tbody tr th {\n",
       "        vertical-align: top;\n",
       "    }\n",
       "\n",
       "    .dataframe thead th {\n",
       "        text-align: right;\n",
       "    }\n",
       "</style>\n",
       "<table border=\"1\" class=\"dataframe\">\n",
       "  <thead>\n",
       "    <tr style=\"text-align: right;\">\n",
       "      <th></th>\n",
       "      <th>Char Count</th>\n",
       "      <th>Value</th>\n",
       "    </tr>\n",
       "  </thead>\n",
       "  <tbody>\n",
       "    <tr>\n",
       "      <th>count</th>\n",
       "      <td>370103.000000</td>\n",
       "      <td>370103.000000</td>\n",
       "    </tr>\n",
       "    <tr>\n",
       "      <th>mean</th>\n",
       "      <td>9.442501</td>\n",
       "      <td>110.954526</td>\n",
       "    </tr>\n",
       "    <tr>\n",
       "      <th>std</th>\n",
       "      <td>2.916439</td>\n",
       "      <td>40.745456</td>\n",
       "    </tr>\n",
       "    <tr>\n",
       "      <th>min</th>\n",
       "      <td>1.000000</td>\n",
       "      <td>1.000000</td>\n",
       "    </tr>\n",
       "    <tr>\n",
       "      <th>25%</th>\n",
       "      <td>7.000000</td>\n",
       "      <td>82.000000</td>\n",
       "    </tr>\n",
       "    <tr>\n",
       "      <th>50%</th>\n",
       "      <td>9.000000</td>\n",
       "      <td>107.000000</td>\n",
       "    </tr>\n",
       "    <tr>\n",
       "      <th>75%</th>\n",
       "      <td>11.000000</td>\n",
       "      <td>136.000000</td>\n",
       "    </tr>\n",
       "    <tr>\n",
       "      <th>max</th>\n",
       "      <td>31.000000</td>\n",
       "      <td>390.000000</td>\n",
       "    </tr>\n",
       "  </tbody>\n",
       "</table>\n",
       "</div>"
      ],
      "text/plain": [
       "          Char Count          Value\n",
       "count  370103.000000  370103.000000\n",
       "mean        9.442501     110.954526\n",
       "std         2.916439      40.745456\n",
       "min         1.000000       1.000000\n",
       "25%         7.000000      82.000000\n",
       "50%         9.000000     107.000000\n",
       "75%        11.000000     136.000000\n",
       "max        31.000000     390.000000"
      ]
     },
     "execution_count": 16,
     "metadata": {},
     "output_type": "execute_result"
    }
   ],
   "source": [
    "#Method 3\n",
    "\n",
    "df.describe()"
   ]
  },
  {
   "cell_type": "markdown",
   "id": "5dd968c6",
   "metadata": {},
   "source": [
    "### Which of the following words have a Char Count of 7 and a Value of 87 ?"
   ]
  },
  {
   "cell_type": "code",
   "execution_count": 17,
   "id": "1a4f530f",
   "metadata": {},
   "outputs": [
    {
     "data": {
      "text/html": [
       "<div>\n",
       "<style scoped>\n",
       "    .dataframe tbody tr th:only-of-type {\n",
       "        vertical-align: middle;\n",
       "    }\n",
       "\n",
       "    .dataframe tbody tr th {\n",
       "        vertical-align: top;\n",
       "    }\n",
       "\n",
       "    .dataframe thead th {\n",
       "        text-align: right;\n",
       "    }\n",
       "</style>\n",
       "<table border=\"1\" class=\"dataframe\">\n",
       "  <thead>\n",
       "    <tr style=\"text-align: right;\">\n",
       "      <th></th>\n",
       "      <th>Char Count</th>\n",
       "      <th>Value</th>\n",
       "    </tr>\n",
       "    <tr>\n",
       "      <th>Word</th>\n",
       "      <th></th>\n",
       "      <th></th>\n",
       "    </tr>\n",
       "  </thead>\n",
       "  <tbody>\n",
       "    <tr>\n",
       "      <th>pinfish</th>\n",
       "      <td>7</td>\n",
       "      <td>81</td>\n",
       "    </tr>\n",
       "    <tr>\n",
       "      <th>glowing</th>\n",
       "      <td>7</td>\n",
       "      <td>87</td>\n",
       "    </tr>\n",
       "    <tr>\n",
       "      <th>enfold</th>\n",
       "      <td>6</td>\n",
       "      <td>56</td>\n",
       "    </tr>\n",
       "    <tr>\n",
       "      <th>microbody</th>\n",
       "      <td>9</td>\n",
       "      <td>104</td>\n",
       "    </tr>\n",
       "  </tbody>\n",
       "</table>\n",
       "</div>"
      ],
      "text/plain": [
       "           Char Count  Value\n",
       "Word                        \n",
       "pinfish             7     81\n",
       "glowing             7     87\n",
       "enfold              6     56\n",
       "microbody           9    104"
      ]
     },
     "execution_count": 17,
     "metadata": {},
     "output_type": "execute_result"
    }
   ],
   "source": [
    "df.loc[[\n",
    "    \"pinfish\",\n",
    "    \"glowing\",\n",
    "    \"enfold\",\n",
    "    \"microbody\"\n",
    "]]"
   ]
  },
  {
   "cell_type": "markdown",
   "id": "51a8e03b",
   "metadata": {},
   "source": [
    "### What is the highest possible length of a word?"
   ]
  },
  {
   "cell_type": "code",
   "execution_count": 18,
   "id": "7f7f7d49",
   "metadata": {},
   "outputs": [
    {
     "data": {
      "text/html": [
       "<div>\n",
       "<style scoped>\n",
       "    .dataframe tbody tr th:only-of-type {\n",
       "        vertical-align: middle;\n",
       "    }\n",
       "\n",
       "    .dataframe tbody tr th {\n",
       "        vertical-align: top;\n",
       "    }\n",
       "\n",
       "    .dataframe thead th {\n",
       "        text-align: right;\n",
       "    }\n",
       "</style>\n",
       "<table border=\"1\" class=\"dataframe\">\n",
       "  <thead>\n",
       "    <tr style=\"text-align: right;\">\n",
       "      <th></th>\n",
       "      <th>Char Count</th>\n",
       "      <th>Value</th>\n",
       "    </tr>\n",
       "  </thead>\n",
       "  <tbody>\n",
       "    <tr>\n",
       "      <th>count</th>\n",
       "      <td>370103.000000</td>\n",
       "      <td>370103.000000</td>\n",
       "    </tr>\n",
       "    <tr>\n",
       "      <th>mean</th>\n",
       "      <td>9.442501</td>\n",
       "      <td>110.954526</td>\n",
       "    </tr>\n",
       "    <tr>\n",
       "      <th>std</th>\n",
       "      <td>2.916439</td>\n",
       "      <td>40.745456</td>\n",
       "    </tr>\n",
       "    <tr>\n",
       "      <th>min</th>\n",
       "      <td>1.000000</td>\n",
       "      <td>1.000000</td>\n",
       "    </tr>\n",
       "    <tr>\n",
       "      <th>25%</th>\n",
       "      <td>7.000000</td>\n",
       "      <td>82.000000</td>\n",
       "    </tr>\n",
       "    <tr>\n",
       "      <th>50%</th>\n",
       "      <td>9.000000</td>\n",
       "      <td>107.000000</td>\n",
       "    </tr>\n",
       "    <tr>\n",
       "      <th>75%</th>\n",
       "      <td>11.000000</td>\n",
       "      <td>136.000000</td>\n",
       "    </tr>\n",
       "    <tr>\n",
       "      <th>max</th>\n",
       "      <td>31.000000</td>\n",
       "      <td>390.000000</td>\n",
       "    </tr>\n",
       "  </tbody>\n",
       "</table>\n",
       "</div>"
      ],
      "text/plain": [
       "          Char Count          Value\n",
       "count  370103.000000  370103.000000\n",
       "mean        9.442501     110.954526\n",
       "std         2.916439      40.745456\n",
       "min         1.000000       1.000000\n",
       "25%         7.000000      82.000000\n",
       "50%         9.000000     107.000000\n",
       "75%        11.000000     136.000000\n",
       "max        31.000000     390.000000"
      ]
     },
     "execution_count": 18,
     "metadata": {},
     "output_type": "execute_result"
    }
   ],
   "source": [
    "df.describe()"
   ]
  },
  {
   "cell_type": "markdown",
   "id": "9f0548d7",
   "metadata": {},
   "source": [
    "### What is the word with the value of 319?"
   ]
  },
  {
   "cell_type": "code",
   "execution_count": 21,
   "id": "58bc71c0",
   "metadata": {},
   "outputs": [
    {
     "data": {
      "text/html": [
       "<div>\n",
       "<style scoped>\n",
       "    .dataframe tbody tr th:only-of-type {\n",
       "        vertical-align: middle;\n",
       "    }\n",
       "\n",
       "    .dataframe tbody tr th {\n",
       "        vertical-align: top;\n",
       "    }\n",
       "\n",
       "    .dataframe thead th {\n",
       "        text-align: right;\n",
       "    }\n",
       "</style>\n",
       "<table border=\"1\" class=\"dataframe\">\n",
       "  <thead>\n",
       "    <tr style=\"text-align: right;\">\n",
       "      <th></th>\n",
       "      <th>Char Count</th>\n",
       "      <th>Value</th>\n",
       "    </tr>\n",
       "    <tr>\n",
       "      <th>Word</th>\n",
       "      <th></th>\n",
       "      <th></th>\n",
       "    </tr>\n",
       "  </thead>\n",
       "  <tbody>\n",
       "    <tr>\n",
       "      <th>hydroxydesoxycorticosterone</th>\n",
       "      <td>27</td>\n",
       "      <td>390</td>\n",
       "    </tr>\n",
       "    <tr>\n",
       "      <th>trinitrophenylmethylnitramine</th>\n",
       "      <td>29</td>\n",
       "      <td>389</td>\n",
       "    </tr>\n",
       "    <tr>\n",
       "      <th>hydroxydehydrocorticosterone</th>\n",
       "      <td>28</td>\n",
       "      <td>377</td>\n",
       "    </tr>\n",
       "    <tr>\n",
       "      <th>cyclotrimethylenetrinitramine</th>\n",
       "      <td>29</td>\n",
       "      <td>362</td>\n",
       "    </tr>\n",
       "    <tr>\n",
       "      <th>dichlorodiphenyltrichloroethane</th>\n",
       "      <td>31</td>\n",
       "      <td>348</td>\n",
       "    </tr>\n",
       "    <tr>\n",
       "      <th>...</th>\n",
       "      <td>...</td>\n",
       "      <td>...</td>\n",
       "    </tr>\n",
       "    <tr>\n",
       "      <th>ba</th>\n",
       "      <td>2</td>\n",
       "      <td>3</td>\n",
       "    </tr>\n",
       "    <tr>\n",
       "      <th>ab</th>\n",
       "      <td>2</td>\n",
       "      <td>3</td>\n",
       "    </tr>\n",
       "    <tr>\n",
       "      <th>aa</th>\n",
       "      <td>2</td>\n",
       "      <td>2</td>\n",
       "    </tr>\n",
       "    <tr>\n",
       "      <th>b</th>\n",
       "      <td>1</td>\n",
       "      <td>2</td>\n",
       "    </tr>\n",
       "    <tr>\n",
       "      <th>a</th>\n",
       "      <td>1</td>\n",
       "      <td>1</td>\n",
       "    </tr>\n",
       "  </tbody>\n",
       "</table>\n",
       "<p>370103 rows × 2 columns</p>\n",
       "</div>"
      ],
      "text/plain": [
       "                                 Char Count  Value\n",
       "Word                                              \n",
       "hydroxydesoxycorticosterone              27    390\n",
       "trinitrophenylmethylnitramine            29    389\n",
       "hydroxydehydrocorticosterone             28    377\n",
       "cyclotrimethylenetrinitramine            29    362\n",
       "dichlorodiphenyltrichloroethane          31    348\n",
       "...                                     ...    ...\n",
       "ba                                        2      3\n",
       "ab                                        2      3\n",
       "aa                                        2      2\n",
       "b                                         1      2\n",
       "a                                         1      1\n",
       "\n",
       "[370103 rows x 2 columns]"
      ]
     },
     "execution_count": 21,
     "metadata": {},
     "output_type": "execute_result"
    }
   ],
   "source": [
    "# method 1\n",
    "\n",
    "df.sort_values(by=['Value'], ascending=False)"
   ]
  },
  {
   "cell_type": "code",
   "execution_count": 25,
   "id": "66f9a0de",
   "metadata": {},
   "outputs": [
    {
     "data": {
      "text/html": [
       "<div>\n",
       "<style scoped>\n",
       "    .dataframe tbody tr th:only-of-type {\n",
       "        vertical-align: middle;\n",
       "    }\n",
       "\n",
       "    .dataframe tbody tr th {\n",
       "        vertical-align: top;\n",
       "    }\n",
       "\n",
       "    .dataframe thead th {\n",
       "        text-align: right;\n",
       "    }\n",
       "</style>\n",
       "<table border=\"1\" class=\"dataframe\">\n",
       "  <thead>\n",
       "    <tr style=\"text-align: right;\">\n",
       "      <th></th>\n",
       "      <th>Char Count</th>\n",
       "      <th>Value</th>\n",
       "    </tr>\n",
       "    <tr>\n",
       "      <th>Word</th>\n",
       "      <th></th>\n",
       "      <th></th>\n",
       "    </tr>\n",
       "  </thead>\n",
       "  <tbody>\n",
       "    <tr>\n",
       "      <th>overpresumptuousness</th>\n",
       "      <td>20</td>\n",
       "      <td>321</td>\n",
       "    </tr>\n",
       "    <tr>\n",
       "      <th>preobtrudingpreobtrusion</th>\n",
       "      <td>24</td>\n",
       "      <td>321</td>\n",
       "    </tr>\n",
       "  </tbody>\n",
       "</table>\n",
       "</div>"
      ],
      "text/plain": [
       "                          Char Count  Value\n",
       "Word                                       \n",
       "overpresumptuousness              20    321\n",
       "preobtrudingpreobtrusion          24    321"
      ]
     },
     "execution_count": 25,
     "metadata": {},
     "output_type": "execute_result"
    }
   ],
   "source": [
    "# method 2\n",
    "\n",
    "df.loc[df['Value'] == 321]"
   ]
  },
  {
   "cell_type": "markdown",
   "id": "8487a457",
   "metadata": {},
   "source": [
    "### What is the most common value?"
   ]
  },
  {
   "cell_type": "code",
   "execution_count": 26,
   "id": "cd22e039",
   "metadata": {},
   "outputs": [
    {
     "data": {
      "text/plain": [
       "count    370103.000000\n",
       "mean        110.954526\n",
       "std          40.745456\n",
       "min           1.000000\n",
       "25%          82.000000\n",
       "50%         107.000000\n",
       "75%         136.000000\n",
       "max         390.000000\n",
       "Name: Value, dtype: float64"
      ]
     },
     "execution_count": 26,
     "metadata": {},
     "output_type": "execute_result"
    }
   ],
   "source": [
    "# Method 1\n",
    "\n",
    "df['Value'].describe()"
   ]
  },
  {
   "cell_type": "code",
   "execution_count": 28,
   "id": "f2141678",
   "metadata": {},
   "outputs": [
    {
     "data": {
      "text/plain": [
       "0    102\n",
       "Name: Value, dtype: int64"
      ]
     },
     "execution_count": 28,
     "metadata": {},
     "output_type": "execute_result"
    }
   ],
   "source": [
    "# Method 2\n",
    "\n",
    "df['Value'].mode()"
   ]
  },
  {
   "cell_type": "code",
   "execution_count": 33,
   "id": "2b5da9a2",
   "metadata": {},
   "outputs": [
    {
     "data": {
      "text/plain": [
       "Value\n",
       "102    3787\n",
       "97     3783\n",
       "100    3770\n",
       "93     3760\n",
       "98     3750\n",
       "Name: count, dtype: int64"
      ]
     },
     "execution_count": 33,
     "metadata": {},
     "output_type": "execute_result"
    }
   ],
   "source": [
    "# Method 3 [most used]\n",
    "\n",
    "df['Value'].value_counts().head()"
   ]
  },
  {
   "cell_type": "markdown",
   "id": "a6413302",
   "metadata": {},
   "source": [
    "### What is the shortest word with value 274?"
   ]
  },
  {
   "cell_type": "code",
   "execution_count": 35,
   "id": "8f5f887e",
   "metadata": {},
   "outputs": [
    {
     "data": {
      "text/html": [
       "<div>\n",
       "<style scoped>\n",
       "    .dataframe tbody tr th:only-of-type {\n",
       "        vertical-align: middle;\n",
       "    }\n",
       "\n",
       "    .dataframe tbody tr th {\n",
       "        vertical-align: top;\n",
       "    }\n",
       "\n",
       "    .dataframe thead th {\n",
       "        text-align: right;\n",
       "    }\n",
       "</style>\n",
       "<table border=\"1\" class=\"dataframe\">\n",
       "  <thead>\n",
       "    <tr style=\"text-align: right;\">\n",
       "      <th></th>\n",
       "      <th>Char Count</th>\n",
       "      <th>Value</th>\n",
       "    </tr>\n",
       "    <tr>\n",
       "      <th>Word</th>\n",
       "      <th></th>\n",
       "      <th></th>\n",
       "    </tr>\n",
       "  </thead>\n",
       "  <tbody>\n",
       "    <tr>\n",
       "      <th>unvoluptuousness</th>\n",
       "      <td>16</td>\n",
       "      <td>274</td>\n",
       "    </tr>\n",
       "    <tr>\n",
       "      <th>hyperlustrousness</th>\n",
       "      <td>17</td>\n",
       "      <td>274</td>\n",
       "    </tr>\n",
       "    <tr>\n",
       "      <th>ventrohysteropexy</th>\n",
       "      <td>17</td>\n",
       "      <td>274</td>\n",
       "    </tr>\n",
       "    <tr>\n",
       "      <th>nonsymphoniousness</th>\n",
       "      <td>18</td>\n",
       "      <td>274</td>\n",
       "    </tr>\n",
       "    <tr>\n",
       "      <th>uncontemptuousness</th>\n",
       "      <td>18</td>\n",
       "      <td>274</td>\n",
       "    </tr>\n",
       "    <tr>\n",
       "      <th>nondisputatiousness</th>\n",
       "      <td>19</td>\n",
       "      <td>274</td>\n",
       "    </tr>\n",
       "    <tr>\n",
       "      <th>unproportionateness</th>\n",
       "      <td>19</td>\n",
       "      <td>274</td>\n",
       "    </tr>\n",
       "    <tr>\n",
       "      <th>anthropophysiography</th>\n",
       "      <td>20</td>\n",
       "      <td>274</td>\n",
       "    </tr>\n",
       "    <tr>\n",
       "      <th>noncontemporaneously</th>\n",
       "      <td>20</td>\n",
       "      <td>274</td>\n",
       "    </tr>\n",
       "    <tr>\n",
       "      <th>overrepresentatively</th>\n",
       "      <td>20</td>\n",
       "      <td>274</td>\n",
       "    </tr>\n",
       "    <tr>\n",
       "      <th>counterpronunciamento</th>\n",
       "      <td>21</td>\n",
       "      <td>274</td>\n",
       "    </tr>\n",
       "    <tr>\n",
       "      <th>psychophysiologically</th>\n",
       "      <td>21</td>\n",
       "      <td>274</td>\n",
       "    </tr>\n",
       "    <tr>\n",
       "      <th>overimpressionableness</th>\n",
       "      <td>22</td>\n",
       "      <td>274</td>\n",
       "    </tr>\n",
       "  </tbody>\n",
       "</table>\n",
       "</div>"
      ],
      "text/plain": [
       "                        Char Count  Value\n",
       "Word                                     \n",
       "unvoluptuousness                16    274\n",
       "hyperlustrousness               17    274\n",
       "ventrohysteropexy               17    274\n",
       "nonsymphoniousness              18    274\n",
       "uncontemptuousness              18    274\n",
       "nondisputatiousness             19    274\n",
       "unproportionateness             19    274\n",
       "anthropophysiography            20    274\n",
       "noncontemporaneously            20    274\n",
       "overrepresentatively            20    274\n",
       "counterpronunciamento           21    274\n",
       "psychophysiologically           21    274\n",
       "overimpressionableness          22    274"
      ]
     },
     "execution_count": 35,
     "metadata": {},
     "output_type": "execute_result"
    }
   ],
   "source": [
    "df.loc[df['Value'] == 274].sort_values(by='Char Count')"
   ]
  },
  {
   "cell_type": "markdown",
   "id": "6fa93081",
   "metadata": {},
   "source": [
    "### Create a column Ratio which represents the 'Value Ratio' of a word"
   ]
  },
  {
   "cell_type": "code",
   "execution_count": 36,
   "id": "177944eb",
   "metadata": {},
   "outputs": [
    {
     "data": {
      "text/html": [
       "<div>\n",
       "<style scoped>\n",
       "    .dataframe tbody tr th:only-of-type {\n",
       "        vertical-align: middle;\n",
       "    }\n",
       "\n",
       "    .dataframe tbody tr th {\n",
       "        vertical-align: top;\n",
       "    }\n",
       "\n",
       "    .dataframe thead th {\n",
       "        text-align: right;\n",
       "    }\n",
       "</style>\n",
       "<table border=\"1\" class=\"dataframe\">\n",
       "  <thead>\n",
       "    <tr style=\"text-align: right;\">\n",
       "      <th></th>\n",
       "      <th>Char Count</th>\n",
       "      <th>Value</th>\n",
       "      <th>Ratio</th>\n",
       "    </tr>\n",
       "    <tr>\n",
       "      <th>Word</th>\n",
       "      <th></th>\n",
       "      <th></th>\n",
       "      <th></th>\n",
       "    </tr>\n",
       "  </thead>\n",
       "  <tbody>\n",
       "    <tr>\n",
       "      <th>a</th>\n",
       "      <td>1</td>\n",
       "      <td>1</td>\n",
       "      <td>1.000000</td>\n",
       "    </tr>\n",
       "    <tr>\n",
       "      <th>aa</th>\n",
       "      <td>2</td>\n",
       "      <td>2</td>\n",
       "      <td>1.000000</td>\n",
       "    </tr>\n",
       "    <tr>\n",
       "      <th>aaa</th>\n",
       "      <td>3</td>\n",
       "      <td>3</td>\n",
       "      <td>1.000000</td>\n",
       "    </tr>\n",
       "    <tr>\n",
       "      <th>aah</th>\n",
       "      <td>3</td>\n",
       "      <td>10</td>\n",
       "      <td>3.333333</td>\n",
       "    </tr>\n",
       "    <tr>\n",
       "      <th>aahed</th>\n",
       "      <td>5</td>\n",
       "      <td>19</td>\n",
       "      <td>3.800000</td>\n",
       "    </tr>\n",
       "  </tbody>\n",
       "</table>\n",
       "</div>"
      ],
      "text/plain": [
       "       Char Count  Value     Ratio\n",
       "Word                              \n",
       "a               1      1  1.000000\n",
       "aa              2      2  1.000000\n",
       "aaa             3      3  1.000000\n",
       "aah             3     10  3.333333\n",
       "aahed           5     19  3.800000"
      ]
     },
     "execution_count": 36,
     "metadata": {},
     "output_type": "execute_result"
    }
   ],
   "source": [
    "df['Ratio'] = df['Value'] / df['Char Count']\n",
    "df.head()"
   ]
  },
  {
   "cell_type": "markdown",
   "id": "70a317db",
   "metadata": {},
   "source": [
    "### What is the maximum value of Ratio?"
   ]
  },
  {
   "cell_type": "code",
   "execution_count": 37,
   "id": "f12f087d",
   "metadata": {},
   "outputs": [
    {
     "data": {
      "text/plain": [
       "26.0"
      ]
     },
     "execution_count": 37,
     "metadata": {},
     "output_type": "execute_result"
    }
   ],
   "source": [
    "df['Ratio'].max()"
   ]
  },
  {
   "cell_type": "markdown",
   "id": "2ddab458",
   "metadata": {},
   "source": [
    "### What word is the one with the highest Ratio?"
   ]
  },
  {
   "cell_type": "code",
   "execution_count": 40,
   "id": "1c8989c3",
   "metadata": {},
   "outputs": [
    {
     "data": {
      "text/html": [
       "<div>\n",
       "<style scoped>\n",
       "    .dataframe tbody tr th:only-of-type {\n",
       "        vertical-align: middle;\n",
       "    }\n",
       "\n",
       "    .dataframe tbody tr th {\n",
       "        vertical-align: top;\n",
       "    }\n",
       "\n",
       "    .dataframe thead th {\n",
       "        text-align: right;\n",
       "    }\n",
       "</style>\n",
       "<table border=\"1\" class=\"dataframe\">\n",
       "  <thead>\n",
       "    <tr style=\"text-align: right;\">\n",
       "      <th></th>\n",
       "      <th>Char Count</th>\n",
       "      <th>Value</th>\n",
       "      <th>Ratio</th>\n",
       "    </tr>\n",
       "    <tr>\n",
       "      <th>Word</th>\n",
       "      <th></th>\n",
       "      <th></th>\n",
       "      <th></th>\n",
       "    </tr>\n",
       "  </thead>\n",
       "  <tbody>\n",
       "    <tr>\n",
       "      <th>z</th>\n",
       "      <td>1</td>\n",
       "      <td>26</td>\n",
       "      <td>26.0</td>\n",
       "    </tr>\n",
       "    <tr>\n",
       "      <th>xyz</th>\n",
       "      <td>3</td>\n",
       "      <td>75</td>\n",
       "      <td>25.0</td>\n",
       "    </tr>\n",
       "    <tr>\n",
       "      <th>y</th>\n",
       "      <td>1</td>\n",
       "      <td>25</td>\n",
       "      <td>25.0</td>\n",
       "    </tr>\n",
       "    <tr>\n",
       "      <th>wuzzy</th>\n",
       "      <td>5</td>\n",
       "      <td>121</td>\n",
       "      <td>24.2</td>\n",
       "    </tr>\n",
       "    <tr>\n",
       "      <th>xx</th>\n",
       "      <td>2</td>\n",
       "      <td>48</td>\n",
       "      <td>24.0</td>\n",
       "    </tr>\n",
       "  </tbody>\n",
       "</table>\n",
       "</div>"
      ],
      "text/plain": [
       "       Char Count  Value  Ratio\n",
       "Word                           \n",
       "z               1     26   26.0\n",
       "xyz             3     75   25.0\n",
       "y               1     25   25.0\n",
       "wuzzy           5    121   24.2\n",
       "xx              2     48   24.0"
      ]
     },
     "execution_count": 40,
     "metadata": {},
     "output_type": "execute_result"
    }
   ],
   "source": [
    "# Method 1\n",
    "\n",
    "df.sort_values(by='Ratio', ascending=False).head()"
   ]
  },
  {
   "cell_type": "code",
   "execution_count": 42,
   "id": "fd0440a4",
   "metadata": {},
   "outputs": [
    {
     "data": {
      "text/html": [
       "<div>\n",
       "<style scoped>\n",
       "    .dataframe tbody tr th:only-of-type {\n",
       "        vertical-align: middle;\n",
       "    }\n",
       "\n",
       "    .dataframe tbody tr th {\n",
       "        vertical-align: top;\n",
       "    }\n",
       "\n",
       "    .dataframe thead th {\n",
       "        text-align: right;\n",
       "    }\n",
       "</style>\n",
       "<table border=\"1\" class=\"dataframe\">\n",
       "  <thead>\n",
       "    <tr style=\"text-align: right;\">\n",
       "      <th></th>\n",
       "      <th>Char Count</th>\n",
       "      <th>Value</th>\n",
       "      <th>Ratio</th>\n",
       "    </tr>\n",
       "    <tr>\n",
       "      <th>Word</th>\n",
       "      <th></th>\n",
       "      <th></th>\n",
       "      <th></th>\n",
       "    </tr>\n",
       "  </thead>\n",
       "  <tbody>\n",
       "    <tr>\n",
       "      <th>z</th>\n",
       "      <td>1</td>\n",
       "      <td>26</td>\n",
       "      <td>26.0</td>\n",
       "    </tr>\n",
       "  </tbody>\n",
       "</table>\n",
       "</div>"
      ],
      "text/plain": [
       "      Char Count  Value  Ratio\n",
       "Word                          \n",
       "z              1     26   26.0"
      ]
     },
     "execution_count": 42,
     "metadata": {},
     "output_type": "execute_result"
    }
   ],
   "source": [
    "#Method 2\n",
    "\n",
    "df.loc[df['Ratio'] == df['Ratio'].max()]"
   ]
  },
  {
   "cell_type": "markdown",
   "id": "2d39a623",
   "metadata": {},
   "source": [
    "### How many words have a Ratio of 10?"
   ]
  },
  {
   "cell_type": "code",
   "execution_count": 46,
   "id": "297b69ff",
   "metadata": {},
   "outputs": [
    {
     "data": {
      "text/plain": [
       "(5558, 3)"
      ]
     },
     "execution_count": 46,
     "metadata": {},
     "output_type": "execute_result"
    }
   ],
   "source": [
    "# Method 1\n",
    "\n",
    "df.loc[df['Ratio'] == 10].shape"
   ]
  },
  {
   "cell_type": "code",
   "execution_count": 45,
   "id": "4085d8d2",
   "metadata": {},
   "outputs": [
    {
     "data": {
      "text/plain": [
       "(5558, 3)"
      ]
     },
     "execution_count": 45,
     "metadata": {},
     "output_type": "execute_result"
    }
   ],
   "source": [
    "# Method 2\n",
    "\n",
    "df.query(\"Ratio == 10\").shape"
   ]
  },
  {
   "cell_type": "markdown",
   "id": "d6bf6834",
   "metadata": {},
   "source": [
    "### What is the maximum Value of all the words with a Ratio of 10?"
   ]
  },
  {
   "cell_type": "code",
   "execution_count": 47,
   "id": "7f878cc8",
   "metadata": {},
   "outputs": [
    {
     "data": {
      "text/html": [
       "<div>\n",
       "<style scoped>\n",
       "    .dataframe tbody tr th:only-of-type {\n",
       "        vertical-align: middle;\n",
       "    }\n",
       "\n",
       "    .dataframe tbody tr th {\n",
       "        vertical-align: top;\n",
       "    }\n",
       "\n",
       "    .dataframe thead th {\n",
       "        text-align: right;\n",
       "    }\n",
       "</style>\n",
       "<table border=\"1\" class=\"dataframe\">\n",
       "  <thead>\n",
       "    <tr style=\"text-align: right;\">\n",
       "      <th></th>\n",
       "      <th>Char Count</th>\n",
       "      <th>Value</th>\n",
       "      <th>Ratio</th>\n",
       "    </tr>\n",
       "    <tr>\n",
       "      <th>Word</th>\n",
       "      <th></th>\n",
       "      <th></th>\n",
       "      <th></th>\n",
       "    </tr>\n",
       "  </thead>\n",
       "  <tbody>\n",
       "    <tr>\n",
       "      <th>electrocardiographically</th>\n",
       "      <td>24</td>\n",
       "      <td>240</td>\n",
       "      <td>10.0</td>\n",
       "    </tr>\n",
       "    <tr>\n",
       "      <th>anatomicopathological</th>\n",
       "      <td>21</td>\n",
       "      <td>210</td>\n",
       "      <td>10.0</td>\n",
       "    </tr>\n",
       "    <tr>\n",
       "      <th>pathologicoanatomical</th>\n",
       "      <td>21</td>\n",
       "      <td>210</td>\n",
       "      <td>10.0</td>\n",
       "    </tr>\n",
       "    <tr>\n",
       "      <th>anatomicochirurgical</th>\n",
       "      <td>20</td>\n",
       "      <td>200</td>\n",
       "      <td>10.0</td>\n",
       "    </tr>\n",
       "    <tr>\n",
       "      <th>hypsidolichocephalic</th>\n",
       "      <td>20</td>\n",
       "      <td>200</td>\n",
       "      <td>10.0</td>\n",
       "    </tr>\n",
       "  </tbody>\n",
       "</table>\n",
       "</div>"
      ],
      "text/plain": [
       "                          Char Count  Value  Ratio\n",
       "Word                                              \n",
       "electrocardiographically          24    240   10.0\n",
       "anatomicopathological             21    210   10.0\n",
       "pathologicoanatomical             21    210   10.0\n",
       "anatomicochirurgical              20    200   10.0\n",
       "hypsidolichocephalic              20    200   10.0"
      ]
     },
     "execution_count": 47,
     "metadata": {},
     "output_type": "execute_result"
    }
   ],
   "source": [
    "df.query(\"Ratio == 10\").sort_values(by=\"Value\", ascending=False).head()"
   ]
  },
  {
   "cell_type": "code",
   "execution_count": 48,
   "id": "51c7b675",
   "metadata": {},
   "outputs": [
    {
     "data": {
      "text/plain": [
       "240"
      ]
     },
     "execution_count": 48,
     "metadata": {},
     "output_type": "execute_result"
    }
   ],
   "source": [
    "df.loc[df['Ratio'] == 10, 'Value'].max()"
   ]
  },
  {
   "cell_type": "markdown",
   "id": "0cc3fd8a",
   "metadata": {},
   "source": [
    "### Of those words with a Value of 260, what is the lowest Char Count found?"
   ]
  },
  {
   "cell_type": "code",
   "execution_count": 49,
   "id": "1bc26c09",
   "metadata": {},
   "outputs": [
    {
     "data": {
      "text/html": [
       "<div>\n",
       "<style scoped>\n",
       "    .dataframe tbody tr th:only-of-type {\n",
       "        vertical-align: middle;\n",
       "    }\n",
       "\n",
       "    .dataframe tbody tr th {\n",
       "        vertical-align: top;\n",
       "    }\n",
       "\n",
       "    .dataframe thead th {\n",
       "        text-align: right;\n",
       "    }\n",
       "</style>\n",
       "<table border=\"1\" class=\"dataframe\">\n",
       "  <thead>\n",
       "    <tr style=\"text-align: right;\">\n",
       "      <th></th>\n",
       "      <th>Char Count</th>\n",
       "      <th>Value</th>\n",
       "      <th>Ratio</th>\n",
       "    </tr>\n",
       "    <tr>\n",
       "      <th>Word</th>\n",
       "      <th></th>\n",
       "      <th></th>\n",
       "      <th></th>\n",
       "    </tr>\n",
       "  </thead>\n",
       "  <tbody>\n",
       "    <tr>\n",
       "      <th>nonsynonymously</th>\n",
       "      <td>15</td>\n",
       "      <td>260</td>\n",
       "      <td>17.333333</td>\n",
       "    </tr>\n",
       "    <tr>\n",
       "      <th>gastrohysteropexy</th>\n",
       "      <td>17</td>\n",
       "      <td>260</td>\n",
       "      <td>15.294118</td>\n",
       "    </tr>\n",
       "    <tr>\n",
       "      <th>hydroxytryptamine</th>\n",
       "      <td>17</td>\n",
       "      <td>260</td>\n",
       "      <td>15.294118</td>\n",
       "    </tr>\n",
       "    <tr>\n",
       "      <th>unvituperativeness</th>\n",
       "      <td>18</td>\n",
       "      <td>260</td>\n",
       "      <td>14.444444</td>\n",
       "    </tr>\n",
       "    <tr>\n",
       "      <th>noninstructiveness</th>\n",
       "      <td>18</td>\n",
       "      <td>260</td>\n",
       "      <td>14.444444</td>\n",
       "    </tr>\n",
       "    <tr>\n",
       "      <th>nonadventurousness</th>\n",
       "      <td>18</td>\n",
       "      <td>260</td>\n",
       "      <td>14.444444</td>\n",
       "    </tr>\n",
       "    <tr>\n",
       "      <th>psychophysiologist</th>\n",
       "      <td>18</td>\n",
       "      <td>260</td>\n",
       "      <td>14.444444</td>\n",
       "    </tr>\n",
       "    <tr>\n",
       "      <th>overobsequiousness</th>\n",
       "      <td>18</td>\n",
       "      <td>260</td>\n",
       "      <td>14.444444</td>\n",
       "    </tr>\n",
       "    <tr>\n",
       "      <th>hyperobtrusiveness</th>\n",
       "      <td>18</td>\n",
       "      <td>260</td>\n",
       "      <td>14.444444</td>\n",
       "    </tr>\n",
       "    <tr>\n",
       "      <th>hyperridiculousness</th>\n",
       "      <td>19</td>\n",
       "      <td>260</td>\n",
       "      <td>13.684211</td>\n",
       "    </tr>\n",
       "    <tr>\n",
       "      <th>hypsiprymnodontinae</th>\n",
       "      <td>19</td>\n",
       "      <td>260</td>\n",
       "      <td>13.684211</td>\n",
       "    </tr>\n",
       "    <tr>\n",
       "      <th>extraconstitutional</th>\n",
       "      <td>19</td>\n",
       "      <td>260</td>\n",
       "      <td>13.684211</td>\n",
       "    </tr>\n",
       "    <tr>\n",
       "      <th>dihydrostreptomycin</th>\n",
       "      <td>19</td>\n",
       "      <td>260</td>\n",
       "      <td>13.684211</td>\n",
       "    </tr>\n",
       "    <tr>\n",
       "      <th>nonsubconsciousness</th>\n",
       "      <td>19</td>\n",
       "      <td>260</td>\n",
       "      <td>13.684211</td>\n",
       "    </tr>\n",
       "    <tr>\n",
       "      <th>scleroconjunctivitis</th>\n",
       "      <td>20</td>\n",
       "      <td>260</td>\n",
       "      <td>13.000000</td>\n",
       "    </tr>\n",
       "    <tr>\n",
       "      <th>thermophosphorescent</th>\n",
       "      <td>20</td>\n",
       "      <td>260</td>\n",
       "      <td>13.000000</td>\n",
       "    </tr>\n",
       "    <tr>\n",
       "      <th>hexosemonophosphoric</th>\n",
       "      <td>20</td>\n",
       "      <td>260</td>\n",
       "      <td>13.000000</td>\n",
       "    </tr>\n",
       "    <tr>\n",
       "      <th>photochromolithograph</th>\n",
       "      <td>21</td>\n",
       "      <td>260</td>\n",
       "      <td>12.380952</td>\n",
       "    </tr>\n",
       "    <tr>\n",
       "      <th>chromophotolithograph</th>\n",
       "      <td>21</td>\n",
       "      <td>260</td>\n",
       "      <td>12.380952</td>\n",
       "    </tr>\n",
       "    <tr>\n",
       "      <th>trichloronitromethane</th>\n",
       "      <td>21</td>\n",
       "      <td>260</td>\n",
       "      <td>12.380952</td>\n",
       "    </tr>\n",
       "    <tr>\n",
       "      <th>philosophicoreligious</th>\n",
       "      <td>21</td>\n",
       "      <td>260</td>\n",
       "      <td>12.380952</td>\n",
       "    </tr>\n",
       "    <tr>\n",
       "      <th>nitrotrichloromethane</th>\n",
       "      <td>21</td>\n",
       "      <td>260</td>\n",
       "      <td>12.380952</td>\n",
       "    </tr>\n",
       "    <tr>\n",
       "      <th>electrotelethermometer</th>\n",
       "      <td>22</td>\n",
       "      <td>260</td>\n",
       "      <td>11.818182</td>\n",
       "    </tr>\n",
       "    <tr>\n",
       "      <th>dacryocystoblennorrhea</th>\n",
       "      <td>22</td>\n",
       "      <td>260</td>\n",
       "      <td>11.818182</td>\n",
       "    </tr>\n",
       "  </tbody>\n",
       "</table>\n",
       "</div>"
      ],
      "text/plain": [
       "                        Char Count  Value      Ratio\n",
       "Word                                                \n",
       "nonsynonymously                 15    260  17.333333\n",
       "gastrohysteropexy               17    260  15.294118\n",
       "hydroxytryptamine               17    260  15.294118\n",
       "unvituperativeness              18    260  14.444444\n",
       "noninstructiveness              18    260  14.444444\n",
       "nonadventurousness              18    260  14.444444\n",
       "psychophysiologist              18    260  14.444444\n",
       "overobsequiousness              18    260  14.444444\n",
       "hyperobtrusiveness              18    260  14.444444\n",
       "hyperridiculousness             19    260  13.684211\n",
       "hypsiprymnodontinae             19    260  13.684211\n",
       "extraconstitutional             19    260  13.684211\n",
       "dihydrostreptomycin             19    260  13.684211\n",
       "nonsubconsciousness             19    260  13.684211\n",
       "scleroconjunctivitis            20    260  13.000000\n",
       "thermophosphorescent            20    260  13.000000\n",
       "hexosemonophosphoric            20    260  13.000000\n",
       "photochromolithograph           21    260  12.380952\n",
       "chromophotolithograph           21    260  12.380952\n",
       "trichloronitromethane           21    260  12.380952\n",
       "philosophicoreligious           21    260  12.380952\n",
       "nitrotrichloromethane           21    260  12.380952\n",
       "electrotelethermometer          22    260  11.818182\n",
       "dacryocystoblennorrhea          22    260  11.818182"
      ]
     },
     "execution_count": 49,
     "metadata": {},
     "output_type": "execute_result"
    }
   ],
   "source": [
    "df.query(\"Value == 260\").sort_values(by=\"Char Count\")"
   ]
  }
 ],
 "metadata": {
  "kernelspec": {
   "display_name": "Python 3 (ipykernel)",
   "language": "python",
   "name": "python3"
  },
  "language_info": {
   "codemirror_mode": {
    "name": "ipython",
    "version": 3
   },
   "file_extension": ".py",
   "mimetype": "text/x-python",
   "name": "python",
   "nbconvert_exporter": "python",
   "pygments_lexer": "ipython3",
   "version": "3.11.5"
  },
  "varInspector": {
   "cols": {
    "lenName": 16,
    "lenType": 16,
    "lenVar": 40
   },
   "kernels_config": {
    "python": {
     "delete_cmd_postfix": "",
     "delete_cmd_prefix": "del ",
     "library": "var_list.py",
     "varRefreshCmd": "print(var_dic_list())"
    },
    "r": {
     "delete_cmd_postfix": ") ",
     "delete_cmd_prefix": "rm(",
     "library": "var_list.r",
     "varRefreshCmd": "cat(var_dic_list()) "
    }
   },
   "types_to_exclude": [
    "module",
    "function",
    "builtin_function_or_method",
    "instance",
    "_Feature"
   ],
   "window_display": false
  }
 },
 "nbformat": 4,
 "nbformat_minor": 5
}
