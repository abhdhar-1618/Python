{
 "cells": [
  {
   "cell_type": "markdown",
   "id": "c7589630",
   "metadata": {},
   "source": [
    "[Assignment](#Assignment)\n",
    "\n",
    "[Data Exploration](#Data-Exploration)"
   ]
  },
  {
   "cell_type": "markdown",
   "id": "7c516764",
   "metadata": {},
   "source": [
    "# Assignment"
   ]
  },
  {
   "cell_type": "markdown",
   "id": "9e57ff31",
   "metadata": {},
   "source": [
    "The task is to predict the day price direction of Amazon.com, Inc. (AMZN).\n",
    "\n",
    "The stock market is very complex and highly volatile. In order to be profitable, we do not need to predict the correct price, but rather, the price direction: whether it will be higher or lower than the price that is today. If we predict it to be higher, we might as well buy some stocks, else, we should probably sell. Therefore, the target would be a binary classification whether the next day closing price will be higher than the opening price.\n",
    "\n",
    "We have data for the period from 1997 up to the year 2020 that we have split into training (1997-2016), validation (2016-2018) and testing (2018-2020) periods. The data is available in the AMZN_train.csv, AMZN_val.csv and AMZN_test.csv files, respectively."
   ]
  },
  {
   "cell_type": "markdown",
   "id": "b05487ad",
   "metadata": {},
   "source": [
    "# Data Exploration"
   ]
  },
  {
   "cell_type": "markdown",
   "id": "c1354642",
   "metadata": {},
   "source": [
    "In our initial exploration, we will load the data sets and see what data attributes are available to us. We will also plot the variables, to see if we can find some trends in the data, and explore the possibility of engineering some additional features. We will do the data loading and analysis in pandas, so let us load that library and begin exploring."
   ]
  },
  {
   "cell_type": "code",
   "execution_count": 4,
   "id": "8a1d1c57",
   "metadata": {},
   "outputs": [],
   "source": [
    "import pandas as pd"
   ]
  },
  {
   "cell_type": "code",
   "execution_count": 5,
   "id": "9255660a",
   "metadata": {},
   "outputs": [],
   "source": [
    "# load the training set\n",
    "df_train = pd.read_csv(r\"D:\\Main\\My Practice and experiments\\My Practice LAB\\Python\\2024\\Statquest\\Prediction of stock price direction\\datasets\\datasets\\AMZN_train.csv\")"
   ]
  },
  {
   "cell_type": "code",
   "execution_count": 6,
   "id": "d7e9d000",
   "metadata": {},
   "outputs": [
    {
     "data": {
      "text/plain": [
       "(4781, 7)"
      ]
     },
     "execution_count": 6,
     "metadata": {},
     "output_type": "execute_result"
    }
   ],
   "source": [
    "# (#rows, #columns)\n",
    "df_train.shape"
   ]
  },
  {
   "cell_type": "markdown",
   "id": "ecc33070",
   "metadata": {},
   "source": [
    "Pandas' info() method is really useful to get a quick peek at the column names, types, non-null counts, as well as the data set's memory size! We have mostly numerical columns (5 floats, 1 int) and an object column - the date. No null values at all, and just 261 KB in size."
   ]
  },
  {
   "cell_type": "code",
   "execution_count": 7,
   "id": "c3841a28",
   "metadata": {},
   "outputs": [
    {
     "name": "stdout",
     "output_type": "stream",
     "text": [
      "<class 'pandas.core.frame.DataFrame'>\n",
      "RangeIndex: 4781 entries, 0 to 4780\n",
      "Data columns (total 7 columns):\n",
      " #   Column     Non-Null Count  Dtype  \n",
      "---  ------     --------------  -----  \n",
      " 0   Date       4781 non-null   object \n",
      " 1   Open       4781 non-null   float64\n",
      " 2   High       4781 non-null   float64\n",
      " 3   Low        4781 non-null   float64\n",
      " 4   Close      4781 non-null   float64\n",
      " 5   Adj Close  4781 non-null   float64\n",
      " 6   Volume     4781 non-null   int64  \n",
      "dtypes: float64(5), int64(1), object(1)\n",
      "memory usage: 261.6+ KB\n"
     ]
    }
   ],
   "source": [
    "df_train.info()"
   ]
  },
  {
   "cell_type": "markdown",
   "id": "d70c7e7e",
   "metadata": {},
   "source": [
    "The training data set consists of 4781 rows and 7 columns. These are presented above. In the cell below, we use the describe() method to get a quick overview of our data set."
   ]
  },
  {
   "cell_type": "code",
   "execution_count": 8,
   "id": "42018ae8",
   "metadata": {},
   "outputs": [
    {
     "data": {
      "text/html": [
       "<div>\n",
       "<style scoped>\n",
       "    .dataframe tbody tr th:only-of-type {\n",
       "        vertical-align: middle;\n",
       "    }\n",
       "\n",
       "    .dataframe tbody tr th {\n",
       "        vertical-align: top;\n",
       "    }\n",
       "\n",
       "    .dataframe thead th {\n",
       "        text-align: right;\n",
       "    }\n",
       "</style>\n",
       "<table border=\"1\" class=\"dataframe\">\n",
       "  <thead>\n",
       "    <tr style=\"text-align: right;\">\n",
       "      <th></th>\n",
       "      <th>Open</th>\n",
       "      <th>High</th>\n",
       "      <th>Low</th>\n",
       "      <th>Close</th>\n",
       "      <th>Adj Close</th>\n",
       "      <th>Volume</th>\n",
       "    </tr>\n",
       "  </thead>\n",
       "  <tbody>\n",
       "    <tr>\n",
       "      <th>count</th>\n",
       "      <td>4781.000000</td>\n",
       "      <td>4781.000000</td>\n",
       "      <td>4781.000000</td>\n",
       "      <td>4781.000000</td>\n",
       "      <td>4781.000000</td>\n",
       "      <td>4.781000e+03</td>\n",
       "    </tr>\n",
       "    <tr>\n",
       "      <th>mean</th>\n",
       "      <td>127.619845</td>\n",
       "      <td>129.480122</td>\n",
       "      <td>125.697925</td>\n",
       "      <td>127.662449</td>\n",
       "      <td>127.662449</td>\n",
       "      <td>8.225935e+06</td>\n",
       "    </tr>\n",
       "    <tr>\n",
       "      <th>std</th>\n",
       "      <td>145.693083</td>\n",
       "      <td>147.132537</td>\n",
       "      <td>144.053633</td>\n",
       "      <td>145.677581</td>\n",
       "      <td>145.677581</td>\n",
       "      <td>7.810188e+06</td>\n",
       "    </tr>\n",
       "    <tr>\n",
       "      <th>min</th>\n",
       "      <td>1.406250</td>\n",
       "      <td>1.447917</td>\n",
       "      <td>1.312500</td>\n",
       "      <td>1.395833</td>\n",
       "      <td>1.395833</td>\n",
       "      <td>4.872000e+05</td>\n",
       "    </tr>\n",
       "    <tr>\n",
       "      <th>25%</th>\n",
       "      <td>34.299999</td>\n",
       "      <td>34.849998</td>\n",
       "      <td>33.660000</td>\n",
       "      <td>34.310001</td>\n",
       "      <td>34.310001</td>\n",
       "      <td>4.200900e+06</td>\n",
       "    </tr>\n",
       "    <tr>\n",
       "      <th>50%</th>\n",
       "      <td>62.880001</td>\n",
       "      <td>64.750000</td>\n",
       "      <td>60.937500</td>\n",
       "      <td>62.750000</td>\n",
       "      <td>62.750000</td>\n",
       "      <td>6.200100e+06</td>\n",
       "    </tr>\n",
       "    <tr>\n",
       "      <th>75%</th>\n",
       "      <td>189.009995</td>\n",
       "      <td>191.600006</td>\n",
       "      <td>186.210007</td>\n",
       "      <td>189.029999</td>\n",
       "      <td>189.029999</td>\n",
       "      <td>9.239900e+06</td>\n",
       "    </tr>\n",
       "    <tr>\n",
       "      <th>max</th>\n",
       "      <td>717.380005</td>\n",
       "      <td>722.450012</td>\n",
       "      <td>711.510010</td>\n",
       "      <td>717.929993</td>\n",
       "      <td>717.929993</td>\n",
       "      <td>1.043292e+08</td>\n",
       "    </tr>\n",
       "  </tbody>\n",
       "</table>\n",
       "</div>"
      ],
      "text/plain": [
       "              Open         High          Low        Close    Adj Close  \\\n",
       "count  4781.000000  4781.000000  4781.000000  4781.000000  4781.000000   \n",
       "mean    127.619845   129.480122   125.697925   127.662449   127.662449   \n",
       "std     145.693083   147.132537   144.053633   145.677581   145.677581   \n",
       "min       1.406250     1.447917     1.312500     1.395833     1.395833   \n",
       "25%      34.299999    34.849998    33.660000    34.310001    34.310001   \n",
       "50%      62.880001    64.750000    60.937500    62.750000    62.750000   \n",
       "75%     189.009995   191.600006   186.210007   189.029999   189.029999   \n",
       "max     717.380005   722.450012   711.510010   717.929993   717.929993   \n",
       "\n",
       "             Volume  \n",
       "count  4.781000e+03  \n",
       "mean   8.225935e+06  \n",
       "std    7.810188e+06  \n",
       "min    4.872000e+05  \n",
       "25%    4.200900e+06  \n",
       "50%    6.200100e+06  \n",
       "75%    9.239900e+06  \n",
       "max    1.043292e+08  "
      ]
     },
     "execution_count": 8,
     "metadata": {},
     "output_type": "execute_result"
    }
   ],
   "source": [
    "df_train.describe()"
   ]
  }
 ],
 "metadata": {
  "kernelspec": {
   "display_name": "Python 3 (ipykernel)",
   "language": "python",
   "name": "python3"
  },
  "language_info": {
   "codemirror_mode": {
    "name": "ipython",
    "version": 3
   },
   "file_extension": ".py",
   "mimetype": "text/x-python",
   "name": "python",
   "nbconvert_exporter": "python",
   "pygments_lexer": "ipython3",
   "version": "3.11.5"
  },
  "varInspector": {
   "cols": {
    "lenName": 16,
    "lenType": 16,
    "lenVar": 40
   },
   "kernels_config": {
    "python": {
     "delete_cmd_postfix": "",
     "delete_cmd_prefix": "del ",
     "library": "var_list.py",
     "varRefreshCmd": "print(var_dic_list())"
    },
    "r": {
     "delete_cmd_postfix": ") ",
     "delete_cmd_prefix": "rm(",
     "library": "var_list.r",
     "varRefreshCmd": "cat(var_dic_list()) "
    }
   },
   "types_to_exclude": [
    "module",
    "function",
    "builtin_function_or_method",
    "instance",
    "_Feature"
   ],
   "window_display": false
  }
 },
 "nbformat": 4,
 "nbformat_minor": 5
}
