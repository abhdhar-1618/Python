{
 "cells": [
  {
   "cell_type": "markdown",
   "id": "3b2ed289",
   "metadata": {},
   "source": [
    "## Problem 1: Friday Purchases"
   ]
  },
  {
   "cell_type": "code",
   "execution_count": 1,
   "id": "6a03689e",
   "metadata": {},
   "outputs": [],
   "source": [
    "import pandas as pd"
   ]
  },
  {
   "cell_type": "code",
   "execution_count": 2,
   "id": "cf6942d6",
   "metadata": {},
   "outputs": [],
   "source": [
    "user_purchases = pd.read_csv(r\"D:\\Main\\My Practice and experiments\\My Practice LAB\\Python\\2024\\Statquest\\Q1\\Friday_Purchases.csv\", index_col=False)"
   ]
  },
  {
   "cell_type": "code",
   "execution_count": 3,
   "id": "f49cc72e",
   "metadata": {},
   "outputs": [],
   "source": [
    "# Converting the \"date\" column to a datetime object\n",
    "user_purchases['date'] = pd.to_datetime(user_purchases['date'])"
   ]
  },
  {
   "cell_type": "code",
   "execution_count": 4,
   "id": "27ac2c1e",
   "metadata": {},
   "outputs": [],
   "source": [
    "# Filtering purchases made on Fridays and within the first quarter of the year\n",
    "friday_purchases = user_purchases[(user_purchases['day_name'] == 'Friday') & (user_purchases['date'].dt.quarter == 1)]"
   ]
  },
  {
   "cell_type": "code",
   "execution_count": 6,
   "id": "0b75c031",
   "metadata": {},
   "outputs": [],
   "source": [
    "# SKIP BLOCK\n",
    "# # Extracting the mean purchase amount for each friday and the corresponding weeek number\n",
    "friday_mean_purchases = friday_purchases.groupby(friday_purchases['date'].dt.week)['amount_spent'].mean().reset_index()\n",
    "friday_mean_purchases.columns = ['week_number', 'mean_amount']"
   ]
  },
  {
   "cell_type": "code",
   "execution_count": 9,
   "id": "e5f96405",
   "metadata": {},
   "outputs": [],
   "source": [
    "# Extracting the mean purchase amount for each Friday and the corresponding week number\n",
    "friday_mean_purchases = friday_purchases.groupby(friday_purchases['date'].dt.isocalendar().week)['amount_spent'].mean().reset_index()\n",
    "friday_mean_purchases.columns = ['week_number', 'mean_amount']"
   ]
  },
  {
   "cell_type": "code",
   "execution_count": 11,
   "id": "97f0914f",
   "metadata": {},
   "outputs": [],
   "source": [
    "# Creating a dataframe with all weeks in the first range\n",
    "all_weeks = pd.DataFrame({'week_number' : range(1, 14)})"
   ]
  },
  {
   "cell_type": "code",
   "execution_count": 13,
   "id": "991bc75f",
   "metadata": {},
   "outputs": [],
   "source": [
    "# Merging with the calculated mean amounts, filling missing weeks with 0\n",
    "\n",
    "friday_mean_purchases_updated = all_weeks.merge(friday_mean_purchases, on='week_number', how='left').fillna(0)"
   ]
  },
  {
   "cell_type": "code",
   "execution_count": 14,
   "id": "0aa996cc",
   "metadata": {},
   "outputs": [
    {
     "name": "stdout",
     "output_type": "stream",
     "text": [
      "    week_number  mean_amount\n",
      "0             1          0.0\n",
      "1             2        742.5\n",
      "2             3          0.0\n",
      "3             4        424.0\n",
      "4             5        590.0\n",
      "5             6          0.0\n",
      "6             7          0.0\n",
      "7             8        554.0\n",
      "8             9          0.0\n",
      "9            10          0.0\n",
      "10           11        650.0\n",
      "11           12          0.0\n",
      "12           13          0.0\n"
     ]
    }
   ],
   "source": [
    "print(friday_mean_purchases_updated)"
   ]
  }
 ],
 "metadata": {
  "kernelspec": {
   "display_name": "Python 3 (ipykernel)",
   "language": "python",
   "name": "python3"
  },
  "language_info": {
   "codemirror_mode": {
    "name": "ipython",
    "version": 3
   },
   "file_extension": ".py",
   "mimetype": "text/x-python",
   "name": "python",
   "nbconvert_exporter": "python",
   "pygments_lexer": "ipython3",
   "version": "3.11.5"
  },
  "varInspector": {
   "cols": {
    "lenName": 16,
    "lenType": 16,
    "lenVar": 40
   },
   "kernels_config": {
    "python": {
     "delete_cmd_postfix": "",
     "delete_cmd_prefix": "del ",
     "library": "var_list.py",
     "varRefreshCmd": "print(var_dic_list())"
    },
    "r": {
     "delete_cmd_postfix": ") ",
     "delete_cmd_prefix": "rm(",
     "library": "var_list.r",
     "varRefreshCmd": "cat(var_dic_list()) "
    }
   },
   "types_to_exclude": [
    "module",
    "function",
    "builtin_function_or_method",
    "instance",
    "_Feature"
   ],
   "window_display": false
  }
 },
 "nbformat": 4,
 "nbformat_minor": 5
}
