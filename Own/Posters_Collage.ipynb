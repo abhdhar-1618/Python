{
 "cells": [
  {
   "cell_type": "code",
   "execution_count": 6,
   "id": "faec5a10",
   "metadata": {},
   "outputs": [
    {
     "name": "stdout",
     "output_type": "stream",
     "text": [
      "Collage saved to D:\\Main\\My Practice and experiments\\My Practice LAB\\Python\\2023\\Movie recommendation project\\Collage_OUT\\collage.jpg\n"
     ]
    }
   ],
   "source": [
    "from PIL import Image\n",
    "import os\n",
    "\n",
    "def create_collage(image_folder, output_path, collage_size=(600, 600), margin=10):\n",
    "    # Create a blank canvas for the collage\n",
    "    collage = Image.new('RGB', collage_size, (255, 255, 255))\n",
    "\n",
    "    # Get a list of image files in the specified folder\n",
    "    image_files = [f for f in os.listdir(image_folder) if f.lower().endswith(('png', 'jpg', 'jpeg', 'gif', 'bmp'))]\n",
    "\n",
    "    # Calculate the size of each cell in the collage\n",
    "    cell_width = (collage_size[0] - (len(image_files) + 1) * margin) // len(image_files)\n",
    "    cell_height = collage_size[1] - 2 * margin\n",
    "\n",
    "    # Paste each image onto the collage\n",
    "    current_x = margin\n",
    "    for image_file in image_files:\n",
    "        image_path = os.path.join(image_folder, image_file)\n",
    "        img = Image.open(image_path)\n",
    "        img.thumbnail((cell_width, cell_height))\n",
    "        collage.paste(img, (current_x, margin))\n",
    "        current_x += cell_width + margin\n",
    "\n",
    "    # Save the collage\n",
    "    collage.save(output_path)\n",
    "    print(f\"Collage saved to {output_path}\")\n",
    "\n",
    "if __name__ == \"__main__\":\n",
    "    # Specify the folder containing images and the output path for the collage\n",
    "    image_folder = r\"D:\\Main\\My Practice and experiments\\My Practice LAB\\Python\\2023\\Movie recommendation project\\Collage_IN\"\n",
    "    output_path = r\"D:\\Main\\My Practice and experiments\\My Practice LAB\\Python\\2023\\Movie recommendation project\\Collage_OUT\\collage.jpg\"\n",
    "\n",
    "    # Call the function to create the collage\n",
    "    create_collage(image_folder, output_path)\n"
   ]
  },
  {
   "cell_type": "code",
   "execution_count": 15,
   "id": "af111573",
   "metadata": {},
   "outputs": [
    {
     "name": "stdout",
     "output_type": "stream",
     "text": [
      "Collage saved to D:\\Main\\My Practice and experiments\\My Practice LAB\\Python\\2023\\Movie recommendation project\\Collage_OUT\\collage.jpg\n"
     ]
    }
   ],
   "source": [
    "from PIL import Image\n",
    "import os\n",
    "\n",
    "def create_collage(image_folder, output_path, collage_size=(800, 800), margin=5):\n",
    "    # Create a blank canvas for the collage\n",
    "    collage = Image.new('RGB', collage_size, (255, 255, 255))\n",
    "\n",
    "    # Get a list of image files in the specified folder\n",
    "    image_files = [f for f in os.listdir(image_folder) if f.lower().endswith(('png', 'jpg', 'jpeg', 'gif', 'bmp'))]\n",
    "\n",
    "    # Calculate the size of each cell in the collage\n",
    "    cell_width = (collage_size[0] - (len(image_files) + 1) * margin) // len(image_files)\n",
    "    cell_height = collage_size[1] - 2 * margin\n",
    "\n",
    "    # Calculate the number of rows needed\n",
    "    num_rows = len(image_files) // (collage_size[0] // cell_width)\n",
    "    if len(image_files) % (collage_size[0] // cell_width) != 0:\n",
    "        num_rows += 1\n",
    "\n",
    "    # Paste each image onto the collage\n",
    "    current_x = margin\n",
    "    current_y = margin\n",
    "    for image_file in image_files:\n",
    "        image_path = os.path.join(image_folder, image_file)\n",
    "        img = Image.open(image_path)\n",
    "        img.thumbnail((cell_width, cell_height))\n",
    "        collage.paste(img, (current_x, current_y))\n",
    "        current_x += cell_width + margin\n",
    "\n",
    "        # Move to the next row if necessary\n",
    "        if current_x + cell_width + margin > collage_size[0]:\n",
    "            current_x = margin\n",
    "            current_y += cell_height + margin\n",
    "\n",
    "    # Save the collage\n",
    "    collage.save(output_path)\n",
    "    print(f\"Collage saved to {output_path}\")\n",
    "\n",
    "if __name__ == \"__main__\":\n",
    "    # Specify the folder containing images and the output path for the collage\n",
    "    image_folder = r\"D:\\Main\\My Practice and experiments\\My Practice LAB\\Python\\2023\\Movie recommendation project\\Collage_IN\"\n",
    "    output_path = r\"D:\\Main\\My Practice and experiments\\My Practice LAB\\Python\\2023\\Movie recommendation project\\Collage_OUT\\collage.jpg\"\n",
    "\n",
    "    # Call the function to create the collage\n",
    "    create_collage(image_folder, output_path)"
   ]
  },
  {
   "cell_type": "code",
   "execution_count": null,
   "id": "d1f28e17",
   "metadata": {},
   "outputs": [],
   "source": []
  },
  {
   "cell_type": "code",
   "execution_count": 25,
   "id": "b2aaa5d4",
   "metadata": {},
   "outputs": [
    {
     "name": "stdout",
     "output_type": "stream",
     "text": [
      "Collage saved to D:\\Main\\My Practice and experiments\\My Practice LAB\\Python\\2023\\Movie recommendation project\\Collage_OUT\\collage.jpg\n"
     ]
    }
   ],
   "source": [
    "from PIL import Image\n",
    "import os\n",
    "\n",
    "def create_collage(image_folder, output_path, collage_size=(800, 800), margin=3, rows=6, columns=4):\n",
    "    # Create a blank canvas for the collage\n",
    "    collage = Image.new('RGB', collage_size, (255, 255, 255))\n",
    "\n",
    "    # Get a list of image files in the specified folder\n",
    "    image_files = [f for f in os.listdir(image_folder) if f.lower().endswith(('png', 'jpg', 'jpeg', 'gif', 'bmp'))]\n",
    "\n",
    "    # Calculate the size of each cell in the collage\n",
    "    cell_width = (collage_size[0] - (columns + 1) * margin) // columns\n",
    "    cell_height = (collage_size[1] - (rows + 1) * margin) // rows\n",
    "\n",
    "    # Paste each image onto the collage\n",
    "    current_x = margin\n",
    "    current_y = margin\n",
    "    for image_file in image_files:\n",
    "        image_path = os.path.join(image_folder, image_file)\n",
    "        img = Image.open(image_path)\n",
    "        img.thumbnail((cell_width, cell_height))\n",
    "        collage.paste(img, (current_x, current_y))\n",
    "        current_x += cell_width + margin\n",
    "\n",
    "        # Move to the next row and reset column if necessary\n",
    "        if current_x + cell_width + margin > collage_size[0]:\n",
    "            current_x = margin\n",
    "            current_y += cell_height + margin\n",
    "\n",
    "            # Break the loop if reached the specified number of rows\n",
    "            if current_y + cell_height + margin > collage_size[1]:\n",
    "                break\n",
    "\n",
    "    # Save the collage\n",
    "    collage.save(output_path)\n",
    "    print(f\"Collage saved to {output_path}\")\n",
    "\n",
    "if __name__ == \"__main__\":\n",
    "    # Specify the folder containing images and the output path for the collage\n",
    "    image_folder = r\"D:\\Main\\My Practice and experiments\\My Practice LAB\\Python\\2023\\Movie recommendation project\\Collage_IN\"\n",
    "    output_path = r\"D:\\Main\\My Practice and experiments\\My Practice LAB\\Python\\2023\\Movie recommendation project\\Collage_OUT\\collage.jpg\"\n",
    "\n",
    "    # Call the function to create the collage with a 6x4 grid\n",
    "    create_collage(image_folder, output_path, rows=6, columns=4)"
   ]
  },
  {
   "cell_type": "code",
   "execution_count": null,
   "id": "cdbede51",
   "metadata": {},
   "outputs": [],
   "source": []
  },
  {
   "cell_type": "code",
   "execution_count": 26,
   "id": "fc13e3ad",
   "metadata": {},
   "outputs": [
    {
     "name": "stdout",
     "output_type": "stream",
     "text": [
      "Collage saved to D:\\Main\\My Practice and experiments\\My Practice LAB\\Python\\2023\\Movie recommendation project\\Collage_OUT\\collage.jpg\n"
     ]
    }
   ],
   "source": [
    "from PIL import Image\n",
    "import os\n",
    "\n",
    "def create_collage(image_folder, output_path, collage_size=(800, 800), margin=5, rows=6, columns=4):\n",
    "    # Create a blank canvas for the collage\n",
    "    collage = Image.new('RGB', collage_size, (255, 255, 255))\n",
    "\n",
    "    # Get a list of image files in the specified folder\n",
    "    image_files = [f for f in os.listdir(image_folder) if f.lower().endswith(('png', 'jpg', 'jpeg', 'gif', 'bmp'))]\n",
    "\n",
    "    # Calculate the size of each cell in the collage\n",
    "    cell_width = (collage_size[0] - (columns + 1) * margin) // columns\n",
    "    cell_height = (collage_size[1] - (rows + 1) * margin) // rows\n",
    "\n",
    "    # Paste each image onto the collage\n",
    "    current_x = margin\n",
    "    current_y = margin\n",
    "    for image_file in image_files:\n",
    "        image_path = os.path.join(image_folder, image_file)\n",
    "        img = Image.open(image_path)\n",
    "        img.thumbnail((cell_width, cell_height))\n",
    "        collage.paste(img, (current_x, current_y))\n",
    "        current_x += cell_width + margin\n",
    "\n",
    "        # Move to the next row and reset column if necessary\n",
    "        if current_x + cell_width + margin > collage_size[0]:\n",
    "            current_x = margin\n",
    "            current_y += cell_height + margin\n",
    "\n",
    "            # Break the loop if reached the specified number of rows\n",
    "            if current_y + cell_height + margin > collage_size[1]:\n",
    "                break\n",
    "\n",
    "    # Trim the whitespace around the collage\n",
    "    collage = collage.crop((0, 0, collage_size[0], current_y))\n",
    "\n",
    "    # Save the collage\n",
    "    collage.save(output_path)\n",
    "    print(f\"Collage saved to {output_path}\")\n",
    "\n",
    "if __name__ == \"__main__\":\n",
    "    # Specify the folder containing images and the output path for the collage\n",
    "    image_folder = r\"D:\\Main\\My Practice and experiments\\My Practice LAB\\Python\\2023\\Movie recommendation project\\Collage_IN\"\n",
    "    output_path = r\"D:\\Main\\My Practice and experiments\\My Practice LAB\\Python\\2023\\Movie recommendation project\\Collage_OUT\\collage.jpg\"\n",
    "\n",
    "    # Call the function to create the collage with a 6x4 grid\n",
    "    create_collage(image_folder, output_path, rows=6, columns=4)"
   ]
  },
  {
   "cell_type": "code",
   "execution_count": null,
   "id": "5c6ff0ca",
   "metadata": {},
   "outputs": [],
   "source": []
  }
 ],
 "metadata": {
  "kernelspec": {
   "display_name": "Python 3 (ipykernel)",
   "language": "python",
   "name": "python3"
  },
  "language_info": {
   "codemirror_mode": {
    "name": "ipython",
    "version": 3
   },
   "file_extension": ".py",
   "mimetype": "text/x-python",
   "name": "python",
   "nbconvert_exporter": "python",
   "pygments_lexer": "ipython3",
   "version": "3.11.5"
  },
  "varInspector": {
   "cols": {
    "lenName": 16,
    "lenType": 16,
    "lenVar": 40
   },
   "kernels_config": {
    "python": {
     "delete_cmd_postfix": "",
     "delete_cmd_prefix": "del ",
     "library": "var_list.py",
     "varRefreshCmd": "print(var_dic_list())"
    },
    "r": {
     "delete_cmd_postfix": ") ",
     "delete_cmd_prefix": "rm(",
     "library": "var_list.r",
     "varRefreshCmd": "cat(var_dic_list()) "
    }
   },
   "types_to_exclude": [
    "module",
    "function",
    "builtin_function_or_method",
    "instance",
    "_Feature"
   ],
   "window_display": false
  }
 },
 "nbformat": 4,
 "nbformat_minor": 5
}
