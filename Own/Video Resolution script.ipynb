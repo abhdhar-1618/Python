{
 "cells": [
  {
   "cell_type": "code",
   "execution_count": 1,
   "id": "1a243ff0",
   "metadata": {},
   "outputs": [],
   "source": [
    "import os\n",
    "from moviepy.editor import VideoFileClip\n",
    "\n",
    "def get_video_resolution(file_path):\n",
    "    try:\n",
    "        video_clip = VideoFileClip(file_path)\n",
    "        resolution = video_clip.size\n",
    "        return resolution\n",
    "    except Exception as e:\n",
    "        print(f\"Error processing {file_path}: {e}\")\n",
    "        return None\n",
    "\n",
    "def process_videos_in_directory(directory_path):\n",
    "    video_extensions = [\".mkv\", \".mp4\"]\n",
    "\n",
    "    for filename in os.listdir(directory_path):\n",
    "        if filename.endswith(tuple(video_extensions)):\n",
    "            file_path = os.path.join(directory_path, filename)\n",
    "            resolution = get_video_resolution(file_path)\n",
    "\n",
    "            if resolution:\n",
    "                print(f\"{filename}: {resolution[0]} x {resolution[1]} pixels\")\n",
    "\n",
    "if __name__ == \"__main__\":\n",
    "    video_directory = r\"path/to/your/video/directory\"\n",
    "\n",
    "    process_videos_in_directory(video_directory)"
   ]
  },
  {
   "cell_type": "code",
   "execution_count": null,
   "id": "aa1b33a9",
   "metadata": {},
   "outputs": [],
   "source": []
  },
  {
   "cell_type": "code",
   "execution_count": 2,
   "id": "6beb6906",
   "metadata": {},
   "outputs": [],
   "source": [
    "import os\n",
    "from moviepy.editor import VideoFileClip\n",
    "\n",
    "def get_video_resolution(file_path):\n",
    "    try:\n",
    "        video_clip = VideoFileClip(file_path)\n",
    "        resolution = video_clip.size\n",
    "        return resolution\n",
    "    except Exception as e:\n",
    "        print(f\"Error processing {file_path}: {e}\")\n",
    "        return None\n",
    "\n",
    "def process_videos_in_directory(directory_path):\n",
    "    video_extensions = [\".mkv\", \".mp4\"]\n",
    "\n",
    "    for root, dirs, files in os.walk(directory_path):\n",
    "        for filename in files:\n",
    "            if filename.endswith(tuple(video_extensions)):\n",
    "                file_path = os.path.join(root, filename)\n",
    "                resolution = get_video_resolution(file_path)\n",
    "\n",
    "                if resolution:\n",
    "                    print(f\"{filename}: {resolution[0]} x {resolution[1]} pixels\") # \"filename\" can be replaced with \"file_path\"\n",
    "\n",
    "if __name__ == \"__main__\":\n",
    "    video_directory = r\"path/to/your/video/directory\"\n",
    "\n",
    "    process_videos_in_directory(video_directory)"
   ]
  },
  {
   "cell_type": "code",
   "execution_count": null,
   "id": "ea672f8b",
   "metadata": {},
   "outputs": [],
   "source": []
  },
  {
   "cell_type": "code",
   "execution_count": 3,
   "id": "936d4216",
   "metadata": {},
   "outputs": [],
   "source": [
    "import os\n",
    "import pandas as pd\n",
    "from moviepy.editor import VideoFileClip\n",
    "\n",
    "def get_video_resolution(file_path):\n",
    "    try:\n",
    "        video_clip = VideoFileClip(file_path)\n",
    "        resolution = video_clip.size\n",
    "        return resolution\n",
    "    except Exception as e:\n",
    "        print(f\"Error processing {file_path}: {e}\")\n",
    "        return None\n",
    "\n",
    "def process_videos_in_directory(directory_path):\n",
    "    video_extensions = [\".mkv\", \".mp4\", \".avi\", \".flv\"]\n",
    "    video_info_list = []\n",
    "\n",
    "    for root, dirs, files in os.walk(directory_path):\n",
    "        for filename in files:\n",
    "            if filename.endswith(tuple(video_extensions)):\n",
    "                file_path = os.path.join(root, filename)\n",
    "                resolution = get_video_resolution(file_path)\n",
    "\n",
    "                if resolution:\n",
    "                    video_info_list.append({\n",
    "                        'File': filename,\n",
    "                        'Resolution': f'{resolution[0]} x {resolution[1]} pixels'\n",
    "                    })\n",
    "\n",
    "    return video_info_list\n",
    "\n",
    "if __name__ == \"__main__\":\n",
    "    video_directory = r\"path/to/your/video/directory\"\n",
    "\n",
    "    video_info_list = process_videos_in_directory(video_directory)\n",
    "\n",
    "    # Create a DataFrame from the list of video information\n",
    "    df = pd.DataFrame(video_info_list)\n",
    "\n",
    "    # Export the DataFrame to a CSV file\n",
    "    csv_filename = \"video_info.csv\"\n",
    "    df.to_csv(csv_filename, index=False)\n",
    "\n",
    "    print(f\"Video information exported to {csv_filename}\")\n"
   ]
  },
  {
   "cell_type": "code",
   "execution_count": null,
   "id": "1edd2220",
   "metadata": {},
   "outputs": [],
   "source": []
  }
 ],
 "metadata": {
  "kernelspec": {
   "display_name": "Python 3 (ipykernel)",
   "language": "python",
   "name": "python3"
  },
  "language_info": {
   "codemirror_mode": {
    "name": "ipython",
    "version": 3
   },
   "file_extension": ".py",
   "mimetype": "text/x-python",
   "name": "python",
   "nbconvert_exporter": "python",
   "pygments_lexer": "ipython3",
   "version": "3.11.5"
  },
  "varInspector": {
   "cols": {
    "lenName": 16,
    "lenType": 16,
    "lenVar": 40
   },
   "kernels_config": {
    "python": {
     "delete_cmd_postfix": "",
     "delete_cmd_prefix": "del ",
     "library": "var_list.py",
     "varRefreshCmd": "print(var_dic_list())"
    },
    "r": {
     "delete_cmd_postfix": ") ",
     "delete_cmd_prefix": "rm(",
     "library": "var_list.r",
     "varRefreshCmd": "cat(var_dic_list()) "
    }
   },
   "types_to_exclude": [
    "module",
    "function",
    "builtin_function_or_method",
    "instance",
    "_Feature"
   ],
   "window_display": false
  }
 },
 "nbformat": 4,
 "nbformat_minor": 5
}
