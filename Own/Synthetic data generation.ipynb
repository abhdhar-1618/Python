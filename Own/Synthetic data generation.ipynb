{
 "cells": [
  {
   "cell_type": "markdown",
   "id": "49602aa5",
   "metadata": {},
   "source": [
    "### Using sklearn direct make_something"
   ]
  },
  {
   "cell_type": "code",
   "execution_count": 1,
   "id": "f5b8ffac",
   "metadata": {},
   "outputs": [],
   "source": [
    "# Data for classification\n",
    "\n",
    "from sklearn.datasets import make_classification, make_regression\n",
    "\n",
    "X, y = make_classification(\n",
    "    n_samples=50, n_features=10, n_informative=5, n_classes=3, n_clusters_per_class=3\n",
    ")"
   ]
  },
  {
   "cell_type": "code",
   "execution_count": 2,
   "id": "92fa46d6",
   "metadata": {},
   "outputs": [
    {
     "data": {
      "text/html": [
       "<div>\n",
       "<style scoped>\n",
       "    .dataframe tbody tr th:only-of-type {\n",
       "        vertical-align: middle;\n",
       "    }\n",
       "\n",
       "    .dataframe tbody tr th {\n",
       "        vertical-align: top;\n",
       "    }\n",
       "\n",
       "    .dataframe thead th {\n",
       "        text-align: right;\n",
       "    }\n",
       "</style>\n",
       "<table border=\"1\" class=\"dataframe\">\n",
       "  <thead>\n",
       "    <tr style=\"text-align: right;\">\n",
       "      <th></th>\n",
       "      <th>0</th>\n",
       "      <th>1</th>\n",
       "      <th>2</th>\n",
       "      <th>3</th>\n",
       "      <th>4</th>\n",
       "      <th>5</th>\n",
       "      <th>6</th>\n",
       "      <th>7</th>\n",
       "      <th>8</th>\n",
       "      <th>9</th>\n",
       "      <th>target</th>\n",
       "    </tr>\n",
       "  </thead>\n",
       "  <tbody>\n",
       "    <tr>\n",
       "      <th>0</th>\n",
       "      <td>-0.105640</td>\n",
       "      <td>0.281613</td>\n",
       "      <td>-1.500124</td>\n",
       "      <td>0.399060</td>\n",
       "      <td>0.222908</td>\n",
       "      <td>0.439376</td>\n",
       "      <td>-0.435668</td>\n",
       "      <td>1.430934</td>\n",
       "      <td>0.045818</td>\n",
       "      <td>-0.324751</td>\n",
       "      <td>0</td>\n",
       "    </tr>\n",
       "    <tr>\n",
       "      <th>1</th>\n",
       "      <td>-1.068631</td>\n",
       "      <td>-0.622127</td>\n",
       "      <td>0.167088</td>\n",
       "      <td>0.391596</td>\n",
       "      <td>-2.124604</td>\n",
       "      <td>-0.685608</td>\n",
       "      <td>2.406430</td>\n",
       "      <td>2.101690</td>\n",
       "      <td>-3.334844</td>\n",
       "      <td>2.554067</td>\n",
       "      <td>1</td>\n",
       "    </tr>\n",
       "    <tr>\n",
       "      <th>2</th>\n",
       "      <td>1.575563</td>\n",
       "      <td>0.740799</td>\n",
       "      <td>4.223044</td>\n",
       "      <td>1.334846</td>\n",
       "      <td>-0.778769</td>\n",
       "      <td>0.164594</td>\n",
       "      <td>2.537987</td>\n",
       "      <td>-1.042108</td>\n",
       "      <td>0.828611</td>\n",
       "      <td>2.723499</td>\n",
       "      <td>1</td>\n",
       "    </tr>\n",
       "    <tr>\n",
       "      <th>3</th>\n",
       "      <td>2.446455</td>\n",
       "      <td>-0.877882</td>\n",
       "      <td>1.528620</td>\n",
       "      <td>0.496384</td>\n",
       "      <td>1.285336</td>\n",
       "      <td>0.485218</td>\n",
       "      <td>-1.158127</td>\n",
       "      <td>0.223586</td>\n",
       "      <td>-0.664405</td>\n",
       "      <td>2.606281</td>\n",
       "      <td>2</td>\n",
       "    </tr>\n",
       "    <tr>\n",
       "      <th>4</th>\n",
       "      <td>1.541059</td>\n",
       "      <td>-0.776754</td>\n",
       "      <td>1.345016</td>\n",
       "      <td>0.368401</td>\n",
       "      <td>-0.020954</td>\n",
       "      <td>0.362664</td>\n",
       "      <td>2.653781</td>\n",
       "      <td>0.940597</td>\n",
       "      <td>0.769044</td>\n",
       "      <td>0.939075</td>\n",
       "      <td>1</td>\n",
       "    </tr>\n",
       "  </tbody>\n",
       "</table>\n",
       "</div>"
      ],
      "text/plain": [
       "          0         1         2         3         4         5         6  \\\n",
       "0 -0.105640  0.281613 -1.500124  0.399060  0.222908  0.439376 -0.435668   \n",
       "1 -1.068631 -0.622127  0.167088  0.391596 -2.124604 -0.685608  2.406430   \n",
       "2  1.575563  0.740799  4.223044  1.334846 -0.778769  0.164594  2.537987   \n",
       "3  2.446455 -0.877882  1.528620  0.496384  1.285336  0.485218 -1.158127   \n",
       "4  1.541059 -0.776754  1.345016  0.368401 -0.020954  0.362664  2.653781   \n",
       "\n",
       "          7         8         9  target  \n",
       "0  1.430934  0.045818 -0.324751       0  \n",
       "1  2.101690 -3.334844  2.554067       1  \n",
       "2 -1.042108  0.828611  2.723499       1  \n",
       "3  0.223586 -0.664405  2.606281       2  \n",
       "4  0.940597  0.769044  0.939075       1  "
      ]
     },
     "execution_count": 2,
     "metadata": {},
     "output_type": "execute_result"
    }
   ],
   "source": [
    "import pandas as pd\n",
    "X_df = pd.DataFrame(X)\n",
    "y_df = pd.DataFrame(y)\n",
    "X_df[\"target\"] = y_df\n",
    "X_df.head()"
   ]
  },
  {
   "cell_type": "markdown",
   "id": "c3691106",
   "metadata": {},
   "source": [
    "check sklear documentation for more information. [link](https://scikit-learn.org/stable/modules/classes.html#module-sklearn.datasets)"
   ]
  },
  {
   "cell_type": "markdown",
   "id": "b5de50e3",
   "metadata": {},
   "source": [
    "### Using Faker module"
   ]
  },
  {
   "cell_type": "code",
   "execution_count": 3,
   "id": "c58536d7",
   "metadata": {},
   "outputs": [],
   "source": [
    "from faker import Faker\n",
    "fake = Faker()"
   ]
  },
  {
   "cell_type": "code",
   "execution_count": 6,
   "id": "56d6fa32",
   "metadata": {},
   "outputs": [
    {
     "data": {
      "text/plain": [
       "'Emily Robles'"
      ]
     },
     "execution_count": 6,
     "metadata": {},
     "output_type": "execute_result"
    }
   ],
   "source": [
    "fake.name()"
   ]
  },
  {
   "cell_type": "code",
   "execution_count": 8,
   "id": "a736bb1b",
   "metadata": {},
   "outputs": [
    {
     "data": {
      "text/html": [
       "<div>\n",
       "<style scoped>\n",
       "    .dataframe tbody tr th:only-of-type {\n",
       "        vertical-align: middle;\n",
       "    }\n",
       "\n",
       "    .dataframe tbody tr th {\n",
       "        vertical-align: top;\n",
       "    }\n",
       "\n",
       "    .dataframe thead th {\n",
       "        text-align: right;\n",
       "    }\n",
       "</style>\n",
       "<table border=\"1\" class=\"dataframe\">\n",
       "  <thead>\n",
       "    <tr style=\"text-align: right;\">\n",
       "      <th></th>\n",
       "      <th>name</th>\n",
       "      <th>address</th>\n",
       "      <th>birthday</th>\n",
       "      <th>email</th>\n",
       "    </tr>\n",
       "  </thead>\n",
       "  <tbody>\n",
       "    <tr>\n",
       "      <th>0</th>\n",
       "      <td>Derek Collins</td>\n",
       "      <td>1008 Phillips Lock\\nWest Michele, FM 85542</td>\n",
       "      <td>1959-02-05</td>\n",
       "      <td>enichols@example.org</td>\n",
       "    </tr>\n",
       "    <tr>\n",
       "      <th>1</th>\n",
       "      <td>Jose Chavez</td>\n",
       "      <td>76572 Larson Square\\nShelbyhaven, HI 23824</td>\n",
       "      <td>2003-11-07</td>\n",
       "      <td>james22@example.com</td>\n",
       "    </tr>\n",
       "    <tr>\n",
       "      <th>2</th>\n",
       "      <td>Charles Sanchez</td>\n",
       "      <td>58187 Jennifer Pike\\nJosephborough, MT 30254</td>\n",
       "      <td>1978-11-02</td>\n",
       "      <td>victoriapowell@example.com</td>\n",
       "    </tr>\n",
       "    <tr>\n",
       "      <th>3</th>\n",
       "      <td>Jonathan Mendez</td>\n",
       "      <td>7285 Dudley Circle Suite 211\\nNorth Cassandrav...</td>\n",
       "      <td>1958-03-30</td>\n",
       "      <td>newmanjason@example.org</td>\n",
       "    </tr>\n",
       "    <tr>\n",
       "      <th>4</th>\n",
       "      <td>Heather Thomas</td>\n",
       "      <td>9767 Kenneth Rapids Apt. 241\\nNew Daniel, SD 1...</td>\n",
       "      <td>1978-02-04</td>\n",
       "      <td>craig76@example.net</td>\n",
       "    </tr>\n",
       "  </tbody>\n",
       "</table>\n",
       "</div>"
      ],
      "text/plain": [
       "              name                                            address  \\\n",
       "0    Derek Collins         1008 Phillips Lock\\nWest Michele, FM 85542   \n",
       "1      Jose Chavez         76572 Larson Square\\nShelbyhaven, HI 23824   \n",
       "2  Charles Sanchez       58187 Jennifer Pike\\nJosephborough, MT 30254   \n",
       "3  Jonathan Mendez  7285 Dudley Circle Suite 211\\nNorth Cassandrav...   \n",
       "4   Heather Thomas  9767 Kenneth Rapids Apt. 241\\nNew Daniel, SD 1...   \n",
       "\n",
       "     birthday                       email  \n",
       "0  1959-02-05        enichols@example.org  \n",
       "1  2003-11-07         james22@example.com  \n",
       "2  1978-11-02  victoriapowell@example.com  \n",
       "3  1958-03-30     newmanjason@example.org  \n",
       "4  1978-02-04         craig76@example.net  "
      ]
     },
     "execution_count": 8,
     "metadata": {},
     "output_type": "execute_result"
    }
   ],
   "source": [
    "df = pd.DataFrame(\n",
    "    [\n",
    "        {\n",
    "            \"name\": fake.name(),\n",
    "            \"address\": fake.address(),\n",
    "            \"birthday\": fake.date_of_birth(),\n",
    "            \"email\": fake.email(),\n",
    "            \n",
    "        }\n",
    "        for _ in range(100)\n",
    "    ]\n",
    ")\n",
    "\n",
    "df.head()"
   ]
  },
  {
   "cell_type": "markdown",
   "id": "75ff88a3",
   "metadata": {},
   "source": [
    "check Faker documentation for more information. [LINK](https://faker.readthedocs.io/en/master/)"
   ]
  },
  {
   "cell_type": "markdown",
   "id": "8ea4b6a2",
   "metadata": {},
   "source": [
    "### Using pyOD library"
   ]
  },
  {
   "cell_type": "code",
   "execution_count": 24,
   "id": "998f2f20",
   "metadata": {},
   "outputs": [
    {
     "name": "stderr",
     "output_type": "stream",
     "text": [
      "C:\\Users\\Abhik\\anaconda3\\Lib\\site-packages\\seaborn\\_oldcore.py:1498: FutureWarning: is_categorical_dtype is deprecated and will be removed in a future version. Use isinstance(dtype, CategoricalDtype) instead\n",
      "  if pd.api.types.is_categorical_dtype(vector):\n",
      "C:\\Users\\Abhik\\anaconda3\\Lib\\site-packages\\seaborn\\_oldcore.py:1498: FutureWarning: is_categorical_dtype is deprecated and will be removed in a future version. Use isinstance(dtype, CategoricalDtype) instead\n",
      "  if pd.api.types.is_categorical_dtype(vector):\n",
      "C:\\Users\\Abhik\\anaconda3\\Lib\\site-packages\\seaborn\\_oldcore.py:1498: FutureWarning: is_categorical_dtype is deprecated and will be removed in a future version. Use isinstance(dtype, CategoricalDtype) instead\n",
      "  if pd.api.types.is_categorical_dtype(vector):\n",
      "C:\\Users\\Abhik\\anaconda3\\Lib\\site-packages\\seaborn\\_oldcore.py:1498: FutureWarning: is_categorical_dtype is deprecated and will be removed in a future version. Use isinstance(dtype, CategoricalDtype) instead\n",
      "  if pd.api.types.is_categorical_dtype(vector):\n",
      "C:\\Users\\Abhik\\anaconda3\\Lib\\site-packages\\seaborn\\_oldcore.py:1498: FutureWarning: is_categorical_dtype is deprecated and will be removed in a future version. Use isinstance(dtype, CategoricalDtype) instead\n",
      "  if pd.api.types.is_categorical_dtype(vector):\n"
     ]
    },
    {
     "data": {
      "text/plain": [
       "<Axes: xlabel='0', ylabel='1'>"
      ]
     },
     "execution_count": 24,
     "metadata": {},
     "output_type": "execute_result"
    },
    {
     "data": {
      "image/png": "[encoded data removed]",
      "text/plain": [
       "<Figure size 640x480 with 1 Axes>"
      ]
     },
     "metadata": {},
     "output_type": "display_data"
    }
   ],
   "source": [
    "from pyod.utils.data import generate_data\n",
    "import seaborn as sns\n",
    "import matplotlib.pyplot as plt\n",
    "\n",
    "X, y = generate_data(\n",
    "    n_train=40, contamination=0.1, n_features=2, train_only=True, random_state=1\n",
    ")\n",
    "X_df = pd.DataFrame(X)\n",
    "X_df[\"is_anomaly\"] = pd.DataFrame(y)\n",
    "\n",
    "#Plotting in below code\n",
    "\n",
    "sns.scatterplot(data=X_df, x=0, y=1, hue=\"is_anomaly\")"
   ]
  },
  {
   "cell_type": "markdown",
   "id": "97d5e14b",
   "metadata": {},
   "source": [
    "check PyOD documentation for more information. [LINK](https://pyod.readthedocs.io/en/latest/)"
   ]
  },
  {
   "cell_type": "markdown",
   "id": "a15dc49a",
   "metadata": {},
   "source": [
    "### Using CTGAN library"
   ]
  },
  {
   "cell_type": "code",
   "execution_count": 26,
   "id": "c88330c2",
   "metadata": {},
   "outputs": [
    {
     "ename": "ValueError",
     "evalue": "Invalid columns found: {'Embarked', 'Sex', 'Name'}",
     "output_type": "error",
     "traceback": [
      "\u001b[1;31m---------------------------------------------------------------------------\u001b[0m",
      "\u001b[1;31mValueError\u001b[0m                                Traceback (most recent call last)",
      "Cell \u001b[1;32mIn[26], line 12\u001b[0m\n\u001b[0;32m      5\u001b[0m discrete_columns \u001b[38;5;241m=\u001b[39m [\n\u001b[0;32m      6\u001b[0m     \u001b[38;5;124m'\u001b[39m\u001b[38;5;124mName\u001b[39m\u001b[38;5;124m'\u001b[39m,\n\u001b[0;32m      7\u001b[0m     \u001b[38;5;124m'\u001b[39m\u001b[38;5;124mSex\u001b[39m\u001b[38;5;124m'\u001b[39m,\n\u001b[0;32m      8\u001b[0m     \u001b[38;5;124m'\u001b[39m\u001b[38;5;124mEmbarked\u001b[39m\u001b[38;5;124m'\u001b[39m\n\u001b[0;32m      9\u001b[0m ]\n\u001b[0;32m     11\u001b[0m ctgan \u001b[38;5;241m=\u001b[39m CTGAN(epochs\u001b[38;5;241m=\u001b[39m\u001b[38;5;241m10\u001b[39m)\n\u001b[1;32m---> 12\u001b[0m ctgan\u001b[38;5;241m.\u001b[39mfit(tested, discrete_columns)\n\u001b[0;32m     14\u001b[0m \u001b[38;5;66;03m# Creating Synthetic data\u001b[39;00m\n\u001b[0;32m     16\u001b[0m synthetic_data \u001b[38;5;241m=\u001b[39m ctgan\u001b[38;5;241m.\u001b[39msample(\u001b[38;5;241m5000\u001b[39m)\n",
      "File \u001b[1;32m~\\anaconda3\\Lib\\site-packages\\ctgan\\synthesizers\\base.py:50\u001b[0m, in \u001b[0;36mrandom_state.<locals>.wrapper\u001b[1;34m(self, *args, **kwargs)\u001b[0m\n\u001b[0;32m     48\u001b[0m \u001b[38;5;28;01mdef\u001b[39;00m \u001b[38;5;21mwrapper\u001b[39m(\u001b[38;5;28mself\u001b[39m, \u001b[38;5;241m*\u001b[39margs, \u001b[38;5;241m*\u001b[39m\u001b[38;5;241m*\u001b[39mkwargs):\n\u001b[0;32m     49\u001b[0m     \u001b[38;5;28;01mif\u001b[39;00m \u001b[38;5;28mself\u001b[39m\u001b[38;5;241m.\u001b[39mrandom_states \u001b[38;5;129;01mis\u001b[39;00m \u001b[38;5;28;01mNone\u001b[39;00m:\n\u001b[1;32m---> 50\u001b[0m         \u001b[38;5;28;01mreturn\u001b[39;00m function(\u001b[38;5;28mself\u001b[39m, \u001b[38;5;241m*\u001b[39margs, \u001b[38;5;241m*\u001b[39m\u001b[38;5;241m*\u001b[39mkwargs)\n\u001b[0;32m     52\u001b[0m     \u001b[38;5;28;01melse\u001b[39;00m:\n\u001b[0;32m     53\u001b[0m         \u001b[38;5;28;01mwith\u001b[39;00m set_random_states(\u001b[38;5;28mself\u001b[39m\u001b[38;5;241m.\u001b[39mrandom_states, \u001b[38;5;28mself\u001b[39m\u001b[38;5;241m.\u001b[39mset_random_state):\n",
      "File \u001b[1;32m~\\anaconda3\\Lib\\site-packages\\ctgan\\synthesizers\\ctgan.py:293\u001b[0m, in \u001b[0;36mCTGAN.fit\u001b[1;34m(self, train_data, discrete_columns, epochs)\u001b[0m\n\u001b[0;32m    280\u001b[0m \u001b[38;5;129m@random_state\u001b[39m\n\u001b[0;32m    281\u001b[0m \u001b[38;5;28;01mdef\u001b[39;00m \u001b[38;5;21mfit\u001b[39m(\u001b[38;5;28mself\u001b[39m, train_data, discrete_columns\u001b[38;5;241m=\u001b[39m(), epochs\u001b[38;5;241m=\u001b[39m\u001b[38;5;28;01mNone\u001b[39;00m):\n\u001b[0;32m    282\u001b[0m \u001b[38;5;250m    \u001b[39m\u001b[38;5;124;03m\"\"\"Fit the CTGAN Synthesizer models to the training data.\u001b[39;00m\n\u001b[0;32m    283\u001b[0m \n\u001b[0;32m    284\u001b[0m \u001b[38;5;124;03m    Args:\u001b[39;00m\n\u001b[1;32m   (...)\u001b[0m\n\u001b[0;32m    291\u001b[0m \u001b[38;5;124;03m            a ``pandas.DataFrame``, this list should contain the column names.\u001b[39;00m\n\u001b[0;32m    292\u001b[0m \u001b[38;5;124;03m    \"\"\"\u001b[39;00m\n\u001b[1;32m--> 293\u001b[0m     \u001b[38;5;28mself\u001b[39m\u001b[38;5;241m.\u001b[39m_validate_discrete_columns(train_data, discrete_columns)\n\u001b[0;32m    295\u001b[0m     \u001b[38;5;28;01mif\u001b[39;00m epochs \u001b[38;5;129;01mis\u001b[39;00m \u001b[38;5;28;01mNone\u001b[39;00m:\n\u001b[0;32m    296\u001b[0m         epochs \u001b[38;5;241m=\u001b[39m \u001b[38;5;28mself\u001b[39m\u001b[38;5;241m.\u001b[39m_epochs\n",
      "File \u001b[1;32m~\\anaconda3\\Lib\\site-packages\\ctgan\\synthesizers\\ctgan.py:278\u001b[0m, in \u001b[0;36mCTGAN._validate_discrete_columns\u001b[1;34m(self, train_data, discrete_columns)\u001b[0m\n\u001b[0;32m    275\u001b[0m     \u001b[38;5;28;01mraise\u001b[39;00m \u001b[38;5;167;01mTypeError\u001b[39;00m(\u001b[38;5;124m'\u001b[39m\u001b[38;5;124m``train_data`` should be either pd.DataFrame or np.array.\u001b[39m\u001b[38;5;124m'\u001b[39m)\n\u001b[0;32m    277\u001b[0m \u001b[38;5;28;01mif\u001b[39;00m invalid_columns:\n\u001b[1;32m--> 278\u001b[0m     \u001b[38;5;28;01mraise\u001b[39;00m \u001b[38;5;167;01mValueError\u001b[39;00m(\u001b[38;5;124mf\u001b[39m\u001b[38;5;124m'\u001b[39m\u001b[38;5;124mInvalid columns found: \u001b[39m\u001b[38;5;132;01m{\u001b[39;00minvalid_columns\u001b[38;5;132;01m}\u001b[39;00m\u001b[38;5;124m'\u001b[39m)\n",
      "\u001b[1;31mValueError\u001b[0m: Invalid columns found: {'Embarked', 'Sex', 'Name'}"
     ]
    }
   ],
   "source": [
    "from ctgan import CTGAN\n",
    "from ctgan import load_demo\n",
    "tested = load_demo()\n",
    "\n",
    "discrete_columns = [\n",
    "    'Name',\n",
    "    'Sex',\n",
    "    'Embarked'\n",
    "]\n",
    "\n",
    "ctgan = CTGAN(epochs=10)\n",
    "ctgan.fit(tested, discrete_columns)\n",
    "\n",
    "# Creating Synthetic data\n",
    "\n",
    "synthetic_data = ctgan.sample(5000)"
   ]
  }
 ],
 "metadata": {
  "kernelspec": {
   "display_name": "Python 3 (ipykernel)",
   "language": "python",
   "name": "python3"
  },
  "language_info": {
   "codemirror_mode": {
    "name": "ipython",
    "version": 3
   },
   "file_extension": ".py",
   "mimetype": "text/x-python",
   "name": "python",
   "nbconvert_exporter": "python",
   "pygments_lexer": "ipython3",
   "version": "3.11.5"
  },
  "varInspector": {
   "cols": {
    "lenName": 16,
    "lenType": 16,
    "lenVar": 40
   },
   "kernels_config": {
    "python": {
     "delete_cmd_postfix": "",
     "delete_cmd_prefix": "del ",
     "library": "var_list.py",
     "varRefreshCmd": "print(var_dic_list())"
    },
    "r": {
     "delete_cmd_postfix": ") ",
     "delete_cmd_prefix": "rm(",
     "library": "var_list.r",
     "varRefreshCmd": "cat(var_dic_list()) "
    }
   },
   "types_to_exclude": [
    "module",
    "function",
    "builtin_function_or_method",
    "instance",
    "_Feature"
   ],
   "window_display": false
  }
 },
 "nbformat": 4,
 "nbformat_minor": 5
}
