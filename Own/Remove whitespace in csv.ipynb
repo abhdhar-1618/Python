{
 "cells": [
  {
   "cell_type": "code",
   "execution_count": 12,
   "id": "2e8018c1",
   "metadata": {},
   "outputs": [
    {
     "name": "stderr",
     "output_type": "stream",
     "text": [
      "C:\\Users\\Abhik\\AppData\\Local\\Temp\\ipykernel_14592\\3013541946.py:14: FutureWarning: DataFrame.applymap has been deprecated. Use DataFrame.map instead.\n",
      "  df = df.applymap(lambda x: x.strip() if isinstance(x, str) else x)\n"
     ]
    }
   ],
   "source": [
    "import pandas as pd\n",
    "\n",
    "def remove_whitespace_from_csv(input_file):\n",
    "    # Try different encodings to read the CSV file\n",
    "    for encoding in ['utf-8', 'latin1', 'iso-8859-1', 'utf-16']:\n",
    "        try:\n",
    "            # Read the CSV file into a DataFrame\n",
    "            df = pd.read_csv(input_file, encoding=encoding)\n",
    "            break  # Stop trying encodings if successful\n",
    "        except UnicodeDecodeError:\n",
    "            continue  # Try the next encoding\n",
    "    \n",
    "    # Apply strip() function to each cell to remove leading and trailing whitespaces\n",
    "    df = df.applymap(lambda x: x.strip() if isinstance(x, str) else x)\n",
    "    \n",
    "    # Determine the output file path\n",
    "    output_file = input_file.rsplit('.', 1)[0] + '_Processed.csv'\n",
    "    \n",
    "    # Save the cleaned DataFrame to a new CSV file\n",
    "    df.to_csv(output_file, index=False)\n",
    "\n",
    "# Example usage:\n",
    "input_file = (r'D:\\Main\\My Practice and experiments\\My Practice LAB\\SQL\\W3 Schools Database\\Categories.csv')  # Specify the path to your uploaded CSV file\n",
    "\n",
    "remove_whitespace_from_csv(input_file)"
   ]
  },
  {
   "cell_type": "code",
   "execution_count": null,
   "id": "06ea0768",
   "metadata": {},
   "outputs": [],
   "source": []
  }
 ],
 "metadata": {
  "kernelspec": {
   "display_name": "Python 3 (ipykernel)",
   "language": "python",
   "name": "python3"
  },
  "language_info": {
   "codemirror_mode": {
    "name": "ipython",
    "version": 3
   },
   "file_extension": ".py",
   "mimetype": "text/x-python",
   "name": "python",
   "nbconvert_exporter": "python",
   "pygments_lexer": "ipython3",
   "version": "3.11.5"
  },
  "varInspector": {
   "cols": {
    "lenName": 16,
    "lenType": 16,
    "lenVar": 40
   },
   "kernels_config": {
    "python": {
     "delete_cmd_postfix": "",
     "delete_cmd_prefix": "del ",
     "library": "var_list.py",
     "varRefreshCmd": "print(var_dic_list())"
    },
    "r": {
     "delete_cmd_postfix": ") ",
     "delete_cmd_prefix": "rm(",
     "library": "var_list.r",
     "varRefreshCmd": "cat(var_dic_list()) "
    }
   },
   "types_to_exclude": [
    "module",
    "function",
    "builtin_function_or_method",
    "instance",
    "_Feature"
   ],
   "window_display": false
  }
 },
 "nbformat": 4,
 "nbformat_minor": 5
}
