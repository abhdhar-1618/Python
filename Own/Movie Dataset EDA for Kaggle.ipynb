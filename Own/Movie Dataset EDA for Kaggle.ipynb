{
 "cells": [
  {
   "cell_type": "code",
   "execution_count": 1,
   "id": "58fe760e",
   "metadata": {},
   "outputs": [],
   "source": [
    "import pandas as pd\n",
    "import numpy as np\n",
    "import matplotlib.pyplot as plt\n",
    "import seaborn as sns"
   ]
  },
  {
   "cell_type": "code",
   "execution_count": 3,
   "id": "254fb27f",
   "metadata": {},
   "outputs": [],
   "source": [
    "data = pd.read_csv(r\"D:\\Main\\My Practice and experiments\\My Practice LAB\\Data_Hub\\Kaggle\\Movie_Database.csv\", encoding='latin-1')"
   ]
  },
  {
   "cell_type": "code",
   "execution_count": 4,
   "id": "700897ea",
   "metadata": {},
   "outputs": [
    {
     "data": {
      "text/html": [
       "<div>\n",
       "<style scoped>\n",
       "    .dataframe tbody tr th:only-of-type {\n",
       "        vertical-align: middle;\n",
       "    }\n",
       "\n",
       "    .dataframe tbody tr th {\n",
       "        vertical-align: top;\n",
       "    }\n",
       "\n",
       "    .dataframe thead th {\n",
       "        text-align: right;\n",
       "    }\n",
       "</style>\n",
       "<table border=\"1\" class=\"dataframe\">\n",
       "  <thead>\n",
       "    <tr style=\"text-align: right;\">\n",
       "      <th></th>\n",
       "      <th>Movie</th>\n",
       "      <th>Year</th>\n",
       "      <th>Genres</th>\n",
       "      <th>Certification/Rating</th>\n",
       "      <th>IMDb ID</th>\n",
       "      <th>Writer</th>\n",
       "      <th>Director</th>\n",
       "    </tr>\n",
       "  </thead>\n",
       "  <tbody>\n",
       "    <tr>\n",
       "      <th>0</th>\n",
       "      <td>300</td>\n",
       "      <td>2006</td>\n",
       "      <td>Action, Drama</td>\n",
       "      <td>R</td>\n",
       "      <td>tt0416449</td>\n",
       "      <td>Zack Snyder</td>\n",
       "      <td>Zack Snyder</td>\n",
       "    </tr>\n",
       "    <tr>\n",
       "      <th>1</th>\n",
       "      <td>1408</td>\n",
       "      <td>2007</td>\n",
       "      <td>Fantasy, Horror, Mystery</td>\n",
       "      <td>PG-13</td>\n",
       "      <td>tt0450385</td>\n",
       "      <td>Matt Greenberg</td>\n",
       "      <td>Mikael Håfström</td>\n",
       "    </tr>\n",
       "    <tr>\n",
       "      <th>2</th>\n",
       "      <td>2012</td>\n",
       "      <td>2009</td>\n",
       "      <td>Action, Adventure, Sci-Fi</td>\n",
       "      <td>PG-13</td>\n",
       "      <td>tt1190080</td>\n",
       "      <td>Roland Emmerich</td>\n",
       "      <td>Roland Emmerich</td>\n",
       "    </tr>\n",
       "    <tr>\n",
       "      <th>3</th>\n",
       "      <td>12 Angry Men</td>\n",
       "      <td>1957</td>\n",
       "      <td>Crime, Drama</td>\n",
       "      <td>Approved</td>\n",
       "      <td>tt0050083</td>\n",
       "      <td>Reginald Rose</td>\n",
       "      <td>Sidney Lumet</td>\n",
       "    </tr>\n",
       "    <tr>\n",
       "      <th>4</th>\n",
       "      <td>12 Strong</td>\n",
       "      <td>2018</td>\n",
       "      <td>Action, Drama, History</td>\n",
       "      <td>R</td>\n",
       "      <td>tt1413492</td>\n",
       "      <td>Ted Tally</td>\n",
       "      <td>Nicolai Fuglsig</td>\n",
       "    </tr>\n",
       "  </tbody>\n",
       "</table>\n",
       "</div>"
      ],
      "text/plain": [
       "          Movie  Year                     Genres Certification/Rating  \\\n",
       "0           300  2006              Action, Drama                    R   \n",
       "1          1408  2007   Fantasy, Horror, Mystery                PG-13   \n",
       "2          2012  2009  Action, Adventure, Sci-Fi                PG-13   \n",
       "3  12 Angry Men  1957               Crime, Drama             Approved   \n",
       "4     12 Strong  2018     Action, Drama, History                    R   \n",
       "\n",
       "     IMDb ID           Writer         Director  \n",
       "0  tt0416449      Zack Snyder      Zack Snyder  \n",
       "1  tt0450385   Matt Greenberg  Mikael Håfström  \n",
       "2  tt1190080  Roland Emmerich  Roland Emmerich  \n",
       "3  tt0050083    Reginald Rose     Sidney Lumet  \n",
       "4  tt1413492        Ted Tally  Nicolai Fuglsig  "
      ]
     },
     "execution_count": 4,
     "metadata": {},
     "output_type": "execute_result"
    }
   ],
   "source": [
    "data.head(5)"
   ]
  },
  {
   "cell_type": "code",
   "execution_count": 5,
   "id": "b5073962",
   "metadata": {},
   "outputs": [
    {
     "data": {
      "text/plain": [
       "Index(['Movie', 'Year', 'Genres', 'Certification/Rating', 'IMDb ID', 'Writer',\n",
       "       'Director'],\n",
       "      dtype='object')"
      ]
     },
     "execution_count": 5,
     "metadata": {},
     "output_type": "execute_result"
    }
   ],
   "source": [
    "data.columns"
   ]
  },
  {
   "cell_type": "code",
   "execution_count": 6,
   "id": "53a46a36",
   "metadata": {},
   "outputs": [
    {
     "data": {
      "text/plain": [
       "Movie                    0\n",
       "Year                     0\n",
       "Genres                   0\n",
       "Certification/Rating    24\n",
       "IMDb ID                  0\n",
       "Writer                   2\n",
       "Director                 2\n",
       "dtype: int64"
      ]
     },
     "execution_count": 6,
     "metadata": {},
     "output_type": "execute_result"
    }
   ],
   "source": [
    "data.isnull().sum()"
   ]
  },
  {
   "cell_type": "code",
   "execution_count": 7,
   "id": "87a055d2",
   "metadata": {},
   "outputs": [
    {
     "data": {
      "image/png": "[encoded data removed]",
      "text/plain": [
       "<Figure size 1000x600 with 1 Axes>"
      ]
     },
     "metadata": {},
     "output_type": "display_data"
    }
   ],
   "source": [
    "# Plotting the histogram\n",
    "plt.figure(figsize=(10, 6))\n",
    "plt.hist(data['Year'], bins=range(data['Year'].min(), data['Year'].max() + 1), edgecolor='black')\n",
    "plt.xlabel('Year')\n",
    "plt.ylabel('Count of Movies')\n",
    "plt.title('Number of Movies Released Each Year')\n",
    "plt.xticks(rotation=45)  # Rotate x-axis labels for better readability\n",
    "plt.tight_layout()  # Adjust layout to make room for x-axis labels\n",
    "\n",
    "# Show the plot\n",
    "plt.show()"
   ]
  }
 ],
 "metadata": {
  "kernelspec": {
   "display_name": "Python 3 (ipykernel)",
   "language": "python",
   "name": "python3"
  },
  "language_info": {
   "codemirror_mode": {
    "name": "ipython",
    "version": 3
   },
   "file_extension": ".py",
   "mimetype": "text/x-python",
   "name": "python",
   "nbconvert_exporter": "python",
   "pygments_lexer": "ipython3",
   "version": "3.11.5"
  },
  "varInspector": {
   "cols": {
    "lenName": 16,
    "lenType": 16,
    "lenVar": 40
   },
   "kernels_config": {
    "python": {
     "delete_cmd_postfix": "",
     "delete_cmd_prefix": "del ",
     "library": "var_list.py",
     "varRefreshCmd": "print(var_dic_list())"
    },
    "r": {
     "delete_cmd_postfix": ") ",
     "delete_cmd_prefix": "rm(",
     "library": "var_list.r",
     "varRefreshCmd": "cat(var_dic_list()) "
    }
   },
   "types_to_exclude": [
    "module",
    "function",
    "builtin_function_or_method",
    "instance",
    "_Feature"
   ],
   "window_display": false
  }
 },
 "nbformat": 4,
 "nbformat_minor": 5
}
