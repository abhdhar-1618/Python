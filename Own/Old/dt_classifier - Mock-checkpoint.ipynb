{
 "cells": [
  {
   "cell_type": "code",
   "execution_count": 1,
   "metadata": {},
   "outputs": [],
   "source": [
    "import pandas as pd"
   ]
  },
  {
   "cell_type": "code",
   "execution_count": 4,
   "metadata": {},
   "outputs": [
    {
     "data": {
      "text/html": [
       "<div><div id=2fa24ba3-95e0-4546-9862-35212cb71d18 style=\"display:none; background-color:#9D6CFF; color:white; width:200px; height:30px; padding-left:5px; border-radius:4px; flex-direction:row; justify-content:space-around; align-items:center;\" onmouseover=\"this.style.backgroundColor='#BA9BF8'\" onmouseout=\"this.style.backgroundColor='#9D6CFF'\" onclick=\"window.commands?.execute('create-mitosheet-from-dataframe-output');\">See Full Dataframe in Mito</div> <script> if (window.commands.hasCommand('create-mitosheet-from-dataframe-output')) document.getElementById('2fa24ba3-95e0-4546-9862-35212cb71d18').style.display = 'flex' </script> <table border=\"1\" class=\"dataframe\">\n",
       "  <thead>\n",
       "    <tr style=\"text-align: right;\">\n",
       "      <th></th>\n",
       "      <th>first_name</th>\n",
       "      <th>last_name</th>\n",
       "      <th>email</th>\n",
       "      <th>gender</th>\n",
       "      <th>ip_address</th>\n",
       "      <th>address</th>\n",
       "      <th>terminal_cluster</th>\n",
       "      <th>amount</th>\n",
       "      <th>fraud</th>\n",
       "    </tr>\n",
       "    <tr>\n",
       "      <th>id</th>\n",
       "      <th></th>\n",
       "      <th></th>\n",
       "      <th></th>\n",
       "      <th></th>\n",
       "      <th></th>\n",
       "      <th></th>\n",
       "      <th></th>\n",
       "      <th></th>\n",
       "      <th></th>\n",
       "    </tr>\n",
       "  </thead>\n",
       "  <tbody>\n",
       "    <tr>\n",
       "      <th>1</th>\n",
       "      <td>Dewain</td>\n",
       "      <td>Blodgett</td>\n",
       "      <td>dblodgett0@privacy.gov.au</td>\n",
       "      <td>Male</td>\n",
       "      <td>23.165.243.246</td>\n",
       "      <td>7 Hansons Park</td>\n",
       "      <td>NaN</td>\n",
       "      <td>82053.0</td>\n",
       "      <td>1</td>\n",
       "    </tr>\n",
       "    <tr>\n",
       "      <th>2</th>\n",
       "      <td>Zaccaria</td>\n",
       "      <td>Waeland</td>\n",
       "      <td>zwaeland1@shutterfly.com</td>\n",
       "      <td>Male</td>\n",
       "      <td>16.37.21.26</td>\n",
       "      <td>72 Graceland Street</td>\n",
       "      <td>1.0</td>\n",
       "      <td>24892.0</td>\n",
       "      <td>0</td>\n",
       "    </tr>\n",
       "    <tr>\n",
       "      <th>3</th>\n",
       "      <td>Dolli</td>\n",
       "      <td>Tordiffe</td>\n",
       "      <td>dtordiffe2@php.net</td>\n",
       "      <td>Female</td>\n",
       "      <td>198.198.31.110</td>\n",
       "      <td>6 Oxford Trail</td>\n",
       "      <td>5.0</td>\n",
       "      <td>23084.0</td>\n",
       "      <td>1</td>\n",
       "    </tr>\n",
       "    <tr>\n",
       "      <th>4</th>\n",
       "      <td>Cherie</td>\n",
       "      <td>Giffin</td>\n",
       "      <td>cgiffin3@php.net</td>\n",
       "      <td>Female</td>\n",
       "      <td>159.80.126.44</td>\n",
       "      <td>597 South Hill</td>\n",
       "      <td>18.0</td>\n",
       "      <td>NaN</td>\n",
       "      <td>1</td>\n",
       "    </tr>\n",
       "    <tr>\n",
       "      <th>5</th>\n",
       "      <td>Wyndham</td>\n",
       "      <td>Pavlik</td>\n",
       "      <td>wpavlik4@oracle.com</td>\n",
       "      <td>Male</td>\n",
       "      <td>113.147.120.86</td>\n",
       "      <td>214 Golf View Court</td>\n",
       "      <td>5.0</td>\n",
       "      <td>2930.0</td>\n",
       "      <td>0</td>\n",
       "    </tr>\n",
       "  </tbody>\n",
       "</table></div>"
      ],
      "text/plain": [
       "   first_name last_name                      email  gender      ip_address  \\\n",
       "id                                                                           \n",
       "1      Dewain  Blodgett  dblodgett0@privacy.gov.au    Male  23.165.243.246   \n",
       "2    Zaccaria   Waeland   zwaeland1@shutterfly.com    Male     16.37.21.26   \n",
       "3       Dolli  Tordiffe         dtordiffe2@php.net  Female  198.198.31.110   \n",
       "4      Cherie    Giffin           cgiffin3@php.net  Female   159.80.126.44   \n",
       "5     Wyndham    Pavlik        wpavlik4@oracle.com    Male  113.147.120.86   \n",
       "\n",
       "                address  terminal_cluster   amount  fraud  \n",
       "id                                                         \n",
       "1        7 Hansons Park               NaN  82053.0      1  \n",
       "2   72 Graceland Street               1.0  24892.0      0  \n",
       "3        6 Oxford Trail               5.0  23084.0      1  \n",
       "4        597 South Hill              18.0      NaN      1  \n",
       "5   214 Golf View Court               5.0   2930.0      0  "
      ]
     },
     "execution_count": 4,
     "metadata": {},
     "output_type": "execute_result"
    }
   ],
   "source": [
    "dat=pd.read_excel(\"MOCK_DATA.xlsx\",index_col='id')\n",
    "dat.head()"
   ]
  },
  {
   "cell_type": "code",
   "execution_count": 5,
   "metadata": {},
   "outputs": [
    {
     "data": {
      "text/plain": [
       "first_name           0\n",
       "last_name            0\n",
       "email                0\n",
       "gender               0\n",
       "ip_address           0\n",
       "address              0\n",
       "terminal_cluster    73\n",
       "amount              58\n",
       "fraud                0\n",
       "dtype: int64"
      ]
     },
     "execution_count": 5,
     "metadata": {},
     "output_type": "execute_result"
    }
   ],
   "source": [
    "dat.isnull().sum()"
   ]
  },
  {
   "cell_type": "code",
   "execution_count": 6,
   "metadata": {},
   "outputs": [
    {
     "ename": "KeyError",
     "evalue": "'years'",
     "output_type": "error",
     "traceback": [
      "\u001b[1;31m---------------------------------------------------------------------------\u001b[0m",
      "\u001b[1;31mKeyError\u001b[0m                                  Traceback (most recent call last)",
      "File \u001b[1;32m~\\AppData\\Local\\Packages\\PythonSoftwareFoundation.Python.3.10_qbz5n2kfra8p0\\LocalCache\\local-packages\\Python310\\site-packages\\pandas\\core\\indexes\\base.py:3621\u001b[0m, in \u001b[0;36mIndex.get_loc\u001b[1;34m(self, key, method, tolerance)\u001b[0m\n\u001b[0;32m   3620\u001b[0m \u001b[38;5;28;01mtry\u001b[39;00m:\n\u001b[1;32m-> 3621\u001b[0m     \u001b[38;5;28;01mreturn\u001b[39;00m \u001b[38;5;28;43mself\u001b[39;49m\u001b[38;5;241;43m.\u001b[39;49m\u001b[43m_engine\u001b[49m\u001b[38;5;241;43m.\u001b[39;49m\u001b[43mget_loc\u001b[49m\u001b[43m(\u001b[49m\u001b[43mcasted_key\u001b[49m\u001b[43m)\u001b[49m\n\u001b[0;32m   3622\u001b[0m \u001b[38;5;28;01mexcept\u001b[39;00m \u001b[38;5;167;01mKeyError\u001b[39;00m \u001b[38;5;28;01mas\u001b[39;00m err:\n",
      "File \u001b[1;32m~\\AppData\\Local\\Packages\\PythonSoftwareFoundation.Python.3.10_qbz5n2kfra8p0\\LocalCache\\local-packages\\Python310\\site-packages\\pandas\\_libs\\index.pyx:136\u001b[0m, in \u001b[0;36mpandas._libs.index.IndexEngine.get_loc\u001b[1;34m()\u001b[0m\n",
      "File \u001b[1;32m~\\AppData\\Local\\Packages\\PythonSoftwareFoundation.Python.3.10_qbz5n2kfra8p0\\LocalCache\\local-packages\\Python310\\site-packages\\pandas\\_libs\\index.pyx:163\u001b[0m, in \u001b[0;36mpandas._libs.index.IndexEngine.get_loc\u001b[1;34m()\u001b[0m\n",
      "File \u001b[1;32mpandas\\_libs\\hashtable_class_helper.pxi:5198\u001b[0m, in \u001b[0;36mpandas._libs.hashtable.PyObjectHashTable.get_item\u001b[1;34m()\u001b[0m\n",
      "File \u001b[1;32mpandas\\_libs\\hashtable_class_helper.pxi:5206\u001b[0m, in \u001b[0;36mpandas._libs.hashtable.PyObjectHashTable.get_item\u001b[1;34m()\u001b[0m\n",
      "\u001b[1;31mKeyError\u001b[0m: 'years'",
      "\nThe above exception was the direct cause of the following exception:\n",
      "\u001b[1;31mKeyError\u001b[0m                                  Traceback (most recent call last)",
      "Input \u001b[1;32mIn [6]\u001b[0m, in \u001b[0;36m<module>\u001b[1;34m\u001b[0m\n\u001b[1;32m----> 1\u001b[0m \u001b[43mdat\u001b[49m\u001b[43m[\u001b[49m\u001b[38;5;124;43m'\u001b[39;49m\u001b[38;5;124;43myears\u001b[39;49m\u001b[38;5;124;43m'\u001b[39;49m\u001b[43m]\u001b[49m\u001b[38;5;241m.\u001b[39mdescribe()\n",
      "File \u001b[1;32m~\\AppData\\Local\\Packages\\PythonSoftwareFoundation.Python.3.10_qbz5n2kfra8p0\\LocalCache\\local-packages\\Python310\\site-packages\\pandas\\core\\frame.py:3506\u001b[0m, in \u001b[0;36mDataFrame.__getitem__\u001b[1;34m(self, key)\u001b[0m\n\u001b[0;32m   3504\u001b[0m \u001b[38;5;28;01mif\u001b[39;00m \u001b[38;5;28mself\u001b[39m\u001b[38;5;241m.\u001b[39mcolumns\u001b[38;5;241m.\u001b[39mnlevels \u001b[38;5;241m>\u001b[39m \u001b[38;5;241m1\u001b[39m:\n\u001b[0;32m   3505\u001b[0m     \u001b[38;5;28;01mreturn\u001b[39;00m \u001b[38;5;28mself\u001b[39m\u001b[38;5;241m.\u001b[39m_getitem_multilevel(key)\n\u001b[1;32m-> 3506\u001b[0m indexer \u001b[38;5;241m=\u001b[39m \u001b[38;5;28;43mself\u001b[39;49m\u001b[38;5;241;43m.\u001b[39;49m\u001b[43mcolumns\u001b[49m\u001b[38;5;241;43m.\u001b[39;49m\u001b[43mget_loc\u001b[49m\u001b[43m(\u001b[49m\u001b[43mkey\u001b[49m\u001b[43m)\u001b[49m\n\u001b[0;32m   3507\u001b[0m \u001b[38;5;28;01mif\u001b[39;00m is_integer(indexer):\n\u001b[0;32m   3508\u001b[0m     indexer \u001b[38;5;241m=\u001b[39m [indexer]\n",
      "File \u001b[1;32m~\\AppData\\Local\\Packages\\PythonSoftwareFoundation.Python.3.10_qbz5n2kfra8p0\\LocalCache\\local-packages\\Python310\\site-packages\\pandas\\core\\indexes\\base.py:3623\u001b[0m, in \u001b[0;36mIndex.get_loc\u001b[1;34m(self, key, method, tolerance)\u001b[0m\n\u001b[0;32m   3621\u001b[0m     \u001b[38;5;28;01mreturn\u001b[39;00m \u001b[38;5;28mself\u001b[39m\u001b[38;5;241m.\u001b[39m_engine\u001b[38;5;241m.\u001b[39mget_loc(casted_key)\n\u001b[0;32m   3622\u001b[0m \u001b[38;5;28;01mexcept\u001b[39;00m \u001b[38;5;167;01mKeyError\u001b[39;00m \u001b[38;5;28;01mas\u001b[39;00m err:\n\u001b[1;32m-> 3623\u001b[0m     \u001b[38;5;28;01mraise\u001b[39;00m \u001b[38;5;167;01mKeyError\u001b[39;00m(key) \u001b[38;5;28;01mfrom\u001b[39;00m \u001b[38;5;21;01merr\u001b[39;00m\n\u001b[0;32m   3624\u001b[0m \u001b[38;5;28;01mexcept\u001b[39;00m \u001b[38;5;167;01mTypeError\u001b[39;00m:\n\u001b[0;32m   3625\u001b[0m     \u001b[38;5;66;03m# If we have a listlike key, _check_indexing_error will raise\u001b[39;00m\n\u001b[0;32m   3626\u001b[0m     \u001b[38;5;66;03m#  InvalidIndexError. Otherwise we fall through and re-raise\u001b[39;00m\n\u001b[0;32m   3627\u001b[0m     \u001b[38;5;66;03m#  the TypeError.\u001b[39;00m\n\u001b[0;32m   3628\u001b[0m     \u001b[38;5;28mself\u001b[39m\u001b[38;5;241m.\u001b[39m_check_indexing_error(key)\n",
      "\u001b[1;31mKeyError\u001b[0m: 'years'"
     ]
    }
   ],
   "source": [
    "dat['years'].describe()"
   ]
  },
  {
   "cell_type": "code",
   "execution_count": 37,
   "metadata": {},
   "outputs": [],
   "source": [
    "dat['years'].fillna(4,inplace=True)"
   ]
  },
  {
   "cell_type": "code",
   "execution_count": 38,
   "metadata": {},
   "outputs": [],
   "source": [
    "X=dat.drop(\"default\",axis=1)"
   ]
  },
  {
   "cell_type": "code",
   "execution_count": 39,
   "metadata": {},
   "outputs": [
    {
     "data": {
      "text/html": [
       "<div>\n",
       "<style scoped>\n",
       "    .dataframe tbody tr th:only-of-type {\n",
       "        vertical-align: middle;\n",
       "    }\n",
       "\n",
       "    .dataframe tbody tr th {\n",
       "        vertical-align: top;\n",
       "    }\n",
       "\n",
       "    .dataframe thead th {\n",
       "        text-align: right;\n",
       "    }\n",
       "</style>\n",
       "<table border=\"1\" class=\"dataframe\">\n",
       "  <thead>\n",
       "    <tr style=\"text-align: right;\">\n",
       "      <th></th>\n",
       "      <th>amount</th>\n",
       "      <th>grade</th>\n",
       "      <th>years</th>\n",
       "      <th>ownership</th>\n",
       "      <th>income</th>\n",
       "      <th>age</th>\n",
       "    </tr>\n",
       "  </thead>\n",
       "  <tbody>\n",
       "    <tr>\n",
       "      <th>0</th>\n",
       "      <td>1000</td>\n",
       "      <td>B</td>\n",
       "      <td>2.0</td>\n",
       "      <td>RENT</td>\n",
       "      <td>19200.0</td>\n",
       "      <td>24</td>\n",
       "    </tr>\n",
       "    <tr>\n",
       "      <th>1</th>\n",
       "      <td>6500</td>\n",
       "      <td>A</td>\n",
       "      <td>2.0</td>\n",
       "      <td>MORTGAGE</td>\n",
       "      <td>66000.0</td>\n",
       "      <td>28</td>\n",
       "    </tr>\n",
       "    <tr>\n",
       "      <th>2</th>\n",
       "      <td>2400</td>\n",
       "      <td>A</td>\n",
       "      <td>2.0</td>\n",
       "      <td>RENT</td>\n",
       "      <td>60000.0</td>\n",
       "      <td>36</td>\n",
       "    </tr>\n",
       "    <tr>\n",
       "      <th>3</th>\n",
       "      <td>10000</td>\n",
       "      <td>C</td>\n",
       "      <td>3.0</td>\n",
       "      <td>RENT</td>\n",
       "      <td>62000.0</td>\n",
       "      <td>24</td>\n",
       "    </tr>\n",
       "    <tr>\n",
       "      <th>4</th>\n",
       "      <td>4000</td>\n",
       "      <td>C</td>\n",
       "      <td>2.0</td>\n",
       "      <td>RENT</td>\n",
       "      <td>20000.0</td>\n",
       "      <td>28</td>\n",
       "    </tr>\n",
       "  </tbody>\n",
       "</table>\n",
       "</div>"
      ],
      "text/plain": [
       "   amount grade  years ownership   income  age\n",
       "0    1000     B    2.0      RENT  19200.0   24\n",
       "1    6500     A    2.0  MORTGAGE  66000.0   28\n",
       "2    2400     A    2.0      RENT  60000.0   36\n",
       "3   10000     C    3.0      RENT  62000.0   24\n",
       "4    4000     C    2.0      RENT  20000.0   28"
      ]
     },
     "execution_count": 39,
     "metadata": {},
     "output_type": "execute_result"
    }
   ],
   "source": [
    "X.head()"
   ]
  },
  {
   "cell_type": "code",
   "execution_count": 40,
   "metadata": {},
   "outputs": [],
   "source": [
    "X=pd.get_dummies(X, drop_first=True)"
   ]
  },
  {
   "cell_type": "code",
   "execution_count": 41,
   "metadata": {},
   "outputs": [
    {
     "data": {
      "text/html": [
       "<div>\n",
       "<style scoped>\n",
       "    .dataframe tbody tr th:only-of-type {\n",
       "        vertical-align: middle;\n",
       "    }\n",
       "\n",
       "    .dataframe tbody tr th {\n",
       "        vertical-align: top;\n",
       "    }\n",
       "\n",
       "    .dataframe thead th {\n",
       "        text-align: right;\n",
       "    }\n",
       "</style>\n",
       "<table border=\"1\" class=\"dataframe\">\n",
       "  <thead>\n",
       "    <tr style=\"text-align: right;\">\n",
       "      <th></th>\n",
       "      <th>amount</th>\n",
       "      <th>years</th>\n",
       "      <th>income</th>\n",
       "      <th>age</th>\n",
       "      <th>grade_B</th>\n",
       "      <th>grade_C</th>\n",
       "      <th>grade_D</th>\n",
       "      <th>grade_E</th>\n",
       "      <th>grade_F</th>\n",
       "      <th>grade_G</th>\n",
       "      <th>ownership_OTHER</th>\n",
       "      <th>ownership_OWN</th>\n",
       "      <th>ownership_RENT</th>\n",
       "    </tr>\n",
       "  </thead>\n",
       "  <tbody>\n",
       "    <tr>\n",
       "      <th>0</th>\n",
       "      <td>1000</td>\n",
       "      <td>2.0</td>\n",
       "      <td>19200.0</td>\n",
       "      <td>24</td>\n",
       "      <td>1</td>\n",
       "      <td>0</td>\n",
       "      <td>0</td>\n",
       "      <td>0</td>\n",
       "      <td>0</td>\n",
       "      <td>0</td>\n",
       "      <td>0</td>\n",
       "      <td>0</td>\n",
       "      <td>1</td>\n",
       "    </tr>\n",
       "    <tr>\n",
       "      <th>1</th>\n",
       "      <td>6500</td>\n",
       "      <td>2.0</td>\n",
       "      <td>66000.0</td>\n",
       "      <td>28</td>\n",
       "      <td>0</td>\n",
       "      <td>0</td>\n",
       "      <td>0</td>\n",
       "      <td>0</td>\n",
       "      <td>0</td>\n",
       "      <td>0</td>\n",
       "      <td>0</td>\n",
       "      <td>0</td>\n",
       "      <td>0</td>\n",
       "    </tr>\n",
       "    <tr>\n",
       "      <th>2</th>\n",
       "      <td>2400</td>\n",
       "      <td>2.0</td>\n",
       "      <td>60000.0</td>\n",
       "      <td>36</td>\n",
       "      <td>0</td>\n",
       "      <td>0</td>\n",
       "      <td>0</td>\n",
       "      <td>0</td>\n",
       "      <td>0</td>\n",
       "      <td>0</td>\n",
       "      <td>0</td>\n",
       "      <td>0</td>\n",
       "      <td>1</td>\n",
       "    </tr>\n",
       "    <tr>\n",
       "      <th>3</th>\n",
       "      <td>10000</td>\n",
       "      <td>3.0</td>\n",
       "      <td>62000.0</td>\n",
       "      <td>24</td>\n",
       "      <td>0</td>\n",
       "      <td>1</td>\n",
       "      <td>0</td>\n",
       "      <td>0</td>\n",
       "      <td>0</td>\n",
       "      <td>0</td>\n",
       "      <td>0</td>\n",
       "      <td>0</td>\n",
       "      <td>1</td>\n",
       "    </tr>\n",
       "    <tr>\n",
       "      <th>4</th>\n",
       "      <td>4000</td>\n",
       "      <td>2.0</td>\n",
       "      <td>20000.0</td>\n",
       "      <td>28</td>\n",
       "      <td>0</td>\n",
       "      <td>1</td>\n",
       "      <td>0</td>\n",
       "      <td>0</td>\n",
       "      <td>0</td>\n",
       "      <td>0</td>\n",
       "      <td>0</td>\n",
       "      <td>0</td>\n",
       "      <td>1</td>\n",
       "    </tr>\n",
       "  </tbody>\n",
       "</table>\n",
       "</div>"
      ],
      "text/plain": [
       "   amount  years   income  age  grade_B  grade_C  grade_D  grade_E  grade_F  \\\n",
       "0    1000    2.0  19200.0   24        1        0        0        0        0   \n",
       "1    6500    2.0  66000.0   28        0        0        0        0        0   \n",
       "2    2400    2.0  60000.0   36        0        0        0        0        0   \n",
       "3   10000    3.0  62000.0   24        0        1        0        0        0   \n",
       "4    4000    2.0  20000.0   28        0        1        0        0        0   \n",
       "\n",
       "   grade_G  ownership_OTHER  ownership_OWN  ownership_RENT  \n",
       "0        0                0              0               1  \n",
       "1        0                0              0               0  \n",
       "2        0                0              0               1  \n",
       "3        0                0              0               1  \n",
       "4        0                0              0               1  "
      ]
     },
     "execution_count": 41,
     "metadata": {},
     "output_type": "execute_result"
    }
   ],
   "source": [
    "X.head()"
   ]
  },
  {
   "cell_type": "code",
   "execution_count": 42,
   "metadata": {},
   "outputs": [],
   "source": [
    "y=dat['default']"
   ]
  },
  {
   "cell_type": "code",
   "execution_count": 43,
   "metadata": {},
   "outputs": [],
   "source": [
    "import sklearn.model_selection as model_selection\n",
    "X_train,X_test,y_train,y_test = model_selection.train_test_split(X,y,test_size=0.2,random_state=200)"
   ]
  },
  {
   "cell_type": "code",
   "execution_count": 50,
   "metadata": {},
   "outputs": [],
   "source": [
    "#from sklearn.tree import DecisionTreeClassifier\n",
    "import sklearn.tree as tree\n",
    "clf = tree.DecisionTreeClassifier(max_depth=3,random_state=89, criterion = 'gini')"
   ]
  },
  {
   "cell_type": "code",
   "execution_count": 51,
   "metadata": {},
   "outputs": [
    {
     "data": {
      "text/plain": [
       "DecisionTreeClassifier(ccp_alpha=0.0, class_weight=None, criterion='gini',\n",
       "                       max_depth=3, max_features=None, max_leaf_nodes=None,\n",
       "                       min_impurity_decrease=0.0, min_impurity_split=None,\n",
       "                       min_samples_leaf=1, min_samples_split=2,\n",
       "                       min_weight_fraction_leaf=0.0, presort='deprecated',\n",
       "                       random_state=89, splitter='best')"
      ]
     },
     "execution_count": 51,
     "metadata": {},
     "output_type": "execute_result"
    }
   ],
   "source": [
    "clf"
   ]
  },
  {
   "cell_type": "code",
   "execution_count": 52,
   "metadata": {
    "scrolled": true
   },
   "outputs": [
    {
     "data": {
      "text/plain": [
       "0.6203104786545925"
      ]
     },
     "execution_count": 52,
     "metadata": {},
     "output_type": "execute_result"
    }
   ],
   "source": [
    "clf.fit(X_train,y_train)\n",
    "clf.score(X_test,y_test)"
   ]
  },
  {
   "cell_type": "code",
   "execution_count": 53,
   "metadata": {},
   "outputs": [],
   "source": [
    "pred = clf.predict(X_train)\n",
    "combined = pd.DataFrame({ 'Pred': pred,\n",
    "                            'Actual': y_train })"
   ]
  },
  {
   "cell_type": "code",
   "execution_count": 54,
   "metadata": {},
   "outputs": [
    {
     "data": {
      "text/plain": [
       "0.622552984953891"
      ]
     },
     "execution_count": 54,
     "metadata": {},
     "output_type": "execute_result"
    }
   ],
   "source": [
    "from sklearn.metrics import accuracy_score\n",
    "accuracy_score(combined['Actual'], combined['Pred'])"
   ]
  },
  {
   "cell_type": "code",
   "execution_count": 55,
   "metadata": {},
   "outputs": [
    {
     "data": {
      "text/plain": [
       "0.377447015046109"
      ]
     },
     "execution_count": 55,
     "metadata": {},
     "output_type": "execute_result"
    }
   ],
   "source": [
    "#error\n",
    "1- accuracy_score(combined['Actual'], combined['Pred'])"
   ]
  },
  {
   "cell_type": "code",
   "execution_count": 56,
   "metadata": {},
   "outputs": [
    {
     "data": {
      "text/plain": [
       "0.6234882070101656"
      ]
     },
     "execution_count": 56,
     "metadata": {},
     "output_type": "execute_result"
    }
   ],
   "source": [
    "import sklearn.metrics as metrics\n",
    "metrics.roc_auc_score(y_test,clf.predict_proba(X_test)[:,1])"
   ]
  },
  {
   "cell_type": "code",
   "execution_count": 20,
   "metadata": {},
   "outputs": [],
   "source": [
    "import graphviz"
   ]
  },
  {
   "cell_type": "code",
   "execution_count": 21,
   "metadata": {},
   "outputs": [],
   "source": [
    "dot_data = tree.export_graphviz(clf, out_file=None, \n",
    "                         feature_names=X.columns,  \n",
    "                         class_names=[\"Not Defaulter\",\"Defaulter\"],  \n",
    "                         filled=True, rounded=True,  \n",
    "                         special_characters=True,proportion=True)"
   ]
  },
  {
   "cell_type": "code",
   "execution_count": 57,
   "metadata": {},
   "outputs": [
    {
     "data": {
      "image/svg+xml": [
       "<?xml version=\"1.0\" encoding=\"UTF-8\" standalone=\"no\"?>\r\n",
       "<!DOCTYPE svg PUBLIC \"-//W3C//DTD SVG 1.1//EN\"\r\n",
       " \"http://www.w3.org/Graphics/SVG/1.1/DTD/svg11.dtd\">\r\n",
       "<!-- Generated by graphviz version 2.38.0 (20140413.2041)\r\n",
       " -->\r\n",
       "<!-- Title: Tree Pages: 1 -->\r\n",
       "<svg width=\"1366pt\" height=\"433pt\"\r\n",
       " viewBox=\"0.00 0.00 1366.00 433.00\" xmlns=\"http://www.w3.org/2000/svg\" xmlns:xlink=\"http://www.w3.org/1999/xlink\">\r\n",
       "<g id=\"graph0\" class=\"graph\" transform=\"scale(1 1) rotate(0) translate(4 429)\">\r\n",
       "<title>Tree</title>\r\n",
       "<polygon fill=\"white\" stroke=\"none\" points=\"-4,4 -4,-429 1362,-429 1362,4 -4,4\"/>\r\n",
       "<!-- 0 -->\r\n",
       "<g id=\"node1\" class=\"node\"><title>0</title>\r\n",
       "<path fill=\"#fdf3ec\" stroke=\"black\" d=\"M744,-425C744,-425 614,-425 614,-425 608,-425 602,-419 602,-413 602,-413 602,-354 602,-354 602,-348 608,-342 614,-342 614,-342 744,-342 744,-342 750,-342 756,-348 756,-354 756,-354 756,-413 756,-413 756,-419 750,-425 744,-425\"/>\r\n",
       "<text text-anchor=\"start\" x=\"633.5\" y=\"-409.8\" font-family=\"Helvetica,sans-Serif\" font-size=\"14.00\">grade_A ≤ 0.5</text>\r\n",
       "<text text-anchor=\"start\" x=\"641.5\" y=\"-394.8\" font-family=\"Helvetica,sans-Serif\" font-size=\"14.00\">gini = 0.499</text>\r\n",
       "<text text-anchor=\"start\" x=\"619\" y=\"-379.8\" font-family=\"Helvetica,sans-Serif\" font-size=\"14.00\">samples = 100.0%</text>\r\n",
       "<text text-anchor=\"start\" x=\"610\" y=\"-364.8\" font-family=\"Helvetica,sans-Serif\" font-size=\"14.00\">value = [0.525, 0.475]</text>\r\n",
       "<text text-anchor=\"start\" x=\"612.5\" y=\"-349.8\" font-family=\"Helvetica,sans-Serif\" font-size=\"14.00\">class = Not Defaulter</text>\r\n",
       "</g>\r\n",
       "<!-- 1 -->\r\n",
       "<g id=\"node2\" class=\"node\"><title>1</title>\r\n",
       "<path fill=\"#dceefa\" stroke=\"black\" d=\"M572,-306C572,-306 442,-306 442,-306 436,-306 430,-300 430,-294 430,-294 430,-235 430,-235 430,-229 436,-223 442,-223 442,-223 572,-223 572,-223 578,-223 584,-229 584,-235 584,-235 584,-294 584,-294 584,-300 578,-306 572,-306\"/>\r\n",
       "<text text-anchor=\"start\" x=\"461.5\" y=\"-290.8\" font-family=\"Helvetica,sans-Serif\" font-size=\"14.00\">grade_B ≤ 0.5</text>\r\n",
       "<text text-anchor=\"start\" x=\"469.5\" y=\"-275.8\" font-family=\"Helvetica,sans-Serif\" font-size=\"14.00\">gini = 0.495</text>\r\n",
       "<text text-anchor=\"start\" x=\"451\" y=\"-260.8\" font-family=\"Helvetica,sans-Serif\" font-size=\"14.00\">samples = 73.0%</text>\r\n",
       "<text text-anchor=\"start\" x=\"438\" y=\"-245.8\" font-family=\"Helvetica,sans-Serif\" font-size=\"14.00\">value = [0.452, 0.548]</text>\r\n",
       "<text text-anchor=\"start\" x=\"453.5\" y=\"-230.8\" font-family=\"Helvetica,sans-Serif\" font-size=\"14.00\">class = Defaulter</text>\r\n",
       "</g>\r\n",
       "<!-- 0&#45;&gt;1 -->\r\n",
       "<g id=\"edge1\" class=\"edge\"><title>0&#45;&gt;1</title>\r\n",
       "<path fill=\"none\" stroke=\"black\" d=\"M619.325,-341.907C605.05,-332.197 589.704,-321.758 575.082,-311.811\"/>\r\n",
       "<polygon fill=\"black\" stroke=\"black\" points=\"576.806,-308.751 566.569,-306.021 572.869,-314.539 576.806,-308.751\"/>\r\n",
       "<text text-anchor=\"middle\" x=\"571.243\" y=\"-326.88\" font-family=\"Helvetica,sans-Serif\" font-size=\"14.00\">True</text>\r\n",
       "</g>\r\n",
       "<!-- 8 -->\r\n",
       "<g id=\"node9\" class=\"node\"><title>8</title>\r\n",
       "<path fill=\"#efb286\" stroke=\"black\" d=\"M916,-306C916,-306 786,-306 786,-306 780,-306 774,-300 774,-294 774,-294 774,-235 774,-235 774,-229 780,-223 786,-223 786,-223 916,-223 916,-223 922,-223 928,-229 928,-235 928,-235 928,-294 928,-294 928,-300 922,-306 916,-306\"/>\r\n",
       "<text text-anchor=\"start\" x=\"793.5\" y=\"-290.8\" font-family=\"Helvetica,sans-Serif\" font-size=\"14.00\">income ≤ 54498.0</text>\r\n",
       "<text text-anchor=\"start\" x=\"813.5\" y=\"-275.8\" font-family=\"Helvetica,sans-Serif\" font-size=\"14.00\">gini = 0.402</text>\r\n",
       "<text text-anchor=\"start\" x=\"795\" y=\"-260.8\" font-family=\"Helvetica,sans-Serif\" font-size=\"14.00\">samples = 27.0%</text>\r\n",
       "<text text-anchor=\"start\" x=\"782\" y=\"-245.8\" font-family=\"Helvetica,sans-Serif\" font-size=\"14.00\">value = [0.721, 0.279]</text>\r\n",
       "<text text-anchor=\"start\" x=\"784.5\" y=\"-230.8\" font-family=\"Helvetica,sans-Serif\" font-size=\"14.00\">class = Not Defaulter</text>\r\n",
       "</g>\r\n",
       "<!-- 0&#45;&gt;8 -->\r\n",
       "<g id=\"edge8\" class=\"edge\"><title>0&#45;&gt;8</title>\r\n",
       "<path fill=\"none\" stroke=\"black\" d=\"M738.675,-341.907C752.95,-332.197 768.296,-321.758 782.918,-311.811\"/>\r\n",
       "<polygon fill=\"black\" stroke=\"black\" points=\"785.131,-314.539 791.431,-306.021 781.194,-308.751 785.131,-314.539\"/>\r\n",
       "<text text-anchor=\"middle\" x=\"786.757\" y=\"-326.88\" font-family=\"Helvetica,sans-Serif\" font-size=\"14.00\">False</text>\r\n",
       "</g>\r\n",
       "<!-- 2 -->\r\n",
       "<g id=\"node3\" class=\"node\"><title>2</title>\r\n",
       "<path fill=\"#add6f4\" stroke=\"black\" d=\"M305.5,-187C305.5,-187 192.5,-187 192.5,-187 186.5,-187 180.5,-181 180.5,-175 180.5,-175 180.5,-116 180.5,-116 180.5,-110 186.5,-104 192.5,-104 192.5,-104 305.5,-104 305.5,-104 311.5,-104 317.5,-110 317.5,-116 317.5,-116 317.5,-175 317.5,-175 317.5,-181 311.5,-187 305.5,-187\"/>\r\n",
       "<text text-anchor=\"start\" x=\"191.5\" y=\"-171.8\" font-family=\"Helvetica,sans-Serif\" font-size=\"14.00\">income ≤ 64996.0</text>\r\n",
       "<text text-anchor=\"start\" x=\"211.5\" y=\"-156.8\" font-family=\"Helvetica,sans-Serif\" font-size=\"14.00\">gini = 0.466</text>\r\n",
       "<text text-anchor=\"start\" x=\"193\" y=\"-141.8\" font-family=\"Helvetica,sans-Serif\" font-size=\"14.00\">samples = 41.0%</text>\r\n",
       "<text text-anchor=\"start\" x=\"188.5\" y=\"-126.8\" font-family=\"Helvetica,sans-Serif\" font-size=\"14.00\">value = [0.37, 0.63]</text>\r\n",
       "<text text-anchor=\"start\" x=\"195.5\" y=\"-111.8\" font-family=\"Helvetica,sans-Serif\" font-size=\"14.00\">class = Defaulter</text>\r\n",
       "</g>\r\n",
       "<!-- 1&#45;&gt;2 -->\r\n",
       "<g id=\"edge2\" class=\"edge\"><title>1&#45;&gt;2</title>\r\n",
       "<path fill=\"none\" stroke=\"black\" d=\"M429.941,-228.555C397.506,-213.846 359.813,-196.752 327.251,-181.986\"/>\r\n",
       "<polygon fill=\"black\" stroke=\"black\" points=\"328.321,-178.628 317.769,-177.686 325.43,-185.003 328.321,-178.628\"/>\r\n",
       "</g>\r\n",
       "<!-- 5 -->\r\n",
       "<g id=\"node6\" class=\"node\"><title>5</title>\r\n",
       "<path fill=\"#fae5d6\" stroke=\"black\" d=\"M572,-187C572,-187 442,-187 442,-187 436,-187 430,-181 430,-175 430,-175 430,-116 430,-116 430,-110 436,-104 442,-104 442,-104 572,-104 572,-104 578,-104 584,-110 584,-116 584,-116 584,-175 584,-175 584,-181 578,-187 572,-187\"/>\r\n",
       "<text text-anchor=\"start\" x=\"449.5\" y=\"-171.8\" font-family=\"Helvetica,sans-Serif\" font-size=\"14.00\">income ≤ 55981.5</text>\r\n",
       "<text text-anchor=\"start\" x=\"469.5\" y=\"-156.8\" font-family=\"Helvetica,sans-Serif\" font-size=\"14.00\">gini = 0.493</text>\r\n",
       "<text text-anchor=\"start\" x=\"451\" y=\"-141.8\" font-family=\"Helvetica,sans-Serif\" font-size=\"14.00\">samples = 32.0%</text>\r\n",
       "<text text-anchor=\"start\" x=\"438\" y=\"-126.8\" font-family=\"Helvetica,sans-Serif\" font-size=\"14.00\">value = [0.557, 0.443]</text>\r\n",
       "<text text-anchor=\"start\" x=\"440.5\" y=\"-111.8\" font-family=\"Helvetica,sans-Serif\" font-size=\"14.00\">class = Not Defaulter</text>\r\n",
       "</g>\r\n",
       "<!-- 1&#45;&gt;5 -->\r\n",
       "<g id=\"edge5\" class=\"edge\"><title>1&#45;&gt;5</title>\r\n",
       "<path fill=\"none\" stroke=\"black\" d=\"M507,-222.907C507,-214.649 507,-205.864 507,-197.302\"/>\r\n",
       "<polygon fill=\"black\" stroke=\"black\" points=\"510.5,-197.021 507,-187.021 503.5,-197.021 510.5,-197.021\"/>\r\n",
       "</g>\r\n",
       "<!-- 3 -->\r\n",
       "<g id=\"node4\" class=\"node\"><title>3</title>\r\n",
       "<path fill=\"#9ccef2\" stroke=\"black\" d=\"M142,-68C142,-68 12,-68 12,-68 6,-68 0,-62 0,-56 0,-56 0,-12 0,-12 0,-6 6,-0 12,-0 12,-0 142,-0 142,-0 148,-0 154,-6 154,-12 154,-12 154,-56 154,-56 154,-62 148,-68 142,-68\"/>\r\n",
       "<text text-anchor=\"start\" x=\"39.5\" y=\"-52.8\" font-family=\"Helvetica,sans-Serif\" font-size=\"14.00\">gini = 0.444</text>\r\n",
       "<text text-anchor=\"start\" x=\"21\" y=\"-37.8\" font-family=\"Helvetica,sans-Serif\" font-size=\"14.00\">samples = 26.0%</text>\r\n",
       "<text text-anchor=\"start\" x=\"8\" y=\"-22.8\" font-family=\"Helvetica,sans-Serif\" font-size=\"14.00\">value = [0.333, 0.667]</text>\r\n",
       "<text text-anchor=\"start\" x=\"23.5\" y=\"-7.8\" font-family=\"Helvetica,sans-Serif\" font-size=\"14.00\">class = Defaulter</text>\r\n",
       "</g>\r\n",
       "<!-- 2&#45;&gt;3 -->\r\n",
       "<g id=\"edge3\" class=\"edge\"><title>2&#45;&gt;3</title>\r\n",
       "<path fill=\"none\" stroke=\"black\" d=\"M184.954,-103.726C169.544,-93.9161 153.127,-83.4644 137.867,-73.7496\"/>\r\n",
       "<polygon fill=\"black\" stroke=\"black\" points=\"139.348,-70.5431 129.032,-68.1252 135.588,-76.4481 139.348,-70.5431\"/>\r\n",
       "</g>\r\n",
       "<!-- 4 -->\r\n",
       "<g id=\"node5\" class=\"node\"><title>4</title>\r\n",
       "<path fill=\"#d1e8f9\" stroke=\"black\" d=\"M314,-68C314,-68 184,-68 184,-68 178,-68 172,-62 172,-56 172,-56 172,-12 172,-12 172,-6 178,-0 184,-0 184,-0 314,-0 314,-0 320,-0 326,-6 326,-12 326,-12 326,-56 326,-56 326,-62 320,-68 314,-68\"/>\r\n",
       "<text text-anchor=\"start\" x=\"211.5\" y=\"-52.8\" font-family=\"Helvetica,sans-Serif\" font-size=\"14.00\">gini = 0.491</text>\r\n",
       "<text text-anchor=\"start\" x=\"193\" y=\"-37.8\" font-family=\"Helvetica,sans-Serif\" font-size=\"14.00\">samples = 15.0%</text>\r\n",
       "<text text-anchor=\"start\" x=\"180\" y=\"-22.8\" font-family=\"Helvetica,sans-Serif\" font-size=\"14.00\">value = [0.434, 0.566]</text>\r\n",
       "<text text-anchor=\"start\" x=\"195.5\" y=\"-7.8\" font-family=\"Helvetica,sans-Serif\" font-size=\"14.00\">class = Defaulter</text>\r\n",
       "</g>\r\n",
       "<!-- 2&#45;&gt;4 -->\r\n",
       "<g id=\"edge4\" class=\"edge\"><title>2&#45;&gt;4</title>\r\n",
       "<path fill=\"none\" stroke=\"black\" d=\"M249,-103.726C249,-95.5175 249,-86.8595 249,-78.56\"/>\r\n",
       "<polygon fill=\"black\" stroke=\"black\" points=\"252.5,-78.2996 249,-68.2996 245.5,-78.2996 252.5,-78.2996\"/>\r\n",
       "</g>\r\n",
       "<!-- 6 -->\r\n",
       "<g id=\"node7\" class=\"node\"><title>6</title>\r\n",
       "<path fill=\"#fdfeff\" stroke=\"black\" d=\"M486,-68C486,-68 356,-68 356,-68 350,-68 344,-62 344,-56 344,-56 344,-12 344,-12 344,-6 350,-0 356,-0 356,-0 486,-0 486,-0 492,-0 498,-6 498,-12 498,-12 498,-56 498,-56 498,-62 492,-68 486,-68\"/>\r\n",
       "<text text-anchor=\"start\" x=\"392\" y=\"-52.8\" font-family=\"Helvetica,sans-Serif\" font-size=\"14.00\">gini = 0.5</text>\r\n",
       "<text text-anchor=\"start\" x=\"365\" y=\"-37.8\" font-family=\"Helvetica,sans-Serif\" font-size=\"14.00\">samples = 17.3%</text>\r\n",
       "<text text-anchor=\"start\" x=\"352\" y=\"-22.8\" font-family=\"Helvetica,sans-Serif\" font-size=\"14.00\">value = [0.497, 0.503]</text>\r\n",
       "<text text-anchor=\"start\" x=\"367.5\" y=\"-7.8\" font-family=\"Helvetica,sans-Serif\" font-size=\"14.00\">class = Defaulter</text>\r\n",
       "</g>\r\n",
       "<!-- 5&#45;&gt;6 -->\r\n",
       "<g id=\"edge6\" class=\"edge\"><title>5&#45;&gt;6</title>\r\n",
       "<path fill=\"none\" stroke=\"black\" d=\"M474.977,-103.726C467.957,-94.7878 460.518,-85.3168 453.48,-76.3558\"/>\r\n",
       "<polygon fill=\"black\" stroke=\"black\" points=\"456.082,-74.0022 447.153,-68.2996 450.577,-78.3259 456.082,-74.0022\"/>\r\n",
       "</g>\r\n",
       "<!-- 7 -->\r\n",
       "<g id=\"node8\" class=\"node\"><title>7</title>\r\n",
       "<path fill=\"#f4ccae\" stroke=\"black\" d=\"M658,-68C658,-68 528,-68 528,-68 522,-68 516,-62 516,-56 516,-56 516,-12 516,-12 516,-6 522,-0 528,-0 528,-0 658,-0 658,-0 664,-0 670,-6 670,-12 670,-12 670,-56 670,-56 670,-62 664,-68 658,-68\"/>\r\n",
       "<text text-anchor=\"start\" x=\"555.5\" y=\"-52.8\" font-family=\"Helvetica,sans-Serif\" font-size=\"14.00\">gini = 0.467</text>\r\n",
       "<text text-anchor=\"start\" x=\"537\" y=\"-37.8\" font-family=\"Helvetica,sans-Serif\" font-size=\"14.00\">samples = 14.7%</text>\r\n",
       "<text text-anchor=\"start\" x=\"524\" y=\"-22.8\" font-family=\"Helvetica,sans-Serif\" font-size=\"14.00\">value = [0.628, 0.372]</text>\r\n",
       "<text text-anchor=\"start\" x=\"526.5\" y=\"-7.8\" font-family=\"Helvetica,sans-Serif\" font-size=\"14.00\">class = Not Defaulter</text>\r\n",
       "</g>\r\n",
       "<!-- 5&#45;&gt;7 -->\r\n",
       "<g id=\"edge7\" class=\"edge\"><title>5&#45;&gt;7</title>\r\n",
       "<path fill=\"none\" stroke=\"black\" d=\"M539.023,-103.726C546.043,-94.7878 553.482,-85.3168 560.52,-76.3558\"/>\r\n",
       "<polygon fill=\"black\" stroke=\"black\" points=\"563.423,-78.3259 566.847,-68.2996 557.918,-74.0022 563.423,-78.3259\"/>\r\n",
       "</g>\r\n",
       "<!-- 9 -->\r\n",
       "<g id=\"node10\" class=\"node\"><title>9</title>\r\n",
       "<path fill=\"#f4ccae\" stroke=\"black\" d=\"M916,-187C916,-187 786,-187 786,-187 780,-187 774,-181 774,-175 774,-175 774,-116 774,-116 774,-110 780,-104 786,-104 786,-104 916,-104 916,-104 922,-104 928,-110 928,-116 928,-116 928,-175 928,-175 928,-181 922,-187 916,-187\"/>\r\n",
       "<text text-anchor=\"start\" x=\"793.5\" y=\"-171.8\" font-family=\"Helvetica,sans-Serif\" font-size=\"14.00\">income ≤ 27108.0</text>\r\n",
       "<text text-anchor=\"start\" x=\"813.5\" y=\"-156.8\" font-family=\"Helvetica,sans-Serif\" font-size=\"14.00\">gini = 0.467</text>\r\n",
       "<text text-anchor=\"start\" x=\"795\" y=\"-141.8\" font-family=\"Helvetica,sans-Serif\" font-size=\"14.00\">samples = 13.2%</text>\r\n",
       "<text text-anchor=\"start\" x=\"782\" y=\"-126.8\" font-family=\"Helvetica,sans-Serif\" font-size=\"14.00\">value = [0.628, 0.372]</text>\r\n",
       "<text text-anchor=\"start\" x=\"784.5\" y=\"-111.8\" font-family=\"Helvetica,sans-Serif\" font-size=\"14.00\">class = Not Defaulter</text>\r\n",
       "</g>\r\n",
       "<!-- 8&#45;&gt;9 -->\r\n",
       "<g id=\"edge9\" class=\"edge\"><title>8&#45;&gt;9</title>\r\n",
       "<path fill=\"none\" stroke=\"black\" d=\"M851,-222.907C851,-214.649 851,-205.864 851,-197.302\"/>\r\n",
       "<polygon fill=\"black\" stroke=\"black\" points=\"854.5,-197.021 851,-187.021 847.5,-197.021 854.5,-197.021\"/>\r\n",
       "</g>\r\n",
       "<!-- 12 -->\r\n",
       "<g id=\"node13\" class=\"node\"><title>12</title>\r\n",
       "<path fill=\"#eb9f67\" stroke=\"black\" d=\"M1171.5,-187C1171.5,-187 1046.5,-187 1046.5,-187 1040.5,-187 1034.5,-181 1034.5,-175 1034.5,-175 1034.5,-116 1034.5,-116 1034.5,-110 1040.5,-104 1046.5,-104 1046.5,-104 1171.5,-104 1171.5,-104 1177.5,-104 1183.5,-110 1183.5,-116 1183.5,-116 1183.5,-175 1183.5,-175 1183.5,-181 1177.5,-187 1171.5,-187\"/>\r\n",
       "<text text-anchor=\"start\" x=\"1051.5\" y=\"-171.8\" font-family=\"Helvetica,sans-Serif\" font-size=\"14.00\">income ≤ 92172.5</text>\r\n",
       "<text text-anchor=\"start\" x=\"1071.5\" y=\"-156.8\" font-family=\"Helvetica,sans-Serif\" font-size=\"14.00\">gini = 0.308</text>\r\n",
       "<text text-anchor=\"start\" x=\"1053\" y=\"-141.8\" font-family=\"Helvetica,sans-Serif\" font-size=\"14.00\">samples = 13.8%</text>\r\n",
       "<text text-anchor=\"start\" x=\"1048.5\" y=\"-126.8\" font-family=\"Helvetica,sans-Serif\" font-size=\"14.00\">value = [0.81, 0.19]</text>\r\n",
       "<text text-anchor=\"start\" x=\"1042.5\" y=\"-111.8\" font-family=\"Helvetica,sans-Serif\" font-size=\"14.00\">class = Not Defaulter</text>\r\n",
       "</g>\r\n",
       "<!-- 8&#45;&gt;12 -->\r\n",
       "<g id=\"edge12\" class=\"edge\"><title>8&#45;&gt;12</title>\r\n",
       "<path fill=\"none\" stroke=\"black\" d=\"M928.059,-228.555C958.602,-214.704 993.807,-198.738 1025,-184.593\"/>\r\n",
       "<polygon fill=\"black\" stroke=\"black\" points=\"1026.45,-187.779 1034.11,-180.461 1023.56,-181.403 1026.45,-187.779\"/>\r\n",
       "</g>\r\n",
       "<!-- 10 -->\r\n",
       "<g id=\"node11\" class=\"node\"><title>10</title>\r\n",
       "<path fill=\"#fdf5ef\" stroke=\"black\" d=\"M830,-68C830,-68 700,-68 700,-68 694,-68 688,-62 688,-56 688,-56 688,-12 688,-12 688,-6 694,-0 700,-0 700,-0 830,-0 830,-0 836,-0 842,-6 842,-12 842,-12 842,-56 842,-56 842,-62 836,-68 830,-68\"/>\r\n",
       "<text text-anchor=\"start\" x=\"727.5\" y=\"-52.8\" font-family=\"Helvetica,sans-Serif\" font-size=\"14.00\">gini = 0.499</text>\r\n",
       "<text text-anchor=\"start\" x=\"713.5\" y=\"-37.8\" font-family=\"Helvetica,sans-Serif\" font-size=\"14.00\">samples = 2.7%</text>\r\n",
       "<text text-anchor=\"start\" x=\"696\" y=\"-22.8\" font-family=\"Helvetica,sans-Serif\" font-size=\"14.00\">value = [0.521, 0.479]</text>\r\n",
       "<text text-anchor=\"start\" x=\"698.5\" y=\"-7.8\" font-family=\"Helvetica,sans-Serif\" font-size=\"14.00\">class = Not Defaulter</text>\r\n",
       "</g>\r\n",
       "<!-- 9&#45;&gt;10 -->\r\n",
       "<g id=\"edge10\" class=\"edge\"><title>9&#45;&gt;10</title>\r\n",
       "<path fill=\"none\" stroke=\"black\" d=\"M818.977,-103.726C811.957,-94.7878 804.518,-85.3168 797.48,-76.3558\"/>\r\n",
       "<polygon fill=\"black\" stroke=\"black\" points=\"800.082,-74.0022 791.153,-68.2996 794.577,-78.3259 800.082,-74.0022\"/>\r\n",
       "</g>\r\n",
       "<!-- 11 -->\r\n",
       "<g id=\"node12\" class=\"node\"><title>11</title>\r\n",
       "<path fill=\"#f3c3a1\" stroke=\"black\" d=\"M1002,-68C1002,-68 872,-68 872,-68 866,-68 860,-62 860,-56 860,-56 860,-12 860,-12 860,-6 866,-0 872,-0 872,-0 1002,-0 1002,-0 1008,-0 1014,-6 1014,-12 1014,-12 1014,-56 1014,-56 1014,-62 1008,-68 1002,-68\"/>\r\n",
       "<text text-anchor=\"start\" x=\"899.5\" y=\"-52.8\" font-family=\"Helvetica,sans-Serif\" font-size=\"14.00\">gini = 0.452</text>\r\n",
       "<text text-anchor=\"start\" x=\"881\" y=\"-37.8\" font-family=\"Helvetica,sans-Serif\" font-size=\"14.00\">samples = 10.6%</text>\r\n",
       "<text text-anchor=\"start\" x=\"868\" y=\"-22.8\" font-family=\"Helvetica,sans-Serif\" font-size=\"14.00\">value = [0.655, 0.345]</text>\r\n",
       "<text text-anchor=\"start\" x=\"870.5\" y=\"-7.8\" font-family=\"Helvetica,sans-Serif\" font-size=\"14.00\">class = Not Defaulter</text>\r\n",
       "</g>\r\n",
       "<!-- 9&#45;&gt;11 -->\r\n",
       "<g id=\"edge11\" class=\"edge\"><title>9&#45;&gt;11</title>\r\n",
       "<path fill=\"none\" stroke=\"black\" d=\"M883.023,-103.726C890.043,-94.7878 897.482,-85.3168 904.52,-76.3558\"/>\r\n",
       "<polygon fill=\"black\" stroke=\"black\" points=\"907.423,-78.3259 910.847,-68.2996 901.918,-74.0022 907.423,-78.3259\"/>\r\n",
       "</g>\r\n",
       "<!-- 13 -->\r\n",
       "<g id=\"node14\" class=\"node\"><title>13</title>\r\n",
       "<path fill=\"#eca470\" stroke=\"black\" d=\"M1174,-68C1174,-68 1044,-68 1044,-68 1038,-68 1032,-62 1032,-56 1032,-56 1032,-12 1032,-12 1032,-6 1038,-0 1044,-0 1044,-0 1174,-0 1174,-0 1180,-0 1186,-6 1186,-12 1186,-12 1186,-56 1186,-56 1186,-62 1180,-68 1174,-68\"/>\r\n",
       "<text text-anchor=\"start\" x=\"1071.5\" y=\"-52.8\" font-family=\"Helvetica,sans-Serif\" font-size=\"14.00\">gini = 0.339</text>\r\n",
       "<text text-anchor=\"start\" x=\"1057.5\" y=\"-37.8\" font-family=\"Helvetica,sans-Serif\" font-size=\"14.00\">samples = 9.4%</text>\r\n",
       "<text text-anchor=\"start\" x=\"1040\" y=\"-22.8\" font-family=\"Helvetica,sans-Serif\" font-size=\"14.00\">value = [0.784, 0.216]</text>\r\n",
       "<text text-anchor=\"start\" x=\"1042.5\" y=\"-7.8\" font-family=\"Helvetica,sans-Serif\" font-size=\"14.00\">class = Not Defaulter</text>\r\n",
       "</g>\r\n",
       "<!-- 12&#45;&gt;13 -->\r\n",
       "<g id=\"edge13\" class=\"edge\"><title>12&#45;&gt;13</title>\r\n",
       "<path fill=\"none\" stroke=\"black\" d=\"M1109,-103.726C1109,-95.5175 1109,-86.8595 1109,-78.56\"/>\r\n",
       "<polygon fill=\"black\" stroke=\"black\" points=\"1112.5,-78.2996 1109,-68.2996 1105.5,-78.2996 1112.5,-78.2996\"/>\r\n",
       "</g>\r\n",
       "<!-- 14 -->\r\n",
       "<g id=\"node15\" class=\"node\"><title>14</title>\r\n",
       "<path fill=\"#e99458\" stroke=\"black\" d=\"M1346,-68C1346,-68 1216,-68 1216,-68 1210,-68 1204,-62 1204,-56 1204,-56 1204,-12 1204,-12 1204,-6 1210,-0 1216,-0 1216,-0 1346,-0 1346,-0 1352,-0 1358,-6 1358,-12 1358,-12 1358,-56 1358,-56 1358,-62 1352,-68 1346,-68\"/>\r\n",
       "<text text-anchor=\"start\" x=\"1243.5\" y=\"-52.8\" font-family=\"Helvetica,sans-Serif\" font-size=\"14.00\">gini = 0.232</text>\r\n",
       "<text text-anchor=\"start\" x=\"1229.5\" y=\"-37.8\" font-family=\"Helvetica,sans-Serif\" font-size=\"14.00\">samples = 4.4%</text>\r\n",
       "<text text-anchor=\"start\" x=\"1212\" y=\"-22.8\" font-family=\"Helvetica,sans-Serif\" font-size=\"14.00\">value = [0.866, 0.134]</text>\r\n",
       "<text text-anchor=\"start\" x=\"1214.5\" y=\"-7.8\" font-family=\"Helvetica,sans-Serif\" font-size=\"14.00\">class = Not Defaulter</text>\r\n",
       "</g>\r\n",
       "<!-- 12&#45;&gt;14 -->\r\n",
       "<g id=\"edge14\" class=\"edge\"><title>12&#45;&gt;14</title>\r\n",
       "<path fill=\"none\" stroke=\"black\" d=\"M1173.05,-103.726C1188.46,-93.9161 1204.87,-83.4644 1220.13,-73.7496\"/>\r\n",
       "<polygon fill=\"black\" stroke=\"black\" points=\"1222.41,-76.4481 1228.97,-68.1252 1218.65,-70.5431 1222.41,-76.4481\"/>\r\n",
       "</g>\r\n",
       "</g>\r\n",
       "</svg>\r\n"
      ],
      "text/plain": [
       "<graphviz.files.Source at 0x23aa9f9b390>"
      ]
     },
     "execution_count": 57,
     "metadata": {},
     "output_type": "execute_result"
    }
   ],
   "source": [
    "graph = graphviz.Source(dot_data)\n",
    "graph"
   ]
  },
  {
   "cell_type": "markdown",
   "metadata": {},
   "source": [
    "### Grid Search-Cross Validation"
   ]
  },
  {
   "cell_type": "code",
   "execution_count": 38,
   "metadata": {},
   "outputs": [],
   "source": [
    "clf=tree.DecisionTreeClassifier(max_depth=3,random_state=200)"
   ]
  },
  {
   "cell_type": "code",
   "execution_count": 58,
   "metadata": {},
   "outputs": [
    {
     "data": {
      "text/plain": [
       "GridSearchCV(cv=None, error_score=nan,\n",
       "             estimator=DecisionTreeClassifier(ccp_alpha=0.0, class_weight=None,\n",
       "                                              criterion='gini', max_depth=3,\n",
       "                                              max_features=None,\n",
       "                                              max_leaf_nodes=None,\n",
       "                                              min_impurity_decrease=0.0,\n",
       "                                              min_impurity_split=None,\n",
       "                                              min_samples_leaf=1,\n",
       "                                              min_samples_split=2,\n",
       "                                              min_weight_fraction_leaf=0.0,\n",
       "                                              presort='deprecated',\n",
       "                                              random_state=89,\n",
       "                                              splitter='best'),\n",
       "             iid='deprecated', n_jobs=None,\n",
       "             param_grid={'criterion': ['gini', 'entropy'],\n",
       "                         'max_depth': [5, 10, 15, 20, 25, 30, 35, 40]},\n",
       "             pre_dispatch='2*n_jobs', refit=True, return_train_score=False,\n",
       "             scoring=None, verbose=0)"
      ]
     },
     "execution_count": 58,
     "metadata": {},
     "output_type": "execute_result"
    }
   ],
   "source": [
    "mod=model_selection.GridSearchCV(clf,param_grid={'max_depth':[5,10,15,20,25,30,35,40], 'criterion': ['gini', 'entropy'], })\n",
    "mod.fit(X_train,y_train)"
   ]
  },
  {
   "cell_type": "code",
   "execution_count": 59,
   "metadata": {},
   "outputs": [
    {
     "data": {
      "text/plain": [
       "DecisionTreeClassifier(ccp_alpha=0.0, class_weight=None, criterion='entropy',\n",
       "                       max_depth=5, max_features=None, max_leaf_nodes=None,\n",
       "                       min_impurity_decrease=0.0, min_impurity_split=None,\n",
       "                       min_samples_leaf=1, min_samples_split=2,\n",
       "                       min_weight_fraction_leaf=0.0, presort='deprecated',\n",
       "                       random_state=89, splitter='best')"
      ]
     },
     "execution_count": 59,
     "metadata": {},
     "output_type": "execute_result"
    }
   ],
   "source": [
    "mod.best_estimator_"
   ]
  },
  {
   "cell_type": "code",
   "execution_count": 60,
   "metadata": {},
   "outputs": [
    {
     "data": {
      "text/plain": [
       "0.6256280854871243"
      ]
     },
     "execution_count": 60,
     "metadata": {},
     "output_type": "execute_result"
    }
   ],
   "source": [
    "mod.best_score_"
   ]
  },
  {
   "cell_type": "code",
   "execution_count": null,
   "metadata": {
    "collapsed": true
   },
   "outputs": [],
   "source": []
  }
 ],
 "metadata": {
  "anaconda-cloud": {},
  "kernelspec": {
   "display_name": "Python 3 (ipykernel)",
   "language": "python",
   "name": "python3"
  },
  "language_info": {
   "codemirror_mode": {
    "name": "ipython",
    "version": 3
   },
   "file_extension": ".py",
   "mimetype": "text/x-python",
   "name": "python",
   "nbconvert_exporter": "python",
   "pygments_lexer": "ipython3",
   "version": "3.10.4"
  },
  "varInspector": {
   "cols": {
    "lenName": 16,
    "lenType": 16,
    "lenVar": 40
   },
   "kernels_config": {
    "python": {
     "delete_cmd_postfix": "",
     "delete_cmd_prefix": "del ",
     "library": "var_list.py",
     "varRefreshCmd": "print(var_dic_list())"
    },
    "r": {
     "delete_cmd_postfix": ") ",
     "delete_cmd_prefix": "rm(",
     "library": "var_list.r",
     "varRefreshCmd": "cat(var_dic_list()) "
    }
   },
   "types_to_exclude": [
    "module",
    "function",
    "builtin_function_or_method",
    "instance",
    "_Feature"
   ],
   "window_display": false
  }
 },
 "nbformat": 4,
 "nbformat_minor": 2
}
