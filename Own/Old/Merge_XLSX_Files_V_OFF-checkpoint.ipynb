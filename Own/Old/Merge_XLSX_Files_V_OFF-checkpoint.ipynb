{
 "cells": [
  {
   "cell_type": "code",
   "execution_count": 2,
   "metadata": {},
   "outputs": [
    {
     "name": "stdout",
     "output_type": "stream",
     "text": [
      "Wall time: 7.84 s\n"
     ]
    }
   ],
   "source": [
    "%%time\n",
    "\n",
    "import pandas as pd\n",
    "import glob\n",
    "import os"
   ]
  },
  {
   "cell_type": "code",
   "execution_count": 3,
   "metadata": {},
   "outputs": [
    {
     "name": "stdout",
     "output_type": "stream",
     "text": [
      "Wall time: 0 ns\n"
     ]
    }
   ],
   "source": [
    "%%time\n",
    "location = 'C:\\\\Users\\\\abhik.dhar\\\\Work Files\\\\Experiments\\\\*.xlsx'"
   ]
  },
  {
   "cell_type": "code",
   "execution_count": 4,
   "metadata": {},
   "outputs": [
    {
     "name": "stderr",
     "output_type": "stream",
     "text": [
      "C:\\Users\\abhik.dhar\\Anaconda3\\lib\\site-packages\\xlsxwriter\\worksheet.py:937: UserWarning: Ignoring URL 'https://ci3.googleusercontent.com/proxy/tLdR6B57TINTfdIThEDCxsNTtVV%20BDuxoE37Peh0TuqDaVXweTA0qR8KYTaXgc1GMGl3V0hXgSMRI_xJbmg4kQP6Z6st8IEFdyohc3XnG3TWS8DSFx2mhGCWn0lfFZ5im2LADauYt3VvHfeRm6IXAHHKtXMc2l_0KbaZV5T3HWGMUwQLHOcaAF7_g13CQuq5eb0FC4FIStxiQaO3fFPz7i8FQJIuymGrbqdQ4J7vYLgjlW2xTfdrYM1RcR3KSZIeimVV0q7ax1g9J9Ys__v95k78QpC8Sd9LNr5jGUP1Sjic5UK2e7Jf_x_1j0BLDsLbxNtG3bN6sNivV7i7I9vY5ltK8yhgfc4Bu6w6fXK4hhY_0QauIOcIfpgC%20%20X0Q3LwJ2dNOHkSUi02PQgYiGRDvAfBpLzOB9pLdxHqGOUQsHlw90jWMb7yHYv3XXQwu9HT%20s0%20d%20e1%20ft' with link or location/anchor > 2079 characters since it exceeds Excel's limit for URLS\n",
      "  (force_unicode(url), max_url))\n"
     ]
    },
    {
     "name": "stdout",
     "output_type": "stream",
     "text": [
      "Wall time: 29min 53s\n"
     ]
    }
   ],
   "source": [
    "%%time\n",
    "excel_files = glob.glob(location)\n",
    "\n",
    "writer = pd.ExcelWriter('C:\\\\Users\\\\abhik.dhar\\\\Work Files\\\\Experiments\\\\Collated.xlsx')\n",
    "\n",
    "for excel_file in excel_files:\n",
    "    sheet = os.path.basename(excel_file)\n",
    "    df1 = pd.read_excel(excel_file)\n",
    "    df1.to_excel(writer, sheet_name=sheet, index=False)\n",
    "\n",
    "writer.save()\n",
    "writer.close()\n",
    "\n",
    "#print(df1)"
   ]
  },
  {
   "cell_type": "code",
   "execution_count": null,
   "metadata": {},
   "outputs": [],
   "source": []
  }
 ],
 "metadata": {
  "kernelspec": {
   "display_name": "Python 3 (ipykernel)",
   "language": "python",
   "name": "python3"
  },
  "language_info": {
   "codemirror_mode": {
    "name": "ipython",
    "version": 3
   },
   "file_extension": ".py",
   "mimetype": "text/x-python",
   "name": "python",
   "nbconvert_exporter": "python",
   "pygments_lexer": "ipython3",
   "version": "3.10.2"
  },
  "varInspector": {
   "cols": {
    "lenName": 16,
    "lenType": 16,
    "lenVar": 40
   },
   "kernels_config": {
    "python": {
     "delete_cmd_postfix": "",
     "delete_cmd_prefix": "del ",
     "library": "var_list.py",
     "varRefreshCmd": "print(var_dic_list())"
    },
    "r": {
     "delete_cmd_postfix": ") ",
     "delete_cmd_prefix": "rm(",
     "library": "var_list.r",
     "varRefreshCmd": "cat(var_dic_list()) "
    }
   },
   "types_to_exclude": [
    "module",
    "function",
    "builtin_function_or_method",
    "instance",
    "_Feature"
   ],
   "window_display": false
  }
 },
 "nbformat": 4,
 "nbformat_minor": 4
}
