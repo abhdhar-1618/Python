{
 "cells": [
  {
   "cell_type": "markdown",
   "id": "b262b4d0-e51e-4125-99af-9034af28b9cf",
   "metadata": {},
   "source": [
    "# Marketing Leads Conversion - Data Sanity Checks\n",
    "- Join Data\n",
    "- Identify Data Types - Continuous, Categorical, Date\n",
    "    - Convert to right Data Type\n",
    "- Identify Missing Values\n",
    "- Impute Missing Values\n",
    "    - Continuous\n",
    "    - Categorical\n",
    "- Create Features\n",
    "    - Lead_Creation_Date\n",
    "    - Existing EMI Percentage"
   ]
  },
  {
   "cell_type": "markdown",
   "id": "5038b36d-af56-48bb-9d2d-7e78c0596ad1",
   "metadata": {},
   "source": [
    "## 1/ Import Libraries"
   ]
  },
  {
   "cell_type": "code",
   "execution_count": 1,
   "id": "ea9a2d80-252d-4772-af23-07eb34df1fa8",
   "metadata": {},
   "outputs": [],
   "source": [
    "# pandas, numpy\n",
    "import pandas as pd\n",
    "import numpy as np"
   ]
  },
  {
   "cell_type": "markdown",
   "id": "00fefa7c-e4f9-4d82-83a0-da88c2d8c2ba",
   "metadata": {},
   "source": [
    "## 2/ Import Data\n",
    "- t1_leads\n",
    "- t6_emi\n",
    "- test\n",
    "\n",
    "**Extra:** Join other tables to build a more comprehensive training data"
   ]
  },
  {
   "cell_type": "code",
   "execution_count": 2,
   "id": "e16a68e0-aaa6-4bcb-88a4-e2ab35c762ea",
   "metadata": {},
   "outputs": [],
   "source": [
    "t1_leads = pd.read_csv('t1_leads.csv', low_memory=False)\n",
    "\n",
    "t2_city = pd.read_csv('t2_city.csv', low_memory=False)\n",
    "t3_employer = pd.read_csv('t3_employer.csv', low_memory=False)\n",
    "t4_bank = pd.read_csv('t4_bank.csv', low_memory=False)\n",
    "t5_source = pd.read_csv('t5_source.csv', low_memory=False)\n",
    "t6_emi = pd.read_csv('t6_emi.csv', low_memory=False)\n",
    "\n",
    "#Test Data - Final Predictions\n",
    "test = pd.read_csv('test.csv', low_memory=False)"
   ]
  },
  {
   "cell_type": "markdown",
   "id": "751eed4d-06b9-4e78-94b6-ab153b54c226",
   "metadata": {},
   "source": [
    "### Check first 5 rows"
   ]
  },
  {
   "cell_type": "code",
   "execution_count": 3,
   "id": "1bc1624d-7d19-4fdf-9f7c-8f98ff6c394c",
   "metadata": {},
   "outputs": [
    {
     "data": {
      "text/html": [
       "<div>\n",
       "<style scoped>\n",
       "    .dataframe tbody tr th:only-of-type {\n",
       "        vertical-align: middle;\n",
       "    }\n",
       "\n",
       "    .dataframe tbody tr th {\n",
       "        vertical-align: top;\n",
       "    }\n",
       "\n",
       "    .dataframe thead th {\n",
       "        text-align: right;\n",
       "    }\n",
       "</style>\n",
       "<table border=\"1\" class=\"dataframe\">\n",
       "  <thead>\n",
       "    <tr style=\"text-align: right;\">\n",
       "      <th></th>\n",
       "      <th>ID</th>\n",
       "      <th>Gender</th>\n",
       "      <th>DOB</th>\n",
       "      <th>Lead_Creation_Date</th>\n",
       "      <th>City_Code</th>\n",
       "      <th>Employer_Code</th>\n",
       "      <th>Monthly_Income</th>\n",
       "      <th>Customer_Existing_Primary_Bank_Code</th>\n",
       "      <th>Contacted</th>\n",
       "      <th>Source</th>\n",
       "      <th>Existing_EMI</th>\n",
       "      <th>Loan_Amount</th>\n",
       "      <th>Loan_Period</th>\n",
       "      <th>Var1</th>\n",
       "      <th>Approved</th>\n",
       "    </tr>\n",
       "  </thead>\n",
       "  <tbody>\n",
       "    <tr>\n",
       "      <th>0</th>\n",
       "      <td>APPC90493171225</td>\n",
       "      <td>Female</td>\n",
       "      <td>23-07-1979</td>\n",
       "      <td>15-07-2016</td>\n",
       "      <td>C10001</td>\n",
       "      <td>COM0044082</td>\n",
       "      <td>2000.0</td>\n",
       "      <td>B001</td>\n",
       "      <td>N</td>\n",
       "      <td>S122</td>\n",
       "      <td>0.0</td>\n",
       "      <td>NaN</td>\n",
       "      <td>NaN</td>\n",
       "      <td>0</td>\n",
       "      <td>0</td>\n",
       "    </tr>\n",
       "    <tr>\n",
       "      <th>1</th>\n",
       "      <td>APPD40611263344</td>\n",
       "      <td>Male</td>\n",
       "      <td>07-12-1986</td>\n",
       "      <td>04-07-2016</td>\n",
       "      <td>C10003</td>\n",
       "      <td>COM0000002</td>\n",
       "      <td>3500.0</td>\n",
       "      <td>B002</td>\n",
       "      <td>Y</td>\n",
       "      <td>S122</td>\n",
       "      <td>0.0</td>\n",
       "      <td>20000.0</td>\n",
       "      <td>2.0</td>\n",
       "      <td>10</td>\n",
       "      <td>0</td>\n",
       "    </tr>\n",
       "    <tr>\n",
       "      <th>2</th>\n",
       "      <td>APPE70289249423</td>\n",
       "      <td>Male</td>\n",
       "      <td>10-12-1982</td>\n",
       "      <td>19-07-2016</td>\n",
       "      <td>C10125</td>\n",
       "      <td>COM0005267</td>\n",
       "      <td>2250.0</td>\n",
       "      <td>B003</td>\n",
       "      <td>Y</td>\n",
       "      <td>S143</td>\n",
       "      <td>0.0</td>\n",
       "      <td>45000.0</td>\n",
       "      <td>4.0</td>\n",
       "      <td>0</td>\n",
       "      <td>0</td>\n",
       "    </tr>\n",
       "    <tr>\n",
       "      <th>3</th>\n",
       "      <td>APPF80273865537</td>\n",
       "      <td>Male</td>\n",
       "      <td>30-01-1989</td>\n",
       "      <td>09-07-2016</td>\n",
       "      <td>C10477</td>\n",
       "      <td>COM0004143</td>\n",
       "      <td>3500.0</td>\n",
       "      <td>B003</td>\n",
       "      <td>Y</td>\n",
       "      <td>S143</td>\n",
       "      <td>0.0</td>\n",
       "      <td>92000.0</td>\n",
       "      <td>5.0</td>\n",
       "      <td>7</td>\n",
       "      <td>0</td>\n",
       "    </tr>\n",
       "    <tr>\n",
       "      <th>4</th>\n",
       "      <td>APPG60994436641</td>\n",
       "      <td>Male</td>\n",
       "      <td>19-04-1985</td>\n",
       "      <td>20-07-2016</td>\n",
       "      <td>C10002</td>\n",
       "      <td>COM0001781</td>\n",
       "      <td>10000.0</td>\n",
       "      <td>B001</td>\n",
       "      <td>Y</td>\n",
       "      <td>S134</td>\n",
       "      <td>2500.0</td>\n",
       "      <td>50000.0</td>\n",
       "      <td>2.0</td>\n",
       "      <td>10</td>\n",
       "      <td>0</td>\n",
       "    </tr>\n",
       "  </tbody>\n",
       "</table>\n",
       "</div>"
      ],
      "text/plain": [
       "                ID  Gender         DOB Lead_Creation_Date City_Code  \\\n",
       "0  APPC90493171225  Female  23-07-1979         15-07-2016    C10001   \n",
       "1  APPD40611263344    Male  07-12-1986         04-07-2016    C10003   \n",
       "2  APPE70289249423    Male  10-12-1982         19-07-2016    C10125   \n",
       "3  APPF80273865537    Male  30-01-1989         09-07-2016    C10477   \n",
       "4  APPG60994436641    Male  19-04-1985         20-07-2016    C10002   \n",
       "\n",
       "  Employer_Code  Monthly_Income Customer_Existing_Primary_Bank_Code Contacted  \\\n",
       "0    COM0044082          2000.0                                B001         N   \n",
       "1    COM0000002          3500.0                                B002         Y   \n",
       "2    COM0005267          2250.0                                B003         Y   \n",
       "3    COM0004143          3500.0                                B003         Y   \n",
       "4    COM0001781         10000.0                                B001         Y   \n",
       "\n",
       "  Source  Existing_EMI  Loan_Amount  Loan_Period  Var1  Approved  \n",
       "0   S122           0.0          NaN          NaN     0         0  \n",
       "1   S122           0.0      20000.0          2.0    10         0  \n",
       "2   S143           0.0      45000.0          4.0     0         0  \n",
       "3   S143           0.0      92000.0          5.0     7         0  \n",
       "4   S134        2500.0      50000.0          2.0    10         0  "
      ]
     },
     "execution_count": 3,
     "metadata": {},
     "output_type": "execute_result"
    }
   ],
   "source": [
    "t1_leads.head()"
   ]
  },
  {
   "cell_type": "code",
   "execution_count": 4,
   "id": "1da83d7f-8ead-4d77-8232-669fd672586a",
   "metadata": {},
   "outputs": [
    {
     "data": {
      "text/html": [
       "<div>\n",
       "<style scoped>\n",
       "    .dataframe tbody tr th:only-of-type {\n",
       "        vertical-align: middle;\n",
       "    }\n",
       "\n",
       "    .dataframe tbody tr th {\n",
       "        vertical-align: top;\n",
       "    }\n",
       "\n",
       "    .dataframe thead th {\n",
       "        text-align: right;\n",
       "    }\n",
       "</style>\n",
       "<table border=\"1\" class=\"dataframe\">\n",
       "  <thead>\n",
       "    <tr style=\"text-align: right;\">\n",
       "      <th></th>\n",
       "      <th>Employer_Code</th>\n",
       "      <th>Employer_Category1</th>\n",
       "      <th>Employer_Category2</th>\n",
       "    </tr>\n",
       "  </thead>\n",
       "  <tbody>\n",
       "    <tr>\n",
       "      <th>0</th>\n",
       "      <td>COM0044082</td>\n",
       "      <td>A</td>\n",
       "      <td>4.0</td>\n",
       "    </tr>\n",
       "    <tr>\n",
       "      <th>1</th>\n",
       "      <td>COM0000002</td>\n",
       "      <td>C</td>\n",
       "      <td>1.0</td>\n",
       "    </tr>\n",
       "    <tr>\n",
       "      <th>2</th>\n",
       "      <td>COM0005267</td>\n",
       "      <td>C</td>\n",
       "      <td>4.0</td>\n",
       "    </tr>\n",
       "    <tr>\n",
       "      <th>3</th>\n",
       "      <td>COM0004143</td>\n",
       "      <td>A</td>\n",
       "      <td>4.0</td>\n",
       "    </tr>\n",
       "    <tr>\n",
       "      <th>4</th>\n",
       "      <td>COM0001781</td>\n",
       "      <td>A</td>\n",
       "      <td>4.0</td>\n",
       "    </tr>\n",
       "  </tbody>\n",
       "</table>\n",
       "</div>"
      ],
      "text/plain": [
       "  Employer_Code Employer_Category1  Employer_Category2\n",
       "0    COM0044082                  A                 4.0\n",
       "1    COM0000002                  C                 1.0\n",
       "2    COM0005267                  C                 4.0\n",
       "3    COM0004143                  A                 4.0\n",
       "4    COM0001781                  A                 4.0"
      ]
     },
     "execution_count": 4,
     "metadata": {},
     "output_type": "execute_result"
    }
   ],
   "source": [
    "#t3_employer\n",
    "t3_employer.head()"
   ]
  },
  {
   "cell_type": "code",
   "execution_count": 5,
   "id": "4eea897d-4e1e-40c0-b4ba-602829a50735",
   "metadata": {},
   "outputs": [
    {
     "data": {
      "text/html": [
       "<div>\n",
       "<style scoped>\n",
       "    .dataframe tbody tr th:only-of-type {\n",
       "        vertical-align: middle;\n",
       "    }\n",
       "\n",
       "    .dataframe tbody tr th {\n",
       "        vertical-align: top;\n",
       "    }\n",
       "\n",
       "    .dataframe thead th {\n",
       "        text-align: right;\n",
       "    }\n",
       "</style>\n",
       "<table border=\"1\" class=\"dataframe\">\n",
       "  <thead>\n",
       "    <tr style=\"text-align: right;\">\n",
       "      <th></th>\n",
       "      <th>ID</th>\n",
       "      <th>Gender</th>\n",
       "      <th>DOB</th>\n",
       "      <th>Lead_Creation_Date</th>\n",
       "      <th>City_Code</th>\n",
       "      <th>City_Category</th>\n",
       "      <th>Employer_Code</th>\n",
       "      <th>Employer_Category1</th>\n",
       "      <th>Employer_Category2</th>\n",
       "      <th>Monthly_Income</th>\n",
       "      <th>...</th>\n",
       "      <th>Primary_Bank_Type</th>\n",
       "      <th>Contacted</th>\n",
       "      <th>Source</th>\n",
       "      <th>Source_Category</th>\n",
       "      <th>Existing_EMI</th>\n",
       "      <th>Loan_Amount</th>\n",
       "      <th>Loan_Period</th>\n",
       "      <th>Interest_Rate</th>\n",
       "      <th>EMI</th>\n",
       "      <th>Var1</th>\n",
       "    </tr>\n",
       "  </thead>\n",
       "  <tbody>\n",
       "    <tr>\n",
       "      <th>0</th>\n",
       "      <td>APPA70109647212</td>\n",
       "      <td>Male</td>\n",
       "      <td>03/06/88</td>\n",
       "      <td>05/07/16</td>\n",
       "      <td>C10028</td>\n",
       "      <td>C</td>\n",
       "      <td>COM0002222</td>\n",
       "      <td>A</td>\n",
       "      <td>4.0</td>\n",
       "      <td>2150.0</td>\n",
       "      <td>...</td>\n",
       "      <td>P</td>\n",
       "      <td>Y</td>\n",
       "      <td>S122</td>\n",
       "      <td>B</td>\n",
       "      <td>0.0</td>\n",
       "      <td>10000.0</td>\n",
       "      <td>3.0</td>\n",
       "      <td>20.0</td>\n",
       "      <td>372.0</td>\n",
       "      <td>4</td>\n",
       "    </tr>\n",
       "    <tr>\n",
       "      <th>1</th>\n",
       "      <td>APPB10687939341</td>\n",
       "      <td>Male</td>\n",
       "      <td>13/07/81</td>\n",
       "      <td>01/07/16</td>\n",
       "      <td>C10003</td>\n",
       "      <td>A</td>\n",
       "      <td>COM0001784</td>\n",
       "      <td>C</td>\n",
       "      <td>4.0</td>\n",
       "      <td>4200.0</td>\n",
       "      <td>...</td>\n",
       "      <td>P</td>\n",
       "      <td>Y</td>\n",
       "      <td>S133</td>\n",
       "      <td>C</td>\n",
       "      <td>0.0</td>\n",
       "      <td>69000.0</td>\n",
       "      <td>5.0</td>\n",
       "      <td>24.0</td>\n",
       "      <td>1985.0</td>\n",
       "      <td>7</td>\n",
       "    </tr>\n",
       "    <tr>\n",
       "      <th>2</th>\n",
       "      <td>APPC80449411414</td>\n",
       "      <td>Female</td>\n",
       "      <td>19/11/90</td>\n",
       "      <td>01/07/16</td>\n",
       "      <td>C10009</td>\n",
       "      <td>B</td>\n",
       "      <td>COM0045260</td>\n",
       "      <td>B</td>\n",
       "      <td>4.0</td>\n",
       "      <td>1000.0</td>\n",
       "      <td>...</td>\n",
       "      <td>P</td>\n",
       "      <td>N</td>\n",
       "      <td>S133</td>\n",
       "      <td>B</td>\n",
       "      <td>0.0</td>\n",
       "      <td>NaN</td>\n",
       "      <td>NaN</td>\n",
       "      <td>NaN</td>\n",
       "      <td>NaN</td>\n",
       "      <td>0</td>\n",
       "    </tr>\n",
       "    <tr>\n",
       "      <th>3</th>\n",
       "      <td>APPD30665094501</td>\n",
       "      <td>Female</td>\n",
       "      <td>15/10/92</td>\n",
       "      <td>01/07/16</td>\n",
       "      <td>C10005</td>\n",
       "      <td>A</td>\n",
       "      <td>COM0000085</td>\n",
       "      <td>A</td>\n",
       "      <td>3.0</td>\n",
       "      <td>1465.0</td>\n",
       "      <td>...</td>\n",
       "      <td>P</td>\n",
       "      <td>N</td>\n",
       "      <td>S133</td>\n",
       "      <td>C</td>\n",
       "      <td>0.0</td>\n",
       "      <td>NaN</td>\n",
       "      <td>NaN</td>\n",
       "      <td>NaN</td>\n",
       "      <td>NaN</td>\n",
       "      <td>0</td>\n",
       "    </tr>\n",
       "    <tr>\n",
       "      <th>4</th>\n",
       "      <td>APPE80379821637</td>\n",
       "      <td>Male</td>\n",
       "      <td>21/09/88</td>\n",
       "      <td>01/07/16</td>\n",
       "      <td>C10005</td>\n",
       "      <td>A</td>\n",
       "      <td>COM0006422</td>\n",
       "      <td>A</td>\n",
       "      <td>4.0</td>\n",
       "      <td>2340.0</td>\n",
       "      <td>...</td>\n",
       "      <td>P</td>\n",
       "      <td>Y</td>\n",
       "      <td>S143</td>\n",
       "      <td>B</td>\n",
       "      <td>500.0</td>\n",
       "      <td>10000.0</td>\n",
       "      <td>2.0</td>\n",
       "      <td>NaN</td>\n",
       "      <td>NaN</td>\n",
       "      <td>0</td>\n",
       "    </tr>\n",
       "  </tbody>\n",
       "</table>\n",
       "<p>5 rows × 21 columns</p>\n",
       "</div>"
      ],
      "text/plain": [
       "                ID  Gender       DOB Lead_Creation_Date City_Code  \\\n",
       "0  APPA70109647212    Male  03/06/88           05/07/16    C10028   \n",
       "1  APPB10687939341    Male  13/07/81           01/07/16    C10003   \n",
       "2  APPC80449411414  Female  19/11/90           01/07/16    C10009   \n",
       "3  APPD30665094501  Female  15/10/92           01/07/16    C10005   \n",
       "4  APPE80379821637    Male  21/09/88           01/07/16    C10005   \n",
       "\n",
       "  City_Category Employer_Code Employer_Category1  Employer_Category2  \\\n",
       "0             C    COM0002222                  A                 4.0   \n",
       "1             A    COM0001784                  C                 4.0   \n",
       "2             B    COM0045260                  B                 4.0   \n",
       "3             A    COM0000085                  A                 3.0   \n",
       "4             A    COM0006422                  A                 4.0   \n",
       "\n",
       "   Monthly_Income  ... Primary_Bank_Type Contacted Source Source_Category  \\\n",
       "0          2150.0  ...                 P         Y   S122               B   \n",
       "1          4200.0  ...                 P         Y   S133               C   \n",
       "2          1000.0  ...                 P         N   S133               B   \n",
       "3          1465.0  ...                 P         N   S133               C   \n",
       "4          2340.0  ...                 P         Y   S143               B   \n",
       "\n",
       "  Existing_EMI  Loan_Amount  Loan_Period  Interest_Rate     EMI  Var1  \n",
       "0          0.0      10000.0          3.0           20.0   372.0     4  \n",
       "1          0.0      69000.0          5.0           24.0  1985.0     7  \n",
       "2          0.0          NaN          NaN            NaN     NaN     0  \n",
       "3          0.0          NaN          NaN            NaN     NaN     0  \n",
       "4        500.0      10000.0          2.0            NaN     NaN     0  \n",
       "\n",
       "[5 rows x 21 columns]"
      ]
     },
     "execution_count": 5,
     "metadata": {},
     "output_type": "execute_result"
    }
   ],
   "source": [
    "#test\n",
    "test.head()"
   ]
  },
  {
   "cell_type": "markdown",
   "id": "fb8750e7-e2ff-4a5c-814c-e78abb1d192d",
   "metadata": {},
   "source": [
    "## 3/ Join/Merge Data"
   ]
  },
  {
   "cell_type": "code",
   "execution_count": 6,
   "id": "8915f5fc-6a2b-470a-a0c1-d8a9238e8c47",
   "metadata": {},
   "outputs": [],
   "source": [
    "# Which join should you use?\n",
    "# 70000 Applicants - Only 22277 have EMI and Interest Rate?\n",
    "# Left - t1_leads\n",
    "# Right - t2_city\n",
    "train = pd.merge(t1_leads, t2_city, how = 'left',on = 'City_Code')"
   ]
  },
  {
   "cell_type": "code",
   "execution_count": 7,
   "id": "13b991bc-ef97-49a8-a11e-dcb57138ead1",
   "metadata": {},
   "outputs": [],
   "source": [
    "# Join Employer - t3_employer\n",
    "train = pd.merge(train, t3_employer, how = 'left',on = 'Employer_Code')"
   ]
  },
  {
   "cell_type": "code",
   "execution_count": 8,
   "id": "58944442-d2e8-49c9-a88a-91cbade007d5",
   "metadata": {},
   "outputs": [],
   "source": [
    "# Join Bank - t4_bank\n",
    "train = pd.merge(train, t4_bank, how = 'left',on = 'Customer_Existing_Primary_Bank_Code')"
   ]
  },
  {
   "cell_type": "code",
   "execution_count": 9,
   "id": "dd8cf868-f8b9-4417-852c-8e622a0aa5bc",
   "metadata": {},
   "outputs": [],
   "source": [
    "# Join Bank - t5_source\n",
    "train = pd.merge(train, t5_source, how = 'left',on = 'Source')"
   ]
  },
  {
   "cell_type": "code",
   "execution_count": 10,
   "id": "e0a911f9-466c-463a-a572-5a8e485ef8cf",
   "metadata": {},
   "outputs": [],
   "source": [
    "# Join Bank - t6_emi\n",
    "train = pd.merge(train, t6_emi, how = 'left',on = 'ID')"
   ]
  },
  {
   "cell_type": "markdown",
   "id": "ac6c3771-54d2-4f44-82a5-a94b47c85f97",
   "metadata": {},
   "source": [
    "### Check Merged Data"
   ]
  },
  {
   "cell_type": "code",
   "execution_count": 11,
   "id": "4b6b1cf3-4a54-48fb-b41d-9b910340a6cc",
   "metadata": {},
   "outputs": [
    {
     "data": {
      "text/html": [
       "<div>\n",
       "<style scoped>\n",
       "    .dataframe tbody tr th:only-of-type {\n",
       "        vertical-align: middle;\n",
       "    }\n",
       "\n",
       "    .dataframe tbody tr th {\n",
       "        vertical-align: top;\n",
       "    }\n",
       "\n",
       "    .dataframe thead th {\n",
       "        text-align: right;\n",
       "    }\n",
       "</style>\n",
       "<table border=\"1\" class=\"dataframe\">\n",
       "  <thead>\n",
       "    <tr style=\"text-align: right;\">\n",
       "      <th></th>\n",
       "      <th>ID</th>\n",
       "      <th>Gender</th>\n",
       "      <th>DOB</th>\n",
       "      <th>Lead_Creation_Date</th>\n",
       "      <th>City_Code</th>\n",
       "      <th>Employer_Code</th>\n",
       "      <th>Monthly_Income</th>\n",
       "      <th>Customer_Existing_Primary_Bank_Code</th>\n",
       "      <th>Contacted</th>\n",
       "      <th>Source</th>\n",
       "      <th>...</th>\n",
       "      <th>Loan_Period</th>\n",
       "      <th>Var1</th>\n",
       "      <th>Approved</th>\n",
       "      <th>City_Category</th>\n",
       "      <th>Employer_Category1</th>\n",
       "      <th>Employer_Category2</th>\n",
       "      <th>Primary_Bank_Type</th>\n",
       "      <th>Source_Category</th>\n",
       "      <th>Interest_Rate</th>\n",
       "      <th>EMI</th>\n",
       "    </tr>\n",
       "  </thead>\n",
       "  <tbody>\n",
       "    <tr>\n",
       "      <th>0</th>\n",
       "      <td>APPC90493171225</td>\n",
       "      <td>Female</td>\n",
       "      <td>23-07-1979</td>\n",
       "      <td>15-07-2016</td>\n",
       "      <td>C10001</td>\n",
       "      <td>COM0044082</td>\n",
       "      <td>2000.0</td>\n",
       "      <td>B001</td>\n",
       "      <td>N</td>\n",
       "      <td>S122</td>\n",
       "      <td>...</td>\n",
       "      <td>NaN</td>\n",
       "      <td>0</td>\n",
       "      <td>0</td>\n",
       "      <td>A</td>\n",
       "      <td>A</td>\n",
       "      <td>4.0</td>\n",
       "      <td>P</td>\n",
       "      <td>G</td>\n",
       "      <td>NaN</td>\n",
       "      <td>NaN</td>\n",
       "    </tr>\n",
       "    <tr>\n",
       "      <th>1</th>\n",
       "      <td>APPC90493171225</td>\n",
       "      <td>Female</td>\n",
       "      <td>23-07-1979</td>\n",
       "      <td>15-07-2016</td>\n",
       "      <td>C10001</td>\n",
       "      <td>COM0044082</td>\n",
       "      <td>2000.0</td>\n",
       "      <td>B001</td>\n",
       "      <td>N</td>\n",
       "      <td>S122</td>\n",
       "      <td>...</td>\n",
       "      <td>NaN</td>\n",
       "      <td>0</td>\n",
       "      <td>0</td>\n",
       "      <td>A</td>\n",
       "      <td>A</td>\n",
       "      <td>4.0</td>\n",
       "      <td>P</td>\n",
       "      <td>C</td>\n",
       "      <td>NaN</td>\n",
       "      <td>NaN</td>\n",
       "    </tr>\n",
       "    <tr>\n",
       "      <th>2</th>\n",
       "      <td>APPC90493171225</td>\n",
       "      <td>Female</td>\n",
       "      <td>23-07-1979</td>\n",
       "      <td>15-07-2016</td>\n",
       "      <td>C10001</td>\n",
       "      <td>COM0044082</td>\n",
       "      <td>2000.0</td>\n",
       "      <td>B001</td>\n",
       "      <td>N</td>\n",
       "      <td>S122</td>\n",
       "      <td>...</td>\n",
       "      <td>NaN</td>\n",
       "      <td>0</td>\n",
       "      <td>0</td>\n",
       "      <td>A</td>\n",
       "      <td>A</td>\n",
       "      <td>4.0</td>\n",
       "      <td>P</td>\n",
       "      <td>B</td>\n",
       "      <td>NaN</td>\n",
       "      <td>NaN</td>\n",
       "    </tr>\n",
       "    <tr>\n",
       "      <th>3</th>\n",
       "      <td>APPC90493171225</td>\n",
       "      <td>Female</td>\n",
       "      <td>23-07-1979</td>\n",
       "      <td>15-07-2016</td>\n",
       "      <td>C10001</td>\n",
       "      <td>COM0044082</td>\n",
       "      <td>2000.0</td>\n",
       "      <td>B001</td>\n",
       "      <td>N</td>\n",
       "      <td>S122</td>\n",
       "      <td>...</td>\n",
       "      <td>NaN</td>\n",
       "      <td>0</td>\n",
       "      <td>0</td>\n",
       "      <td>A</td>\n",
       "      <td>A</td>\n",
       "      <td>4.0</td>\n",
       "      <td>P</td>\n",
       "      <td>E</td>\n",
       "      <td>NaN</td>\n",
       "      <td>NaN</td>\n",
       "    </tr>\n",
       "    <tr>\n",
       "      <th>4</th>\n",
       "      <td>APPC90493171225</td>\n",
       "      <td>Female</td>\n",
       "      <td>23-07-1979</td>\n",
       "      <td>15-07-2016</td>\n",
       "      <td>C10001</td>\n",
       "      <td>COM0044082</td>\n",
       "      <td>2000.0</td>\n",
       "      <td>B001</td>\n",
       "      <td>N</td>\n",
       "      <td>S122</td>\n",
       "      <td>...</td>\n",
       "      <td>NaN</td>\n",
       "      <td>0</td>\n",
       "      <td>0</td>\n",
       "      <td>A</td>\n",
       "      <td>A</td>\n",
       "      <td>4.0</td>\n",
       "      <td>P</td>\n",
       "      <td>F</td>\n",
       "      <td>NaN</td>\n",
       "      <td>NaN</td>\n",
       "    </tr>\n",
       "  </tbody>\n",
       "</table>\n",
       "<p>5 rows × 22 columns</p>\n",
       "</div>"
      ],
      "text/plain": [
       "                ID  Gender         DOB Lead_Creation_Date City_Code  \\\n",
       "0  APPC90493171225  Female  23-07-1979         15-07-2016    C10001   \n",
       "1  APPC90493171225  Female  23-07-1979         15-07-2016    C10001   \n",
       "2  APPC90493171225  Female  23-07-1979         15-07-2016    C10001   \n",
       "3  APPC90493171225  Female  23-07-1979         15-07-2016    C10001   \n",
       "4  APPC90493171225  Female  23-07-1979         15-07-2016    C10001   \n",
       "\n",
       "  Employer_Code  Monthly_Income Customer_Existing_Primary_Bank_Code Contacted  \\\n",
       "0    COM0044082          2000.0                                B001         N   \n",
       "1    COM0044082          2000.0                                B001         N   \n",
       "2    COM0044082          2000.0                                B001         N   \n",
       "3    COM0044082          2000.0                                B001         N   \n",
       "4    COM0044082          2000.0                                B001         N   \n",
       "\n",
       "  Source  ...  Loan_Period  Var1  Approved  City_Category  Employer_Category1  \\\n",
       "0   S122  ...          NaN     0         0              A                   A   \n",
       "1   S122  ...          NaN     0         0              A                   A   \n",
       "2   S122  ...          NaN     0         0              A                   A   \n",
       "3   S122  ...          NaN     0         0              A                   A   \n",
       "4   S122  ...          NaN     0         0              A                   A   \n",
       "\n",
       "  Employer_Category2 Primary_Bank_Type  Source_Category Interest_Rate EMI  \n",
       "0                4.0                 P                G           NaN NaN  \n",
       "1                4.0                 P                C           NaN NaN  \n",
       "2                4.0                 P                B           NaN NaN  \n",
       "3                4.0                 P                E           NaN NaN  \n",
       "4                4.0                 P                F           NaN NaN  \n",
       "\n",
       "[5 rows x 22 columns]"
      ]
     },
     "execution_count": 11,
     "metadata": {},
     "output_type": "execute_result"
    }
   ],
   "source": [
    "train.head()"
   ]
  },
  {
   "cell_type": "code",
   "execution_count": 12,
   "id": "edd7e7c5-bfb2-4f91-b9e2-afc487aa4016",
   "metadata": {},
   "outputs": [
    {
     "name": "stdout",
     "output_type": "stream",
     "text": [
      "<class 'pandas.core.frame.DataFrame'>\n",
      "Int64Index: 319900 entries, 0 to 319899\n",
      "Data columns (total 22 columns):\n",
      " #   Column                               Non-Null Count   Dtype  \n",
      "---  ------                               --------------   -----  \n",
      " 0   ID                                   319900 non-null  object \n",
      " 1   Gender                               319900 non-null  object \n",
      " 2   DOB                                  319810 non-null  object \n",
      " 3   Lead_Creation_Date                   319900 non-null  object \n",
      " 4   City_Code                            315016 non-null  object \n",
      " 5   Employer_Code                        296373 non-null  object \n",
      " 6   Monthly_Income                       319900 non-null  float64\n",
      " 7   Customer_Existing_Primary_Bank_Code  271208 non-null  object \n",
      " 8   Contacted                            319900 non-null  object \n",
      " 9   Source                               319900 non-null  object \n",
      " 10  Existing_EMI                         319596 non-null  float64\n",
      " 11  Loan_Amount                          189015 non-null  float64\n",
      " 12  Loan_Period                          189015 non-null  float64\n",
      " 13  Var1                                 319900 non-null  int64  \n",
      " 14  Approved                             319900 non-null  int64  \n",
      " 15  City_Category                        315016 non-null  object \n",
      " 16  Employer_Category1                   296373 non-null  object \n",
      " 17  Employer_Category2                   294988 non-null  float64\n",
      " 18  Primary_Bank_Type                    271208 non-null  object \n",
      " 19  Source_Category                      319900 non-null  object \n",
      " 20  Interest_Rate                        99114 non-null   float64\n",
      " 21  EMI                                  99114 non-null   float64\n",
      "dtypes: float64(7), int64(2), object(13)\n",
      "memory usage: 56.1+ MB\n"
     ]
    }
   ],
   "source": [
    "train.info()"
   ]
  },
  {
   "cell_type": "markdown",
   "id": "fd61deca-7ad8-4802-99d7-00c39b6158af",
   "metadata": {},
   "source": [
    "## 4/ Convert String to Date Format"
   ]
  },
  {
   "cell_type": "markdown",
   "id": "e92c7719-6f6e-48c8-bbca-41d2a62274a2",
   "metadata": {},
   "source": [
    "### Convert: Lead_Creation_Date"
   ]
  },
  {
   "cell_type": "code",
   "execution_count": 13,
   "id": "636206ae-c256-44b2-b79e-970f33cf9cad",
   "metadata": {},
   "outputs": [],
   "source": [
    "# Train\n",
    "train['Lead_Creation_Date'] = pd.to_datetime(train['Lead_Creation_Date'], infer_datetime_format = True)\n",
    "\n",
    "# Test (need to do the same for Test too)\n",
    "test['Lead_Creation_Date'] = pd.to_datetime(test['Lead_Creation_Date'], infer_datetime_format = True)"
   ]
  },
  {
   "cell_type": "code",
   "execution_count": 14,
   "id": "c3679fa4-f316-4be6-9ffe-74944c5f74a3",
   "metadata": {},
   "outputs": [
    {
     "name": "stdout",
     "output_type": "stream",
     "text": [
      "<class 'pandas.core.frame.DataFrame'>\n",
      "Int64Index: 319900 entries, 0 to 319899\n",
      "Data columns (total 22 columns):\n",
      " #   Column                               Non-Null Count   Dtype         \n",
      "---  ------                               --------------   -----         \n",
      " 0   ID                                   319900 non-null  object        \n",
      " 1   Gender                               319900 non-null  object        \n",
      " 2   DOB                                  319810 non-null  object        \n",
      " 3   Lead_Creation_Date                   319900 non-null  datetime64[ns]\n",
      " 4   City_Code                            315016 non-null  object        \n",
      " 5   Employer_Code                        296373 non-null  object        \n",
      " 6   Monthly_Income                       319900 non-null  float64       \n",
      " 7   Customer_Existing_Primary_Bank_Code  271208 non-null  object        \n",
      " 8   Contacted                            319900 non-null  object        \n",
      " 9   Source                               319900 non-null  object        \n",
      " 10  Existing_EMI                         319596 non-null  float64       \n",
      " 11  Loan_Amount                          189015 non-null  float64       \n",
      " 12  Loan_Period                          189015 non-null  float64       \n",
      " 13  Var1                                 319900 non-null  int64         \n",
      " 14  Approved                             319900 non-null  int64         \n",
      " 15  City_Category                        315016 non-null  object        \n",
      " 16  Employer_Category1                   296373 non-null  object        \n",
      " 17  Employer_Category2                   294988 non-null  float64       \n",
      " 18  Primary_Bank_Type                    271208 non-null  object        \n",
      " 19  Source_Category                      319900 non-null  object        \n",
      " 20  Interest_Rate                        99114 non-null   float64       \n",
      " 21  EMI                                  99114 non-null   float64       \n",
      "dtypes: datetime64[ns](1), float64(7), int64(2), object(12)\n",
      "memory usage: 56.1+ MB\n"
     ]
    }
   ],
   "source": [
    "train.info()"
   ]
  },
  {
   "cell_type": "markdown",
   "id": "0d7d713c-75b8-444a-8424-571a482a3f03",
   "metadata": {},
   "source": [
    "### Convert: DOB"
   ]
  },
  {
   "cell_type": "code",
   "execution_count": 15,
   "id": "2aab4d35-66bc-45a5-8255-0fc21c5890c4",
   "metadata": {},
   "outputs": [],
   "source": [
    "# Train\n",
    "train['DOB'] = pd.to_datetime(train['DOB'], infer_datetime_format = True)\n",
    "\n",
    "# Test\n",
    "test['DOB'] = pd.to_datetime(test['DOB'], infer_datetime_format = True)"
   ]
  },
  {
   "cell_type": "code",
   "execution_count": 16,
   "id": "31cce585-21c9-4f70-9c7d-c31b62317001",
   "metadata": {},
   "outputs": [
    {
     "name": "stdout",
     "output_type": "stream",
     "text": [
      "<class 'pandas.core.frame.DataFrame'>\n",
      "Int64Index: 319900 entries, 0 to 319899\n",
      "Data columns (total 22 columns):\n",
      " #   Column                               Non-Null Count   Dtype         \n",
      "---  ------                               --------------   -----         \n",
      " 0   ID                                   319900 non-null  object        \n",
      " 1   Gender                               319900 non-null  object        \n",
      " 2   DOB                                  319810 non-null  datetime64[ns]\n",
      " 3   Lead_Creation_Date                   319900 non-null  datetime64[ns]\n",
      " 4   City_Code                            315016 non-null  object        \n",
      " 5   Employer_Code                        296373 non-null  object        \n",
      " 6   Monthly_Income                       319900 non-null  float64       \n",
      " 7   Customer_Existing_Primary_Bank_Code  271208 non-null  object        \n",
      " 8   Contacted                            319900 non-null  object        \n",
      " 9   Source                               319900 non-null  object        \n",
      " 10  Existing_EMI                         319596 non-null  float64       \n",
      " 11  Loan_Amount                          189015 non-null  float64       \n",
      " 12  Loan_Period                          189015 non-null  float64       \n",
      " 13  Var1                                 319900 non-null  int64         \n",
      " 14  Approved                             319900 non-null  int64         \n",
      " 15  City_Category                        315016 non-null  object        \n",
      " 16  Employer_Category1                   296373 non-null  object        \n",
      " 17  Employer_Category2                   294988 non-null  float64       \n",
      " 18  Primary_Bank_Type                    271208 non-null  object        \n",
      " 19  Source_Category                      319900 non-null  object        \n",
      " 20  Interest_Rate                        99114 non-null   float64       \n",
      " 21  EMI                                  99114 non-null   float64       \n",
      "dtypes: datetime64[ns](2), float64(7), int64(2), object(11)\n",
      "memory usage: 56.1+ MB\n"
     ]
    }
   ],
   "source": [
    "train.info()"
   ]
  },
  {
   "cell_type": "markdown",
   "id": "eab389ee-9dcb-42d4-9cdd-2d67a132ffe1",
   "metadata": {},
   "source": [
    "## 5/ Identify Missing Values"
   ]
  },
  {
   "cell_type": "markdown",
   "id": "1dbbd829-2a48-4c89-8d51-c97dfbe50fd4",
   "metadata": {},
   "source": [
    "### Option 1: info"
   ]
  },
  {
   "cell_type": "code",
   "execution_count": 17,
   "id": "9143f3a9-2956-4fbe-b50f-9f0597ff9d25",
   "metadata": {},
   "outputs": [
    {
     "name": "stdout",
     "output_type": "stream",
     "text": [
      "<class 'pandas.core.frame.DataFrame'>\n",
      "Int64Index: 319900 entries, 0 to 319899\n",
      "Data columns (total 22 columns):\n",
      " #   Column                               Non-Null Count   Dtype         \n",
      "---  ------                               --------------   -----         \n",
      " 0   ID                                   319900 non-null  object        \n",
      " 1   Gender                               319900 non-null  object        \n",
      " 2   DOB                                  319810 non-null  datetime64[ns]\n",
      " 3   Lead_Creation_Date                   319900 non-null  datetime64[ns]\n",
      " 4   City_Code                            315016 non-null  object        \n",
      " 5   Employer_Code                        296373 non-null  object        \n",
      " 6   Monthly_Income                       319900 non-null  float64       \n",
      " 7   Customer_Existing_Primary_Bank_Code  271208 non-null  object        \n",
      " 8   Contacted                            319900 non-null  object        \n",
      " 9   Source                               319900 non-null  object        \n",
      " 10  Existing_EMI                         319596 non-null  float64       \n",
      " 11  Loan_Amount                          189015 non-null  float64       \n",
      " 12  Loan_Period                          189015 non-null  float64       \n",
      " 13  Var1                                 319900 non-null  int64         \n",
      " 14  Approved                             319900 non-null  int64         \n",
      " 15  City_Category                        315016 non-null  object        \n",
      " 16  Employer_Category1                   296373 non-null  object        \n",
      " 17  Employer_Category2                   294988 non-null  float64       \n",
      " 18  Primary_Bank_Type                    271208 non-null  object        \n",
      " 19  Source_Category                      319900 non-null  object        \n",
      " 20  Interest_Rate                        99114 non-null   float64       \n",
      " 21  EMI                                  99114 non-null   float64       \n",
      "dtypes: datetime64[ns](2), float64(7), int64(2), object(11)\n",
      "memory usage: 56.1+ MB\n"
     ]
    }
   ],
   "source": [
    "train.info()"
   ]
  },
  {
   "cell_type": "markdown",
   "id": "284bf5e4-cc52-4c56-9e13-d3fbd58bf140",
   "metadata": {},
   "source": [
    "### Option 2: isnull + sum"
   ]
  },
  {
   "cell_type": "code",
   "execution_count": 18,
   "id": "370c91f8-0413-4c52-9de8-0cc22c1fe39a",
   "metadata": {},
   "outputs": [
    {
     "data": {
      "text/plain": [
       "ID                                          0\n",
       "Gender                                      0\n",
       "DOB                                        90\n",
       "Lead_Creation_Date                          0\n",
       "City_Code                                4884\n",
       "Employer_Code                           23527\n",
       "Monthly_Income                              0\n",
       "Customer_Existing_Primary_Bank_Code     48692\n",
       "Contacted                                   0\n",
       "Source                                      0\n",
       "Existing_EMI                              304\n",
       "Loan_Amount                            130885\n",
       "Loan_Period                            130885\n",
       "Var1                                        0\n",
       "Approved                                    0\n",
       "City_Category                            4884\n",
       "Employer_Category1                      23527\n",
       "Employer_Category2                      24912\n",
       "Primary_Bank_Type                       48692\n",
       "Source_Category                             0\n",
       "Interest_Rate                          220786\n",
       "EMI                                    220786\n",
       "dtype: int64"
      ]
     },
     "execution_count": 18,
     "metadata": {},
     "output_type": "execute_result"
    }
   ],
   "source": [
    "train.isnull().sum()"
   ]
  },
  {
   "cell_type": "markdown",
   "id": "6604a6c3-f1ff-4ff8-8176-7e43a02814cb",
   "metadata": {},
   "source": [
    "### Option 3: Percentage Missing"
   ]
  },
  {
   "cell_type": "code",
   "execution_count": 19,
   "id": "4ef07062-d04c-49cc-bc1b-f68a38aa77b5",
   "metadata": {},
   "outputs": [
    {
     "data": {
      "text/plain": [
       "ID                                     0.000000\n",
       "Gender                                 0.000000\n",
       "DOB                                    0.000281\n",
       "Lead_Creation_Date                     0.000000\n",
       "City_Code                              0.015267\n",
       "Employer_Code                          0.073545\n",
       "Monthly_Income                         0.000000\n",
       "Customer_Existing_Primary_Bank_Code    0.152210\n",
       "Contacted                              0.000000\n",
       "Source                                 0.000000\n",
       "Existing_EMI                           0.000950\n",
       "Loan_Amount                            0.409143\n",
       "Loan_Period                            0.409143\n",
       "Var1                                   0.000000\n",
       "Approved                               0.000000\n",
       "City_Category                          0.015267\n",
       "Employer_Category1                     0.073545\n",
       "Employer_Category2                     0.077874\n",
       "Primary_Bank_Type                      0.152210\n",
       "Source_Category                        0.000000\n",
       "Interest_Rate                          0.690172\n",
       "EMI                                    0.690172\n",
       "dtype: float64"
      ]
     },
     "execution_count": 19,
     "metadata": {},
     "output_type": "execute_result"
    }
   ],
   "source": [
    "train.isnull().sum()/len(train)"
   ]
  },
  {
   "cell_type": "markdown",
   "id": "ec043758-5bd2-4a38-b6e9-595454c5d2e7",
   "metadata": {},
   "source": [
    "## **Additional : Export Missing Value Perc Data\n",
    "- Convert Series (Index + Values) to DataFrame\n",
    "- Export Table (use name - missing_value_summary.csv)"
   ]
  },
  {
   "cell_type": "code",
   "execution_count": 20,
   "id": "aea019bf-f830-4d7b-8f7d-f19c19bb6e01",
   "metadata": {},
   "outputs": [],
   "source": [
    "# Create Series of Percentage Missing\n",
    "missing_value_percentage = (train.isnull().sum()/len(train))"
   ]
  },
  {
   "cell_type": "code",
   "execution_count": 21,
   "id": "78ff77a5-64d3-4457-a8bf-b74a33f6ec45",
   "metadata": {},
   "outputs": [
    {
     "data": {
      "text/plain": [
       "array([0.00000000e+00, 0.00000000e+00, 2.81337918e-04, 0.00000000e+00,\n",
       "       1.52672710e-02, 7.35448578e-02, 0.00000000e+00, 1.52210066e-01,\n",
       "       0.00000000e+00, 0.00000000e+00, 9.50296968e-04, 4.09143482e-01,\n",
       "       4.09143482e-01, 0.00000000e+00, 0.00000000e+00, 1.52672710e-02,\n",
       "       7.35448578e-02, 7.78743357e-02, 1.52210066e-01, 0.00000000e+00,\n",
       "       6.90171929e-01, 6.90171929e-01])"
      ]
     },
     "execution_count": 21,
     "metadata": {},
     "output_type": "execute_result"
    }
   ],
   "source": [
    "missing_value_percentage.values"
   ]
  },
  {
   "cell_type": "code",
   "execution_count": 22,
   "id": "e0e96fc8-c4a2-4582-9c5a-0ff7a3d00e12",
   "metadata": {},
   "outputs": [
    {
     "data": {
      "text/plain": [
       "pandas.core.series.Series"
      ]
     },
     "execution_count": 22,
     "metadata": {},
     "output_type": "execute_result"
    }
   ],
   "source": [
    "# Check Data Type\n",
    "type(missing_value_percentage)"
   ]
  },
  {
   "cell_type": "code",
   "execution_count": 23,
   "id": "8b888beb-f42e-480c-8e95-8ca8aab4c60a",
   "metadata": {},
   "outputs": [],
   "source": [
    "# Create DataFrame\n",
    "missing_value_summary = pd.DataFrame({\n",
    "   'Feature_Name' : missing_value_percentage.index,\n",
    "    'Missing_Percentage' : missing_value_percentage.values\n",
    "})"
   ]
  },
  {
   "cell_type": "code",
   "execution_count": 24,
   "id": "ac8a3c63-9a9f-4f63-9e75-88a340b4e658",
   "metadata": {},
   "outputs": [],
   "source": [
    "#missing_value_summary"
   ]
  },
  {
   "cell_type": "code",
   "execution_count": 25,
   "id": "5d2fa5eb-a452-4fbd-87d4-282907466dd5",
   "metadata": {},
   "outputs": [],
   "source": [
    "#Export DataFrame\n",
    "missing_value_summary.to_csv('missing_value_summary.csv', index = False)"
   ]
  },
  {
   "cell_type": "markdown",
   "id": "80ced775-0071-4c73-b4bf-fbbb857e05bb",
   "metadata": {},
   "source": [
    "## 6/ Impute Missing Values"
   ]
  },
  {
   "cell_type": "markdown",
   "id": "5ab9988d-6200-45fd-805d-22a22b24ccf4",
   "metadata": {},
   "source": [
    "### 1/ Continuous - Indentify and Impute"
   ]
  },
  {
   "cell_type": "code",
   "execution_count": 26,
   "id": "4dfa63df-0fb6-45a6-9075-b9ba914e256d",
   "metadata": {},
   "outputs": [
    {
     "data": {
      "text/plain": [
       "['DOB',\n",
       " 'Lead_Creation_Date',\n",
       " 'Monthly_Income',\n",
       " 'Existing_EMI',\n",
       " 'Loan_Amount',\n",
       " 'Loan_Period',\n",
       " 'Var1',\n",
       " 'Employer_Category2',\n",
       " 'Interest_Rate',\n",
       " 'EMI']"
      ]
     },
     "execution_count": 26,
     "metadata": {},
     "output_type": "execute_result"
    }
   ],
   "source": [
    "numerical_features = [feature for feature in train.columns if train[feature].dtypes!='O' and feature !='ID' and feature !='Approved']\n",
    "numerical_features"
   ]
  },
  {
   "cell_type": "code",
   "execution_count": 27,
   "id": "db3db6ec-a90b-40b8-8c49-a22820bee010",
   "metadata": {},
   "outputs": [
    {
     "data": {
      "text/plain": [
       "DOB                       90\n",
       "Lead_Creation_Date         0\n",
       "Monthly_Income             0\n",
       "Existing_EMI             304\n",
       "Loan_Amount           130885\n",
       "Loan_Period           130885\n",
       "Var1                       0\n",
       "Employer_Category2     24912\n",
       "Interest_Rate         220786\n",
       "EMI                   220786\n",
       "dtype: int64"
      ]
     },
     "execution_count": 27,
     "metadata": {},
     "output_type": "execute_result"
    }
   ],
   "source": [
    "# Check Missing\n",
    "train[numerical_features].isnull().sum()"
   ]
  },
  {
   "cell_type": "markdown",
   "id": "5809ab51-b9dc-4fbb-9a06-e57f0af07817",
   "metadata": {},
   "source": [
    "#### Option 1: fillna - default options\n",
    "- bfill\n",
    "- ffill"
   ]
  },
  {
   "cell_type": "code",
   "execution_count": 28,
   "id": "dfa8e72a-b740-4998-8f95-c69e5b12e73e",
   "metadata": {},
   "outputs": [
    {
     "data": {
      "text/plain": [
       "0"
      ]
     },
     "execution_count": 28,
     "metadata": {},
     "output_type": "execute_result"
    }
   ],
   "source": [
    "train['Monthly_Income'].fillna(method = 'bfill').isnull().sum()\n",
    "train['Existing_EMI'].fillna(method = 'bfill').isnull().sum()\n",
    "train['Loan_Amount'].fillna(method = 'bfill').isnull().sum()\n",
    "train['Loan_Period'].fillna(method = 'bfill').isnull().sum()\n",
    "train['Var1'].fillna(method = 'bfill').isnull().sum()"
   ]
  },
  {
   "cell_type": "markdown",
   "id": "bd7e8e98-d459-4189-a121-20c91e12886f",
   "metadata": {},
   "source": [
    "#### Option 2: fillna with mean, median, mode"
   ]
  },
  {
   "cell_type": "code",
   "execution_count": 29,
   "id": "ff58ff4c-0d52-4d78-bb18-d3390443b3a2",
   "metadata": {},
   "outputs": [
    {
     "data": {
      "text/plain": [
       "0          0\n",
       "1          0\n",
       "2          0\n",
       "3          0\n",
       "4          0\n",
       "          ..\n",
       "319895    10\n",
       "319896    10\n",
       "319897    10\n",
       "319898    10\n",
       "319899    10\n",
       "Name: Var1, Length: 319900, dtype: int64"
      ]
     },
     "execution_count": 29,
     "metadata": {},
     "output_type": "execute_result"
    }
   ],
   "source": [
    "train['Monthly_Income'].fillna(train['Monthly_Income'].median())\n",
    "train['Existing_EMI'].fillna(train['Existing_EMI'].median())\n",
    "train['Loan_Amount'].fillna(train['Loan_Amount'].median())\n",
    "train['Loan_Period'].fillna(train['Loan_Period'].median())\n",
    "train['Var1'].fillna(train['Var1'].median())"
   ]
  },
  {
   "cell_type": "markdown",
   "id": "27dba202-add8-4d54-9f70-a14cf4c70916",
   "metadata": {},
   "source": [
    "#### Commit Changes to Missing Value Column"
   ]
  },
  {
   "cell_type": "code",
   "execution_count": 30,
   "id": "d4030c0c-7e84-4d9d-9910-0bb8915ff2c5",
   "metadata": {},
   "outputs": [],
   "source": [
    "train['Monthly_Income'] = train['Monthly_Income'].fillna(train['Monthly_Income'].median())\n",
    "train['Existing_EMI'] = train['Existing_EMI'].fillna(train['Existing_EMI'].median())\n",
    "train['Loan_Amount'] = train['Loan_Amount'].fillna(train['Loan_Amount'].median())\n",
    "train['Loan_Period'] = train['Loan_Period'].fillna(train['Loan_Period'].median())\n",
    "train['Var1'] = train['Var1'].fillna(train['Var1'].median())\n",
    "train['Employer_Category2'] = train['Employer_Category2'].fillna(train['Var1'].median())\n",
    "train['Interest_Rate'] = train['Interest_Rate'].fillna(train['Interest_Rate'].median())\n",
    "train['EMI'] = train['EMI'].fillna(train['EMI'].median())"
   ]
  },
  {
   "cell_type": "markdown",
   "id": "37c8d030-9cc2-44d4-b0f3-0f45f37c354d",
   "metadata": {},
   "source": [
    "#### Check Again"
   ]
  },
  {
   "cell_type": "code",
   "execution_count": 31,
   "id": "42b250f4-8e18-47d7-8e00-598577a2331b",
   "metadata": {},
   "outputs": [
    {
     "data": {
      "text/plain": [
       "ID                                         0\n",
       "Gender                                     0\n",
       "DOB                                       90\n",
       "Lead_Creation_Date                         0\n",
       "City_Code                               4884\n",
       "Employer_Code                          23527\n",
       "Monthly_Income                             0\n",
       "Customer_Existing_Primary_Bank_Code    48692\n",
       "Contacted                                  0\n",
       "Source                                     0\n",
       "Existing_EMI                               0\n",
       "Loan_Amount                                0\n",
       "Loan_Period                                0\n",
       "Var1                                       0\n",
       "Approved                                   0\n",
       "City_Category                           4884\n",
       "Employer_Category1                     23527\n",
       "Employer_Category2                         0\n",
       "Primary_Bank_Type                      48692\n",
       "Source_Category                            0\n",
       "Interest_Rate                              0\n",
       "EMI                                        0\n",
       "dtype: int64"
      ]
     },
     "execution_count": 31,
     "metadata": {},
     "output_type": "execute_result"
    }
   ],
   "source": [
    "train.isnull().sum()"
   ]
  },
  {
   "cell_type": "markdown",
   "id": "3ca3c746-0385-41b8-816b-938045695d6f",
   "metadata": {},
   "source": [
    "### 3/ Categorical - Identify and Impute"
   ]
  },
  {
   "cell_type": "code",
   "execution_count": 32,
   "id": "8a4b385b-e6ad-4d07-8446-6580e2f05c63",
   "metadata": {},
   "outputs": [
    {
     "data": {
      "text/plain": [
       "['Gender',\n",
       " 'City_Code',\n",
       " 'Employer_Code',\n",
       " 'Customer_Existing_Primary_Bank_Code',\n",
       " 'Contacted',\n",
       " 'Source',\n",
       " 'City_Category',\n",
       " 'Employer_Category1',\n",
       " 'Primary_Bank_Type',\n",
       " 'Source_Category']"
      ]
     },
     "execution_count": 32,
     "metadata": {},
     "output_type": "execute_result"
    }
   ],
   "source": [
    "categorical_features = [feature for feature in train.columns if train[feature].dtypes=='O' and feature !='ID' and feature !='Approved']\n",
    "categorical_features"
   ]
  },
  {
   "cell_type": "code",
   "execution_count": 33,
   "id": "5217737f-100b-49f2-8714-fa1f2be1f4e2",
   "metadata": {},
   "outputs": [
    {
     "data": {
      "text/plain": [
       "Gender                                     0\n",
       "City_Code                               4884\n",
       "Employer_Code                          23527\n",
       "Customer_Existing_Primary_Bank_Code    48692\n",
       "Contacted                                  0\n",
       "Source                                     0\n",
       "City_Category                           4884\n",
       "Employer_Category1                     23527\n",
       "Primary_Bank_Type                      48692\n",
       "Source_Category                            0\n",
       "dtype: int64"
      ]
     },
     "execution_count": 33,
     "metadata": {},
     "output_type": "execute_result"
    }
   ],
   "source": [
    "# Check Missing\n",
    "train[categorical_features].isnull().sum()"
   ]
  },
  {
   "cell_type": "markdown",
   "id": "60fc24fc-5aaa-4833-bfb7-c0ef9febb86a",
   "metadata": {},
   "source": [
    "#### Option 1 - fillna (missing)"
   ]
  },
  {
   "cell_type": "code",
   "execution_count": 34,
   "id": "78126d9d-504a-4cf2-858f-879dd14f5d13",
   "metadata": {},
   "outputs": [
    {
     "data": {
      "text/plain": [
       "0               P\n",
       "1               P\n",
       "2               P\n",
       "3               P\n",
       "4               P\n",
       "           ...   \n",
       "319895    missing\n",
       "319896    missing\n",
       "319897    missing\n",
       "319898    missing\n",
       "319899    missing\n",
       "Name: Primary_Bank_Type, Length: 319900, dtype: object"
      ]
     },
     "execution_count": 34,
     "metadata": {},
     "output_type": "execute_result"
    }
   ],
   "source": [
    "train['DOB'].fillna(\"missing\")\n",
    "train['City_Code'].fillna(\"missing\")\n",
    "train['Employer_Code'].fillna(\"missing\")\n",
    "train['Customer_Existing_Primary_Bank_Code'].fillna(\"missing\")\n",
    "train['City_Category'].fillna(\"missing\")\n",
    "train['Employer_Category1'].fillna(\"missing\")\n",
    "train['Primary_Bank_Type'].fillna(\"missing\")"
   ]
  },
  {
   "cell_type": "markdown",
   "id": "2830d636-7252-4d9b-baab-68bac1cdd246",
   "metadata": {},
   "source": [
    "#### Option 2 - fillna (mode)"
   ]
  },
  {
   "cell_type": "code",
   "execution_count": 35,
   "id": "4c023c47-c8bf-41ab-af6e-8d5e7200b1e7",
   "metadata": {},
   "outputs": [
    {
     "data": {
      "text/plain": [
       "'A'"
      ]
     },
     "execution_count": 35,
     "metadata": {},
     "output_type": "execute_result"
    }
   ],
   "source": [
    "train['City_Category'].mode()[0]"
   ]
  },
  {
   "cell_type": "code",
   "execution_count": 36,
   "id": "40204135-6b69-47fb-be85-fe7dd327a545",
   "metadata": {},
   "outputs": [],
   "source": [
    "train['City_Category'] = train['City_Category'].fillna(train['City_Category'].mode()[0])"
   ]
  },
  {
   "cell_type": "markdown",
   "id": "582afd8e-6f80-4847-b532-8a94a9f57b26",
   "metadata": {},
   "source": [
    "#### Commit Changes"
   ]
  },
  {
   "cell_type": "code",
   "execution_count": 37,
   "id": "14049b65-e09a-4c31-81f6-380a9b5ae950",
   "metadata": {},
   "outputs": [],
   "source": [
    "train['DOB'] = train['DOB'].fillna(\"missing\")\n",
    "train['City_Code'] = train['City_Code'].fillna(\"missing\")\n",
    "train['Employer_Code'] = train['Employer_Code'].fillna(\"missing\")\n",
    "train['Customer_Existing_Primary_Bank_Code'] = train['Customer_Existing_Primary_Bank_Code'].fillna(\"missing\")\n",
    "train['City_Category'] = train['City_Category'].fillna(\"missing\")\n",
    "train['Employer_Category1'] = train['Employer_Category1'].fillna(\"missing\")\n",
    "train['Primary_Bank_Type'] = train['Primary_Bank_Type'].fillna(\"missing\")"
   ]
  },
  {
   "cell_type": "code",
   "execution_count": 38,
   "id": "54f5e174-813e-4188-835e-65dcaf3e9ddd",
   "metadata": {},
   "outputs": [
    {
     "data": {
      "text/plain": [
       "ID                                     0\n",
       "Gender                                 0\n",
       "DOB                                    0\n",
       "Lead_Creation_Date                     0\n",
       "City_Code                              0\n",
       "Employer_Code                          0\n",
       "Monthly_Income                         0\n",
       "Customer_Existing_Primary_Bank_Code    0\n",
       "Contacted                              0\n",
       "Source                                 0\n",
       "Existing_EMI                           0\n",
       "Loan_Amount                            0\n",
       "Loan_Period                            0\n",
       "Var1                                   0\n",
       "Approved                               0\n",
       "City_Category                          0\n",
       "Employer_Category1                     0\n",
       "Employer_Category2                     0\n",
       "Primary_Bank_Type                      0\n",
       "Source_Category                        0\n",
       "Interest_Rate                          0\n",
       "EMI                                    0\n",
       "dtype: int64"
      ]
     },
     "execution_count": 38,
     "metadata": {},
     "output_type": "execute_result"
    }
   ],
   "source": [
    "train.isnull().sum()"
   ]
  },
  {
   "cell_type": "markdown",
   "id": "1f2859cd-232a-477d-980f-9f2250315182",
   "metadata": {},
   "source": [
    "## 7/ Build Model"
   ]
  },
  {
   "cell_type": "markdown",
   "id": "6ab9ab3a-d52b-4f8d-bf3c-789b861ea51f",
   "metadata": {},
   "source": [
    "## Prepare Data"
   ]
  },
  {
   "cell_type": "code",
   "execution_count": 39,
   "id": "e2db197e-631b-4084-8c31-3c5bc9f45901",
   "metadata": {},
   "outputs": [],
   "source": [
    "#create X and y datasets for splitting \n",
    "X = train.drop(['ID', 'Approved','DOB', 'Lead_Creation_Date', 'City_Code', 'Employer_Code', 'Customer_Existing_Primary_Bank_Code', 'Source'], axis=1)\n",
    "y = train['Approved']"
   ]
  },
  {
   "cell_type": "markdown",
   "id": "a19928e0-b1fa-40ea-bc8f-923959aa0b0f",
   "metadata": {},
   "source": [
    "## Create Dummy"
   ]
  },
  {
   "cell_type": "code",
   "execution_count": 40,
   "id": "79d3a851-2482-4883-a56a-bbe551bd5d52",
   "metadata": {},
   "outputs": [],
   "source": [
    "X = pd.get_dummies(X, drop_first=True)"
   ]
  },
  {
   "cell_type": "markdown",
   "id": "36547f84-9af5-4c3b-b1f4-202a6251ced0",
   "metadata": {},
   "source": [
    "## Import LR Package and create Instance"
   ]
  },
  {
   "cell_type": "code",
   "execution_count": 41,
   "id": "5ec66bb6-cc40-4713-834b-4ef1dabd58c9",
   "metadata": {},
   "outputs": [],
   "source": [
    "from sklearn.linear_model import LogisticRegression\n",
    "lr = LogisticRegression()"
   ]
  },
  {
   "cell_type": "markdown",
   "id": "b17e2b3c-57d6-4af8-9346-93c9d3ff10cd",
   "metadata": {},
   "source": [
    "## Build Model"
   ]
  },
  {
   "cell_type": "code",
   "execution_count": 42,
   "id": "c66257f2-0941-497c-84cc-0085f78f0dbb",
   "metadata": {},
   "outputs": [
    {
     "data": {
      "text/plain": [
       "LogisticRegression()"
      ]
     },
     "execution_count": 42,
     "metadata": {},
     "output_type": "execute_result"
    }
   ],
   "source": [
    "lr.fit(X,y)"
   ]
  },
  {
   "cell_type": "markdown",
   "id": "52ff0544-bdb3-4642-9d73-1568a14f5aa2",
   "metadata": {},
   "source": [
    "### Check Score"
   ]
  },
  {
   "cell_type": "code",
   "execution_count": 43,
   "id": "f7dcb9a7-206d-463c-9293-93483c53ffb7",
   "metadata": {},
   "outputs": [
    {
     "data": {
      "text/plain": [
       "0.9846201938105658"
      ]
     },
     "execution_count": 43,
     "metadata": {},
     "output_type": "execute_result"
    }
   ],
   "source": [
    "lr.score(X, y)"
   ]
  },
  {
   "cell_type": "code",
   "execution_count": null,
   "id": "596ef4ef-a4d8-4d94-908b-e6101cadf201",
   "metadata": {},
   "outputs": [],
   "source": []
  }
 ],
 "metadata": {
  "kernelspec": {
   "display_name": "Python 3 (ipykernel)",
   "language": "python",
   "name": "python3"
  },
  "language_info": {
   "codemirror_mode": {
    "name": "ipython",
    "version": 3
   },
   "file_extension": ".py",
   "mimetype": "text/x-python",
   "name": "python",
   "nbconvert_exporter": "python",
   "pygments_lexer": "ipython3",
   "version": "3.10.2"
  },
  "toc-autonumbering": false,
  "varInspector": {
   "cols": {
    "lenName": 16,
    "lenType": 16,
    "lenVar": 40
   },
   "kernels_config": {
    "python": {
     "delete_cmd_postfix": "",
     "delete_cmd_prefix": "del ",
     "library": "var_list.py",
     "varRefreshCmd": "print(var_dic_list())"
    },
    "r": {
     "delete_cmd_postfix": ") ",
     "delete_cmd_prefix": "rm(",
     "library": "var_list.r",
     "varRefreshCmd": "cat(var_dic_list()) "
    }
   },
   "types_to_exclude": [
    "module",
    "function",
    "builtin_function_or_method",
    "instance",
    "_Feature"
   ],
   "window_display": false
  }
 },
 "nbformat": 4,
 "nbformat_minor": 5
}
