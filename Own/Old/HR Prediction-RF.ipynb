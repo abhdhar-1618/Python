{
 "cells": [
  {
   "cell_type": "code",
   "execution_count": 1,
   "metadata": {},
   "outputs": [],
   "source": [
    "import pandas as pd\n",
    "import numpy as np"
   ]
  },
  {
   "cell_type": "code",
   "execution_count": 2,
   "metadata": {},
   "outputs": [],
   "source": [
    "hr_data = pd.read_csv('hr.csv')"
   ]
  },
  {
   "cell_type": "code",
   "execution_count": 3,
   "metadata": {},
   "outputs": [
    {
     "data": {
      "text/html": [
       "<div>\n",
       "<style scoped>\n",
       "    .dataframe tbody tr th:only-of-type {\n",
       "        vertical-align: middle;\n",
       "    }\n",
       "\n",
       "    .dataframe tbody tr th {\n",
       "        vertical-align: top;\n",
       "    }\n",
       "\n",
       "    .dataframe thead th {\n",
       "        text-align: right;\n",
       "    }\n",
       "</style>\n",
       "<table border=\"1\" class=\"dataframe\">\n",
       "  <thead>\n",
       "    <tr style=\"text-align: right;\">\n",
       "      <th></th>\n",
       "      <th>satisfaction_level</th>\n",
       "      <th>last_evaluation</th>\n",
       "      <th>number_project</th>\n",
       "      <th>average_montly_hours</th>\n",
       "      <th>time_spend_company</th>\n",
       "      <th>Work_accident</th>\n",
       "      <th>left</th>\n",
       "      <th>promotion_last_5years</th>\n",
       "      <th>sales</th>\n",
       "      <th>salary</th>\n",
       "    </tr>\n",
       "  </thead>\n",
       "  <tbody>\n",
       "    <tr>\n",
       "      <th>0</th>\n",
       "      <td>0.38</td>\n",
       "      <td>0.53</td>\n",
       "      <td>2</td>\n",
       "      <td>157</td>\n",
       "      <td>3</td>\n",
       "      <td>0</td>\n",
       "      <td>1</td>\n",
       "      <td>0</td>\n",
       "      <td>sales</td>\n",
       "      <td>low</td>\n",
       "    </tr>\n",
       "    <tr>\n",
       "      <th>1</th>\n",
       "      <td>0.80</td>\n",
       "      <td>0.86</td>\n",
       "      <td>5</td>\n",
       "      <td>262</td>\n",
       "      <td>6</td>\n",
       "      <td>0</td>\n",
       "      <td>1</td>\n",
       "      <td>0</td>\n",
       "      <td>sales</td>\n",
       "      <td>medium</td>\n",
       "    </tr>\n",
       "    <tr>\n",
       "      <th>2</th>\n",
       "      <td>0.11</td>\n",
       "      <td>0.88</td>\n",
       "      <td>7</td>\n",
       "      <td>272</td>\n",
       "      <td>4</td>\n",
       "      <td>0</td>\n",
       "      <td>1</td>\n",
       "      <td>0</td>\n",
       "      <td>sales</td>\n",
       "      <td>medium</td>\n",
       "    </tr>\n",
       "    <tr>\n",
       "      <th>3</th>\n",
       "      <td>0.72</td>\n",
       "      <td>0.87</td>\n",
       "      <td>5</td>\n",
       "      <td>223</td>\n",
       "      <td>5</td>\n",
       "      <td>0</td>\n",
       "      <td>1</td>\n",
       "      <td>0</td>\n",
       "      <td>sales</td>\n",
       "      <td>low</td>\n",
       "    </tr>\n",
       "    <tr>\n",
       "      <th>4</th>\n",
       "      <td>0.37</td>\n",
       "      <td>0.52</td>\n",
       "      <td>2</td>\n",
       "      <td>159</td>\n",
       "      <td>3</td>\n",
       "      <td>0</td>\n",
       "      <td>1</td>\n",
       "      <td>0</td>\n",
       "      <td>sales</td>\n",
       "      <td>low</td>\n",
       "    </tr>\n",
       "  </tbody>\n",
       "</table>\n",
       "</div>"
      ],
      "text/plain": [
       "   satisfaction_level  last_evaluation  number_project  average_montly_hours  \\\n",
       "0                0.38             0.53               2                   157   \n",
       "1                0.80             0.86               5                   262   \n",
       "2                0.11             0.88               7                   272   \n",
       "3                0.72             0.87               5                   223   \n",
       "4                0.37             0.52               2                   159   \n",
       "\n",
       "   time_spend_company  Work_accident  left  promotion_last_5years  sales  \\\n",
       "0                   3              0     1                      0  sales   \n",
       "1                   6              0     1                      0  sales   \n",
       "2                   4              0     1                      0  sales   \n",
       "3                   5              0     1                      0  sales   \n",
       "4                   3              0     1                      0  sales   \n",
       "\n",
       "   salary  \n",
       "0     low  \n",
       "1  medium  \n",
       "2  medium  \n",
       "3     low  \n",
       "4     low  "
      ]
     },
     "execution_count": 3,
     "metadata": {},
     "output_type": "execute_result"
    }
   ],
   "source": [
    "hr_data.head()"
   ]
  },
  {
   "cell_type": "code",
   "execution_count": 4,
   "metadata": {},
   "outputs": [],
   "source": [
    "y = hr_data['left']\n",
    "X = hr_data.drop(['left'], axis = 1)"
   ]
  },
  {
   "cell_type": "code",
   "execution_count": 5,
   "metadata": {},
   "outputs": [
    {
     "data": {
      "text/html": [
       "<div>\n",
       "<style scoped>\n",
       "    .dataframe tbody tr th:only-of-type {\n",
       "        vertical-align: middle;\n",
       "    }\n",
       "\n",
       "    .dataframe tbody tr th {\n",
       "        vertical-align: top;\n",
       "    }\n",
       "\n",
       "    .dataframe thead th {\n",
       "        text-align: right;\n",
       "    }\n",
       "</style>\n",
       "<table border=\"1\" class=\"dataframe\">\n",
       "  <thead>\n",
       "    <tr style=\"text-align: right;\">\n",
       "      <th></th>\n",
       "      <th>satisfaction_level</th>\n",
       "      <th>last_evaluation</th>\n",
       "      <th>number_project</th>\n",
       "      <th>average_montly_hours</th>\n",
       "      <th>time_spend_company</th>\n",
       "      <th>Work_accident</th>\n",
       "      <th>promotion_last_5years</th>\n",
       "      <th>sales</th>\n",
       "      <th>salary</th>\n",
       "    </tr>\n",
       "  </thead>\n",
       "  <tbody>\n",
       "    <tr>\n",
       "      <th>0</th>\n",
       "      <td>0.38</td>\n",
       "      <td>0.53</td>\n",
       "      <td>2</td>\n",
       "      <td>157</td>\n",
       "      <td>3</td>\n",
       "      <td>0</td>\n",
       "      <td>0</td>\n",
       "      <td>sales</td>\n",
       "      <td>low</td>\n",
       "    </tr>\n",
       "    <tr>\n",
       "      <th>1</th>\n",
       "      <td>0.80</td>\n",
       "      <td>0.86</td>\n",
       "      <td>5</td>\n",
       "      <td>262</td>\n",
       "      <td>6</td>\n",
       "      <td>0</td>\n",
       "      <td>0</td>\n",
       "      <td>sales</td>\n",
       "      <td>medium</td>\n",
       "    </tr>\n",
       "    <tr>\n",
       "      <th>2</th>\n",
       "      <td>0.11</td>\n",
       "      <td>0.88</td>\n",
       "      <td>7</td>\n",
       "      <td>272</td>\n",
       "      <td>4</td>\n",
       "      <td>0</td>\n",
       "      <td>0</td>\n",
       "      <td>sales</td>\n",
       "      <td>medium</td>\n",
       "    </tr>\n",
       "    <tr>\n",
       "      <th>3</th>\n",
       "      <td>0.72</td>\n",
       "      <td>0.87</td>\n",
       "      <td>5</td>\n",
       "      <td>223</td>\n",
       "      <td>5</td>\n",
       "      <td>0</td>\n",
       "      <td>0</td>\n",
       "      <td>sales</td>\n",
       "      <td>low</td>\n",
       "    </tr>\n",
       "    <tr>\n",
       "      <th>4</th>\n",
       "      <td>0.37</td>\n",
       "      <td>0.52</td>\n",
       "      <td>2</td>\n",
       "      <td>159</td>\n",
       "      <td>3</td>\n",
       "      <td>0</td>\n",
       "      <td>0</td>\n",
       "      <td>sales</td>\n",
       "      <td>low</td>\n",
       "    </tr>\n",
       "  </tbody>\n",
       "</table>\n",
       "</div>"
      ],
      "text/plain": [
       "   satisfaction_level  last_evaluation  number_project  average_montly_hours  \\\n",
       "0                0.38             0.53               2                   157   \n",
       "1                0.80             0.86               5                   262   \n",
       "2                0.11             0.88               7                   272   \n",
       "3                0.72             0.87               5                   223   \n",
       "4                0.37             0.52               2                   159   \n",
       "\n",
       "   time_spend_company  Work_accident  promotion_last_5years  sales  salary  \n",
       "0                   3              0                      0  sales     low  \n",
       "1                   6              0                      0  sales  medium  \n",
       "2                   4              0                      0  sales  medium  \n",
       "3                   5              0                      0  sales     low  \n",
       "4                   3              0                      0  sales     low  "
      ]
     },
     "execution_count": 5,
     "metadata": {},
     "output_type": "execute_result"
    }
   ],
   "source": [
    "X.head()"
   ]
  },
  {
   "cell_type": "code",
   "execution_count": 6,
   "metadata": {},
   "outputs": [],
   "source": [
    "X = pd.get_dummies(X, drop_first = True)"
   ]
  },
  {
   "cell_type": "code",
   "execution_count": 7,
   "metadata": {},
   "outputs": [],
   "source": [
    "from sklearn.model_selection import train_test_split"
   ]
  },
  {
   "cell_type": "code",
   "execution_count": 8,
   "metadata": {},
   "outputs": [],
   "source": [
    "X_train, X_test, y_train, y_test = train_test_split(X, y, test_size = 0.3, random_state = 5)"
   ]
  },
  {
   "cell_type": "code",
   "execution_count": 9,
   "metadata": {},
   "outputs": [
    {
     "name": "stdout",
     "output_type": "stream",
     "text": [
      "<class 'pandas.core.frame.DataFrame'>\n",
      "Int64Index: 10499 entries, 14404 to 2915\n",
      "Data columns (total 18 columns):\n",
      " #   Column                 Non-Null Count  Dtype  \n",
      "---  ------                 --------------  -----  \n",
      " 0   satisfaction_level     10499 non-null  float64\n",
      " 1   last_evaluation        10499 non-null  float64\n",
      " 2   number_project         10499 non-null  int64  \n",
      " 3   average_montly_hours   10499 non-null  int64  \n",
      " 4   time_spend_company     10499 non-null  int64  \n",
      " 5   Work_accident          10499 non-null  int64  \n",
      " 6   promotion_last_5years  10499 non-null  int64  \n",
      " 7   sales_RandD            10499 non-null  uint8  \n",
      " 8   sales_accounting       10499 non-null  uint8  \n",
      " 9   sales_hr               10499 non-null  uint8  \n",
      " 10  sales_management       10499 non-null  uint8  \n",
      " 11  sales_marketing        10499 non-null  uint8  \n",
      " 12  sales_product_mng      10499 non-null  uint8  \n",
      " 13  sales_sales            10499 non-null  uint8  \n",
      " 14  sales_support          10499 non-null  uint8  \n",
      " 15  sales_technical        10499 non-null  uint8  \n",
      " 16  salary_low             10499 non-null  uint8  \n",
      " 17  salary_medium          10499 non-null  uint8  \n",
      "dtypes: float64(2), int64(5), uint8(11)\n",
      "memory usage: 769.0 KB\n"
     ]
    }
   ],
   "source": [
    "X_train.info()"
   ]
  },
  {
   "cell_type": "code",
   "execution_count": 13,
   "metadata": {},
   "outputs": [],
   "source": [
    "from sklearn.ensemble import RandomForestClassifier"
   ]
  },
  {
   "cell_type": "code",
   "execution_count": 14,
   "metadata": {},
   "outputs": [],
   "source": [
    "clf = RandomForestClassifier(n_estimators = 15, random_state = 5, n_jobs = -1, oob_score = True)"
   ]
  },
  {
   "cell_type": "code",
   "execution_count": 15,
   "metadata": {},
   "outputs": [
    {
     "name": "stderr",
     "output_type": "stream",
     "text": [
      "C:\\Users\\DELL\\Anaconda3\\lib\\site-packages\\sklearn\\ensemble\\_forest.py:540: UserWarning: Some inputs do not have OOB scores. This probably means too few trees were used to compute any reliable oob estimates.\n",
      "  warn(\"Some inputs do not have OOB scores. \"\n",
      "C:\\Users\\DELL\\Anaconda3\\lib\\site-packages\\sklearn\\ensemble\\_forest.py:545: RuntimeWarning: invalid value encountered in true_divide\n",
      "  predictions[k].sum(axis=1)[:, np.newaxis])\n"
     ]
    },
    {
     "data": {
      "text/plain": [
       "RandomForestClassifier(n_estimators=15, n_jobs=-1, oob_score=True,\n",
       "                       random_state=5)"
      ]
     },
     "execution_count": 15,
     "metadata": {},
     "output_type": "execute_result"
    }
   ],
   "source": [
    "clf.fit(X_train, y_train)"
   ]
  },
  {
   "cell_type": "code",
   "execution_count": 16,
   "metadata": {},
   "outputs": [
    {
     "name": "stderr",
     "output_type": "stream",
     "text": [
      "C:\\Users\\DELL\\Anaconda3\\lib\\site-packages\\sklearn\\ensemble\\_forest.py:540: UserWarning: Some inputs do not have OOB scores. This probably means too few trees were used to compute any reliable oob estimates.\n",
      "  warn(\"Some inputs do not have OOB scores. \"\n",
      "C:\\Users\\DELL\\Anaconda3\\lib\\site-packages\\sklearn\\ensemble\\_forest.py:545: RuntimeWarning: invalid value encountered in true_divide\n",
      "  predictions[k].sum(axis=1)[:, np.newaxis])\n"
     ]
    },
    {
     "name": "stdout",
     "output_type": "stream",
     "text": [
      "For n_estimators = 10\n",
      "OOB score is 0.9798076007238785\n",
      "************************\n",
      "For n_estimators = 30\n",
      "OOB score is 0.9873321268692257\n",
      "************************\n",
      "For n_estimators = 50\n",
      "OOB score is 0.9881893513667969\n",
      "************************\n",
      "For n_estimators = 70\n",
      "OOB score is 0.9887608343651776\n",
      "************************\n",
      "For n_estimators = 90\n",
      "OOB score is 0.9891418230307648\n",
      "************************\n",
      "For n_estimators = 110\n",
      "OOB score is 0.9892370701971617\n",
      "************************\n",
      "For n_estimators = 130\n",
      "OOB score is 0.9893323173635584\n",
      "************************\n",
      "For n_estimators = 150\n",
      "OOB score is 0.989999047528336\n",
      "************************\n",
      "For n_estimators = 170\n",
      "OOB score is 0.989999047528336\n",
      "************************\n",
      "For n_estimators = 190\n",
      "OOB score is 0.9898085531955424\n",
      "************************\n",
      "For n_estimators = 210\n",
      "OOB score is 0.989522811696352\n",
      "************************\n",
      "For n_estimators = 230\n",
      "OOB score is 0.9894275645299553\n",
      "************************\n",
      "For n_estimators = 250\n",
      "OOB score is 0.9896180588627488\n",
      "************************\n",
      "For n_estimators = 270\n",
      "OOB score is 0.9897133060291456\n",
      "************************\n",
      "For n_estimators = 290\n",
      "OOB score is 0.9898085531955424\n",
      "************************\n"
     ]
    }
   ],
   "source": [
    "for w in range(10,300,20):\n",
    "    clf=RandomForestClassifier(n_estimators = w, random_state = 5, n_jobs = -1, oob_score = True)\n",
    "    clf.fit(X_train,y_train)\n",
    "    oob=clf.oob_score_\n",
    "    print ('For n_estimators = '+str(w))\n",
    "    print ('OOB score is '+str(oob))\n",
    "    print ('************************')"
   ]
  },
  {
   "cell_type": "code",
   "execution_count": 17,
   "metadata": {},
   "outputs": [],
   "source": [
    "clf = RandomForestClassifier(n_estimators = 150, random_state = 5, n_jobs = -1, oob_score = True)"
   ]
  },
  {
   "cell_type": "code",
   "execution_count": 18,
   "metadata": {},
   "outputs": [
    {
     "data": {
      "text/plain": [
       "RandomForestClassifier(n_estimators=150, n_jobs=-1, oob_score=True,\n",
       "                       random_state=5)"
      ]
     },
     "execution_count": 18,
     "metadata": {},
     "output_type": "execute_result"
    }
   ],
   "source": [
    "clf.fit(X_train, y_train)"
   ]
  },
  {
   "cell_type": "code",
   "execution_count": 19,
   "metadata": {},
   "outputs": [
    {
     "data": {
      "text/plain": [
       "1.0"
      ]
     },
     "execution_count": 19,
     "metadata": {},
     "output_type": "execute_result"
    }
   ],
   "source": [
    "clf.score(X_train, y_train)"
   ]
  },
  {
   "cell_type": "code",
   "execution_count": 20,
   "metadata": {},
   "outputs": [
    {
     "data": {
      "text/plain": [
       "0.989999047528336"
      ]
     },
     "execution_count": 20,
     "metadata": {},
     "output_type": "execute_result"
    }
   ],
   "source": [
    "clf.oob_score_"
   ]
  },
  {
   "cell_type": "code",
   "execution_count": 21,
   "metadata": {},
   "outputs": [
    {
     "data": {
      "text/plain": [
       "0.9906666666666667"
      ]
     },
     "execution_count": 21,
     "metadata": {},
     "output_type": "execute_result"
    }
   ],
   "source": [
    "clf.score(X_test, y_test)"
   ]
  },
  {
   "cell_type": "code",
   "execution_count": 22,
   "metadata": {},
   "outputs": [
    {
     "data": {
      "text/plain": [
       "[DecisionTreeClassifier(max_features='auto', random_state=953453411),\n",
       " DecisionTreeClassifier(max_features='auto', random_state=236996814),\n",
       " DecisionTreeClassifier(max_features='auto', random_state=1592283119),\n",
       " DecisionTreeClassifier(max_features='auto', random_state=1423042237),\n",
       " DecisionTreeClassifier(max_features='auto', random_state=887852006),\n",
       " DecisionTreeClassifier(max_features='auto', random_state=1562238070),\n",
       " DecisionTreeClassifier(max_features='auto', random_state=1797920144),\n",
       " DecisionTreeClassifier(max_features='auto', random_state=2059200585),\n",
       " DecisionTreeClassifier(max_features='auto', random_state=2097710088),\n",
       " DecisionTreeClassifier(max_features='auto', random_state=385778404),\n",
       " DecisionTreeClassifier(max_features='auto', random_state=479936231),\n",
       " DecisionTreeClassifier(max_features='auto', random_state=1703970750),\n",
       " DecisionTreeClassifier(max_features='auto', random_state=1142065563),\n",
       " DecisionTreeClassifier(max_features='auto', random_state=1521011312),\n",
       " DecisionTreeClassifier(max_features='auto', random_state=79104670),\n",
       " DecisionTreeClassifier(max_features='auto', random_state=2090094288),\n",
       " DecisionTreeClassifier(max_features='auto', random_state=1274748423),\n",
       " DecisionTreeClassifier(max_features='auto', random_state=2108059852),\n",
       " DecisionTreeClassifier(max_features='auto', random_state=806256527),\n",
       " DecisionTreeClassifier(max_features='auto', random_state=1324059761),\n",
       " DecisionTreeClassifier(max_features='auto', random_state=346781109),\n",
       " DecisionTreeClassifier(max_features='auto', random_state=641920999),\n",
       " DecisionTreeClassifier(max_features='auto', random_state=1024093264),\n",
       " DecisionTreeClassifier(max_features='auto', random_state=1372125211),\n",
       " DecisionTreeClassifier(max_features='auto', random_state=1895408684),\n",
       " DecisionTreeClassifier(max_features='auto', random_state=1041703117),\n",
       " DecisionTreeClassifier(max_features='auto', random_state=679935691),\n",
       " DecisionTreeClassifier(max_features='auto', random_state=1135471681),\n",
       " DecisionTreeClassifier(max_features='auto', random_state=1631817135),\n",
       " DecisionTreeClassifier(max_features='auto', random_state=476315166),\n",
       " DecisionTreeClassifier(max_features='auto', random_state=1177192404),\n",
       " DecisionTreeClassifier(max_features='auto', random_state=876837974),\n",
       " DecisionTreeClassifier(max_features='auto', random_state=1779125885),\n",
       " DecisionTreeClassifier(max_features='auto', random_state=511510674),\n",
       " DecisionTreeClassifier(max_features='auto', random_state=1271653630),\n",
       " DecisionTreeClassifier(max_features='auto', random_state=1623081337),\n",
       " DecisionTreeClassifier(max_features='auto', random_state=553139849),\n",
       " DecisionTreeClassifier(max_features='auto', random_state=101684586),\n",
       " DecisionTreeClassifier(max_features='auto', random_state=342900777),\n",
       " DecisionTreeClassifier(max_features='auto', random_state=2113708009),\n",
       " DecisionTreeClassifier(max_features='auto', random_state=429192638),\n",
       " DecisionTreeClassifier(max_features='auto', random_state=995878785),\n",
       " DecisionTreeClassifier(max_features='auto', random_state=1141684434),\n",
       " DecisionTreeClassifier(max_features='auto', random_state=62623847),\n",
       " DecisionTreeClassifier(max_features='auto', random_state=1222716560),\n",
       " DecisionTreeClassifier(max_features='auto', random_state=400991182),\n",
       " DecisionTreeClassifier(max_features='auto', random_state=1089153029),\n",
       " DecisionTreeClassifier(max_features='auto', random_state=1402539834),\n",
       " DecisionTreeClassifier(max_features='auto', random_state=1406876416),\n",
       " DecisionTreeClassifier(max_features='auto', random_state=1432340432),\n",
       " DecisionTreeClassifier(max_features='auto', random_state=619180932),\n",
       " DecisionTreeClassifier(max_features='auto', random_state=1685392494),\n",
       " DecisionTreeClassifier(max_features='auto', random_state=711301796),\n",
       " DecisionTreeClassifier(max_features='auto', random_state=1967153001),\n",
       " DecisionTreeClassifier(max_features='auto', random_state=1992566451),\n",
       " DecisionTreeClassifier(max_features='auto', random_state=263440923),\n",
       " DecisionTreeClassifier(max_features='auto', random_state=1976658719),\n",
       " DecisionTreeClassifier(max_features='auto', random_state=388903682),\n",
       " DecisionTreeClassifier(max_features='auto', random_state=809234756),\n",
       " DecisionTreeClassifier(max_features='auto', random_state=2130256166),\n",
       " DecisionTreeClassifier(max_features='auto', random_state=104395881),\n",
       " DecisionTreeClassifier(max_features='auto', random_state=2050424787),\n",
       " DecisionTreeClassifier(max_features='auto', random_state=878559379),\n",
       " DecisionTreeClassifier(max_features='auto', random_state=794206482),\n",
       " DecisionTreeClassifier(max_features='auto', random_state=858321777),\n",
       " DecisionTreeClassifier(max_features='auto', random_state=1474785525),\n",
       " DecisionTreeClassifier(max_features='auto', random_state=1200505991),\n",
       " DecisionTreeClassifier(max_features='auto', random_state=498752356),\n",
       " DecisionTreeClassifier(max_features='auto', random_state=98496876),\n",
       " DecisionTreeClassifier(max_features='auto', random_state=271388269),\n",
       " DecisionTreeClassifier(max_features='auto', random_state=333559454),\n",
       " DecisionTreeClassifier(max_features='auto', random_state=1581244606),\n",
       " DecisionTreeClassifier(max_features='auto', random_state=7053067),\n",
       " DecisionTreeClassifier(max_features='auto', random_state=820043243),\n",
       " DecisionTreeClassifier(max_features='auto', random_state=66454339),\n",
       " DecisionTreeClassifier(max_features='auto', random_state=1357929852),\n",
       " DecisionTreeClassifier(max_features='auto', random_state=600415681),\n",
       " DecisionTreeClassifier(max_features='auto', random_state=1828124855),\n",
       " DecisionTreeClassifier(max_features='auto', random_state=2085740931),\n",
       " DecisionTreeClassifier(max_features='auto', random_state=24631899),\n",
       " DecisionTreeClassifier(max_features='auto', random_state=1112815694),\n",
       " DecisionTreeClassifier(max_features='auto', random_state=947296155),\n",
       " DecisionTreeClassifier(max_features='auto', random_state=1299214237),\n",
       " DecisionTreeClassifier(max_features='auto', random_state=717513505),\n",
       " DecisionTreeClassifier(max_features='auto', random_state=1591212761),\n",
       " DecisionTreeClassifier(max_features='auto', random_state=857985877),\n",
       " DecisionTreeClassifier(max_features='auto', random_state=1815695751),\n",
       " DecisionTreeClassifier(max_features='auto', random_state=844669456),\n",
       " DecisionTreeClassifier(max_features='auto', random_state=9509982),\n",
       " DecisionTreeClassifier(max_features='auto', random_state=323899406),\n",
       " DecisionTreeClassifier(max_features='auto', random_state=2016437210),\n",
       " DecisionTreeClassifier(max_features='auto', random_state=342400799),\n",
       " DecisionTreeClassifier(max_features='auto', random_state=2067892489),\n",
       " DecisionTreeClassifier(max_features='auto', random_state=277055014),\n",
       " DecisionTreeClassifier(max_features='auto', random_state=1713454895),\n",
       " DecisionTreeClassifier(max_features='auto', random_state=761266320),\n",
       " DecisionTreeClassifier(max_features='auto', random_state=1347470725),\n",
       " DecisionTreeClassifier(max_features='auto', random_state=1466847650),\n",
       " DecisionTreeClassifier(max_features='auto', random_state=199529133),\n",
       " DecisionTreeClassifier(max_features='auto', random_state=466874043),\n",
       " DecisionTreeClassifier(max_features='auto', random_state=1163309464),\n",
       " DecisionTreeClassifier(max_features='auto', random_state=839558541),\n",
       " DecisionTreeClassifier(max_features='auto', random_state=2082763126),\n",
       " DecisionTreeClassifier(max_features='auto', random_state=522046699),\n",
       " DecisionTreeClassifier(max_features='auto', random_state=125033192),\n",
       " DecisionTreeClassifier(max_features='auto', random_state=1866934303),\n",
       " DecisionTreeClassifier(max_features='auto', random_state=371624992),\n",
       " DecisionTreeClassifier(max_features='auto', random_state=1335648588),\n",
       " DecisionTreeClassifier(max_features='auto', random_state=478690476),\n",
       " DecisionTreeClassifier(max_features='auto', random_state=2037174149),\n",
       " DecisionTreeClassifier(max_features='auto', random_state=1079089550),\n",
       " DecisionTreeClassifier(max_features='auto', random_state=267196591),\n",
       " DecisionTreeClassifier(max_features='auto', random_state=1996795998),\n",
       " DecisionTreeClassifier(max_features='auto', random_state=1182593874),\n",
       " DecisionTreeClassifier(max_features='auto', random_state=565930880),\n",
       " DecisionTreeClassifier(max_features='auto', random_state=970612711),\n",
       " DecisionTreeClassifier(max_features='auto', random_state=1360045191),\n",
       " DecisionTreeClassifier(max_features='auto', random_state=1902900438),\n",
       " DecisionTreeClassifier(max_features='auto', random_state=283820027),\n",
       " DecisionTreeClassifier(max_features='auto', random_state=1620382224),\n",
       " DecisionTreeClassifier(max_features='auto', random_state=581350464),\n",
       " DecisionTreeClassifier(max_features='auto', random_state=1648849160),\n",
       " DecisionTreeClassifier(max_features='auto', random_state=1339610586),\n",
       " DecisionTreeClassifier(max_features='auto', random_state=1297088556),\n",
       " DecisionTreeClassifier(max_features='auto', random_state=1832587902),\n",
       " DecisionTreeClassifier(max_features='auto', random_state=838081189),\n",
       " DecisionTreeClassifier(max_features='auto', random_state=1772218462),\n",
       " DecisionTreeClassifier(max_features='auto', random_state=1014963659),\n",
       " DecisionTreeClassifier(max_features='auto', random_state=1395051397),\n",
       " DecisionTreeClassifier(max_features='auto', random_state=1835248361),\n",
       " DecisionTreeClassifier(max_features='auto', random_state=404597654),\n",
       " DecisionTreeClassifier(max_features='auto', random_state=791273652),\n",
       " DecisionTreeClassifier(max_features='auto', random_state=1550691141),\n",
       " DecisionTreeClassifier(max_features='auto', random_state=1821949650),\n",
       " DecisionTreeClassifier(max_features='auto', random_state=152510140),\n",
       " DecisionTreeClassifier(max_features='auto', random_state=284976987),\n",
       " DecisionTreeClassifier(max_features='auto', random_state=199107613),\n",
       " DecisionTreeClassifier(max_features='auto', random_state=923328728),\n",
       " DecisionTreeClassifier(max_features='auto', random_state=1271923320),\n",
       " DecisionTreeClassifier(max_features='auto', random_state=674443489),\n",
       " DecisionTreeClassifier(max_features='auto', random_state=219656668),\n",
       " DecisionTreeClassifier(max_features='auto', random_state=1442310863),\n",
       " DecisionTreeClassifier(max_features='auto', random_state=810321734),\n",
       " DecisionTreeClassifier(max_features='auto', random_state=1482000931),\n",
       " DecisionTreeClassifier(max_features='auto', random_state=1569715055),\n",
       " DecisionTreeClassifier(max_features='auto', random_state=617109780),\n",
       " DecisionTreeClassifier(max_features='auto', random_state=1049221297),\n",
       " DecisionTreeClassifier(max_features='auto', random_state=576559615),\n",
       " DecisionTreeClassifier(max_features='auto', random_state=1267391048),\n",
       " DecisionTreeClassifier(max_features='auto', random_state=759017120)]"
      ]
     },
     "execution_count": 22,
     "metadata": {},
     "output_type": "execute_result"
    }
   ],
   "source": [
    "clf.estimators_"
   ]
  },
  {
   "cell_type": "code",
   "execution_count": 23,
   "metadata": {},
   "outputs": [
    {
     "data": {
      "text/plain": [
       "array([3.27121242e-01, 1.28494183e-01, 1.16599618e-01, 2.00507061e-01,\n",
       "       1.73311046e-01, 6.12619749e-03, 3.05762560e-03, 2.19269815e-03,\n",
       "       1.00622507e-03, 1.92923379e-03, 1.39755244e-05, 1.22125824e-03,\n",
       "       1.75012846e-03, 4.90612544e-03, 4.17867641e-03, 5.98250716e-03,\n",
       "       1.83044281e-02, 3.29777101e-03])"
      ]
     },
     "execution_count": 23,
     "metadata": {},
     "output_type": "execute_result"
    }
   ],
   "source": [
    "clf.estimators_[1].feature_importances_"
   ]
  },
  {
   "cell_type": "code",
   "execution_count": 24,
   "metadata": {},
   "outputs": [],
   "source": [
    "imp=[]\n",
    "\n",
    "for i in clf.estimators_:\n",
    "    imp.append(i.feature_importances_)\n",
    "\n",
    "# Average\n",
    "imp=np.mean(imp,axis=0)"
   ]
  },
  {
   "cell_type": "code",
   "execution_count": 25,
   "metadata": {},
   "outputs": [],
   "source": [
    "feature_importances = pd.Series(imp, index = X.columns.tolist())"
   ]
  },
  {
   "cell_type": "code",
   "execution_count": 26,
   "metadata": {},
   "outputs": [
    {
     "data": {
      "text/plain": [
       "<matplotlib.axes._subplots.AxesSubplot at 0x28f4009b848>"
      ]
     },
     "execution_count": 26,
     "metadata": {},
     "output_type": "execute_result"
    },
    {
     "data": {
      "image/png": "[encoded data removed]",
      "text/plain": [
       "<Figure size 432x288 with 1 Axes>"
      ]
     },
     "metadata": {
      "needs_background": "light"
     },
     "output_type": "display_data"
    }
   ],
   "source": [
    "feature_importances.sort_values(ascending = False).plot(kind='bar')"
   ]
  },
  {
   "cell_type": "code",
   "execution_count": null,
   "metadata": {},
   "outputs": [],
   "source": []
  }
 ],
 "metadata": {
  "kernelspec": {
   "display_name": "Python 3",
   "language": "python",
   "name": "python3"
  },
  "language_info": {
   "codemirror_mode": {
    "name": "ipython",
    "version": 3
   },
   "file_extension": ".py",
   "mimetype": "text/x-python",
   "name": "python",
   "nbconvert_exporter": "python",
   "pygments_lexer": "ipython3",
   "version": "3.7.6"
  }
 },
 "nbformat": 4,
 "nbformat_minor": 4
}
