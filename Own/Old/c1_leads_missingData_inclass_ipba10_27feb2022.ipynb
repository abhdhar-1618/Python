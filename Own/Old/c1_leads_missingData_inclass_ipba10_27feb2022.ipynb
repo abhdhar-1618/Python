{
 "cells": [
  {
   "cell_type": "markdown",
   "id": "b262b4d0-e51e-4125-99af-9034af28b9cf",
   "metadata": {},
   "source": [
    "# Marketing Leads Conversion - Data Sanity Checks\n",
    "- Join Data\n",
    "- Identify Data Types - Continuous, Categorical, Date\n",
    "    - Convert to right Data Type\n",
    "- Identify Missing Values\n",
    "- Impute Missing Values\n",
    "    - Continuous\n",
    "    - Categorical\n",
    "- Create Features\n",
    "    - Lead_Creation_Date\n",
    "    - Existing EMI Percentage"
   ]
  },
  {
   "cell_type": "markdown",
   "id": "5038b36d-af56-48bb-9d2d-7e78c0596ad1",
   "metadata": {},
   "source": [
    "## 1/ Import Libraries"
   ]
  },
  {
   "cell_type": "code",
   "execution_count": 1,
   "id": "ea9a2d80-252d-4772-af23-07eb34df1fa8",
   "metadata": {},
   "outputs": [],
   "source": [
    "# pandas, numpy\n",
    "import pandas as pd\n",
    "import numpy as np"
   ]
  },
  {
   "cell_type": "markdown",
   "id": "00fefa7c-e4f9-4d82-83a0-da88c2d8c2ba",
   "metadata": {},
   "source": [
    "## 2/ Import Data\n",
    "- t1_leads\n",
    "- t6_emi\n",
    "- test\n",
    "\n",
    "**Extra:** Join other tables to build a more comprehensive training data"
   ]
  },
  {
   "cell_type": "code",
   "execution_count": 4,
   "id": "e16a68e0-aaa6-4bcb-88a4-e2ab35c762ea",
   "metadata": {},
   "outputs": [],
   "source": [
    "t1_leads = pd.read_csv('t1_leads.csv', low_memory=False)\n",
    "t6_emi = pd.read_csv('t6_emi.csv', low_memory=False)\n",
    "\n",
    "t2_city = pd.read_csv('t2_city.csv', low_memory=False)\n",
    "t3_employer = pd.read_csv('t3_employer.csv', low_memory=False)\n",
    "\n",
    "#Test Data - Final Predictions\n",
    "test = pd.read_csv('test.csv', low_memory=False)\n",
    "\n",
    "#t4_bank = pd.read_csv('t4_bank.csv', low_memory=False)\n",
    "#t5_source = pd.read_csv('t5_source.csv', low_memory=False)"
   ]
  },
  {
   "cell_type": "markdown",
   "id": "751eed4d-06b9-4e78-94b6-ab153b54c226",
   "metadata": {},
   "source": [
    "### Check first 5 rows"
   ]
  },
  {
   "cell_type": "code",
   "execution_count": 5,
   "id": "1bc1624d-7d19-4fdf-9f7c-8f98ff6c394c",
   "metadata": {},
   "outputs": [
    {
     "data": {
      "text/html": [
       "<div>\n",
       "<style scoped>\n",
       "    .dataframe tbody tr th:only-of-type {\n",
       "        vertical-align: middle;\n",
       "    }\n",
       "\n",
       "    .dataframe tbody tr th {\n",
       "        vertical-align: top;\n",
       "    }\n",
       "\n",
       "    .dataframe thead th {\n",
       "        text-align: right;\n",
       "    }\n",
       "</style>\n",
       "<table border=\"1\" class=\"dataframe\">\n",
       "  <thead>\n",
       "    <tr style=\"text-align: right;\">\n",
       "      <th></th>\n",
       "      <th>ID</th>\n",
       "      <th>Gender</th>\n",
       "      <th>DOB</th>\n",
       "      <th>Lead_Creation_Date</th>\n",
       "      <th>City_Code</th>\n",
       "      <th>Employer_Code</th>\n",
       "      <th>Monthly_Income</th>\n",
       "      <th>Customer_Existing_Primary_Bank_Code</th>\n",
       "      <th>Contacted</th>\n",
       "      <th>Source</th>\n",
       "      <th>Existing_EMI</th>\n",
       "      <th>Loan_Amount</th>\n",
       "      <th>Loan_Period</th>\n",
       "      <th>Var1</th>\n",
       "      <th>Approved</th>\n",
       "    </tr>\n",
       "  </thead>\n",
       "  <tbody>\n",
       "    <tr>\n",
       "      <th>0</th>\n",
       "      <td>APPC90493171225</td>\n",
       "      <td>Female</td>\n",
       "      <td>23-07-1979</td>\n",
       "      <td>15-07-2016</td>\n",
       "      <td>C10001</td>\n",
       "      <td>COM0044082</td>\n",
       "      <td>2000.0</td>\n",
       "      <td>B001</td>\n",
       "      <td>N</td>\n",
       "      <td>S122</td>\n",
       "      <td>0.0</td>\n",
       "      <td>NaN</td>\n",
       "      <td>NaN</td>\n",
       "      <td>0</td>\n",
       "      <td>0</td>\n",
       "    </tr>\n",
       "    <tr>\n",
       "      <th>1</th>\n",
       "      <td>APPD40611263344</td>\n",
       "      <td>Male</td>\n",
       "      <td>07-12-1986</td>\n",
       "      <td>04-07-2016</td>\n",
       "      <td>C10003</td>\n",
       "      <td>COM0000002</td>\n",
       "      <td>3500.0</td>\n",
       "      <td>B002</td>\n",
       "      <td>Y</td>\n",
       "      <td>S122</td>\n",
       "      <td>0.0</td>\n",
       "      <td>20000.0</td>\n",
       "      <td>2.0</td>\n",
       "      <td>10</td>\n",
       "      <td>0</td>\n",
       "    </tr>\n",
       "    <tr>\n",
       "      <th>2</th>\n",
       "      <td>APPE70289249423</td>\n",
       "      <td>Male</td>\n",
       "      <td>10-12-1982</td>\n",
       "      <td>19-07-2016</td>\n",
       "      <td>C10125</td>\n",
       "      <td>COM0005267</td>\n",
       "      <td>2250.0</td>\n",
       "      <td>B003</td>\n",
       "      <td>Y</td>\n",
       "      <td>S143</td>\n",
       "      <td>0.0</td>\n",
       "      <td>45000.0</td>\n",
       "      <td>4.0</td>\n",
       "      <td>0</td>\n",
       "      <td>0</td>\n",
       "    </tr>\n",
       "    <tr>\n",
       "      <th>3</th>\n",
       "      <td>APPF80273865537</td>\n",
       "      <td>Male</td>\n",
       "      <td>30-01-1989</td>\n",
       "      <td>09-07-2016</td>\n",
       "      <td>C10477</td>\n",
       "      <td>COM0004143</td>\n",
       "      <td>3500.0</td>\n",
       "      <td>B003</td>\n",
       "      <td>Y</td>\n",
       "      <td>S143</td>\n",
       "      <td>0.0</td>\n",
       "      <td>92000.0</td>\n",
       "      <td>5.0</td>\n",
       "      <td>7</td>\n",
       "      <td>0</td>\n",
       "    </tr>\n",
       "    <tr>\n",
       "      <th>4</th>\n",
       "      <td>APPG60994436641</td>\n",
       "      <td>Male</td>\n",
       "      <td>19-04-1985</td>\n",
       "      <td>20-07-2016</td>\n",
       "      <td>C10002</td>\n",
       "      <td>COM0001781</td>\n",
       "      <td>10000.0</td>\n",
       "      <td>B001</td>\n",
       "      <td>Y</td>\n",
       "      <td>S134</td>\n",
       "      <td>2500.0</td>\n",
       "      <td>50000.0</td>\n",
       "      <td>2.0</td>\n",
       "      <td>10</td>\n",
       "      <td>0</td>\n",
       "    </tr>\n",
       "  </tbody>\n",
       "</table>\n",
       "</div>"
      ],
      "text/plain": [
       "                ID  Gender         DOB Lead_Creation_Date City_Code  \\\n",
       "0  APPC90493171225  Female  23-07-1979         15-07-2016    C10001   \n",
       "1  APPD40611263344    Male  07-12-1986         04-07-2016    C10003   \n",
       "2  APPE70289249423    Male  10-12-1982         19-07-2016    C10125   \n",
       "3  APPF80273865537    Male  30-01-1989         09-07-2016    C10477   \n",
       "4  APPG60994436641    Male  19-04-1985         20-07-2016    C10002   \n",
       "\n",
       "  Employer_Code  Monthly_Income Customer_Existing_Primary_Bank_Code Contacted  \\\n",
       "0    COM0044082          2000.0                                B001         N   \n",
       "1    COM0000002          3500.0                                B002         Y   \n",
       "2    COM0005267          2250.0                                B003         Y   \n",
       "3    COM0004143          3500.0                                B003         Y   \n",
       "4    COM0001781         10000.0                                B001         Y   \n",
       "\n",
       "  Source  Existing_EMI  Loan_Amount  Loan_Period  Var1  Approved  \n",
       "0   S122           0.0          NaN          NaN     0         0  \n",
       "1   S122           0.0      20000.0          2.0    10         0  \n",
       "2   S143           0.0      45000.0          4.0     0         0  \n",
       "3   S143           0.0      92000.0          5.0     7         0  \n",
       "4   S134        2500.0      50000.0          2.0    10         0  "
      ]
     },
     "execution_count": 5,
     "metadata": {},
     "output_type": "execute_result"
    }
   ],
   "source": [
    "t1_leads.head()"
   ]
  },
  {
   "cell_type": "code",
   "execution_count": 10,
   "id": "1da83d7f-8ead-4d77-8232-669fd672586a",
   "metadata": {},
   "outputs": [
    {
     "data": {
      "text/html": [
       "<div>\n",
       "<style scoped>\n",
       "    .dataframe tbody tr th:only-of-type {\n",
       "        vertical-align: middle;\n",
       "    }\n",
       "\n",
       "    .dataframe tbody tr th {\n",
       "        vertical-align: top;\n",
       "    }\n",
       "\n",
       "    .dataframe thead th {\n",
       "        text-align: right;\n",
       "    }\n",
       "</style>\n",
       "<table border=\"1\" class=\"dataframe\">\n",
       "  <thead>\n",
       "    <tr style=\"text-align: right;\">\n",
       "      <th></th>\n",
       "      <th>Employer_Code</th>\n",
       "      <th>Employer_Category1</th>\n",
       "      <th>Employer_Category2</th>\n",
       "    </tr>\n",
       "  </thead>\n",
       "  <tbody>\n",
       "    <tr>\n",
       "      <th>0</th>\n",
       "      <td>COM0044082</td>\n",
       "      <td>A</td>\n",
       "      <td>4.0</td>\n",
       "    </tr>\n",
       "    <tr>\n",
       "      <th>1</th>\n",
       "      <td>COM0000002</td>\n",
       "      <td>C</td>\n",
       "      <td>1.0</td>\n",
       "    </tr>\n",
       "    <tr>\n",
       "      <th>2</th>\n",
       "      <td>COM0005267</td>\n",
       "      <td>C</td>\n",
       "      <td>4.0</td>\n",
       "    </tr>\n",
       "    <tr>\n",
       "      <th>3</th>\n",
       "      <td>COM0004143</td>\n",
       "      <td>A</td>\n",
       "      <td>4.0</td>\n",
       "    </tr>\n",
       "    <tr>\n",
       "      <th>4</th>\n",
       "      <td>COM0001781</td>\n",
       "      <td>A</td>\n",
       "      <td>4.0</td>\n",
       "    </tr>\n",
       "  </tbody>\n",
       "</table>\n",
       "</div>"
      ],
      "text/plain": [
       "  Employer_Code Employer_Category1  Employer_Category2\n",
       "0    COM0044082                  A                 4.0\n",
       "1    COM0000002                  C                 1.0\n",
       "2    COM0005267                  C                 4.0\n",
       "3    COM0004143                  A                 4.0\n",
       "4    COM0001781                  A                 4.0"
      ]
     },
     "execution_count": 10,
     "metadata": {},
     "output_type": "execute_result"
    }
   ],
   "source": [
    "t3_employer.head()"
   ]
  },
  {
   "cell_type": "code",
   "execution_count": 7,
   "id": "4eea897d-4e1e-40c0-b4ba-602829a50735",
   "metadata": {},
   "outputs": [
    {
     "data": {
      "text/html": [
       "<div>\n",
       "<style scoped>\n",
       "    .dataframe tbody tr th:only-of-type {\n",
       "        vertical-align: middle;\n",
       "    }\n",
       "\n",
       "    .dataframe tbody tr th {\n",
       "        vertical-align: top;\n",
       "    }\n",
       "\n",
       "    .dataframe thead th {\n",
       "        text-align: right;\n",
       "    }\n",
       "</style>\n",
       "<table border=\"1\" class=\"dataframe\">\n",
       "  <thead>\n",
       "    <tr style=\"text-align: right;\">\n",
       "      <th></th>\n",
       "      <th>ID</th>\n",
       "      <th>Gender</th>\n",
       "      <th>DOB</th>\n",
       "      <th>Lead_Creation_Date</th>\n",
       "      <th>City_Code</th>\n",
       "      <th>City_Category</th>\n",
       "      <th>Employer_Code</th>\n",
       "      <th>Employer_Category1</th>\n",
       "      <th>Employer_Category2</th>\n",
       "      <th>Monthly_Income</th>\n",
       "      <th>...</th>\n",
       "      <th>Primary_Bank_Type</th>\n",
       "      <th>Contacted</th>\n",
       "      <th>Source</th>\n",
       "      <th>Source_Category</th>\n",
       "      <th>Existing_EMI</th>\n",
       "      <th>Loan_Amount</th>\n",
       "      <th>Loan_Period</th>\n",
       "      <th>Interest_Rate</th>\n",
       "      <th>EMI</th>\n",
       "      <th>Var1</th>\n",
       "    </tr>\n",
       "  </thead>\n",
       "  <tbody>\n",
       "    <tr>\n",
       "      <th>0</th>\n",
       "      <td>APPA70109647212</td>\n",
       "      <td>Male</td>\n",
       "      <td>03/06/88</td>\n",
       "      <td>05/07/16</td>\n",
       "      <td>C10028</td>\n",
       "      <td>C</td>\n",
       "      <td>COM0002222</td>\n",
       "      <td>A</td>\n",
       "      <td>4.0</td>\n",
       "      <td>2150.0</td>\n",
       "      <td>...</td>\n",
       "      <td>P</td>\n",
       "      <td>Y</td>\n",
       "      <td>S122</td>\n",
       "      <td>B</td>\n",
       "      <td>0.0</td>\n",
       "      <td>10000.0</td>\n",
       "      <td>3.0</td>\n",
       "      <td>20.0</td>\n",
       "      <td>372.0</td>\n",
       "      <td>4</td>\n",
       "    </tr>\n",
       "    <tr>\n",
       "      <th>1</th>\n",
       "      <td>APPB10687939341</td>\n",
       "      <td>Male</td>\n",
       "      <td>13/07/81</td>\n",
       "      <td>01/07/16</td>\n",
       "      <td>C10003</td>\n",
       "      <td>A</td>\n",
       "      <td>COM0001784</td>\n",
       "      <td>C</td>\n",
       "      <td>4.0</td>\n",
       "      <td>4200.0</td>\n",
       "      <td>...</td>\n",
       "      <td>P</td>\n",
       "      <td>Y</td>\n",
       "      <td>S133</td>\n",
       "      <td>C</td>\n",
       "      <td>0.0</td>\n",
       "      <td>69000.0</td>\n",
       "      <td>5.0</td>\n",
       "      <td>24.0</td>\n",
       "      <td>1985.0</td>\n",
       "      <td>7</td>\n",
       "    </tr>\n",
       "    <tr>\n",
       "      <th>2</th>\n",
       "      <td>APPC80449411414</td>\n",
       "      <td>Female</td>\n",
       "      <td>19/11/90</td>\n",
       "      <td>01/07/16</td>\n",
       "      <td>C10009</td>\n",
       "      <td>B</td>\n",
       "      <td>COM0045260</td>\n",
       "      <td>B</td>\n",
       "      <td>4.0</td>\n",
       "      <td>1000.0</td>\n",
       "      <td>...</td>\n",
       "      <td>P</td>\n",
       "      <td>N</td>\n",
       "      <td>S133</td>\n",
       "      <td>B</td>\n",
       "      <td>0.0</td>\n",
       "      <td>NaN</td>\n",
       "      <td>NaN</td>\n",
       "      <td>NaN</td>\n",
       "      <td>NaN</td>\n",
       "      <td>0</td>\n",
       "    </tr>\n",
       "    <tr>\n",
       "      <th>3</th>\n",
       "      <td>APPD30665094501</td>\n",
       "      <td>Female</td>\n",
       "      <td>15/10/92</td>\n",
       "      <td>01/07/16</td>\n",
       "      <td>C10005</td>\n",
       "      <td>A</td>\n",
       "      <td>COM0000085</td>\n",
       "      <td>A</td>\n",
       "      <td>3.0</td>\n",
       "      <td>1465.0</td>\n",
       "      <td>...</td>\n",
       "      <td>P</td>\n",
       "      <td>N</td>\n",
       "      <td>S133</td>\n",
       "      <td>C</td>\n",
       "      <td>0.0</td>\n",
       "      <td>NaN</td>\n",
       "      <td>NaN</td>\n",
       "      <td>NaN</td>\n",
       "      <td>NaN</td>\n",
       "      <td>0</td>\n",
       "    </tr>\n",
       "    <tr>\n",
       "      <th>4</th>\n",
       "      <td>APPE80379821637</td>\n",
       "      <td>Male</td>\n",
       "      <td>21/09/88</td>\n",
       "      <td>01/07/16</td>\n",
       "      <td>C10005</td>\n",
       "      <td>A</td>\n",
       "      <td>COM0006422</td>\n",
       "      <td>A</td>\n",
       "      <td>4.0</td>\n",
       "      <td>2340.0</td>\n",
       "      <td>...</td>\n",
       "      <td>P</td>\n",
       "      <td>Y</td>\n",
       "      <td>S143</td>\n",
       "      <td>B</td>\n",
       "      <td>500.0</td>\n",
       "      <td>10000.0</td>\n",
       "      <td>2.0</td>\n",
       "      <td>NaN</td>\n",
       "      <td>NaN</td>\n",
       "      <td>0</td>\n",
       "    </tr>\n",
       "  </tbody>\n",
       "</table>\n",
       "<p>5 rows × 21 columns</p>\n",
       "</div>"
      ],
      "text/plain": [
       "                ID  Gender       DOB Lead_Creation_Date City_Code  \\\n",
       "0  APPA70109647212    Male  03/06/88           05/07/16    C10028   \n",
       "1  APPB10687939341    Male  13/07/81           01/07/16    C10003   \n",
       "2  APPC80449411414  Female  19/11/90           01/07/16    C10009   \n",
       "3  APPD30665094501  Female  15/10/92           01/07/16    C10005   \n",
       "4  APPE80379821637    Male  21/09/88           01/07/16    C10005   \n",
       "\n",
       "  City_Category Employer_Code Employer_Category1  Employer_Category2  \\\n",
       "0             C    COM0002222                  A                 4.0   \n",
       "1             A    COM0001784                  C                 4.0   \n",
       "2             B    COM0045260                  B                 4.0   \n",
       "3             A    COM0000085                  A                 3.0   \n",
       "4             A    COM0006422                  A                 4.0   \n",
       "\n",
       "   Monthly_Income  ... Primary_Bank_Type Contacted Source Source_Category  \\\n",
       "0          2150.0  ...                 P         Y   S122               B   \n",
       "1          4200.0  ...                 P         Y   S133               C   \n",
       "2          1000.0  ...                 P         N   S133               B   \n",
       "3          1465.0  ...                 P         N   S133               C   \n",
       "4          2340.0  ...                 P         Y   S143               B   \n",
       "\n",
       "  Existing_EMI  Loan_Amount  Loan_Period  Interest_Rate     EMI  Var1  \n",
       "0          0.0      10000.0          3.0           20.0   372.0     4  \n",
       "1          0.0      69000.0          5.0           24.0  1985.0     7  \n",
       "2          0.0          NaN          NaN            NaN     NaN     0  \n",
       "3          0.0          NaN          NaN            NaN     NaN     0  \n",
       "4        500.0      10000.0          2.0            NaN     NaN     0  \n",
       "\n",
       "[5 rows x 21 columns]"
      ]
     },
     "execution_count": 7,
     "metadata": {},
     "output_type": "execute_result"
    }
   ],
   "source": [
    "test.head()"
   ]
  },
  {
   "cell_type": "markdown",
   "id": "fb8750e7-e2ff-4a5c-814c-e78abb1d192d",
   "metadata": {},
   "source": [
    "## 3/ Join Data"
   ]
  },
  {
   "cell_type": "code",
   "execution_count": 21,
   "id": "8915f5fc-6a2b-470a-a0c1-d8a9238e8c47",
   "metadata": {},
   "outputs": [],
   "source": [
    "# Which join should you use?\n",
    "# 70000 Applicants - Only 22277 have EMI and Interest Rate?\n",
    "# Left - t1_leads\n",
    "# Right - t6_emi\n",
    "\n",
    "train = pd.merge(t1_leads, t6_emi, how = 'left',on = 'ID')"
   ]
  },
  {
   "cell_type": "code",
   "execution_count": 22,
   "id": "58944442-d2e8-49c9-a88a-91cbade007d5",
   "metadata": {},
   "outputs": [],
   "source": [
    "# Join City - t2_city\n",
    "train = pd.merge(train, t2_city, how = 'left',on = 'City_Code')"
   ]
  },
  {
   "cell_type": "code",
   "execution_count": 23,
   "id": "13b991bc-ef97-49a8-a11e-dcb57138ead1",
   "metadata": {},
   "outputs": [],
   "source": [
    "# Join Employer - t3_employer\n",
    "train = pd.merge(train, t3_employer, how = 'left',on = 'Employer_Code')"
   ]
  },
  {
   "cell_type": "code",
   "execution_count": null,
   "id": "d805f11e-6039-4f24-a8ae-8f35265c140b",
   "metadata": {},
   "outputs": [],
   "source": []
  },
  {
   "cell_type": "code",
   "execution_count": null,
   "id": "59a4e5fe-e222-4631-98ef-3b141f0d44b1",
   "metadata": {},
   "outputs": [],
   "source": []
  },
  {
   "cell_type": "code",
   "execution_count": 19,
   "id": "4b6b1cf3-4a54-48fb-b41d-9b910340a6cc",
   "metadata": {},
   "outputs": [
    {
     "data": {
      "text/html": [
       "<div>\n",
       "<style scoped>\n",
       "    .dataframe tbody tr th:only-of-type {\n",
       "        vertical-align: middle;\n",
       "    }\n",
       "\n",
       "    .dataframe tbody tr th {\n",
       "        vertical-align: top;\n",
       "    }\n",
       "\n",
       "    .dataframe thead th {\n",
       "        text-align: right;\n",
       "    }\n",
       "</style>\n",
       "<table border=\"1\" class=\"dataframe\">\n",
       "  <thead>\n",
       "    <tr style=\"text-align: right;\">\n",
       "      <th></th>\n",
       "      <th>ID</th>\n",
       "      <th>Gender</th>\n",
       "      <th>DOB</th>\n",
       "      <th>Lead_Creation_Date</th>\n",
       "      <th>City_Code</th>\n",
       "      <th>Employer_Code</th>\n",
       "      <th>Monthly_Income</th>\n",
       "      <th>Customer_Existing_Primary_Bank_Code</th>\n",
       "      <th>Contacted</th>\n",
       "      <th>Source</th>\n",
       "      <th>Existing_EMI</th>\n",
       "      <th>Loan_Amount</th>\n",
       "      <th>Loan_Period</th>\n",
       "      <th>Var1</th>\n",
       "      <th>Approved</th>\n",
       "      <th>Interest_Rate</th>\n",
       "      <th>EMI</th>\n",
       "      <th>City_Category</th>\n",
       "      <th>Employer_Category1</th>\n",
       "      <th>Employer_Category2</th>\n",
       "    </tr>\n",
       "  </thead>\n",
       "  <tbody>\n",
       "    <tr>\n",
       "      <th>0</th>\n",
       "      <td>APPD40611263344</td>\n",
       "      <td>Male</td>\n",
       "      <td>07-12-1986</td>\n",
       "      <td>04-07-2016</td>\n",
       "      <td>C10003</td>\n",
       "      <td>COM0000002</td>\n",
       "      <td>3500.0</td>\n",
       "      <td>B002</td>\n",
       "      <td>Y</td>\n",
       "      <td>S122</td>\n",
       "      <td>0.0</td>\n",
       "      <td>20000.0</td>\n",
       "      <td>2.0</td>\n",
       "      <td>10</td>\n",
       "      <td>0</td>\n",
       "      <td>13.25</td>\n",
       "      <td>953</td>\n",
       "      <td>A</td>\n",
       "      <td>C</td>\n",
       "      <td>1.0</td>\n",
       "    </tr>\n",
       "    <tr>\n",
       "      <th>1</th>\n",
       "      <td>APPK80327232033</td>\n",
       "      <td>Male</td>\n",
       "      <td>28-03-1973</td>\n",
       "      <td>02-07-2016</td>\n",
       "      <td>C10022</td>\n",
       "      <td>COM0030526</td>\n",
       "      <td>7500.0</td>\n",
       "      <td>B003</td>\n",
       "      <td>Y</td>\n",
       "      <td>S122</td>\n",
       "      <td>0.0</td>\n",
       "      <td>130000.0</td>\n",
       "      <td>5.0</td>\n",
       "      <td>10</td>\n",
       "      <td>0</td>\n",
       "      <td>14.85</td>\n",
       "      <td>3082</td>\n",
       "      <td>B</td>\n",
       "      <td>B</td>\n",
       "      <td>4.0</td>\n",
       "    </tr>\n",
       "    <tr>\n",
       "      <th>2</th>\n",
       "      <td>APPL20820172146</td>\n",
       "      <td>Female</td>\n",
       "      <td>12-11-1990</td>\n",
       "      <td>03-07-2016</td>\n",
       "      <td>C10003</td>\n",
       "      <td>COM0016738</td>\n",
       "      <td>3000.0</td>\n",
       "      <td>B006</td>\n",
       "      <td>Y</td>\n",
       "      <td>S133</td>\n",
       "      <td>0.0</td>\n",
       "      <td>30000.0</td>\n",
       "      <td>3.0</td>\n",
       "      <td>0</td>\n",
       "      <td>0</td>\n",
       "      <td>18.25</td>\n",
       "      <td>1088</td>\n",
       "      <td>A</td>\n",
       "      <td>A</td>\n",
       "      <td>4.0</td>\n",
       "    </tr>\n",
       "    <tr>\n",
       "      <th>3</th>\n",
       "      <td>APPM30977401211</td>\n",
       "      <td>Male</td>\n",
       "      <td>03-03-1977</td>\n",
       "      <td>02-07-2016</td>\n",
       "      <td>C10003</td>\n",
       "      <td>COM0010626</td>\n",
       "      <td>2500.0</td>\n",
       "      <td>B017</td>\n",
       "      <td>Y</td>\n",
       "      <td>S133</td>\n",
       "      <td>0.0</td>\n",
       "      <td>66000.0</td>\n",
       "      <td>5.0</td>\n",
       "      <td>7</td>\n",
       "      <td>0</td>\n",
       "      <td>20.00</td>\n",
       "      <td>1749</td>\n",
       "      <td>A</td>\n",
       "      <td>A</td>\n",
       "      <td>4.0</td>\n",
       "    </tr>\n",
       "    <tr>\n",
       "      <th>4</th>\n",
       "      <td>APPP50632654511</td>\n",
       "      <td>Male</td>\n",
       "      <td>24-08-1983</td>\n",
       "      <td>09-07-2016</td>\n",
       "      <td>C10030</td>\n",
       "      <td>COM0002632</td>\n",
       "      <td>2700.0</td>\n",
       "      <td>B003</td>\n",
       "      <td>Y</td>\n",
       "      <td>S133</td>\n",
       "      <td>460.0</td>\n",
       "      <td>20000.0</td>\n",
       "      <td>5.0</td>\n",
       "      <td>7</td>\n",
       "      <td>0</td>\n",
       "      <td>18.00</td>\n",
       "      <td>508</td>\n",
       "      <td>B</td>\n",
       "      <td>B</td>\n",
       "      <td>4.0</td>\n",
       "    </tr>\n",
       "  </tbody>\n",
       "</table>\n",
       "</div>"
      ],
      "text/plain": [
       "                ID  Gender         DOB Lead_Creation_Date City_Code  \\\n",
       "0  APPD40611263344    Male  07-12-1986         04-07-2016    C10003   \n",
       "1  APPK80327232033    Male  28-03-1973         02-07-2016    C10022   \n",
       "2  APPL20820172146  Female  12-11-1990         03-07-2016    C10003   \n",
       "3  APPM30977401211    Male  03-03-1977         02-07-2016    C10003   \n",
       "4  APPP50632654511    Male  24-08-1983         09-07-2016    C10030   \n",
       "\n",
       "  Employer_Code  Monthly_Income Customer_Existing_Primary_Bank_Code Contacted  \\\n",
       "0    COM0000002          3500.0                                B002         Y   \n",
       "1    COM0030526          7500.0                                B003         Y   \n",
       "2    COM0016738          3000.0                                B006         Y   \n",
       "3    COM0010626          2500.0                                B017         Y   \n",
       "4    COM0002632          2700.0                                B003         Y   \n",
       "\n",
       "  Source  Existing_EMI  Loan_Amount  Loan_Period  Var1  Approved  \\\n",
       "0   S122           0.0      20000.0          2.0    10         0   \n",
       "1   S122           0.0     130000.0          5.0    10         0   \n",
       "2   S133           0.0      30000.0          3.0     0         0   \n",
       "3   S133           0.0      66000.0          5.0     7         0   \n",
       "4   S133         460.0      20000.0          5.0     7         0   \n",
       "\n",
       "   Interest_Rate   EMI City_Category Employer_Category1  Employer_Category2  \n",
       "0          13.25   953             A                  C                 1.0  \n",
       "1          14.85  3082             B                  B                 4.0  \n",
       "2          18.25  1088             A                  A                 4.0  \n",
       "3          20.00  1749             A                  A                 4.0  \n",
       "4          18.00   508             B                  B                 4.0  "
      ]
     },
     "execution_count": 19,
     "metadata": {},
     "output_type": "execute_result"
    }
   ],
   "source": [
    "train.head()"
   ]
  },
  {
   "cell_type": "code",
   "execution_count": 24,
   "id": "edd7e7c5-bfb2-4f91-b9e2-afc487aa4016",
   "metadata": {},
   "outputs": [
    {
     "name": "stdout",
     "output_type": "stream",
     "text": [
      "<class 'pandas.core.frame.DataFrame'>\n",
      "Int64Index: 69713 entries, 0 to 69712\n",
      "Data columns (total 20 columns):\n",
      " #   Column                               Non-Null Count  Dtype  \n",
      "---  ------                               --------------  -----  \n",
      " 0   ID                                   69713 non-null  object \n",
      " 1   Gender                               69713 non-null  object \n",
      " 2   DOB                                  69698 non-null  object \n",
      " 3   Lead_Creation_Date                   69713 non-null  object \n",
      " 4   City_Code                            68899 non-null  object \n",
      " 5   Employer_Code                        65695 non-null  object \n",
      " 6   Monthly_Income                       69713 non-null  float64\n",
      " 7   Customer_Existing_Primary_Bank_Code  60322 non-null  object \n",
      " 8   Contacted                            69713 non-null  object \n",
      " 9   Source                               69713 non-null  object \n",
      " 10  Existing_EMI                         69662 non-null  float64\n",
      " 11  Loan_Amount                          42004 non-null  float64\n",
      " 12  Loan_Period                          42004 non-null  float64\n",
      " 13  Var1                                 69713 non-null  int64  \n",
      " 14  Approved                             69713 non-null  int64  \n",
      " 15  Interest_Rate                        22276 non-null  float64\n",
      " 16  EMI                                  22276 non-null  float64\n",
      " 17  City_Category                        68899 non-null  object \n",
      " 18  Employer_Category1                   65695 non-null  object \n",
      " 19  Employer_Category2                   65415 non-null  float64\n",
      "dtypes: float64(7), int64(2), object(11)\n",
      "memory usage: 11.2+ MB\n"
     ]
    }
   ],
   "source": [
    "train.info()"
   ]
  },
  {
   "cell_type": "markdown",
   "id": "fd61deca-7ad8-4802-99d7-00c39b6158af",
   "metadata": {},
   "source": [
    "## 4/ Convert String to Date Format"
   ]
  },
  {
   "cell_type": "markdown",
   "id": "e92c7719-6f6e-48c8-bbca-41d2a62274a2",
   "metadata": {},
   "source": [
    "### Convert: Lead_Creation_Date"
   ]
  },
  {
   "cell_type": "code",
   "execution_count": 29,
   "id": "636206ae-c256-44b2-b79e-970f33cf9cad",
   "metadata": {},
   "outputs": [],
   "source": [
    "train['Lead_Creation_Date'] = pd.to_datetime(train['Lead_Creation_Date'], infer_datetime_format = True)\n",
    "# for test too\n",
    "test['Lead_Creation_Date'] = pd.to_datetime(test['Lead_Creation_Date'], infer_datetime_format = True)"
   ]
  },
  {
   "cell_type": "code",
   "execution_count": 34,
   "id": "c3679fa4-f316-4be6-9ffe-74944c5f74a3",
   "metadata": {},
   "outputs": [],
   "source": [
    "train.info()"
   ]
  },
  {
   "cell_type": "markdown",
   "id": "0d7d713c-75b8-444a-8424-571a482a3f03",
   "metadata": {},
   "source": [
    "### Convert: DOB"
   ]
  },
  {
   "cell_type": "code",
   "execution_count": 30,
   "id": "2aab4d35-66bc-45a5-8255-0fc21c5890c4",
   "metadata": {},
   "outputs": [],
   "source": [
    "train['DOB'] = pd.to_datetime(train['DOB'], infer_datetime_format = True)\n",
    "test['DOB'] = pd.to_datetime(test['DOB'], infer_datetime_format = True)"
   ]
  },
  {
   "cell_type": "code",
   "execution_count": 35,
   "id": "31cce585-21c9-4f70-9c7d-c31b62317001",
   "metadata": {},
   "outputs": [
    {
     "name": "stdout",
     "output_type": "stream",
     "text": [
      "<class 'pandas.core.frame.DataFrame'>\n",
      "Int64Index: 69713 entries, 0 to 69712\n",
      "Data columns (total 20 columns):\n",
      " #   Column                               Non-Null Count  Dtype         \n",
      "---  ------                               --------------  -----         \n",
      " 0   ID                                   69713 non-null  object        \n",
      " 1   Gender                               69713 non-null  object        \n",
      " 2   DOB                                  69698 non-null  datetime64[ns]\n",
      " 3   Lead_Creation_Date                   69713 non-null  datetime64[ns]\n",
      " 4   City_Code                            68899 non-null  object        \n",
      " 5   Employer_Code                        65695 non-null  object        \n",
      " 6   Monthly_Income                       69713 non-null  float64       \n",
      " 7   Customer_Existing_Primary_Bank_Code  60322 non-null  object        \n",
      " 8   Contacted                            69713 non-null  object        \n",
      " 9   Source                               69713 non-null  object        \n",
      " 10  Existing_EMI                         69662 non-null  float64       \n",
      " 11  Loan_Amount                          42004 non-null  float64       \n",
      " 12  Loan_Period                          42004 non-null  float64       \n",
      " 13  Var1                                 69713 non-null  int64         \n",
      " 14  Approved                             69713 non-null  int64         \n",
      " 15  Interest_Rate                        22276 non-null  float64       \n",
      " 16  EMI                                  22276 non-null  float64       \n",
      " 17  City_Category                        68899 non-null  object        \n",
      " 18  Employer_Category1                   65695 non-null  object        \n",
      " 19  Employer_Category2                   65415 non-null  float64       \n",
      "dtypes: datetime64[ns](2), float64(7), int64(2), object(9)\n",
      "memory usage: 11.2+ MB\n"
     ]
    }
   ],
   "source": [
    "train.info()"
   ]
  },
  {
   "cell_type": "markdown",
   "id": "eab389ee-9dcb-42d4-9cdd-2d67a132ffe1",
   "metadata": {},
   "source": [
    "## 5/ Identify Missing Values"
   ]
  },
  {
   "cell_type": "markdown",
   "id": "1dbbd829-2a48-4c89-8d51-c97dfbe50fd4",
   "metadata": {},
   "source": [
    "### Option 1: info"
   ]
  },
  {
   "cell_type": "code",
   "execution_count": 36,
   "id": "9143f3a9-2956-4fbe-b50f-9f0597ff9d25",
   "metadata": {},
   "outputs": [
    {
     "name": "stdout",
     "output_type": "stream",
     "text": [
      "<class 'pandas.core.frame.DataFrame'>\n",
      "Int64Index: 69713 entries, 0 to 69712\n",
      "Data columns (total 20 columns):\n",
      " #   Column                               Non-Null Count  Dtype         \n",
      "---  ------                               --------------  -----         \n",
      " 0   ID                                   69713 non-null  object        \n",
      " 1   Gender                               69713 non-null  object        \n",
      " 2   DOB                                  69698 non-null  datetime64[ns]\n",
      " 3   Lead_Creation_Date                   69713 non-null  datetime64[ns]\n",
      " 4   City_Code                            68899 non-null  object        \n",
      " 5   Employer_Code                        65695 non-null  object        \n",
      " 6   Monthly_Income                       69713 non-null  float64       \n",
      " 7   Customer_Existing_Primary_Bank_Code  60322 non-null  object        \n",
      " 8   Contacted                            69713 non-null  object        \n",
      " 9   Source                               69713 non-null  object        \n",
      " 10  Existing_EMI                         69662 non-null  float64       \n",
      " 11  Loan_Amount                          42004 non-null  float64       \n",
      " 12  Loan_Period                          42004 non-null  float64       \n",
      " 13  Var1                                 69713 non-null  int64         \n",
      " 14  Approved                             69713 non-null  int64         \n",
      " 15  Interest_Rate                        22276 non-null  float64       \n",
      " 16  EMI                                  22276 non-null  float64       \n",
      " 17  City_Category                        68899 non-null  object        \n",
      " 18  Employer_Category1                   65695 non-null  object        \n",
      " 19  Employer_Category2                   65415 non-null  float64       \n",
      "dtypes: datetime64[ns](2), float64(7), int64(2), object(9)\n",
      "memory usage: 11.2+ MB\n"
     ]
    }
   ],
   "source": [
    "train.info()"
   ]
  },
  {
   "cell_type": "markdown",
   "id": "284bf5e4-cc52-4c56-9e13-d3fbd58bf140",
   "metadata": {},
   "source": [
    "### Option 2: isnull + sum"
   ]
  },
  {
   "cell_type": "code",
   "execution_count": 38,
   "id": "370c91f8-0413-4c52-9de8-0cc22c1fe39a",
   "metadata": {},
   "outputs": [
    {
     "data": {
      "text/plain": [
       "ID                                         0\n",
       "Gender                                     0\n",
       "DOB                                       15\n",
       "Lead_Creation_Date                         0\n",
       "City_Code                                814\n",
       "Employer_Code                           4018\n",
       "Monthly_Income                             0\n",
       "Customer_Existing_Primary_Bank_Code     9391\n",
       "Contacted                                  0\n",
       "Source                                     0\n",
       "Existing_EMI                              51\n",
       "Loan_Amount                            27709\n",
       "Loan_Period                            27709\n",
       "Var1                                       0\n",
       "Approved                                   0\n",
       "Interest_Rate                          47437\n",
       "EMI                                    47437\n",
       "City_Category                            814\n",
       "Employer_Category1                      4018\n",
       "Employer_Category2                      4298\n",
       "dtype: int64"
      ]
     },
     "execution_count": 38,
     "metadata": {},
     "output_type": "execute_result"
    }
   ],
   "source": [
    "train.isnull().sum()"
   ]
  },
  {
   "cell_type": "markdown",
   "id": "6604a6c3-f1ff-4ff8-8176-7e43a02814cb",
   "metadata": {},
   "source": [
    "### Option 3: Percentage Missing"
   ]
  },
  {
   "cell_type": "code",
   "execution_count": 42,
   "id": "4ef07062-d04c-49cc-bc1b-f68a38aa77b5",
   "metadata": {},
   "outputs": [
    {
     "data": {
      "text/plain": [
       "ID                                     0.000000\n",
       "Gender                                 0.000000\n",
       "DOB                                    0.000215\n",
       "Lead_Creation_Date                     0.000000\n",
       "City_Code                              0.011676\n",
       "Employer_Code                          0.057636\n",
       "Monthly_Income                         0.000000\n",
       "Customer_Existing_Primary_Bank_Code    0.134709\n",
       "Contacted                              0.000000\n",
       "Source                                 0.000000\n",
       "Existing_EMI                           0.000732\n",
       "Loan_Amount                            0.397472\n",
       "Loan_Period                            0.397472\n",
       "Var1                                   0.000000\n",
       "Approved                               0.000000\n",
       "Interest_Rate                          0.680461\n",
       "EMI                                    0.680461\n",
       "City_Category                          0.011676\n",
       "Employer_Category1                     0.057636\n",
       "Employer_Category2                     0.061653\n",
       "dtype: float64"
      ]
     },
     "execution_count": 42,
     "metadata": {},
     "output_type": "execute_result"
    }
   ],
   "source": [
    "(train.isnull().sum()/len(train))"
   ]
  },
  {
   "cell_type": "markdown",
   "id": "ec043758-5bd2-4a38-b6e9-595454c5d2e7",
   "metadata": {},
   "source": [
    "## **Additional : Export Missing Value Perc Data\n",
    "- Convert Series (Index + Values) to DataFrame\n",
    "- Export Table (use name - missing_value_summary.csv)"
   ]
  },
  {
   "cell_type": "code",
   "execution_count": 43,
   "id": "aea019bf-f830-4d7b-8f7d-f19c19bb6e01",
   "metadata": {},
   "outputs": [],
   "source": [
    "# Create Series of Percentage Missing\n",
    "missing_value_percentage = (train.isnull().sum()/len(train))"
   ]
  },
  {
   "cell_type": "code",
   "execution_count": 48,
   "id": "78ff77a5-64d3-4457-a8bf-b74a33f6ec45",
   "metadata": {},
   "outputs": [
    {
     "data": {
      "text/plain": [
       "array([0.00000000e+00, 0.00000000e+00, 2.15167903e-04, 0.00000000e+00,\n",
       "       1.16764449e-02, 5.76363089e-02, 0.00000000e+00, 1.34709452e-01,\n",
       "       0.00000000e+00, 0.00000000e+00, 7.31570869e-04, 3.97472494e-01,\n",
       "       3.97472494e-01, 0.00000000e+00, 0.00000000e+00, 6.80461320e-01,\n",
       "       6.80461320e-01, 1.16764449e-02, 5.76363089e-02, 6.16527764e-02])"
      ]
     },
     "execution_count": 48,
     "metadata": {},
     "output_type": "execute_result"
    }
   ],
   "source": [
    "missing_value_percentage.values"
   ]
  },
  {
   "cell_type": "code",
   "execution_count": 44,
   "id": "e0e96fc8-c4a2-4582-9c5a-0ff7a3d00e12",
   "metadata": {},
   "outputs": [
    {
     "data": {
      "text/plain": [
       "pandas.core.series.Series"
      ]
     },
     "execution_count": 44,
     "metadata": {},
     "output_type": "execute_result"
    }
   ],
   "source": [
    "# Check Data Type\n",
    "type(missing_value_percentage)"
   ]
  },
  {
   "cell_type": "code",
   "execution_count": 50,
   "id": "8b888beb-f42e-480c-8e95-8ca8aab4c60a",
   "metadata": {},
   "outputs": [],
   "source": [
    "# Create DataFrame\n",
    "missing_value_summary = pd.DataFrame({\n",
    "   'Feature_Name' : missing_value_percentage.index,\n",
    "    'Missing_Percentage' : missing_value_percentage.values\n",
    "})"
   ]
  },
  {
   "cell_type": "code",
   "execution_count": 52,
   "id": "ac8a3c63-9a9f-4f63-9e75-88a340b4e658",
   "metadata": {},
   "outputs": [],
   "source": [
    "#missing_value_summary"
   ]
  },
  {
   "cell_type": "code",
   "execution_count": 53,
   "id": "5d2fa5eb-a452-4fbd-87d4-282907466dd5",
   "metadata": {},
   "outputs": [],
   "source": [
    "#Export DataFrame\n",
    "missing_value_summary.to_csv('missing_value_summary.csv', index = False)"
   ]
  },
  {
   "cell_type": "markdown",
   "id": "80ced775-0071-4c73-b4bf-fbbb857e05bb",
   "metadata": {},
   "source": [
    "## 6/ Impute Missing Values"
   ]
  },
  {
   "cell_type": "markdown",
   "id": "5ab9988d-6200-45fd-805d-22a22b24ccf4",
   "metadata": {},
   "source": [
    "### 1/ Continuous - Loan_Period"
   ]
  },
  {
   "cell_type": "code",
   "execution_count": 55,
   "id": "db3db6ec-a90b-40b8-8c49-a22820bee010",
   "metadata": {},
   "outputs": [
    {
     "data": {
      "text/plain": [
       "27709"
      ]
     },
     "execution_count": 55,
     "metadata": {},
     "output_type": "execute_result"
    }
   ],
   "source": [
    "# Check Missing\n",
    "train['Loan_Period'].isnull().sum()"
   ]
  },
  {
   "cell_type": "markdown",
   "id": "5809ab51-b9dc-4fbb-9a06-e57f0af07817",
   "metadata": {},
   "source": [
    "#### Option 1: fillna - default options\n",
    "- bfill\n",
    "- ffill"
   ]
  },
  {
   "cell_type": "code",
   "execution_count": 59,
   "id": "dfa8e72a-b740-4998-8f95-c69e5b12e73e",
   "metadata": {},
   "outputs": [
    {
     "data": {
      "text/plain": [
       "0"
      ]
     },
     "execution_count": 59,
     "metadata": {},
     "output_type": "execute_result"
    }
   ],
   "source": [
    "train['Loan_Period'].fillna(method = 'bfill').isnull().sum()"
   ]
  },
  {
   "cell_type": "markdown",
   "id": "bd7e8e98-d459-4189-a121-20c91e12886f",
   "metadata": {},
   "source": [
    "#### Option 2: fillna with mean, median, mode"
   ]
  },
  {
   "cell_type": "code",
   "execution_count": 61,
   "id": "ff58ff4c-0d52-4d78-bb18-d3390443b3a2",
   "metadata": {},
   "outputs": [
    {
     "data": {
      "text/plain": [
       "0        3.890629\n",
       "1        2.000000\n",
       "2        4.000000\n",
       "3        5.000000\n",
       "4        2.000000\n",
       "           ...   \n",
       "69708    3.890629\n",
       "69709    3.890629\n",
       "69710    4.000000\n",
       "69711    5.000000\n",
       "69712    4.000000\n",
       "Name: Loan_Period, Length: 69713, dtype: float64"
      ]
     },
     "execution_count": 61,
     "metadata": {},
     "output_type": "execute_result"
    }
   ],
   "source": [
    "train['Loan_Period'].fillna(train['Loan_Period'].mean())"
   ]
  },
  {
   "cell_type": "markdown",
   "id": "27dba202-add8-4d54-9f70-a14cf4c70916",
   "metadata": {},
   "source": [
    "#### Commit Changes to Missing Value Column"
   ]
  },
  {
   "cell_type": "code",
   "execution_count": 64,
   "id": "d4030c0c-7e84-4d9d-9910-0bb8915ff2c5",
   "metadata": {},
   "outputs": [],
   "source": [
    "train['Loan_Period'] = train['Loan_Period'].fillna(train['Loan_Period'].median())"
   ]
  },
  {
   "cell_type": "markdown",
   "id": "c6c6561f-02fe-4f9c-9770-cb51ba9c6877",
   "metadata": {},
   "source": [
    "### 2/ Continuous - Loan_Amount"
   ]
  },
  {
   "cell_type": "markdown",
   "id": "27f9d7fc-c5ea-464d-9885-6cbbcfbc847a",
   "metadata": {},
   "source": [
    "#### Option 1, 2: fillna "
   ]
  },
  {
   "cell_type": "code",
   "execution_count": null,
   "id": "bc0b8fd4-39e8-430c-be92-1ceeef07060f",
   "metadata": {},
   "outputs": [],
   "source": []
  },
  {
   "cell_type": "markdown",
   "id": "a861e6cb-1304-47c6-bdd8-13cda53d914d",
   "metadata": {},
   "source": [
    "#### Commit Changes to Missing Value Column"
   ]
  },
  {
   "cell_type": "code",
   "execution_count": 62,
   "id": "e9b6ec92-b984-44d5-bb43-403ccaa296b5",
   "metadata": {},
   "outputs": [],
   "source": [
    "train['Loan_Amount'] = train['Loan_Amount'].fillna(train['Loan_Amount'].median())"
   ]
  },
  {
   "cell_type": "code",
   "execution_count": 65,
   "id": "42b250f4-8e18-47d7-8e00-598577a2331b",
   "metadata": {},
   "outputs": [
    {
     "data": {
      "text/plain": [
       "ID                                         0\n",
       "Gender                                     0\n",
       "DOB                                       15\n",
       "Lead_Creation_Date                         0\n",
       "City_Code                                814\n",
       "Employer_Code                           4018\n",
       "Monthly_Income                             0\n",
       "Customer_Existing_Primary_Bank_Code     9391\n",
       "Contacted                                  0\n",
       "Source                                     0\n",
       "Existing_EMI                              51\n",
       "Loan_Amount                                0\n",
       "Loan_Period                                0\n",
       "Var1                                       0\n",
       "Approved                                   0\n",
       "Interest_Rate                          47437\n",
       "EMI                                    47437\n",
       "City_Category                            814\n",
       "Employer_Category1                      4018\n",
       "Employer_Category2                      4298\n",
       "dtype: int64"
      ]
     },
     "execution_count": 65,
     "metadata": {},
     "output_type": "execute_result"
    }
   ],
   "source": [
    "train.isnull().sum()"
   ]
  },
  {
   "cell_type": "markdown",
   "id": "3ca3c746-0385-41b8-816b-938045695d6f",
   "metadata": {},
   "source": [
    "### 3/ Categorical - City_Code/City_Category"
   ]
  },
  {
   "cell_type": "code",
   "execution_count": 69,
   "id": "8a4b385b-e6ad-4d07-8446-6580e2f05c63",
   "metadata": {},
   "outputs": [
    {
     "data": {
      "text/plain": [
       "A      49885\n",
       "C      11694\n",
       "B       7320\n",
       "NaN      814\n",
       "Name: City_Category, dtype: int64"
      ]
     },
     "execution_count": 69,
     "metadata": {},
     "output_type": "execute_result"
    }
   ],
   "source": [
    "train['City_Category'].value_counts(dropna=False)"
   ]
  },
  {
   "cell_type": "markdown",
   "id": "60fc24fc-5aaa-4833-bfb7-c0ef9febb86a",
   "metadata": {},
   "source": [
    "#### Option 1,2 - fillna"
   ]
  },
  {
   "cell_type": "code",
   "execution_count": 73,
   "id": "78126d9d-504a-4cf2-858f-879dd14f5d13",
   "metadata": {},
   "outputs": [
    {
     "data": {
      "text/plain": [
       "A          49885\n",
       "C          11694\n",
       "B           7320\n",
       "missing      814\n",
       "Name: City_Category, dtype: int64"
      ]
     },
     "execution_count": 73,
     "metadata": {},
     "output_type": "execute_result"
    }
   ],
   "source": [
    "train['City_Category'].fillna(\"missing\").value_counts(dropna=False)"
   ]
  },
  {
   "cell_type": "code",
   "execution_count": null,
   "id": "21681e8d-318b-4fa9-9437-342cdacb4568",
   "metadata": {},
   "outputs": [],
   "source": [
    "#train['City_Category'] = train['City_Category'].fillna(\"missing\")"
   ]
  },
  {
   "cell_type": "code",
   "execution_count": 77,
   "id": "4c023c47-c8bf-41ab-af6e-8d5e7200b1e7",
   "metadata": {},
   "outputs": [
    {
     "data": {
      "text/plain": [
       "'A'"
      ]
     },
     "execution_count": 77,
     "metadata": {},
     "output_type": "execute_result"
    }
   ],
   "source": [
    "train['City_Category'].mode()[0]"
   ]
  },
  {
   "cell_type": "code",
   "execution_count": 78,
   "id": "40204135-6b69-47fb-be85-fe7dd327a545",
   "metadata": {},
   "outputs": [],
   "source": [
    "train['City_Category'] = train['City_Category'].fillna(train['City_Category'].mode()[0])"
   ]
  },
  {
   "cell_type": "code",
   "execution_count": 80,
   "id": "54f5e174-813e-4188-835e-65dcaf3e9ddd",
   "metadata": {},
   "outputs": [
    {
     "data": {
      "text/plain": [
       "ID                                         0\n",
       "Gender                                     0\n",
       "DOB                                       15\n",
       "Lead_Creation_Date                         0\n",
       "City_Code                                814\n",
       "Employer_Code                           4018\n",
       "Monthly_Income                             0\n",
       "Customer_Existing_Primary_Bank_Code     9391\n",
       "Contacted                                  0\n",
       "Source                                     0\n",
       "Existing_EMI                              51\n",
       "Loan_Amount                                0\n",
       "Loan_Period                                0\n",
       "Var1                                       0\n",
       "Approved                                   0\n",
       "Interest_Rate                          47437\n",
       "EMI                                    47437\n",
       "City_Category                              0\n",
       "Employer_Category1                      4018\n",
       "Employer_Category2                      4298\n",
       "dtype: int64"
      ]
     },
     "execution_count": 80,
     "metadata": {},
     "output_type": "execute_result"
    }
   ],
   "source": [
    "train.isnull().sum()"
   ]
  },
  {
   "cell_type": "markdown",
   "id": "65a859d5-5df8-416e-8fb8-97c79621fe6f",
   "metadata": {},
   "source": [
    "### 4/ Categorical - Employer_Category1 "
   ]
  },
  {
   "cell_type": "markdown",
   "id": "1591e1f6-7414-4118-b34a-9fd8c44b9b5f",
   "metadata": {},
   "source": [
    "#### Option 1, 3: fillna"
   ]
  },
  {
   "cell_type": "code",
   "execution_count": null,
   "id": "674c4d9e-0fa2-4f01-a0a3-03a89f69d4c7",
   "metadata": {},
   "outputs": [],
   "source": []
  },
  {
   "cell_type": "markdown",
   "id": "1f2859cd-232a-477d-980f-9f2250315182",
   "metadata": {},
   "source": [
    "## 7/ Build Model"
   ]
  },
  {
   "cell_type": "code",
   "execution_count": null,
   "id": "e2db197e-631b-4084-8c31-3c5bc9f45901",
   "metadata": {},
   "outputs": [],
   "source": []
  }
 ],
 "metadata": {
  "kernelspec": {
   "display_name": "Python 3",
   "language": "python",
   "name": "python3"
  },
  "language_info": {
   "codemirror_mode": {
    "name": "ipython",
    "version": 3
   },
   "file_extension": ".py",
   "mimetype": "text/x-python",
   "name": "python",
   "nbconvert_exporter": "python",
   "pygments_lexer": "ipython3",
   "version": "3.8.8"
  },
  "toc-autonumbering": false
 },
 "nbformat": 4,
 "nbformat_minor": 5
}
