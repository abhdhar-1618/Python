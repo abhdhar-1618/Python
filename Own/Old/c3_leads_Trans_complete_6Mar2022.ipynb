{
 "cells": [
  {
   "cell_type": "markdown",
   "id": "b262b4d0-e51e-4125-99af-9034af28b9cf",
   "metadata": {},
   "source": [
    "# Marketing Leads Conversion - Missing Data\n",
    "- Identify Missing Values\n",
    "- Impute Missing Values\n",
    "    - Continuous\n",
    "    - Categorical"
   ]
  },
  {
   "cell_type": "markdown",
   "id": "5038b36d-af56-48bb-9d2d-7e78c0596ad1",
   "metadata": {},
   "source": [
    "## 1/ Import Libraries"
   ]
  },
  {
   "cell_type": "code",
   "execution_count": 1,
   "id": "ea9a2d80-252d-4772-af23-07eb34df1fa8",
   "metadata": {},
   "outputs": [],
   "source": [
    "# pandas, numpy\n",
    "import pandas as pd\n",
    "import numpy as np"
   ]
  },
  {
   "cell_type": "markdown",
   "id": "00fefa7c-e4f9-4d82-83a0-da88c2d8c2ba",
   "metadata": {},
   "source": [
    "## 2/ Import Data\n",
    "- t1_leads\n",
    "- t6_emi\n",
    "- test\n",
    "\n",
    "**Extra:** Join other tables to build a more comprehensive training data"
   ]
  },
  {
   "cell_type": "code",
   "execution_count": 2,
   "id": "e16a68e0-aaa6-4bcb-88a4-e2ab35c762ea",
   "metadata": {},
   "outputs": [],
   "source": [
    "# Train\n",
    "train = pd.read_csv('data/train.csv', low_memory=False)\n",
    "\n",
    "#Test Data - Final Predictions\n",
    "test = pd.read_csv('data/test.csv', low_memory=False)"
   ]
  },
  {
   "cell_type": "markdown",
   "id": "fd61deca-7ad8-4802-99d7-00c39b6158af",
   "metadata": {},
   "source": [
    "## 3/ Convert String to Date Format"
   ]
  },
  {
   "cell_type": "markdown",
   "id": "e92c7719-6f6e-48c8-bbca-41d2a62274a2",
   "metadata": {},
   "source": [
    "### Convert: Lead_Creation_Date"
   ]
  },
  {
   "cell_type": "code",
   "execution_count": 3,
   "id": "636206ae-c256-44b2-b79e-970f33cf9cad",
   "metadata": {},
   "outputs": [],
   "source": [
    "# Train\n",
    "train['Lead_Creation_Date'] = pd.to_datetime(train['Lead_Creation_Date'], infer_datetime_format = True)\n",
    "train['DOB'] = pd.to_datetime(train['DOB'], infer_datetime_format = True)\n",
    "\n",
    "# Test (need to do the same for Test too)\n",
    "test['Lead_Creation_Date'] = pd.to_datetime(test['Lead_Creation_Date'], infer_datetime_format = True)\n",
    "test['DOB'] = pd.to_datetime(test['DOB'], infer_datetime_format = True)"
   ]
  },
  {
   "cell_type": "markdown",
   "id": "eab389ee-9dcb-42d4-9cdd-2d67a132ffe1",
   "metadata": {},
   "source": [
    "## 5/ Identify Missing Values"
   ]
  },
  {
   "cell_type": "markdown",
   "id": "284bf5e4-cc52-4c56-9e13-d3fbd58bf140",
   "metadata": {},
   "source": [
    "### Option 2: isnull + sum"
   ]
  },
  {
   "cell_type": "code",
   "execution_count": 4,
   "id": "370c91f8-0413-4c52-9de8-0cc22c1fe39a",
   "metadata": {},
   "outputs": [
    {
     "data": {
      "text/plain": [
       "ID                                         0\n",
       "Gender                                     0\n",
       "DOB                                       15\n",
       "Lead_Creation_Date                         0\n",
       "City_Code                                814\n",
       "City_Category                            814\n",
       "Employer_Code                           4018\n",
       "Employer_Category1                      4018\n",
       "Employer_Category2                      4298\n",
       "Monthly_Income                             0\n",
       "Customer_Existing_Primary_Bank_Code     9391\n",
       "Primary_Bank_Type                       9391\n",
       "Contacted                                  0\n",
       "Source                                     0\n",
       "Source_Category                            0\n",
       "Existing_EMI                              51\n",
       "Loan_Amount                            27709\n",
       "Loan_Period                            27709\n",
       "Interest_Rate                          47437\n",
       "EMI                                    47437\n",
       "Var1                                       0\n",
       "Approved                                   0\n",
       "dtype: int64"
      ]
     },
     "execution_count": 4,
     "metadata": {},
     "output_type": "execute_result"
    }
   ],
   "source": [
    "train.isnull().sum()"
   ]
  },
  {
   "cell_type": "markdown",
   "id": "80ced775-0071-4c73-b4bf-fbbb857e05bb",
   "metadata": {},
   "source": [
    "## 6/ Impute Missing Values"
   ]
  },
  {
   "cell_type": "markdown",
   "id": "5ab9988d-6200-45fd-805d-22a22b24ccf4",
   "metadata": {},
   "source": [
    "### 1/ Continuous - Indentify and Impute"
   ]
  },
  {
   "cell_type": "code",
   "execution_count": 5,
   "id": "4dfa63df-0fb6-45a6-9075-b9ba914e256d",
   "metadata": {},
   "outputs": [
    {
     "data": {
      "text/plain": [
       "['Employer_Category2',\n",
       " 'Monthly_Income',\n",
       " 'Existing_EMI',\n",
       " 'Loan_Amount',\n",
       " 'Loan_Period',\n",
       " 'Interest_Rate',\n",
       " 'EMI',\n",
       " 'Var1']"
      ]
     },
     "execution_count": 5,
     "metadata": {},
     "output_type": "execute_result"
    }
   ],
   "source": [
    "numerical_features = [feature for feature in train.columns if train[feature].dtypes in ['float64','int64'] and feature !='ID' and feature !='Approved']\n",
    "numerical_features"
   ]
  },
  {
   "cell_type": "markdown",
   "id": "27dba202-add8-4d54-9f70-a14cf4c70916",
   "metadata": {},
   "source": [
    "#### Impute Numerical with SimpleImputer"
   ]
  },
  {
   "cell_type": "code",
   "execution_count": 6,
   "id": "d4030c0c-7e84-4d9d-9910-0bb8915ff2c5",
   "metadata": {},
   "outputs": [],
   "source": [
    "# import package\n",
    "from sklearn.impute import SimpleImputer\n",
    "# Create Instance\n",
    "imp_num = SimpleImputer(strategy='median')\n",
    "# Fit - Calculate Median for all columns\n",
    "imp_num.fit(train[numerical_features])\n",
    "# Transform - Impute Missing Values with Median\n",
    "train[numerical_features] = imp_num.transform(train[numerical_features])"
   ]
  },
  {
   "cell_type": "markdown",
   "id": "3ca3c746-0385-41b8-816b-938045695d6f",
   "metadata": {},
   "source": [
    "### 3/ Categorical - Identify and Impute"
   ]
  },
  {
   "cell_type": "code",
   "execution_count": 7,
   "id": "8a4b385b-e6ad-4d07-8446-6580e2f05c63",
   "metadata": {},
   "outputs": [
    {
     "data": {
      "text/plain": [
       "['Gender',\n",
       " 'City_Code',\n",
       " 'City_Category',\n",
       " 'Employer_Code',\n",
       " 'Employer_Category1',\n",
       " 'Customer_Existing_Primary_Bank_Code',\n",
       " 'Primary_Bank_Type',\n",
       " 'Contacted',\n",
       " 'Source',\n",
       " 'Source_Category']"
      ]
     },
     "execution_count": 7,
     "metadata": {},
     "output_type": "execute_result"
    }
   ],
   "source": [
    "categorical_features = [feature for feature in train.columns if train[feature].dtypes=='O' and feature !='ID' and feature !='Approved']\n",
    "categorical_features"
   ]
  },
  {
   "cell_type": "markdown",
   "id": "582afd8e-6f80-4847-b532-8a94a9f57b26",
   "metadata": {},
   "source": [
    "#### Impute Categorical with SimpleImputer"
   ]
  },
  {
   "cell_type": "code",
   "execution_count": 8,
   "id": "14049b65-e09a-4c31-81f6-380a9b5ae950",
   "metadata": {},
   "outputs": [],
   "source": [
    "# import package\n",
    "from sklearn.impute import SimpleImputer\n",
    "# Create Instance\n",
    "imp_cat = SimpleImputer(strategy='constant', fill_value = 'missing')\n",
    "# Fit\n",
    "imp_cat.fit(train[categorical_features])\n",
    "# Transform \n",
    "train[categorical_features] = imp_cat.transform(train[categorical_features])"
   ]
  },
  {
   "cell_type": "markdown",
   "id": "f84a4e00-c08c-4718-9c79-3369463ee62c",
   "metadata": {},
   "source": [
    "#### Check Again"
   ]
  },
  {
   "cell_type": "code",
   "execution_count": 9,
   "id": "54f5e174-813e-4188-835e-65dcaf3e9ddd",
   "metadata": {},
   "outputs": [
    {
     "data": {
      "text/plain": [
       "ID                                      0\n",
       "Gender                                  0\n",
       "DOB                                    15\n",
       "Lead_Creation_Date                      0\n",
       "City_Code                               0\n",
       "City_Category                           0\n",
       "Employer_Code                           0\n",
       "Employer_Category1                      0\n",
       "Employer_Category2                      0\n",
       "Monthly_Income                          0\n",
       "Customer_Existing_Primary_Bank_Code     0\n",
       "Primary_Bank_Type                       0\n",
       "Contacted                               0\n",
       "Source                                  0\n",
       "Source_Category                         0\n",
       "Existing_EMI                            0\n",
       "Loan_Amount                             0\n",
       "Loan_Period                             0\n",
       "Interest_Rate                           0\n",
       "EMI                                     0\n",
       "Var1                                    0\n",
       "Approved                                0\n",
       "dtype: int64"
      ]
     },
     "execution_count": 9,
     "metadata": {},
     "output_type": "execute_result"
    }
   ],
   "source": [
    "train.isnull().sum()"
   ]
  },
  {
   "cell_type": "markdown",
   "id": "74b87637-c538-420d-9a48-8b6760bddc0c",
   "metadata": {},
   "source": [
    "## 7/ Outlier Treatement"
   ]
  },
  {
   "cell_type": "code",
   "execution_count": 10,
   "id": "f68093ff-a737-43a5-b903-969472e26e9a",
   "metadata": {},
   "outputs": [],
   "source": [
    "# Write a loop to do for all Numerical Features\n",
    "for feat in numerical_features:\n",
    "    Q1 = train[feat].quantile(0.25)\n",
    "    Q3 = train[feat].quantile(0.75)\n",
    "\n",
    "    IQR = Q3-Q1\n",
    "\n",
    "    Lower_Whisker = Q1 - 1.5*IQR\n",
    "    Upper_Whisker = Q3 + 1.5*IQR\n",
    "    \n",
    "    train[feat] = train[feat].apply(lambda x : Upper_Whisker if x > Upper_Whisker else x)"
   ]
  },
  {
   "cell_type": "markdown",
   "id": "6d724ccd-9e9a-4251-b033-dab28157d3a8",
   "metadata": {},
   "source": [
    "## 8/ Tranformations"
   ]
  },
  {
   "cell_type": "markdown",
   "id": "59440db1-ebdd-4462-8f4e-75b4632059b2",
   "metadata": {},
   "source": [
    "### One feature - Monthly_Income"
   ]
  },
  {
   "cell_type": "code",
   "execution_count": 17,
   "id": "15795da2-4ee5-43f0-83c5-ebcd26401d99",
   "metadata": {},
   "outputs": [
    {
     "data": {
      "text/plain": [
       "<AxesSubplot:ylabel='Frequency'>"
      ]
     },
     "execution_count": 17,
     "metadata": {},
     "output_type": "execute_result"
    },
    {
     "data": {
      "image/png": "[encoded data removed]",
      "text/plain": [
       "<Figure size 432x288 with 1 Axes>"
      ]
     },
     "metadata": {
      "needs_background": "light"
     },
     "output_type": "display_data"
    }
   ],
   "source": [
    "# Check Histogram\n",
    "train['Existing_EMI'].plot.hist()"
   ]
  },
  {
   "cell_type": "markdown",
   "id": "33fcf29b-f201-45d8-b4d6-4d0bd090e254",
   "metadata": {},
   "source": [
    "#### Tranform One"
   ]
  },
  {
   "cell_type": "code",
   "execution_count": 18,
   "id": "e804d5b7-e8fe-4672-b59c-90756674f0cf",
   "metadata": {},
   "outputs": [
    {
     "data": {
      "text/plain": [
       "<AxesSubplot:ylabel='Frequency'>"
      ]
     },
     "execution_count": 18,
     "metadata": {},
     "output_type": "execute_result"
    },
    {
     "data": {
      "image/png": "[encoded data removed]",
      "text/plain": [
       "<Figure size 432x288 with 1 Axes>"
      ]
     },
     "metadata": {
      "needs_background": "light"
     },
     "output_type": "display_data"
    }
   ],
   "source": [
    "np.log(train['Existing_EMI']+1).plot.hist()"
   ]
  },
  {
   "cell_type": "markdown",
   "id": "97cdbc67-8b33-496f-86c5-9200a5f8edb3",
   "metadata": {},
   "source": [
    "### Do for all"
   ]
  },
  {
   "cell_type": "code",
   "execution_count": 19,
   "id": "b8d15b6d-8174-4a34-bb62-9f7021910c90",
   "metadata": {},
   "outputs": [],
   "source": [
    "# Import Library\n",
    "from sklearn.preprocessing import StandardScaler"
   ]
  },
  {
   "cell_type": "code",
   "execution_count": 20,
   "id": "757ed91a-6ba6-4745-a817-7c218066300c",
   "metadata": {},
   "outputs": [],
   "source": [
    "# Create Instance\n",
    "num_scaling = StandardScaler()"
   ]
  },
  {
   "cell_type": "code",
   "execution_count": 22,
   "id": "74841a1d-66b4-4edb-b968-f33557c2bb44",
   "metadata": {},
   "outputs": [
    {
     "data": {
      "text/plain": [
       "StandardScaler()"
      ]
     },
     "execution_count": 22,
     "metadata": {},
     "output_type": "execute_result"
    }
   ],
   "source": [
    "# Fit\n",
    "num_scaling.fit(train[numerical_features])"
   ]
  },
  {
   "cell_type": "code",
   "execution_count": 23,
   "id": "9682146a-f176-4a2d-9d4c-64c5a1e097ee",
   "metadata": {},
   "outputs": [],
   "source": [
    "# Transform\n",
    "train[numerical_features] = num_scaling.transform(train[numerical_features])"
   ]
  },
  {
   "cell_type": "markdown",
   "id": "1f2859cd-232a-477d-980f-9f2250315182",
   "metadata": {},
   "source": [
    "## 8/ Build Model"
   ]
  },
  {
   "cell_type": "markdown",
   "id": "6ab9ab3a-d52b-4f8d-bf3c-789b861ea51f",
   "metadata": {},
   "source": [
    "## Prepare Data"
   ]
  },
  {
   "cell_type": "code",
   "execution_count": 48,
   "id": "e2db197e-631b-4084-8c31-3c5bc9f45901",
   "metadata": {},
   "outputs": [],
   "source": [
    "#create X and y datasets for splitting \n",
    "X = train.drop(['ID', 'Approved','DOB', 'Lead_Creation_Date', 'City_Code', 'Employer_Code', 'Customer_Existing_Primary_Bank_Code', 'Source'], axis=1)\n",
    "y = train['Approved']"
   ]
  },
  {
   "cell_type": "markdown",
   "id": "a19928e0-b1fa-40ea-bc8f-923959aa0b0f",
   "metadata": {},
   "source": [
    "## Create Dummy"
   ]
  },
  {
   "cell_type": "code",
   "execution_count": 51,
   "id": "79d3a851-2482-4883-a56a-bbe551bd5d52",
   "metadata": {},
   "outputs": [],
   "source": [
    "X = pd.get_dummies(X, drop_first=True)"
   ]
  },
  {
   "cell_type": "code",
   "execution_count": 53,
   "id": "15fa5f4f-30da-42ff-96e4-e0175fd237c3",
   "metadata": {},
   "outputs": [
    {
     "name": "stdout",
     "output_type": "stream",
     "text": [
      "<class 'pandas.core.frame.DataFrame'>\n",
      "RangeIndex: 69713 entries, 0 to 69712\n",
      "Data columns (total 24 columns):\n",
      " #   Column                      Non-Null Count  Dtype  \n",
      "---  ------                      --------------  -----  \n",
      " 0   Employer_Category2          69713 non-null  float64\n",
      " 1   Monthly_Income              69713 non-null  float64\n",
      " 2   Existing_EMI                69713 non-null  float64\n",
      " 3   Loan_Amount                 69713 non-null  float64\n",
      " 4   Loan_Period                 69713 non-null  float64\n",
      " 5   Interest_Rate               69713 non-null  float64\n",
      " 6   EMI                         69713 non-null  float64\n",
      " 7   Var1                        69713 non-null  float64\n",
      " 8   Gender_Male                 69713 non-null  uint8  \n",
      " 9   City_Category_B             69713 non-null  uint8  \n",
      " 10  City_Category_C             69713 non-null  uint8  \n",
      " 11  City_Category_missing       69713 non-null  uint8  \n",
      " 12  Employer_Category1_B        69713 non-null  uint8  \n",
      " 13  Employer_Category1_C        69713 non-null  uint8  \n",
      " 14  Employer_Category1_missing  69713 non-null  uint8  \n",
      " 15  Primary_Bank_Type_P         69713 non-null  uint8  \n",
      " 16  Primary_Bank_Type_missing   69713 non-null  uint8  \n",
      " 17  Contacted_Y                 69713 non-null  uint8  \n",
      " 18  Source_Category_B           69713 non-null  uint8  \n",
      " 19  Source_Category_C           69713 non-null  uint8  \n",
      " 20  Source_Category_D           69713 non-null  uint8  \n",
      " 21  Source_Category_E           69713 non-null  uint8  \n",
      " 22  Source_Category_F           69713 non-null  uint8  \n",
      " 23  Source_Category_G           69713 non-null  uint8  \n",
      "dtypes: float64(8), uint8(16)\n",
      "memory usage: 5.3 MB\n"
     ]
    }
   ],
   "source": [
    "X.info()"
   ]
  },
  {
   "cell_type": "markdown",
   "id": "36547f84-9af5-4c3b-b1f4-202a6251ced0",
   "metadata": {},
   "source": [
    "## Import LR Package and create Instance"
   ]
  },
  {
   "cell_type": "code",
   "execution_count": 49,
   "id": "5ec66bb6-cc40-4713-834b-4ef1dabd58c9",
   "metadata": {},
   "outputs": [],
   "source": [
    "from sklearn.linear_model import LogisticRegression\n",
    "lr = LogisticRegression(max_iter = 1000)"
   ]
  },
  {
   "cell_type": "markdown",
   "id": "b17e2b3c-57d6-4af8-9346-93c9d3ff10cd",
   "metadata": {},
   "source": [
    "## Build Model"
   ]
  },
  {
   "cell_type": "code",
   "execution_count": 54,
   "id": "c66257f2-0941-497c-84cc-0085f78f0dbb",
   "metadata": {},
   "outputs": [
    {
     "data": {
      "text/plain": [
       "LogisticRegression()"
      ]
     },
     "execution_count": 54,
     "metadata": {},
     "output_type": "execute_result"
    }
   ],
   "source": [
    "lr.fit(X,y)"
   ]
  },
  {
   "cell_type": "markdown",
   "id": "52ff0544-bdb3-4642-9d73-1568a14f5aa2",
   "metadata": {},
   "source": [
    "### Check Score"
   ]
  },
  {
   "cell_type": "code",
   "execution_count": 55,
   "id": "f7dcb9a7-206d-463c-9293-93483c53ffb7",
   "metadata": {},
   "outputs": [
    {
     "data": {
      "text/plain": [
       "0.9852968599830735"
      ]
     },
     "execution_count": 55,
     "metadata": {},
     "output_type": "execute_result"
    }
   ],
   "source": [
    "lr.score(X, y)"
   ]
  }
 ],
 "metadata": {
  "kernelspec": {
   "display_name": "Python 3",
   "language": "python",
   "name": "python3"
  },
  "language_info": {
   "codemirror_mode": {
    "name": "ipython",
    "version": 3
   },
   "file_extension": ".py",
   "mimetype": "text/x-python",
   "name": "python",
   "nbconvert_exporter": "python",
   "pygments_lexer": "ipython3",
   "version": "3.8.8"
  },
  "toc-autonumbering": false
 },
 "nbformat": 4,
 "nbformat_minor": 5
}
