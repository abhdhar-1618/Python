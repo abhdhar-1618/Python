{
 "cells": [
  {
   "cell_type": "markdown",
   "id": "b262b4d0-e51e-4125-99af-9034af28b9cf",
   "metadata": {},
   "source": [
    "# Marketing Leads Conversion - Missing Data\n",
    "- Identify Missing Values\n",
    "- Impute Missing Values\n",
    "    - Continuous\n",
    "    - Categorical"
   ]
  },
  {
   "cell_type": "markdown",
   "id": "5038b36d-af56-48bb-9d2d-7e78c0596ad1",
   "metadata": {},
   "source": [
    "## 1/ Import Libraries"
   ]
  },
  {
   "cell_type": "code",
   "execution_count": 1,
   "id": "ea9a2d80-252d-4772-af23-07eb34df1fa8",
   "metadata": {},
   "outputs": [],
   "source": [
    "# pandas, numpy\n",
    "import pandas as pd\n",
    "import numpy as np"
   ]
  },
  {
   "cell_type": "markdown",
   "id": "00fefa7c-e4f9-4d82-83a0-da88c2d8c2ba",
   "metadata": {},
   "source": [
    "## 2/ Import Data\n",
    "- t1_leads\n",
    "- t6_emi\n",
    "- test\n",
    "\n",
    "**Extra:** Join other tables to build a more comprehensive training data"
   ]
  },
  {
   "cell_type": "code",
   "execution_count": 2,
   "id": "e16a68e0-aaa6-4bcb-88a4-e2ab35c762ea",
   "metadata": {},
   "outputs": [],
   "source": [
    "# Train\n",
    "train = pd.read_csv('data/train.csv', low_memory=False)\n",
    "\n",
    "#Test Data - Final Predictions\n",
    "test = pd.read_csv('data/test.csv', low_memory=False)"
   ]
  },
  {
   "cell_type": "markdown",
   "id": "751eed4d-06b9-4e78-94b6-ab153b54c226",
   "metadata": {},
   "source": [
    "### Check first 5 rows"
   ]
  },
  {
   "cell_type": "code",
   "execution_count": 3,
   "id": "1bc1624d-7d19-4fdf-9f7c-8f98ff6c394c",
   "metadata": {},
   "outputs": [
    {
     "data": {
      "text/html": [
       "<div>\n",
       "<style scoped>\n",
       "    .dataframe tbody tr th:only-of-type {\n",
       "        vertical-align: middle;\n",
       "    }\n",
       "\n",
       "    .dataframe tbody tr th {\n",
       "        vertical-align: top;\n",
       "    }\n",
       "\n",
       "    .dataframe thead th {\n",
       "        text-align: right;\n",
       "    }\n",
       "</style>\n",
       "<table border=\"1\" class=\"dataframe\">\n",
       "  <thead>\n",
       "    <tr style=\"text-align: right;\">\n",
       "      <th></th>\n",
       "      <th>ID</th>\n",
       "      <th>Gender</th>\n",
       "      <th>DOB</th>\n",
       "      <th>Lead_Creation_Date</th>\n",
       "      <th>City_Code</th>\n",
       "      <th>City_Category</th>\n",
       "      <th>Employer_Code</th>\n",
       "      <th>Employer_Category1</th>\n",
       "      <th>Employer_Category2</th>\n",
       "      <th>Monthly_Income</th>\n",
       "      <th>...</th>\n",
       "      <th>Contacted</th>\n",
       "      <th>Source</th>\n",
       "      <th>Source_Category</th>\n",
       "      <th>Existing_EMI</th>\n",
       "      <th>Loan_Amount</th>\n",
       "      <th>Loan_Period</th>\n",
       "      <th>Interest_Rate</th>\n",
       "      <th>EMI</th>\n",
       "      <th>Var1</th>\n",
       "      <th>Approved</th>\n",
       "    </tr>\n",
       "  </thead>\n",
       "  <tbody>\n",
       "    <tr>\n",
       "      <th>0</th>\n",
       "      <td>APPC90493171225</td>\n",
       "      <td>Female</td>\n",
       "      <td>23/07/79</td>\n",
       "      <td>15/07/16</td>\n",
       "      <td>C10001</td>\n",
       "      <td>A</td>\n",
       "      <td>COM0044082</td>\n",
       "      <td>A</td>\n",
       "      <td>4.0</td>\n",
       "      <td>2000.0</td>\n",
       "      <td>...</td>\n",
       "      <td>N</td>\n",
       "      <td>S122</td>\n",
       "      <td>G</td>\n",
       "      <td>0.0</td>\n",
       "      <td>NaN</td>\n",
       "      <td>NaN</td>\n",
       "      <td>NaN</td>\n",
       "      <td>NaN</td>\n",
       "      <td>0</td>\n",
       "      <td>0</td>\n",
       "    </tr>\n",
       "    <tr>\n",
       "      <th>1</th>\n",
       "      <td>APPD40611263344</td>\n",
       "      <td>Male</td>\n",
       "      <td>07/12/86</td>\n",
       "      <td>04/07/16</td>\n",
       "      <td>C10003</td>\n",
       "      <td>A</td>\n",
       "      <td>COM0000002</td>\n",
       "      <td>C</td>\n",
       "      <td>1.0</td>\n",
       "      <td>3500.0</td>\n",
       "      <td>...</td>\n",
       "      <td>Y</td>\n",
       "      <td>S122</td>\n",
       "      <td>G</td>\n",
       "      <td>0.0</td>\n",
       "      <td>20000.0</td>\n",
       "      <td>2.0</td>\n",
       "      <td>13.25</td>\n",
       "      <td>953.0</td>\n",
       "      <td>10</td>\n",
       "      <td>0</td>\n",
       "    </tr>\n",
       "    <tr>\n",
       "      <th>2</th>\n",
       "      <td>APPE70289249423</td>\n",
       "      <td>Male</td>\n",
       "      <td>10/12/82</td>\n",
       "      <td>19/07/16</td>\n",
       "      <td>C10125</td>\n",
       "      <td>C</td>\n",
       "      <td>COM0005267</td>\n",
       "      <td>C</td>\n",
       "      <td>4.0</td>\n",
       "      <td>2250.0</td>\n",
       "      <td>...</td>\n",
       "      <td>Y</td>\n",
       "      <td>S143</td>\n",
       "      <td>B</td>\n",
       "      <td>0.0</td>\n",
       "      <td>45000.0</td>\n",
       "      <td>4.0</td>\n",
       "      <td>NaN</td>\n",
       "      <td>NaN</td>\n",
       "      <td>0</td>\n",
       "      <td>0</td>\n",
       "    </tr>\n",
       "    <tr>\n",
       "      <th>3</th>\n",
       "      <td>APPF80273865537</td>\n",
       "      <td>Male</td>\n",
       "      <td>30/01/89</td>\n",
       "      <td>09/07/16</td>\n",
       "      <td>C10477</td>\n",
       "      <td>C</td>\n",
       "      <td>COM0004143</td>\n",
       "      <td>A</td>\n",
       "      <td>4.0</td>\n",
       "      <td>3500.0</td>\n",
       "      <td>...</td>\n",
       "      <td>Y</td>\n",
       "      <td>S143</td>\n",
       "      <td>B</td>\n",
       "      <td>0.0</td>\n",
       "      <td>92000.0</td>\n",
       "      <td>5.0</td>\n",
       "      <td>NaN</td>\n",
       "      <td>NaN</td>\n",
       "      <td>7</td>\n",
       "      <td>0</td>\n",
       "    </tr>\n",
       "    <tr>\n",
       "      <th>4</th>\n",
       "      <td>APPG60994436641</td>\n",
       "      <td>Male</td>\n",
       "      <td>19/04/85</td>\n",
       "      <td>20/07/16</td>\n",
       "      <td>C10002</td>\n",
       "      <td>A</td>\n",
       "      <td>COM0001781</td>\n",
       "      <td>A</td>\n",
       "      <td>4.0</td>\n",
       "      <td>10000.0</td>\n",
       "      <td>...</td>\n",
       "      <td>Y</td>\n",
       "      <td>S134</td>\n",
       "      <td>B</td>\n",
       "      <td>2500.0</td>\n",
       "      <td>50000.0</td>\n",
       "      <td>2.0</td>\n",
       "      <td>NaN</td>\n",
       "      <td>NaN</td>\n",
       "      <td>10</td>\n",
       "      <td>0</td>\n",
       "    </tr>\n",
       "  </tbody>\n",
       "</table>\n",
       "<p>5 rows × 22 columns</p>\n",
       "</div>"
      ],
      "text/plain": [
       "                ID  Gender       DOB Lead_Creation_Date City_Code  \\\n",
       "0  APPC90493171225  Female  23/07/79           15/07/16    C10001   \n",
       "1  APPD40611263344    Male  07/12/86           04/07/16    C10003   \n",
       "2  APPE70289249423    Male  10/12/82           19/07/16    C10125   \n",
       "3  APPF80273865537    Male  30/01/89           09/07/16    C10477   \n",
       "4  APPG60994436641    Male  19/04/85           20/07/16    C10002   \n",
       "\n",
       "  City_Category Employer_Code Employer_Category1  Employer_Category2  \\\n",
       "0             A    COM0044082                  A                 4.0   \n",
       "1             A    COM0000002                  C                 1.0   \n",
       "2             C    COM0005267                  C                 4.0   \n",
       "3             C    COM0004143                  A                 4.0   \n",
       "4             A    COM0001781                  A                 4.0   \n",
       "\n",
       "   Monthly_Income  ... Contacted Source Source_Category Existing_EMI  \\\n",
       "0          2000.0  ...         N   S122               G          0.0   \n",
       "1          3500.0  ...         Y   S122               G          0.0   \n",
       "2          2250.0  ...         Y   S143               B          0.0   \n",
       "3          3500.0  ...         Y   S143               B          0.0   \n",
       "4         10000.0  ...         Y   S134               B       2500.0   \n",
       "\n",
       "  Loan_Amount  Loan_Period  Interest_Rate    EMI  Var1  Approved  \n",
       "0         NaN          NaN            NaN    NaN     0         0  \n",
       "1     20000.0          2.0          13.25  953.0    10         0  \n",
       "2     45000.0          4.0            NaN    NaN     0         0  \n",
       "3     92000.0          5.0            NaN    NaN     7         0  \n",
       "4     50000.0          2.0            NaN    NaN    10         0  \n",
       "\n",
       "[5 rows x 22 columns]"
      ]
     },
     "execution_count": 3,
     "metadata": {},
     "output_type": "execute_result"
    }
   ],
   "source": [
    "train.head()"
   ]
  },
  {
   "cell_type": "code",
   "execution_count": 4,
   "id": "1da83d7f-8ead-4d77-8232-669fd672586a",
   "metadata": {},
   "outputs": [
    {
     "data": {
      "text/html": [
       "<div>\n",
       "<style scoped>\n",
       "    .dataframe tbody tr th:only-of-type {\n",
       "        vertical-align: middle;\n",
       "    }\n",
       "\n",
       "    .dataframe tbody tr th {\n",
       "        vertical-align: top;\n",
       "    }\n",
       "\n",
       "    .dataframe thead th {\n",
       "        text-align: right;\n",
       "    }\n",
       "</style>\n",
       "<table border=\"1\" class=\"dataframe\">\n",
       "  <thead>\n",
       "    <tr style=\"text-align: right;\">\n",
       "      <th></th>\n",
       "      <th>ID</th>\n",
       "      <th>Gender</th>\n",
       "      <th>DOB</th>\n",
       "      <th>Lead_Creation_Date</th>\n",
       "      <th>City_Code</th>\n",
       "      <th>City_Category</th>\n",
       "      <th>Employer_Code</th>\n",
       "      <th>Employer_Category1</th>\n",
       "      <th>Employer_Category2</th>\n",
       "      <th>Monthly_Income</th>\n",
       "      <th>...</th>\n",
       "      <th>Primary_Bank_Type</th>\n",
       "      <th>Contacted</th>\n",
       "      <th>Source</th>\n",
       "      <th>Source_Category</th>\n",
       "      <th>Existing_EMI</th>\n",
       "      <th>Loan_Amount</th>\n",
       "      <th>Loan_Period</th>\n",
       "      <th>Interest_Rate</th>\n",
       "      <th>EMI</th>\n",
       "      <th>Var1</th>\n",
       "    </tr>\n",
       "  </thead>\n",
       "  <tbody>\n",
       "    <tr>\n",
       "      <th>0</th>\n",
       "      <td>APPA70109647212</td>\n",
       "      <td>Male</td>\n",
       "      <td>03/06/88</td>\n",
       "      <td>05/07/16</td>\n",
       "      <td>C10028</td>\n",
       "      <td>C</td>\n",
       "      <td>COM0002222</td>\n",
       "      <td>A</td>\n",
       "      <td>4.0</td>\n",
       "      <td>2150.0</td>\n",
       "      <td>...</td>\n",
       "      <td>P</td>\n",
       "      <td>Y</td>\n",
       "      <td>S122</td>\n",
       "      <td>B</td>\n",
       "      <td>0.0</td>\n",
       "      <td>10000.0</td>\n",
       "      <td>3.0</td>\n",
       "      <td>20.0</td>\n",
       "      <td>372.0</td>\n",
       "      <td>4</td>\n",
       "    </tr>\n",
       "    <tr>\n",
       "      <th>1</th>\n",
       "      <td>APPB10687939341</td>\n",
       "      <td>Male</td>\n",
       "      <td>13/07/81</td>\n",
       "      <td>01/07/16</td>\n",
       "      <td>C10003</td>\n",
       "      <td>A</td>\n",
       "      <td>COM0001784</td>\n",
       "      <td>C</td>\n",
       "      <td>4.0</td>\n",
       "      <td>4200.0</td>\n",
       "      <td>...</td>\n",
       "      <td>P</td>\n",
       "      <td>Y</td>\n",
       "      <td>S133</td>\n",
       "      <td>C</td>\n",
       "      <td>0.0</td>\n",
       "      <td>69000.0</td>\n",
       "      <td>5.0</td>\n",
       "      <td>24.0</td>\n",
       "      <td>1985.0</td>\n",
       "      <td>7</td>\n",
       "    </tr>\n",
       "    <tr>\n",
       "      <th>2</th>\n",
       "      <td>APPC80449411414</td>\n",
       "      <td>Female</td>\n",
       "      <td>19/11/90</td>\n",
       "      <td>01/07/16</td>\n",
       "      <td>C10009</td>\n",
       "      <td>B</td>\n",
       "      <td>COM0045260</td>\n",
       "      <td>B</td>\n",
       "      <td>4.0</td>\n",
       "      <td>1000.0</td>\n",
       "      <td>...</td>\n",
       "      <td>P</td>\n",
       "      <td>N</td>\n",
       "      <td>S133</td>\n",
       "      <td>B</td>\n",
       "      <td>0.0</td>\n",
       "      <td>NaN</td>\n",
       "      <td>NaN</td>\n",
       "      <td>NaN</td>\n",
       "      <td>NaN</td>\n",
       "      <td>0</td>\n",
       "    </tr>\n",
       "    <tr>\n",
       "      <th>3</th>\n",
       "      <td>APPD30665094501</td>\n",
       "      <td>Female</td>\n",
       "      <td>15/10/92</td>\n",
       "      <td>01/07/16</td>\n",
       "      <td>C10005</td>\n",
       "      <td>A</td>\n",
       "      <td>COM0000085</td>\n",
       "      <td>A</td>\n",
       "      <td>3.0</td>\n",
       "      <td>1465.0</td>\n",
       "      <td>...</td>\n",
       "      <td>P</td>\n",
       "      <td>N</td>\n",
       "      <td>S133</td>\n",
       "      <td>C</td>\n",
       "      <td>0.0</td>\n",
       "      <td>NaN</td>\n",
       "      <td>NaN</td>\n",
       "      <td>NaN</td>\n",
       "      <td>NaN</td>\n",
       "      <td>0</td>\n",
       "    </tr>\n",
       "    <tr>\n",
       "      <th>4</th>\n",
       "      <td>APPE80379821637</td>\n",
       "      <td>Male</td>\n",
       "      <td>21/09/88</td>\n",
       "      <td>01/07/16</td>\n",
       "      <td>C10005</td>\n",
       "      <td>A</td>\n",
       "      <td>COM0006422</td>\n",
       "      <td>A</td>\n",
       "      <td>4.0</td>\n",
       "      <td>2340.0</td>\n",
       "      <td>...</td>\n",
       "      <td>P</td>\n",
       "      <td>Y</td>\n",
       "      <td>S143</td>\n",
       "      <td>B</td>\n",
       "      <td>500.0</td>\n",
       "      <td>10000.0</td>\n",
       "      <td>2.0</td>\n",
       "      <td>NaN</td>\n",
       "      <td>NaN</td>\n",
       "      <td>0</td>\n",
       "    </tr>\n",
       "  </tbody>\n",
       "</table>\n",
       "<p>5 rows × 21 columns</p>\n",
       "</div>"
      ],
      "text/plain": [
       "                ID  Gender       DOB Lead_Creation_Date City_Code  \\\n",
       "0  APPA70109647212    Male  03/06/88           05/07/16    C10028   \n",
       "1  APPB10687939341    Male  13/07/81           01/07/16    C10003   \n",
       "2  APPC80449411414  Female  19/11/90           01/07/16    C10009   \n",
       "3  APPD30665094501  Female  15/10/92           01/07/16    C10005   \n",
       "4  APPE80379821637    Male  21/09/88           01/07/16    C10005   \n",
       "\n",
       "  City_Category Employer_Code Employer_Category1  Employer_Category2  \\\n",
       "0             C    COM0002222                  A                 4.0   \n",
       "1             A    COM0001784                  C                 4.0   \n",
       "2             B    COM0045260                  B                 4.0   \n",
       "3             A    COM0000085                  A                 3.0   \n",
       "4             A    COM0006422                  A                 4.0   \n",
       "\n",
       "   Monthly_Income  ... Primary_Bank_Type Contacted Source Source_Category  \\\n",
       "0          2150.0  ...                 P         Y   S122               B   \n",
       "1          4200.0  ...                 P         Y   S133               C   \n",
       "2          1000.0  ...                 P         N   S133               B   \n",
       "3          1465.0  ...                 P         N   S133               C   \n",
       "4          2340.0  ...                 P         Y   S143               B   \n",
       "\n",
       "  Existing_EMI  Loan_Amount  Loan_Period  Interest_Rate     EMI  Var1  \n",
       "0          0.0      10000.0          3.0           20.0   372.0     4  \n",
       "1          0.0      69000.0          5.0           24.0  1985.0     7  \n",
       "2          0.0          NaN          NaN            NaN     NaN     0  \n",
       "3          0.0          NaN          NaN            NaN     NaN     0  \n",
       "4        500.0      10000.0          2.0            NaN     NaN     0  \n",
       "\n",
       "[5 rows x 21 columns]"
      ]
     },
     "execution_count": 4,
     "metadata": {},
     "output_type": "execute_result"
    }
   ],
   "source": [
    "#test\n",
    "test.head()"
   ]
  },
  {
   "cell_type": "markdown",
   "id": "fd61deca-7ad8-4802-99d7-00c39b6158af",
   "metadata": {},
   "source": [
    "## 3/ Convert String to Date Format"
   ]
  },
  {
   "cell_type": "markdown",
   "id": "e92c7719-6f6e-48c8-bbca-41d2a62274a2",
   "metadata": {},
   "source": [
    "### Convert: Lead_Creation_Date"
   ]
  },
  {
   "cell_type": "code",
   "execution_count": 5,
   "id": "636206ae-c256-44b2-b79e-970f33cf9cad",
   "metadata": {},
   "outputs": [],
   "source": [
    "# Train\n",
    "train['Lead_Creation_Date'] = pd.to_datetime(train['Lead_Creation_Date'], infer_datetime_format = True)\n",
    "train['DOB'] = pd.to_datetime(train['DOB'], infer_datetime_format = True)\n",
    "\n",
    "# Test (need to do the same for Test too)\n",
    "test['Lead_Creation_Date'] = pd.to_datetime(test['Lead_Creation_Date'], infer_datetime_format = True)\n",
    "test['DOB'] = pd.to_datetime(test['DOB'], infer_datetime_format = True)"
   ]
  },
  {
   "cell_type": "markdown",
   "id": "eab389ee-9dcb-42d4-9cdd-2d67a132ffe1",
   "metadata": {},
   "source": [
    "## 5/ Identify Missing Values"
   ]
  },
  {
   "cell_type": "markdown",
   "id": "284bf5e4-cc52-4c56-9e13-d3fbd58bf140",
   "metadata": {},
   "source": [
    "### Option 2: isnull + sum"
   ]
  },
  {
   "cell_type": "code",
   "execution_count": 8,
   "id": "370c91f8-0413-4c52-9de8-0cc22c1fe39a",
   "metadata": {},
   "outputs": [
    {
     "data": {
      "text/plain": [
       "ID                                         0\n",
       "Gender                                     0\n",
       "DOB                                       15\n",
       "Lead_Creation_Date                         0\n",
       "City_Code                                814\n",
       "City_Category                            814\n",
       "Employer_Code                           4018\n",
       "Employer_Category1                      4018\n",
       "Employer_Category2                      4298\n",
       "Monthly_Income                             0\n",
       "Customer_Existing_Primary_Bank_Code     9391\n",
       "Primary_Bank_Type                       9391\n",
       "Contacted                                  0\n",
       "Source                                     0\n",
       "Source_Category                            0\n",
       "Existing_EMI                              51\n",
       "Loan_Amount                            27709\n",
       "Loan_Period                            27709\n",
       "Interest_Rate                          47437\n",
       "EMI                                    47437\n",
       "Var1                                       0\n",
       "Approved                                   0\n",
       "dtype: int64"
      ]
     },
     "execution_count": 8,
     "metadata": {},
     "output_type": "execute_result"
    }
   ],
   "source": [
    "train.isnull().sum()"
   ]
  },
  {
   "cell_type": "markdown",
   "id": "80ced775-0071-4c73-b4bf-fbbb857e05bb",
   "metadata": {},
   "source": [
    "## 6/ Impute Missing Values"
   ]
  },
  {
   "cell_type": "markdown",
   "id": "5ab9988d-6200-45fd-805d-22a22b24ccf4",
   "metadata": {},
   "source": [
    "### 1/ Continuous - Indentify and Impute"
   ]
  },
  {
   "cell_type": "code",
   "execution_count": 10,
   "id": "4dfa63df-0fb6-45a6-9075-b9ba914e256d",
   "metadata": {},
   "outputs": [
    {
     "data": {
      "text/plain": [
       "['Employer_Category2',\n",
       " 'Monthly_Income',\n",
       " 'Existing_EMI',\n",
       " 'Loan_Amount',\n",
       " 'Loan_Period',\n",
       " 'Interest_Rate',\n",
       " 'EMI',\n",
       " 'Var1']"
      ]
     },
     "execution_count": 10,
     "metadata": {},
     "output_type": "execute_result"
    }
   ],
   "source": [
    "numerical_features = [feature for feature in train.columns if train[feature].dtypes in ['float64','int64'] and feature !='ID' and feature !='Approved']\n",
    "numerical_features"
   ]
  },
  {
   "cell_type": "code",
   "execution_count": 11,
   "id": "db3db6ec-a90b-40b8-8c49-a22820bee010",
   "metadata": {},
   "outputs": [
    {
     "data": {
      "text/plain": [
       "Employer_Category2     4298\n",
       "Monthly_Income            0\n",
       "Existing_EMI             51\n",
       "Loan_Amount           27709\n",
       "Loan_Period           27709\n",
       "Interest_Rate         47437\n",
       "EMI                   47437\n",
       "Var1                      0\n",
       "dtype: int64"
      ]
     },
     "execution_count": 11,
     "metadata": {},
     "output_type": "execute_result"
    }
   ],
   "source": [
    "# Check Missing\n",
    "train[numerical_features].isnull().sum()"
   ]
  },
  {
   "cell_type": "markdown",
   "id": "27dba202-add8-4d54-9f70-a14cf4c70916",
   "metadata": {},
   "source": [
    "#### Impute Numerical with SimpleImputer\n",
    "1. Extract Numerical Features from train\n",
    "2. Import Package - Impute\n",
    "3. Generate Instance\n",
    "4. Calculate the Median\n",
    "5. Impute the features\n",
    "6. Copy it back to the Train "
   ]
  },
  {
   "cell_type": "code",
   "execution_count": 12,
   "id": "d4030c0c-7e84-4d9d-9910-0bb8915ff2c5",
   "metadata": {},
   "outputs": [],
   "source": [
    "# import package\n",
    "from sklearn.impute import SimpleImputer"
   ]
  },
  {
   "cell_type": "code",
   "execution_count": 16,
   "id": "79806774-3e86-460e-816d-3288067de6a3",
   "metadata": {},
   "outputs": [],
   "source": [
    "# Create Instance\n",
    "imp_num = SimpleImputer(strategy = 'median')"
   ]
  },
  {
   "cell_type": "code",
   "execution_count": 17,
   "id": "cfa7dfd2-56e0-474c-b97d-315e9fcf5ac6",
   "metadata": {},
   "outputs": [
    {
     "data": {
      "text/plain": [
       "SimpleImputer(strategy='median')"
      ]
     },
     "execution_count": 17,
     "metadata": {},
     "output_type": "execute_result"
    }
   ],
   "source": [
    "# Fit - Calculate Median for all columns\n",
    "imp_num.fit(train[numerical_features])"
   ]
  },
  {
   "cell_type": "code",
   "execution_count": 34,
   "id": "c63784dd-b881-44ef-8671-5d24959c26db",
   "metadata": {},
   "outputs": [],
   "source": [
    "# Transform - Impute Missing Values with Median\n",
    "train[numerical_features] = imp_num.transform(train[numerical_features])\n",
    "test[numerical_features] = imp_num.transform(test[numerical_features])"
   ]
  },
  {
   "cell_type": "markdown",
   "id": "37c8d030-9cc2-44d4-b0f3-0f45f37c354d",
   "metadata": {},
   "source": [
    "#### Check Again"
   ]
  },
  {
   "cell_type": "code",
   "execution_count": 21,
   "id": "42b250f4-8e18-47d7-8e00-598577a2331b",
   "metadata": {},
   "outputs": [
    {
     "data": {
      "text/plain": [
       "ID                                        0\n",
       "Gender                                    0\n",
       "DOB                                      15\n",
       "Lead_Creation_Date                        0\n",
       "City_Code                               814\n",
       "City_Category                           814\n",
       "Employer_Code                          4018\n",
       "Employer_Category1                     4018\n",
       "Employer_Category2                        0\n",
       "Monthly_Income                            0\n",
       "Customer_Existing_Primary_Bank_Code    9391\n",
       "Primary_Bank_Type                      9391\n",
       "Contacted                                 0\n",
       "Source                                    0\n",
       "Source_Category                           0\n",
       "Existing_EMI                              0\n",
       "Loan_Amount                               0\n",
       "Loan_Period                               0\n",
       "Interest_Rate                             0\n",
       "EMI                                       0\n",
       "Var1                                      0\n",
       "Approved                                  0\n",
       "dtype: int64"
      ]
     },
     "execution_count": 21,
     "metadata": {},
     "output_type": "execute_result"
    }
   ],
   "source": [
    "train.isnull().sum()"
   ]
  },
  {
   "cell_type": "markdown",
   "id": "3ca3c746-0385-41b8-816b-938045695d6f",
   "metadata": {},
   "source": [
    "### 3/ Categorical - Identify and Impute"
   ]
  },
  {
   "cell_type": "code",
   "execution_count": 22,
   "id": "8a4b385b-e6ad-4d07-8446-6580e2f05c63",
   "metadata": {},
   "outputs": [
    {
     "data": {
      "text/plain": [
       "['Gender',\n",
       " 'City_Code',\n",
       " 'City_Category',\n",
       " 'Employer_Code',\n",
       " 'Employer_Category1',\n",
       " 'Customer_Existing_Primary_Bank_Code',\n",
       " 'Primary_Bank_Type',\n",
       " 'Contacted',\n",
       " 'Source',\n",
       " 'Source_Category']"
      ]
     },
     "execution_count": 22,
     "metadata": {},
     "output_type": "execute_result"
    }
   ],
   "source": [
    "categorical_features = [feature for feature in train.columns if train[feature].dtypes=='O' and feature !='ID' and feature !='Approved']\n",
    "categorical_features"
   ]
  },
  {
   "cell_type": "markdown",
   "id": "582afd8e-6f80-4847-b532-8a94a9f57b26",
   "metadata": {},
   "source": [
    "#### Impute Categorical with SimpleImputer"
   ]
  },
  {
   "cell_type": "code",
   "execution_count": 37,
   "id": "14049b65-e09a-4c31-81f6-380a9b5ae950",
   "metadata": {},
   "outputs": [],
   "source": [
    "# import package\n",
    "from sklearn.impute import SimpleImputer"
   ]
  },
  {
   "cell_type": "code",
   "execution_count": 23,
   "id": "ba8d14b1-46d5-4b7a-b3c6-6d8c5fd70bac",
   "metadata": {},
   "outputs": [],
   "source": [
    "# Create Instance\n",
    "imp_cat = SimpleImputer(strategy = 'constant', fill_value = 'missing')"
   ]
  },
  {
   "cell_type": "code",
   "execution_count": 25,
   "id": "4cfecbdb-a833-4b13-a791-911eea53fdf7",
   "metadata": {},
   "outputs": [
    {
     "data": {
      "text/plain": [
       "SimpleImputer(fill_value='missing', strategy='constant')"
      ]
     },
     "execution_count": 25,
     "metadata": {},
     "output_type": "execute_result"
    }
   ],
   "source": [
    "# Fit\n",
    "imp_cat.fit(train[categorical_features])"
   ]
  },
  {
   "cell_type": "code",
   "execution_count": 35,
   "id": "46e82410-8738-4741-b864-959512c2eab5",
   "metadata": {},
   "outputs": [],
   "source": [
    "# Transform\n",
    "train[categorical_features] = imp_cat.transform(train[categorical_features])\n",
    "test[categorical_features] = imp_cat.transform(test[categorical_features])"
   ]
  },
  {
   "cell_type": "markdown",
   "id": "29978284-dd32-466b-bd2a-f4b1637984f5",
   "metadata": {},
   "source": [
    "# Back at 3:50 "
   ]
  },
  {
   "cell_type": "markdown",
   "id": "f84a4e00-c08c-4718-9c79-3369463ee62c",
   "metadata": {},
   "source": [
    "#### Check Again"
   ]
  },
  {
   "cell_type": "code",
   "execution_count": 27,
   "id": "54f5e174-813e-4188-835e-65dcaf3e9ddd",
   "metadata": {},
   "outputs": [
    {
     "data": {
      "text/plain": [
       "ID                                      0\n",
       "Gender                                  0\n",
       "DOB                                    15\n",
       "Lead_Creation_Date                      0\n",
       "City_Code                               0\n",
       "City_Category                           0\n",
       "Employer_Code                           0\n",
       "Employer_Category1                      0\n",
       "Employer_Category2                      0\n",
       "Monthly_Income                          0\n",
       "Customer_Existing_Primary_Bank_Code     0\n",
       "Primary_Bank_Type                       0\n",
       "Contacted                               0\n",
       "Source                                  0\n",
       "Source_Category                         0\n",
       "Existing_EMI                            0\n",
       "Loan_Amount                             0\n",
       "Loan_Period                             0\n",
       "Interest_Rate                           0\n",
       "EMI                                     0\n",
       "Var1                                    0\n",
       "Approved                                0\n",
       "dtype: int64"
      ]
     },
     "execution_count": 27,
     "metadata": {},
     "output_type": "execute_result"
    }
   ],
   "source": [
    "train.isnull().sum()"
   ]
  },
  {
   "cell_type": "markdown",
   "id": "1f2859cd-232a-477d-980f-9f2250315182",
   "metadata": {},
   "source": [
    "## 7/ Build Model"
   ]
  },
  {
   "cell_type": "markdown",
   "id": "6ab9ab3a-d52b-4f8d-bf3c-789b861ea51f",
   "metadata": {},
   "source": [
    "## Prepare Data"
   ]
  },
  {
   "cell_type": "code",
   "execution_count": 28,
   "id": "e2db197e-631b-4084-8c31-3c5bc9f45901",
   "metadata": {},
   "outputs": [],
   "source": [
    "#create X and y datasets for splitting \n",
    "X = train.drop(['ID', 'Approved','DOB', 'Lead_Creation_Date', 'City_Code', 'Employer_Code', 'Customer_Existing_Primary_Bank_Code', 'Source'], axis=1)\n",
    "y = train['Approved']"
   ]
  },
  {
   "cell_type": "markdown",
   "id": "a19928e0-b1fa-40ea-bc8f-923959aa0b0f",
   "metadata": {},
   "source": [
    "## Create Dummy"
   ]
  },
  {
   "cell_type": "code",
   "execution_count": 29,
   "id": "79d3a851-2482-4883-a56a-bbe551bd5d52",
   "metadata": {},
   "outputs": [],
   "source": [
    "X = pd.get_dummies(X, drop_first=True)"
   ]
  },
  {
   "cell_type": "code",
   "execution_count": 30,
   "id": "15fa5f4f-30da-42ff-96e4-e0175fd237c3",
   "metadata": {},
   "outputs": [
    {
     "name": "stdout",
     "output_type": "stream",
     "text": [
      "<class 'pandas.core.frame.DataFrame'>\n",
      "RangeIndex: 69713 entries, 0 to 69712\n",
      "Data columns (total 24 columns):\n",
      " #   Column                      Non-Null Count  Dtype  \n",
      "---  ------                      --------------  -----  \n",
      " 0   Employer_Category2          69713 non-null  float64\n",
      " 1   Monthly_Income              69713 non-null  float64\n",
      " 2   Existing_EMI                69713 non-null  float64\n",
      " 3   Loan_Amount                 69713 non-null  float64\n",
      " 4   Loan_Period                 69713 non-null  float64\n",
      " 5   Interest_Rate               69713 non-null  float64\n",
      " 6   EMI                         69713 non-null  float64\n",
      " 7   Var1                        69713 non-null  float64\n",
      " 8   Gender_Male                 69713 non-null  uint8  \n",
      " 9   City_Category_B             69713 non-null  uint8  \n",
      " 10  City_Category_C             69713 non-null  uint8  \n",
      " 11  City_Category_missing       69713 non-null  uint8  \n",
      " 12  Employer_Category1_B        69713 non-null  uint8  \n",
      " 13  Employer_Category1_C        69713 non-null  uint8  \n",
      " 14  Employer_Category1_missing  69713 non-null  uint8  \n",
      " 15  Primary_Bank_Type_P         69713 non-null  uint8  \n",
      " 16  Primary_Bank_Type_missing   69713 non-null  uint8  \n",
      " 17  Contacted_Y                 69713 non-null  uint8  \n",
      " 18  Source_Category_B           69713 non-null  uint8  \n",
      " 19  Source_Category_C           69713 non-null  uint8  \n",
      " 20  Source_Category_D           69713 non-null  uint8  \n",
      " 21  Source_Category_E           69713 non-null  uint8  \n",
      " 22  Source_Category_F           69713 non-null  uint8  \n",
      " 23  Source_Category_G           69713 non-null  uint8  \n",
      "dtypes: float64(8), uint8(16)\n",
      "memory usage: 5.3 MB\n"
     ]
    }
   ],
   "source": [
    "X.info()"
   ]
  },
  {
   "cell_type": "markdown",
   "id": "36547f84-9af5-4c3b-b1f4-202a6251ced0",
   "metadata": {},
   "source": [
    "## Import LR Package and create Instance"
   ]
  },
  {
   "cell_type": "code",
   "execution_count": 31,
   "id": "5ec66bb6-cc40-4713-834b-4ef1dabd58c9",
   "metadata": {},
   "outputs": [],
   "source": [
    "from sklearn.linear_model import LogisticRegression\n",
    "lr = LogisticRegression(max_iter = 1000)"
   ]
  },
  {
   "cell_type": "markdown",
   "id": "b17e2b3c-57d6-4af8-9346-93c9d3ff10cd",
   "metadata": {},
   "source": [
    "## Build Model"
   ]
  },
  {
   "cell_type": "code",
   "execution_count": 32,
   "id": "c66257f2-0941-497c-84cc-0085f78f0dbb",
   "metadata": {},
   "outputs": [
    {
     "data": {
      "text/plain": [
       "LogisticRegression(max_iter=1000)"
      ]
     },
     "execution_count": 32,
     "metadata": {},
     "output_type": "execute_result"
    }
   ],
   "source": [
    "lr.fit(X,y)"
   ]
  },
  {
   "cell_type": "markdown",
   "id": "52ff0544-bdb3-4642-9d73-1568a14f5aa2",
   "metadata": {},
   "source": [
    "### Check Score"
   ]
  },
  {
   "cell_type": "code",
   "execution_count": 33,
   "id": "f7dcb9a7-206d-463c-9293-93483c53ffb7",
   "metadata": {},
   "outputs": [
    {
     "data": {
      "text/plain": [
       "0.9852968599830735"
      ]
     },
     "execution_count": 33,
     "metadata": {},
     "output_type": "execute_result"
    }
   ],
   "source": [
    "lr.score(X, y)"
   ]
  },
  {
   "cell_type": "code",
   "execution_count": null,
   "id": "596ef4ef-a4d8-4d94-908b-e6101cadf201",
   "metadata": {},
   "outputs": [],
   "source": []
  }
 ],
 "metadata": {
  "kernelspec": {
   "display_name": "Python 3",
   "language": "python",
   "name": "python3"
  },
  "language_info": {
   "codemirror_mode": {
    "name": "ipython",
    "version": 3
   },
   "file_extension": ".py",
   "mimetype": "text/x-python",
   "name": "python",
   "nbconvert_exporter": "python",
   "pygments_lexer": "ipython3",
   "version": "3.8.8"
  },
  "toc-autonumbering": false
 },
 "nbformat": 4,
 "nbformat_minor": 5
}
