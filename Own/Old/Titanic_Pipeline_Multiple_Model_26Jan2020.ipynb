{
 "cells": [
  {
   "cell_type": "markdown",
   "metadata": {},
   "source": [
    "# Titanic Solution with Pipeline \n",
    "- Pipeline (make_pipeline)\n",
    "- Column Transformers (make_colunm_tranformer)\n",
    "- Logisitic Model\n",
    "- Basic Transformers (SimpleImputer, KBinsDiscretizer, OneHotEncoder)\n",
    "- Performance Measure - accuracy_score, log_loss"
   ]
  },
  {
   "cell_type": "markdown",
   "metadata": {},
   "source": [
    "## Import Libraries"
   ]
  },
  {
   "cell_type": "code",
   "execution_count": 19,
   "metadata": {},
   "outputs": [],
   "source": [
    "import pandas as pd\n",
    "\n",
    "import sklearn.model_selection as model_selection\n",
    "\n",
    "from sklearn.pipeline import make_pipeline\n",
    "from sklearn.compose import make_column_transformer\n",
    "\n",
    "from sklearn.impute import SimpleImputer\n",
    "from sklearn.preprocessing import KBinsDiscretizer, OneHotEncoder, FunctionTransformer\n",
    "\n",
    "from sklearn.metrics import accuracy_score, log_loss\n",
    "from sklearn.model_selection import cross_val_score"
   ]
  },
  {
   "cell_type": "markdown",
   "metadata": {},
   "source": [
    "## Import Data"
   ]
  },
  {
   "cell_type": "code",
   "execution_count": 8,
   "metadata": {},
   "outputs": [],
   "source": [
    "train = pd.read_csv('train.csv')\n",
    "test = pd.read_csv('test.csv')"
   ]
  },
  {
   "cell_type": "markdown",
   "metadata": {},
   "source": [
    "## Check Information of Columns"
   ]
  },
  {
   "cell_type": "code",
   "execution_count": 9,
   "metadata": {},
   "outputs": [
    {
     "name": "stdout",
     "output_type": "stream",
     "text": [
      "<class 'pandas.core.frame.DataFrame'>\n",
      "RangeIndex: 891 entries, 0 to 890\n",
      "Data columns (total 12 columns):\n",
      "PassengerId    891 non-null int64\n",
      "Survived       891 non-null int64\n",
      "Pclass         891 non-null int64\n",
      "Name           891 non-null object\n",
      "Sex            891 non-null object\n",
      "Age            714 non-null float64\n",
      "SibSp          891 non-null int64\n",
      "Parch          891 non-null int64\n",
      "Ticket         891 non-null object\n",
      "Fare           891 non-null float64\n",
      "Cabin          204 non-null object\n",
      "Embarked       889 non-null object\n",
      "dtypes: float64(2), int64(5), object(5)\n",
      "memory usage: 83.7+ KB\n"
     ]
    }
   ],
   "source": [
    "train.info()"
   ]
  },
  {
   "cell_type": "markdown",
   "metadata": {},
   "source": [
    "## Divide Data into Target and X Variables"
   ]
  },
  {
   "cell_type": "code",
   "execution_count": 10,
   "metadata": {},
   "outputs": [],
   "source": [
    "y = train['Survived']\n",
    "X = train.drop(['Survived','PassengerId'], axis = 1)"
   ]
  },
  {
   "cell_type": "markdown",
   "metadata": {},
   "source": [
    "## Split Titanic Train data into Train and Test Dataset"
   ]
  },
  {
   "cell_type": "code",
   "execution_count": 11,
   "metadata": {},
   "outputs": [],
   "source": [
    "X_train, X_test, y_train, y_test = model_selection.train_test_split(X,y,test_size=0.2, random_state = 200)"
   ]
  },
  {
   "cell_type": "markdown",
   "metadata": {},
   "source": [
    "## Make Feature Classification"
   ]
  },
  {
   "cell_type": "code",
   "execution_count": 12,
   "metadata": {},
   "outputs": [],
   "source": [
    "numeric_spl_features = ['Pclass','SibSp', 'Parch']\n",
    "\n",
    "object_spl_features = ['Name', 'Ticket', 'Cabin']\n",
    "\n",
    "numerical_features = [c for c, dtype in zip(X.columns, X.dtypes)\n",
    "                     if dtype.kind in ['i','f'] and c not in numeric_spl_features]\n",
    "categorical_features = [c for c, dtype in zip(X.columns, X.dtypes)\n",
    "                     if dtype.kind not in ['i','f'] and c not in object_spl_features]\n",
    "\n",
    "Pclass_spl_feature = ['Pclass']\n",
    "\n",
    "#numercial_spl_features = ['SibSP','Parch']\n",
    "\n",
    "cabin_spl_feature = ['Cabin']\n",
    "\n",
    "name_spl_feature = ['Name']\n",
    "\n",
    "ticket_spl_feature = ['Ticket']"
   ]
  },
  {
   "cell_type": "code",
   "execution_count": 13,
   "metadata": {},
   "outputs": [
    {
     "name": "stdout",
     "output_type": "stream",
     "text": [
      "Numerical : ['Age', 'Fare']\n",
      "Categorical : ['Sex', 'Embarked']\n",
      "Numeric Special : ['Pclass', 'SibSp', 'Parch']\n"
     ]
    }
   ],
   "source": [
    "print('Numerical : ' + str(numerical_features))\n",
    "print('Categorical : ' + str(categorical_features))\n",
    "print('Numeric Special : ' + str(numeric_spl_features))"
   ]
  },
  {
   "cell_type": "markdown",
   "metadata": {},
   "source": [
    "## Make Column Transformer with multiple Pipeline"
   ]
  },
  {
   "cell_type": "code",
   "execution_count": 22,
   "metadata": {},
   "outputs": [],
   "source": [
    "preprocessor = make_column_transformer(\n",
    "    \n",
    "    (make_pipeline(\n",
    "    SimpleImputer(strategy = 'median'),\n",
    "    KBinsDiscretizer(n_bins=4)), numerical_features),\n",
    "    \n",
    "    (make_pipeline(\n",
    "    OneHotEncoder(categories = 'auto',handle_unknown = 'ignore')), numeric_spl_features),\n",
    "    \n",
    "    (make_pipeline(\n",
    "    SimpleImputer(strategy = 'most_frequent'),\n",
    "    OneHotEncoder(categories = 'auto', handle_unknown = 'ignore')), categorical_features),\n",
    "    \n",
    ")"
   ]
  },
  {
   "cell_type": "markdown",
   "metadata": {},
   "source": [
    "## Import Different Models"
   ]
  },
  {
   "cell_type": "code",
   "execution_count": 15,
   "metadata": {},
   "outputs": [],
   "source": [
    "from sklearn.neighbors import KNeighborsClassifier\n",
    "from sklearn.svm import SVC, LinearSVC, NuSVC\n",
    "from sklearn.tree import DecisionTreeClassifier\n",
    "from sklearn.ensemble import RandomForestClassifier, AdaBoostClassifier, GradientBoostingClassifier\n",
    "from sklearn.discriminant_analysis import LinearDiscriminantAnalysis\n",
    "from sklearn.discriminant_analysis import QuadraticDiscriminantAnalysis"
   ]
  },
  {
   "cell_type": "markdown",
   "metadata": {},
   "source": [
    "### Store Models in a List"
   ]
  },
  {
   "cell_type": "code",
   "execution_count": 16,
   "metadata": {},
   "outputs": [],
   "source": [
    "classifiers = [\n",
    "    KNeighborsClassifier(3),\n",
    "    SVC(kernel=\"rbf\", C=0.025, probability=True),\n",
    "    NuSVC(probability=True),\n",
    "    DecisionTreeClassifier(),\n",
    "    RandomForestClassifier(),\n",
    "    AdaBoostClassifier(),\n",
    "    GradientBoostingClassifier()\n",
    "    ]"
   ]
  },
  {
   "cell_type": "code",
   "execution_count": 38,
   "metadata": {},
   "outputs": [],
   "source": [
    "classifiers_names = [\n",
    "    'KNeighborsClassifier(3)',\n",
    "    'SVC(kernel=\"rbf\", C=0.025, probability=True)',\n",
    "    'NuSVC(probability=True)',\n",
    "    'DecisionTreeClassifier()',\n",
    "    'RandomForestClassifier()',\n",
    "    'AdaBoostClassifier()',\n",
    "    'GradientBoostingClassifier()'\n",
    "    ]"
   ]
  },
  {
   "cell_type": "markdown",
   "metadata": {},
   "source": [
    "## Check Train and Test Scores"
   ]
  },
  {
   "cell_type": "code",
   "execution_count": 30,
   "metadata": {},
   "outputs": [
    {
     "name": "stdout",
     "output_type": "stream",
     "text": [
      "Train Accuracy : 0.774 +/- 0.03\n",
      "Test Accuracy : 0.686 +/- 0.06\n"
     ]
    }
   ],
   "source": [
    "#Train_Score\n",
    "train_scores = cross_val_score(logModel, X_train, y_train, cv = 7)\n",
    "\n",
    "#Test Score\n",
    "test_scores = cross_val_score(logModel, X_test, y_test, cv = 7)\n",
    "\n",
    "#Print Train and Test Score\n",
    "print(f'Train Accuracy : {train_scores.mean():.3f} +/- {train_scores.std():.2f}')\n",
    "print(f'Test Accuracy : {test_scores.mean():.3f} +/- {test_scores.std():.2f}')"
   ]
  },
  {
   "cell_type": "code",
   "execution_count": null,
   "metadata": {},
   "outputs": [],
   "source": [
    "col_train_scores = []\n",
    "col_test_scores = []"
   ]
  },
  {
   "cell_type": "code",
   "execution_count": 42,
   "metadata": {},
   "outputs": [
    {
     "name": "stdout",
     "output_type": "stream",
     "text": [
      "KNeighborsClassifier(3)\n",
      "Train Accuracy : 0.806 +/- 0.03\n",
      "Test Accuracy : 0.704 +/- 0.06\n",
      "Diff : 0.102 \n",
      "SVC(kernel=\"rbf\", C=0.025, probability=True)\n",
      "Train Accuracy : 0.625 +/- 0.00\n",
      "Test Accuracy : 0.581 +/- 0.01\n",
      "Diff : 0.044 \n",
      "NuSVC(probability=True)\n",
      "Train Accuracy : 0.822 +/- 0.03\n",
      "Test Accuracy : 0.754 +/- 0.06\n",
      "Diff : 0.068 \n",
      "DecisionTreeClassifier()\n",
      "Train Accuracy : 0.774 +/- 0.03\n",
      "Test Accuracy : 0.681 +/- 0.06\n",
      "Diff : 0.093 \n",
      "RandomForestClassifier()\n",
      "Train Accuracy : 0.809 +/- 0.03\n",
      "Test Accuracy : 0.720 +/- 0.05\n",
      "Diff : 0.089 \n",
      "AdaBoostClassifier()\n",
      "Train Accuracy : 0.800 +/- 0.02\n",
      "Test Accuracy : 0.754 +/- 0.06\n",
      "Diff : 0.046 \n",
      "GradientBoostingClassifier()\n",
      "Train Accuracy : 0.813 +/- 0.03\n",
      "Test Accuracy : 0.721 +/- 0.06\n",
      "Diff : 0.092 \n"
     ]
    }
   ],
   "source": [
    "for classifier,classifiers_name in zip(classifiers,classifiers_names):\n",
    "    pipe = make_pipeline(preprocessor, classifier)\n",
    "    train_scores = cross_val_score(pipe, X_train, y_train, cv = 7)\n",
    "    test_scores = cross_val_score(pipe, X_test, y_test, cv = 7)\n",
    "    #pipe.fit(X_train, y_train)   \n",
    "    print(classifiers_name)\n",
    "    #print(\"model score: %.3f\" % pipe.score(X_test, y_test))\n",
    "    print(f'Train Accuracy : {train_scores.mean():.3f} +/- {train_scores.std():.2f}')\n",
    "    print(f'Test Accuracy : {test_scores.mean():.3f} +/- {test_scores.std():.2f}')\n",
    "    print(f'Diff : {train_scores.mean() - test_scores.mean():.3f} ')"
   ]
  },
  {
   "cell_type": "code",
   "execution_count": 43,
   "metadata": {},
   "outputs": [],
   "source": [
    "bestModel = make_pipeline(preprocessor,  NuSVC(probability=True))"
   ]
  },
  {
   "cell_type": "code",
   "execution_count": 44,
   "metadata": {},
   "outputs": [
    {
     "name": "stdout",
     "output_type": "stream",
     "text": [
      "Train Accuracy : 0.822 +/- 0.03\n",
      "Test Accuracy : 0.754 +/- 0.06\n"
     ]
    }
   ],
   "source": [
    "#Train_Score\n",
    "train_scores = cross_val_score(bestModel, X_train, y_train, cv = 7)\n",
    "\n",
    "#Test Score\n",
    "test_scores = cross_val_score(bestModel, X_test, y_test, cv = 7)\n",
    "\n",
    "#Print Train and Test Score\n",
    "print(f'Train Accuracy : {train_scores.mean():.3f} +/- {train_scores.std():.2f}')\n",
    "print(f'Test Accuracy : {test_scores.mean():.3f} +/- {test_scores.std():.2f}')"
   ]
  },
  {
   "cell_type": "markdown",
   "metadata": {},
   "source": [
    "## Fit Model "
   ]
  },
  {
   "cell_type": "code",
   "execution_count": 45,
   "metadata": {},
   "outputs": [
    {
     "data": {
      "text/plain": [
       "Pipeline(memory=None,\n",
       "         steps=[('columntransformer',\n",
       "                 ColumnTransformer(n_jobs=None, remainder='drop',\n",
       "                                   sparse_threshold=0.3,\n",
       "                                   transformer_weights=None,\n",
       "                                   transformers=[('pipeline-1',\n",
       "                                                  Pipeline(memory=None,\n",
       "                                                           steps=[('simpleimputer',\n",
       "                                                                   SimpleImputer(add_indicator=False,\n",
       "                                                                                 copy=True,\n",
       "                                                                                 fill_value=None,\n",
       "                                                                                 missing_values=nan,\n",
       "                                                                                 strategy='median',\n",
       "                                                                                 verbose=0)),\n",
       "                                                                  ('kbinsdiscretizer',\n",
       "                                                                   KBinsD...\n",
       "                                                                                 dtype=<class 'numpy.float64'>,\n",
       "                                                                                 handle_unknown='ignore',\n",
       "                                                                                 sparse=True))],\n",
       "                                                           verbose=False),\n",
       "                                                  ['Sex', 'Embarked'])],\n",
       "                                   verbose=False)),\n",
       "                ('nusvc',\n",
       "                 NuSVC(break_ties=False, cache_size=200, class_weight=None,\n",
       "                       coef0=0.0, decision_function_shape='ovr', degree=3,\n",
       "                       gamma='scale', kernel='rbf', max_iter=-1, nu=0.5,\n",
       "                       probability=True, random_state=None, shrinking=True,\n",
       "                       tol=0.001, verbose=False))],\n",
       "         verbose=False)"
      ]
     },
     "execution_count": 45,
     "metadata": {},
     "output_type": "execute_result"
    }
   ],
   "source": [
    "bestModel.fit(X_train,y_train)"
   ]
  },
  {
   "cell_type": "markdown",
   "metadata": {},
   "source": [
    "## Extract only X Variables for Prediction"
   ]
  },
  {
   "cell_type": "code",
   "execution_count": 46,
   "metadata": {},
   "outputs": [
    {
     "data": {
      "text/plain": [
       "Index(['Pclass', 'Name', 'Sex', 'Age', 'SibSp', 'Parch', 'Ticket', 'Fare',\n",
       "       'Cabin', 'Embarked'],\n",
       "      dtype='object')"
      ]
     },
     "execution_count": 46,
     "metadata": {},
     "output_type": "execute_result"
    }
   ],
   "source": [
    "X_submission = test.drop(['PassengerId'], axis = 1)\n",
    "X_submission.columns"
   ]
  },
  {
   "cell_type": "markdown",
   "metadata": {},
   "source": [
    "## Make Prediction and Export CSV"
   ]
  },
  {
   "cell_type": "code",
   "execution_count": 47,
   "metadata": {},
   "outputs": [],
   "source": [
    "prediction = bestModel.predict(X_submission).astype(int)"
   ]
  },
  {
   "cell_type": "code",
   "execution_count": 48,
   "metadata": {},
   "outputs": [],
   "source": [
    "#Create Submission dataframe \n",
    "submission_df = pd.DataFrame({'PassengerId' : test['PassengerId'], 'Survived' : prediction})\n",
    "\n",
    "submission_df.to_csv('NuSVC_Model_Pipeline.csv', index = False)"
   ]
  },
  {
   "cell_type": "code",
   "execution_count": null,
   "metadata": {},
   "outputs": [],
   "source": [
    "## Scores 0.77033 when Submitted to Kaggle"
   ]
  }
 ],
 "metadata": {
  "kernelspec": {
   "display_name": "Python 3",
   "language": "python",
   "name": "python3"
  },
  "language_info": {
   "codemirror_mode": {
    "name": "ipython",
    "version": 3
   },
   "file_extension": ".py",
   "mimetype": "text/x-python",
   "name": "python",
   "nbconvert_exporter": "python",
   "pygments_lexer": "ipython3",
   "version": "3.7.3"
  },
  "toc": {
   "base_numbering": 1,
   "nav_menu": {},
   "number_sections": true,
   "sideBar": true,
   "skip_h1_title": false,
   "title_cell": "Table of Contents",
   "title_sidebar": "Contents",
   "toc_cell": false,
   "toc_position": {},
   "toc_section_display": true,
   "toc_window_display": false
  }
 },
 "nbformat": 4,
 "nbformat_minor": 2
}
