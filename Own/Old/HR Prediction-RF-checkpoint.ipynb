{
 "cells": [
  {
   "cell_type": "code",
   "execution_count": 1,
   "metadata": {},
   "outputs": [],
   "source": [
    "import pandas as pd\n",
    "import numpy as np"
   ]
  },
  {
   "cell_type": "code",
   "execution_count": 2,
   "metadata": {},
   "outputs": [],
   "source": [
    "hr_data = pd.read_csv('hr.csv')"
   ]
  },
  {
   "cell_type": "code",
   "execution_count": 3,
   "metadata": {},
   "outputs": [
    {
     "data": {
      "text/html": [
       "<div>\n",
       "<style scoped>\n",
       "    .dataframe tbody tr th:only-of-type {\n",
       "        vertical-align: middle;\n",
       "    }\n",
       "\n",
       "    .dataframe tbody tr th {\n",
       "        vertical-align: top;\n",
       "    }\n",
       "\n",
       "    .dataframe thead th {\n",
       "        text-align: right;\n",
       "    }\n",
       "</style>\n",
       "<table border=\"1\" class=\"dataframe\">\n",
       "  <thead>\n",
       "    <tr style=\"text-align: right;\">\n",
       "      <th></th>\n",
       "      <th>satisfaction_level</th>\n",
       "      <th>last_evaluation</th>\n",
       "      <th>number_project</th>\n",
       "      <th>average_montly_hours</th>\n",
       "      <th>time_spend_company</th>\n",
       "      <th>Work_accident</th>\n",
       "      <th>left</th>\n",
       "      <th>promotion_last_5years</th>\n",
       "      <th>sales</th>\n",
       "      <th>salary</th>\n",
       "    </tr>\n",
       "  </thead>\n",
       "  <tbody>\n",
       "    <tr>\n",
       "      <th>0</th>\n",
       "      <td>0.38</td>\n",
       "      <td>0.53</td>\n",
       "      <td>2</td>\n",
       "      <td>157</td>\n",
       "      <td>3</td>\n",
       "      <td>0</td>\n",
       "      <td>1</td>\n",
       "      <td>0</td>\n",
       "      <td>sales</td>\n",
       "      <td>low</td>\n",
       "    </tr>\n",
       "    <tr>\n",
       "      <th>1</th>\n",
       "      <td>0.80</td>\n",
       "      <td>0.86</td>\n",
       "      <td>5</td>\n",
       "      <td>262</td>\n",
       "      <td>6</td>\n",
       "      <td>0</td>\n",
       "      <td>1</td>\n",
       "      <td>0</td>\n",
       "      <td>sales</td>\n",
       "      <td>medium</td>\n",
       "    </tr>\n",
       "    <tr>\n",
       "      <th>2</th>\n",
       "      <td>0.11</td>\n",
       "      <td>0.88</td>\n",
       "      <td>7</td>\n",
       "      <td>272</td>\n",
       "      <td>4</td>\n",
       "      <td>0</td>\n",
       "      <td>1</td>\n",
       "      <td>0</td>\n",
       "      <td>sales</td>\n",
       "      <td>medium</td>\n",
       "    </tr>\n",
       "    <tr>\n",
       "      <th>3</th>\n",
       "      <td>0.72</td>\n",
       "      <td>0.87</td>\n",
       "      <td>5</td>\n",
       "      <td>223</td>\n",
       "      <td>5</td>\n",
       "      <td>0</td>\n",
       "      <td>1</td>\n",
       "      <td>0</td>\n",
       "      <td>sales</td>\n",
       "      <td>low</td>\n",
       "    </tr>\n",
       "    <tr>\n",
       "      <th>4</th>\n",
       "      <td>0.37</td>\n",
       "      <td>0.52</td>\n",
       "      <td>2</td>\n",
       "      <td>159</td>\n",
       "      <td>3</td>\n",
       "      <td>0</td>\n",
       "      <td>1</td>\n",
       "      <td>0</td>\n",
       "      <td>sales</td>\n",
       "      <td>low</td>\n",
       "    </tr>\n",
       "  </tbody>\n",
       "</table>\n",
       "</div>"
      ],
      "text/plain": [
       "   satisfaction_level  last_evaluation  number_project  average_montly_hours  \\\n",
       "0                0.38             0.53               2                   157   \n",
       "1                0.80             0.86               5                   262   \n",
       "2                0.11             0.88               7                   272   \n",
       "3                0.72             0.87               5                   223   \n",
       "4                0.37             0.52               2                   159   \n",
       "\n",
       "   time_spend_company  Work_accident  left  promotion_last_5years  sales  \\\n",
       "0                   3              0     1                      0  sales   \n",
       "1                   6              0     1                      0  sales   \n",
       "2                   4              0     1                      0  sales   \n",
       "3                   5              0     1                      0  sales   \n",
       "4                   3              0     1                      0  sales   \n",
       "\n",
       "   salary  \n",
       "0     low  \n",
       "1  medium  \n",
       "2  medium  \n",
       "3     low  \n",
       "4     low  "
      ]
     },
     "execution_count": 3,
     "metadata": {},
     "output_type": "execute_result"
    }
   ],
   "source": [
    "hr_data.head()"
   ]
  },
  {
   "cell_type": "code",
   "execution_count": 4,
   "metadata": {},
   "outputs": [],
   "source": [
    "y = hr_data['left']\n",
    "X = hr_data.drop(['left'], axis = 1)"
   ]
  },
  {
   "cell_type": "code",
   "execution_count": 5,
   "metadata": {},
   "outputs": [
    {
     "data": {
      "text/html": [
       "<div>\n",
       "<style scoped>\n",
       "    .dataframe tbody tr th:only-of-type {\n",
       "        vertical-align: middle;\n",
       "    }\n",
       "\n",
       "    .dataframe tbody tr th {\n",
       "        vertical-align: top;\n",
       "    }\n",
       "\n",
       "    .dataframe thead th {\n",
       "        text-align: right;\n",
       "    }\n",
       "</style>\n",
       "<table border=\"1\" class=\"dataframe\">\n",
       "  <thead>\n",
       "    <tr style=\"text-align: right;\">\n",
       "      <th></th>\n",
       "      <th>satisfaction_level</th>\n",
       "      <th>last_evaluation</th>\n",
       "      <th>number_project</th>\n",
       "      <th>average_montly_hours</th>\n",
       "      <th>time_spend_company</th>\n",
       "      <th>Work_accident</th>\n",
       "      <th>promotion_last_5years</th>\n",
       "      <th>sales</th>\n",
       "      <th>salary</th>\n",
       "    </tr>\n",
       "  </thead>\n",
       "  <tbody>\n",
       "    <tr>\n",
       "      <th>0</th>\n",
       "      <td>0.38</td>\n",
       "      <td>0.53</td>\n",
       "      <td>2</td>\n",
       "      <td>157</td>\n",
       "      <td>3</td>\n",
       "      <td>0</td>\n",
       "      <td>0</td>\n",
       "      <td>sales</td>\n",
       "      <td>low</td>\n",
       "    </tr>\n",
       "    <tr>\n",
       "      <th>1</th>\n",
       "      <td>0.80</td>\n",
       "      <td>0.86</td>\n",
       "      <td>5</td>\n",
       "      <td>262</td>\n",
       "      <td>6</td>\n",
       "      <td>0</td>\n",
       "      <td>0</td>\n",
       "      <td>sales</td>\n",
       "      <td>medium</td>\n",
       "    </tr>\n",
       "    <tr>\n",
       "      <th>2</th>\n",
       "      <td>0.11</td>\n",
       "      <td>0.88</td>\n",
       "      <td>7</td>\n",
       "      <td>272</td>\n",
       "      <td>4</td>\n",
       "      <td>0</td>\n",
       "      <td>0</td>\n",
       "      <td>sales</td>\n",
       "      <td>medium</td>\n",
       "    </tr>\n",
       "    <tr>\n",
       "      <th>3</th>\n",
       "      <td>0.72</td>\n",
       "      <td>0.87</td>\n",
       "      <td>5</td>\n",
       "      <td>223</td>\n",
       "      <td>5</td>\n",
       "      <td>0</td>\n",
       "      <td>0</td>\n",
       "      <td>sales</td>\n",
       "      <td>low</td>\n",
       "    </tr>\n",
       "    <tr>\n",
       "      <th>4</th>\n",
       "      <td>0.37</td>\n",
       "      <td>0.52</td>\n",
       "      <td>2</td>\n",
       "      <td>159</td>\n",
       "      <td>3</td>\n",
       "      <td>0</td>\n",
       "      <td>0</td>\n",
       "      <td>sales</td>\n",
       "      <td>low</td>\n",
       "    </tr>\n",
       "  </tbody>\n",
       "</table>\n",
       "</div>"
      ],
      "text/plain": [
       "   satisfaction_level  last_evaluation  number_project  average_montly_hours  \\\n",
       "0                0.38             0.53               2                   157   \n",
       "1                0.80             0.86               5                   262   \n",
       "2                0.11             0.88               7                   272   \n",
       "3                0.72             0.87               5                   223   \n",
       "4                0.37             0.52               2                   159   \n",
       "\n",
       "   time_spend_company  Work_accident  promotion_last_5years  sales  salary  \n",
       "0                   3              0                      0  sales     low  \n",
       "1                   6              0                      0  sales  medium  \n",
       "2                   4              0                      0  sales  medium  \n",
       "3                   5              0                      0  sales     low  \n",
       "4                   3              0                      0  sales     low  "
      ]
     },
     "execution_count": 5,
     "metadata": {},
     "output_type": "execute_result"
    }
   ],
   "source": [
    "X.head()"
   ]
  },
  {
   "cell_type": "code",
   "execution_count": 11,
   "metadata": {},
   "outputs": [],
   "source": [
    "X = pd.get_dummies(X, drop_first = True)"
   ]
  },
  {
   "cell_type": "code",
   "execution_count": 12,
   "metadata": {},
   "outputs": [],
   "source": [
    "from sklearn.model_selection import train_test_split"
   ]
  },
  {
   "cell_type": "code",
   "execution_count": 13,
   "metadata": {},
   "outputs": [],
   "source": [
    "X_train, X_test, y_train, y_test = train_test_split(X, y, test_size = 0.3, random_state = 5)"
   ]
  },
  {
   "cell_type": "code",
   "execution_count": 15,
   "metadata": {},
   "outputs": [
    {
     "name": "stdout",
     "output_type": "stream",
     "text": [
      "<class 'pandas.core.frame.DataFrame'>\n",
      "Int64Index: 10499 entries, 14404 to 2915\n",
      "Data columns (total 18 columns):\n",
      " #   Column                 Non-Null Count  Dtype  \n",
      "---  ------                 --------------  -----  \n",
      " 0   satisfaction_level     10499 non-null  float64\n",
      " 1   last_evaluation        10499 non-null  float64\n",
      " 2   number_project         10499 non-null  int64  \n",
      " 3   average_montly_hours   10499 non-null  int64  \n",
      " 4   time_spend_company     10499 non-null  int64  \n",
      " 5   Work_accident          10499 non-null  int64  \n",
      " 6   promotion_last_5years  10499 non-null  int64  \n",
      " 7   sales_RandD            10499 non-null  uint8  \n",
      " 8   sales_accounting       10499 non-null  uint8  \n",
      " 9   sales_hr               10499 non-null  uint8  \n",
      " 10  sales_management       10499 non-null  uint8  \n",
      " 11  sales_marketing        10499 non-null  uint8  \n",
      " 12  sales_product_mng      10499 non-null  uint8  \n",
      " 13  sales_sales            10499 non-null  uint8  \n",
      " 14  sales_support          10499 non-null  uint8  \n",
      " 15  sales_technical        10499 non-null  uint8  \n",
      " 16  salary_low             10499 non-null  uint8  \n",
      " 17  salary_medium          10499 non-null  uint8  \n",
      "dtypes: float64(2), int64(5), uint8(11)\n",
      "memory usage: 769.0 KB\n"
     ]
    }
   ],
   "source": [
    "X_train.info()"
   ]
  },
  {
   "cell_type": "code",
   "execution_count": 16,
   "metadata": {},
   "outputs": [],
   "source": [
    "from sklearn.tree import DecisionTreeClassifier\n",
    "from sklearn.ensemble import BaggingClassifier"
   ]
  },
  {
   "cell_type": "code",
   "execution_count": 78,
   "metadata": {},
   "outputs": [],
   "source": [
    "clf = BaggingClassifier(n_estimators = 15, base_estimator = DecisionTreeClassifier(), \n",
    "                        random_state = 5, n_jobs = -1, oob_score = True)"
   ]
  },
  {
   "cell_type": "code",
   "execution_count": 79,
   "metadata": {},
   "outputs": [
    {
     "name": "stderr",
     "output_type": "stream",
     "text": [
      "C:\\Users\\DELL\\Anaconda3\\lib\\site-packages\\sklearn\\ensemble\\_bagging.py:638: UserWarning: Some inputs do not have OOB scores. This probably means too few estimators were used to compute any reliable oob estimates.\n",
      "  warn(\"Some inputs do not have OOB scores. \"\n",
      "C:\\Users\\DELL\\Anaconda3\\lib\\site-packages\\sklearn\\ensemble\\_bagging.py:643: RuntimeWarning: invalid value encountered in true_divide\n",
      "  predictions.sum(axis=1)[:, np.newaxis])\n"
     ]
    },
    {
     "data": {
      "text/plain": [
       "BaggingClassifier(base_estimator=DecisionTreeClassifier(), n_estimators=15,\n",
       "                  n_jobs=-1, oob_score=True, random_state=5)"
      ]
     },
     "execution_count": 79,
     "metadata": {},
     "output_type": "execute_result"
    }
   ],
   "source": [
    "clf.fit(X_train, y_train)"
   ]
  },
  {
   "cell_type": "code",
   "execution_count": 83,
   "metadata": {},
   "outputs": [
    {
     "name": "stderr",
     "output_type": "stream",
     "text": [
      "C:\\Users\\DELL\\Anaconda3\\lib\\site-packages\\sklearn\\ensemble\\_bagging.py:638: UserWarning: Some inputs do not have OOB scores. This probably means too few estimators were used to compute any reliable oob estimates.\n",
      "  warn(\"Some inputs do not have OOB scores. \"\n",
      "C:\\Users\\DELL\\Anaconda3\\lib\\site-packages\\sklearn\\ensemble\\_bagging.py:643: RuntimeWarning: invalid value encountered in true_divide\n",
      "  predictions.sum(axis=1)[:, np.newaxis])\n"
     ]
    },
    {
     "name": "stdout",
     "output_type": "stream",
     "text": [
      "For n_estimators = 10\n",
      "OOB score is 0.981903038384608\n",
      "************************\n",
      "For n_estimators = 30\n",
      "OOB score is 0.9864749023716545\n",
      "************************\n",
      "For n_estimators = 50\n",
      "OOB score is 0.9877131155348129\n",
      "************************\n",
      "For n_estimators = 70\n",
      "OOB score is 0.9882845985331936\n",
      "************************\n",
      "For n_estimators = 90\n",
      "OOB score is 0.9887608343651776\n",
      "************************\n",
      "For n_estimators = 110\n",
      "OOB score is 0.9890465758643681\n",
      "************************\n",
      "For n_estimators = 130\n",
      "OOB score is 0.9887608343651776\n",
      "************************\n",
      "For n_estimators = 150\n",
      "OOB score is 0.9893323173635584\n",
      "************************\n",
      "For n_estimators = 170\n",
      "OOB score is 0.989522811696352\n",
      "************************\n",
      "For n_estimators = 190\n",
      "OOB score is 0.9896180588627488\n",
      "************************\n",
      "For n_estimators = 210\n",
      "OOB score is 0.9896180588627488\n",
      "************************\n",
      "For n_estimators = 230\n",
      "OOB score is 0.9894275645299553\n",
      "************************\n",
      "For n_estimators = 250\n",
      "OOB score is 0.9894275645299553\n",
      "************************\n",
      "For n_estimators = 270\n",
      "OOB score is 0.9894275645299553\n",
      "************************\n",
      "For n_estimators = 290\n",
      "OOB score is 0.9894275645299553\n",
      "************************\n"
     ]
    }
   ],
   "source": [
    "for w in range(10,300,20):\n",
    "    clf=BaggingClassifier(oob_score=True,n_jobs=-1,n_estimators=w,random_state=5,\n",
    "                          base_estimator=DecisionTreeClassifier())\n",
    "    clf.fit(X_train,y_train)\n",
    "    oob=clf.oob_score_\n",
    "    print ('For n_estimators = '+str(w))\n",
    "    print ('OOB score is '+str(oob))\n",
    "    print ('************************')"
   ]
  },
  {
   "cell_type": "code",
   "execution_count": 86,
   "metadata": {},
   "outputs": [],
   "source": [
    "clf = BaggingClassifier(n_estimators = 210, base_estimator = DecisionTreeClassifier(), \n",
    "                        random_state = 5, n_jobs = -1, oob_score = True)"
   ]
  },
  {
   "cell_type": "code",
   "execution_count": 88,
   "metadata": {},
   "outputs": [
    {
     "data": {
      "text/plain": [
       "BaggingClassifier(base_estimator=DecisionTreeClassifier(), n_estimators=210,\n",
       "                  n_jobs=-1, oob_score=True, random_state=5)"
      ]
     },
     "execution_count": 88,
     "metadata": {},
     "output_type": "execute_result"
    }
   ],
   "source": [
    "clf.fit(X_train, y_train)"
   ]
  },
  {
   "cell_type": "code",
   "execution_count": 89,
   "metadata": {},
   "outputs": [
    {
     "data": {
      "text/plain": [
       "1.0"
      ]
     },
     "execution_count": 89,
     "metadata": {},
     "output_type": "execute_result"
    }
   ],
   "source": [
    "clf.score(X_train, y_train)"
   ]
  },
  {
   "cell_type": "code",
   "execution_count": 90,
   "metadata": {},
   "outputs": [
    {
     "data": {
      "text/plain": [
       "0.9896180588627488"
      ]
     },
     "execution_count": 90,
     "metadata": {},
     "output_type": "execute_result"
    }
   ],
   "source": [
    "clf.oob_score_"
   ]
  },
  {
   "cell_type": "code",
   "execution_count": 91,
   "metadata": {},
   "outputs": [
    {
     "data": {
      "text/plain": [
       "0.9913333333333333"
      ]
     },
     "execution_count": 91,
     "metadata": {},
     "output_type": "execute_result"
    }
   ],
   "source": [
    "clf.score(X_test, y_test)"
   ]
  },
  {
   "cell_type": "code",
   "execution_count": 92,
   "metadata": {},
   "outputs": [
    {
     "data": {
      "text/plain": [
       "[DecisionTreeClassifier(random_state=1228472244),\n",
       " DecisionTreeClassifier(random_state=1538648557),\n",
       " DecisionTreeClassifier(random_state=1291004499),\n",
       " DecisionTreeClassifier(random_state=378811896),\n",
       " DecisionTreeClassifier(random_state=1715738999),\n",
       " DecisionTreeClassifier(random_state=1655026361),\n",
       " DecisionTreeClassifier(random_state=1482370082),\n",
       " DecisionTreeClassifier(random_state=1085858423),\n",
       " DecisionTreeClassifier(random_state=690222301),\n",
       " DecisionTreeClassifier(random_state=1739948426),\n",
       " DecisionTreeClassifier(random_state=1054112299),\n",
       " DecisionTreeClassifier(random_state=1748058408),\n",
       " DecisionTreeClassifier(random_state=658601627),\n",
       " DecisionTreeClassifier(random_state=1106075865),\n",
       " DecisionTreeClassifier(random_state=571025500),\n",
       " DecisionTreeClassifier(random_state=1407763178),\n",
       " DecisionTreeClassifier(random_state=2006563952),\n",
       " DecisionTreeClassifier(random_state=1173011985),\n",
       " DecisionTreeClassifier(random_state=1336915361),\n",
       " DecisionTreeClassifier(random_state=2079437310),\n",
       " DecisionTreeClassifier(random_state=1099965651),\n",
       " DecisionTreeClassifier(random_state=1055568352),\n",
       " DecisionTreeClassifier(random_state=1755490476),\n",
       " DecisionTreeClassifier(random_state=735739934),\n",
       " DecisionTreeClassifier(random_state=401258266),\n",
       " DecisionTreeClassifier(random_state=1058354242),\n",
       " DecisionTreeClassifier(random_state=1148084851),\n",
       " DecisionTreeClassifier(random_state=775988021),\n",
       " DecisionTreeClassifier(random_state=797963675),\n",
       " DecisionTreeClassifier(random_state=582777370),\n",
       " DecisionTreeClassifier(random_state=1165699357),\n",
       " DecisionTreeClassifier(random_state=1546503027),\n",
       " DecisionTreeClassifier(random_state=1226437355),\n",
       " DecisionTreeClassifier(random_state=719235205),\n",
       " DecisionTreeClassifier(random_state=496566705),\n",
       " DecisionTreeClassifier(random_state=388380281),\n",
       " DecisionTreeClassifier(random_state=442863306),\n",
       " DecisionTreeClassifier(random_state=834648749),\n",
       " DecisionTreeClassifier(random_state=1875646609),\n",
       " DecisionTreeClassifier(random_state=1557999257),\n",
       " DecisionTreeClassifier(random_state=209422334),\n",
       " DecisionTreeClassifier(random_state=773312038),\n",
       " DecisionTreeClassifier(random_state=1418896742),\n",
       " DecisionTreeClassifier(random_state=2075823423),\n",
       " DecisionTreeClassifier(random_state=1243105936),\n",
       " DecisionTreeClassifier(random_state=503631877),\n",
       " DecisionTreeClassifier(random_state=32616736),\n",
       " DecisionTreeClassifier(random_state=2118930578),\n",
       " DecisionTreeClassifier(random_state=1239041517),\n",
       " DecisionTreeClassifier(random_state=1970395463),\n",
       " DecisionTreeClassifier(random_state=190881825),\n",
       " DecisionTreeClassifier(random_state=1291568789),\n",
       " DecisionTreeClassifier(random_state=922246351),\n",
       " DecisionTreeClassifier(random_state=1967688640),\n",
       " DecisionTreeClassifier(random_state=1472358333),\n",
       " DecisionTreeClassifier(random_state=1402049232),\n",
       " DecisionTreeClassifier(random_state=500975152),\n",
       " DecisionTreeClassifier(random_state=1424089676),\n",
       " DecisionTreeClassifier(random_state=378285702),\n",
       " DecisionTreeClassifier(random_state=401303165),\n",
       " DecisionTreeClassifier(random_state=259221753),\n",
       " DecisionTreeClassifier(random_state=535517814),\n",
       " DecisionTreeClassifier(random_state=705612437),\n",
       " DecisionTreeClassifier(random_state=1993078429),\n",
       " DecisionTreeClassifier(random_state=197605463),\n",
       " DecisionTreeClassifier(random_state=1189981338),\n",
       " DecisionTreeClassifier(random_state=2094911522),\n",
       " DecisionTreeClassifier(random_state=2098328228),\n",
       " DecisionTreeClassifier(random_state=980978207),\n",
       " DecisionTreeClassifier(random_state=507038092),\n",
       " DecisionTreeClassifier(random_state=1817958853),\n",
       " DecisionTreeClassifier(random_state=1510932827),\n",
       " DecisionTreeClassifier(random_state=1281877377),\n",
       " DecisionTreeClassifier(random_state=1494381671),\n",
       " DecisionTreeClassifier(random_state=1360431650),\n",
       " DecisionTreeClassifier(random_state=2069670404),\n",
       " DecisionTreeClassifier(random_state=1570896680),\n",
       " DecisionTreeClassifier(random_state=757951375),\n",
       " DecisionTreeClassifier(random_state=570057085),\n",
       " DecisionTreeClassifier(random_state=386009569),\n",
       " DecisionTreeClassifier(random_state=45548423),\n",
       " DecisionTreeClassifier(random_state=1840425710),\n",
       " DecisionTreeClassifier(random_state=196067043),\n",
       " DecisionTreeClassifier(random_state=903521645),\n",
       " DecisionTreeClassifier(random_state=113847255),\n",
       " DecisionTreeClassifier(random_state=1495175458),\n",
       " DecisionTreeClassifier(random_state=1309262465),\n",
       " DecisionTreeClassifier(random_state=1691181005),\n",
       " DecisionTreeClassifier(random_state=888241847),\n",
       " DecisionTreeClassifier(random_state=1906134228),\n",
       " DecisionTreeClassifier(random_state=435425583),\n",
       " DecisionTreeClassifier(random_state=829959411),\n",
       " DecisionTreeClassifier(random_state=304490076),\n",
       " DecisionTreeClassifier(random_state=2013396918),\n",
       " DecisionTreeClassifier(random_state=1047244664),\n",
       " DecisionTreeClassifier(random_state=254478587),\n",
       " DecisionTreeClassifier(random_state=158835163),\n",
       " DecisionTreeClassifier(random_state=471182065),\n",
       " DecisionTreeClassifier(random_state=1082497280),\n",
       " DecisionTreeClassifier(random_state=1513410044),\n",
       " DecisionTreeClassifier(random_state=452465949),\n",
       " DecisionTreeClassifier(random_state=350874755),\n",
       " DecisionTreeClassifier(random_state=2002897481),\n",
       " DecisionTreeClassifier(random_state=577482331),\n",
       " DecisionTreeClassifier(random_state=1250525803),\n",
       " DecisionTreeClassifier(random_state=1673690546),\n",
       " DecisionTreeClassifier(random_state=371520953),\n",
       " DecisionTreeClassifier(random_state=306537785),\n",
       " DecisionTreeClassifier(random_state=841591097),\n",
       " DecisionTreeClassifier(random_state=1123555262),\n",
       " DecisionTreeClassifier(random_state=729239928),\n",
       " DecisionTreeClassifier(random_state=855963049),\n",
       " DecisionTreeClassifier(random_state=597871067),\n",
       " DecisionTreeClassifier(random_state=1952064294),\n",
       " DecisionTreeClassifier(random_state=1736902011),\n",
       " DecisionTreeClassifier(random_state=39006658),\n",
       " DecisionTreeClassifier(random_state=240844289),\n",
       " DecisionTreeClassifier(random_state=1243884304),\n",
       " DecisionTreeClassifier(random_state=399962800),\n",
       " DecisionTreeClassifier(random_state=868823172),\n",
       " DecisionTreeClassifier(random_state=2007012551),\n",
       " DecisionTreeClassifier(random_state=618586168),\n",
       " DecisionTreeClassifier(random_state=1282406905),\n",
       " DecisionTreeClassifier(random_state=912625849),\n",
       " DecisionTreeClassifier(random_state=1159663116),\n",
       " DecisionTreeClassifier(random_state=479268674),\n",
       " DecisionTreeClassifier(random_state=49633125),\n",
       " DecisionTreeClassifier(random_state=879709761),\n",
       " DecisionTreeClassifier(random_state=1110238069),\n",
       " DecisionTreeClassifier(random_state=98636112),\n",
       " DecisionTreeClassifier(random_state=280037589),\n",
       " DecisionTreeClassifier(random_state=1917941094),\n",
       " DecisionTreeClassifier(random_state=1325964988),\n",
       " DecisionTreeClassifier(random_state=752854281),\n",
       " DecisionTreeClassifier(random_state=1462465075),\n",
       " DecisionTreeClassifier(random_state=2028933667),\n",
       " DecisionTreeClassifier(random_state=1241606493),\n",
       " DecisionTreeClassifier(random_state=1391158189),\n",
       " DecisionTreeClassifier(random_state=1468606817),\n",
       " DecisionTreeClassifier(random_state=1552709923),\n",
       " DecisionTreeClassifier(random_state=213734044),\n",
       " DecisionTreeClassifier(random_state=425442897),\n",
       " DecisionTreeClassifier(random_state=819575155),\n",
       " DecisionTreeClassifier(random_state=759172103),\n",
       " DecisionTreeClassifier(random_state=2080922874),\n",
       " DecisionTreeClassifier(random_state=2013994417),\n",
       " DecisionTreeClassifier(random_state=1291667131),\n",
       " DecisionTreeClassifier(random_state=812185785),\n",
       " DecisionTreeClassifier(random_state=1589760664),\n",
       " DecisionTreeClassifier(random_state=641693330),\n",
       " DecisionTreeClassifier(random_state=1431086211),\n",
       " DecisionTreeClassifier(random_state=1846542706),\n",
       " DecisionTreeClassifier(random_state=185532457),\n",
       " DecisionTreeClassifier(random_state=530523823),\n",
       " DecisionTreeClassifier(random_state=1470440887),\n",
       " DecisionTreeClassifier(random_state=1240930095),\n",
       " DecisionTreeClassifier(random_state=1585231976),\n",
       " DecisionTreeClassifier(random_state=1355238853),\n",
       " DecisionTreeClassifier(random_state=815217396),\n",
       " DecisionTreeClassifier(random_state=277574826),\n",
       " DecisionTreeClassifier(random_state=2131004469),\n",
       " DecisionTreeClassifier(random_state=540149709),\n",
       " DecisionTreeClassifier(random_state=702718697),\n",
       " DecisionTreeClassifier(random_state=2109354519),\n",
       " DecisionTreeClassifier(random_state=1973986533),\n",
       " DecisionTreeClassifier(random_state=564703906),\n",
       " DecisionTreeClassifier(random_state=819450826),\n",
       " DecisionTreeClassifier(random_state=1525447951),\n",
       " DecisionTreeClassifier(random_state=1447605023),\n",
       " DecisionTreeClassifier(random_state=1367160743),\n",
       " DecisionTreeClassifier(random_state=1910299445),\n",
       " DecisionTreeClassifier(random_state=339064521),\n",
       " DecisionTreeClassifier(random_state=1481327698),\n",
       " DecisionTreeClassifier(random_state=416351132),\n",
       " DecisionTreeClassifier(random_state=1485353854),\n",
       " DecisionTreeClassifier(random_state=30956987),\n",
       " DecisionTreeClassifier(random_state=366053655),\n",
       " DecisionTreeClassifier(random_state=2080971173),\n",
       " DecisionTreeClassifier(random_state=550353184),\n",
       " DecisionTreeClassifier(random_state=563360274),\n",
       " DecisionTreeClassifier(random_state=536748914),\n",
       " DecisionTreeClassifier(random_state=157176628),\n",
       " DecisionTreeClassifier(random_state=912596476),\n",
       " DecisionTreeClassifier(random_state=2132706388),\n",
       " DecisionTreeClassifier(random_state=1136824385),\n",
       " DecisionTreeClassifier(random_state=1149687191),\n",
       " DecisionTreeClassifier(random_state=1146698864),\n",
       " DecisionTreeClassifier(random_state=2088026525),\n",
       " DecisionTreeClassifier(random_state=1610876494),\n",
       " DecisionTreeClassifier(random_state=1697652607),\n",
       " DecisionTreeClassifier(random_state=725824846),\n",
       " DecisionTreeClassifier(random_state=1518635887),\n",
       " DecisionTreeClassifier(random_state=122086762),\n",
       " DecisionTreeClassifier(random_state=254559712),\n",
       " DecisionTreeClassifier(random_state=2105368104),\n",
       " DecisionTreeClassifier(random_state=1965231595),\n",
       " DecisionTreeClassifier(random_state=2131894266),\n",
       " DecisionTreeClassifier(random_state=972833913),\n",
       " DecisionTreeClassifier(random_state=316714877),\n",
       " DecisionTreeClassifier(random_state=961404296),\n",
       " DecisionTreeClassifier(random_state=908791050),\n",
       " DecisionTreeClassifier(random_state=1490439201),\n",
       " DecisionTreeClassifier(random_state=1515168695),\n",
       " DecisionTreeClassifier(random_state=791139221),\n",
       " DecisionTreeClassifier(random_state=1076707540),\n",
       " DecisionTreeClassifier(random_state=1731565353),\n",
       " DecisionTreeClassifier(random_state=307558508),\n",
       " DecisionTreeClassifier(random_state=1502653581),\n",
       " DecisionTreeClassifier(random_state=1760909170),\n",
       " DecisionTreeClassifier(random_state=1926551466)]"
      ]
     },
     "execution_count": 92,
     "metadata": {},
     "output_type": "execute_result"
    }
   ],
   "source": [
    "clf.estimators_"
   ]
  },
  {
   "cell_type": "code",
   "execution_count": 93,
   "metadata": {},
   "outputs": [
    {
     "data": {
      "text/plain": [
       "array([4.84451371e-01, 1.44871206e-01, 9.98890459e-02, 1.04577888e-01,\n",
       "       1.40604221e-01, 1.60684347e-03, 7.61931933e-06, 7.43112260e-05,\n",
       "       2.24362752e-03, 7.78432729e-04, 2.32776769e-04, 5.13298132e-04,\n",
       "       1.29677799e-03, 1.75197072e-03, 2.87049502e-03, 4.77601964e-03,\n",
       "       6.50520383e-03, 2.94889134e-03])"
      ]
     },
     "execution_count": 93,
     "metadata": {},
     "output_type": "execute_result"
    }
   ],
   "source": [
    "clf.estimators_[1].feature_importances_"
   ]
  },
  {
   "cell_type": "code",
   "execution_count": 94,
   "metadata": {},
   "outputs": [],
   "source": [
    "imp=[]\n",
    "\n",
    "for i in clf.estimators_:\n",
    "    imp.append(i.feature_importances_)\n",
    "\n",
    "# Average\n",
    "imp=np.mean(imp,axis=0)"
   ]
  },
  {
   "cell_type": "code",
   "execution_count": 95,
   "metadata": {},
   "outputs": [],
   "source": [
    "feature_importances = pd.Series(imp, index = X.columns.tolist())"
   ]
  },
  {
   "cell_type": "code",
   "execution_count": 96,
   "metadata": {},
   "outputs": [
    {
     "data": {
      "text/plain": [
       "<matplotlib.axes._subplots.AxesSubplot at 0x21e9d218f48>"
      ]
     },
     "execution_count": 96,
     "metadata": {},
     "output_type": "execute_result"
    },
    {
     "data": {
      "image/png": "[encoded data removed]",
      "text/plain": [
       "<Figure size 432x288 with 1 Axes>"
      ]
     },
     "metadata": {
      "needs_background": "light"
     },
     "output_type": "display_data"
    }
   ],
   "source": [
    "feature_importances.sort_values(ascending = False).plot(kind='bar')"
   ]
  },
  {
   "cell_type": "code",
   "execution_count": null,
   "metadata": {},
   "outputs": [],
   "source": []
  }
 ],
 "metadata": {
  "kernelspec": {
   "display_name": "Python 3",
   "language": "python",
   "name": "python3"
  },
  "language_info": {
   "codemirror_mode": {
    "name": "ipython",
    "version": 3
   },
   "file_extension": ".py",
   "mimetype": "text/x-python",
   "name": "python",
   "nbconvert_exporter": "python",
   "pygments_lexer": "ipython3",
   "version": "3.7.6"
  }
 },
 "nbformat": 4,
 "nbformat_minor": 4
}
