{
 "cells": [
  {
   "cell_type": "code",
   "execution_count": 1,
   "id": "a2fcf5d1",
   "metadata": {},
   "outputs": [],
   "source": [
    "import openpyxl\n",
    "from openpyxl.utils import get_column_letter\n",
    "\n",
    "# Load your Excel workbook and sheet\n",
    "file_path = \"Embedded Links.xlsx\"  # Replace with the path to your Excel file\n",
    "wb = openpyxl.load_workbook(file_path)\n",
    "sheet = wb.active  # Assuming the first sheet, modify if necessary\n",
    "\n",
    "# Iterate through rows and embed URLs from Column B into the texts in Column A\n",
    "for row in range(2, sheet.max_row + 1):  # Assuming data starts from row 2\n",
    "    text = sheet[f'A{row}'].value  # Text in Column A\n",
    "    url = sheet[f'B{row}'].value  # URL in Column B\n",
    "    \n",
    "    if text and url:\n",
    "        # Embed the URL as a hyperlink in the text\n",
    "        sheet[f'A{row}'].hyperlink = url\n",
    "        sheet[f'A{row}'].value = text\n",
    "        sheet[f'A{row}'].style = \"Hyperlink\"\n",
    "\n",
    "# Save the updated workbook\n",
    "wb.save(\"updated_excel_file.xlsx\")\n"
   ]
  },
  {
   "cell_type": "code",
   "execution_count": null,
   "id": "64798a45",
   "metadata": {},
   "outputs": [],
   "source": []
  }
 ],
 "metadata": {
  "kernelspec": {
   "display_name": "Python 3 (ipykernel)",
   "language": "python",
   "name": "python3"
  },
  "language_info": {
   "codemirror_mode": {
    "name": "ipython",
    "version": 3
   },
   "file_extension": ".py",
   "mimetype": "text/x-python",
   "name": "python",
   "nbconvert_exporter": "python",
   "pygments_lexer": "ipython3",
   "version": "3.10.14"
  },
  "varInspector": {
   "cols": {
    "lenName": 16,
    "lenType": 16,
    "lenVar": 40
   },
   "kernels_config": {
    "python": {
     "delete_cmd_postfix": "",
     "delete_cmd_prefix": "del ",
     "library": "var_list.py",
     "varRefreshCmd": "print(var_dic_list())"
    },
    "r": {
     "delete_cmd_postfix": ") ",
     "delete_cmd_prefix": "rm(",
     "library": "var_list.r",
     "varRefreshCmd": "cat(var_dic_list()) "
    }
   },
   "types_to_exclude": [
    "module",
    "function",
    "builtin_function_or_method",
    "instance",
    "_Feature"
   ],
   "window_display": false
  }
 },
 "nbformat": 4,
 "nbformat_minor": 5
}
