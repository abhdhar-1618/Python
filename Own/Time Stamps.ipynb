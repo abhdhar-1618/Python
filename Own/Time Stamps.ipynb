{
 "cells": [
  {
   "cell_type": "code",
   "execution_count": 1,
   "id": "7c9e2dc3",
   "metadata": {},
   "outputs": [
    {
     "name": "stdout",
     "output_type": "stream",
     "text": [
      "Enter the starting time (format: HH:MM AM/PM): 07:45 AM\n",
      "07:45 AM\n",
      "08:15 AM\n",
      "08:45 AM\n",
      "09:15 AM\n",
      "09:45 AM\n",
      "10:15 AM\n",
      "10:45 AM\n",
      "11:15 AM\n",
      "11:45 AM\n",
      "12:15 PM\n",
      "12:45 PM\n",
      "01:15 PM\n",
      "01:45 PM\n",
      "02:15 PM\n",
      "02:45 PM\n",
      "03:15 PM\n",
      "03:45 PM\n",
      "04:15 PM\n",
      "04:45 PM\n",
      "05:15 PM\n",
      "05:45 PM\n",
      "06:15 PM\n",
      "06:45 PM\n",
      "07:15 PM\n",
      "07:45 PM\n",
      "08:15 PM\n",
      "08:45 PM\n",
      "09:15 PM\n",
      "09:45 PM\n",
      "10:15 PM\n",
      "10:45 PM\n",
      "11:15 PM\n",
      "11:45 PM\n",
      "12:15 AM\n",
      "12:45 AM\n",
      "01:15 AM\n",
      "01:45 AM\n",
      "02:15 AM\n",
      "02:45 AM\n",
      "03:15 AM\n",
      "03:45 AM\n",
      "04:15 AM\n",
      "04:45 AM\n",
      "05:15 AM\n",
      "05:45 AM\n",
      "06:15 AM\n",
      "06:45 AM\n",
      "07:15 AM\n"
     ]
    }
   ],
   "source": [
    "from datetime import datetime, timedelta\n",
    "\n",
    "# Get user input for the starting time\n",
    "start_time_str = input(\"Enter the starting time (format: HH:MM AM/PM): \")\n",
    "\n",
    "# Convert the input string to a datetime object\n",
    "start_time = datetime.strptime(start_time_str, \"%I:%M %p\")\n",
    "\n",
    "# Set the end time to 24 hours after the starting time\n",
    "end_time = start_time + timedelta(hours=24)\n",
    "\n",
    "# Initialize the current time as the starting time\n",
    "current_time = start_time\n",
    "\n",
    "# Print timestamps with a 30-minute gap for the next 24 hours\n",
    "while current_time < end_time:\n",
    "    print(current_time.strftime(\"%I:%M %p\"))\n",
    "    current_time += timedelta(minutes=30)"
   ]
  },
  {
   "cell_type": "code",
   "execution_count": 8,
   "id": "4e56f0c8",
   "metadata": {},
   "outputs": [
    {
     "name": "stdout",
     "output_type": "stream",
     "text": [
      "Enter your latitude in degrees: 22.33\n",
      "Enter your longitude in degrees: 88.18\n",
      "Approximate distance per degree at latitude 22.33°: 102971.74 meters\n",
      "Approximate distance per degree at longitude 88.18°: 111319.49 meters\n"
     ]
    }
   ],
   "source": [
    "from math import cos, pi\n",
    "\n",
    "def calculate_distance_per_degree(latitude):\n",
    "    # Earth's equatorial radius in meters\n",
    "    equatorial_radius = 6378137\n",
    "\n",
    "    # Convert latitude from degrees to radians\n",
    "    latitude_radians = latitude * pi / 180\n",
    "\n",
    "    # Calculate the circumference of the Earth at the given latitude\n",
    "    circumference = 2 * pi * equatorial_radius * cos(latitude_radians)\n",
    "\n",
    "    # Calculate the distance per degree\n",
    "    distance_per_degree = circumference / 360\n",
    "\n",
    "    return distance_per_degree\n",
    "\n",
    "def main():\n",
    "    # Get latitude and longitude from the user\n",
    "    latitude = float(input(\"Enter your latitude in degrees: \"))\n",
    "    longitude = float(input(\"Enter your longitude in degrees: \"))\n",
    "\n",
    "    # Calculate distance per degree for latitude and longitude\n",
    "    distance_per_degree_latitude = calculate_distance_per_degree(latitude)\n",
    "    distance_per_degree_longitude = calculate_distance_per_degree(0)  # Approximating for equator\n",
    "\n",
    "    print(f\"Approximate distance per degree at latitude {latitude}°: {distance_per_degree_latitude:.2f} meters\")\n",
    "    print(f\"Approximate distance per degree at longitude {longitude}°: {distance_per_degree_longitude:.2f} meters\")\n",
    "\n",
    "if __name__ == \"__main__\":\n",
    "    main()"
   ]
  },
  {
   "cell_type": "code",
   "execution_count": null,
   "id": "2a94986a",
   "metadata": {},
   "outputs": [],
   "source": []
  }
 ],
 "metadata": {
  "kernelspec": {
   "display_name": "Python 3 (ipykernel)",
   "language": "python",
   "name": "python3"
  },
  "language_info": {
   "codemirror_mode": {
    "name": "ipython",
    "version": 3
   },
   "file_extension": ".py",
   "mimetype": "text/x-python",
   "name": "python",
   "nbconvert_exporter": "python",
   "pygments_lexer": "ipython3",
   "version": "3.11.5"
  },
  "varInspector": {
   "cols": {
    "lenName": 16,
    "lenType": 16,
    "lenVar": 40
   },
   "kernels_config": {
    "python": {
     "delete_cmd_postfix": "",
     "delete_cmd_prefix": "del ",
     "library": "var_list.py",
     "varRefreshCmd": "print(var_dic_list())"
    },
    "r": {
     "delete_cmd_postfix": ") ",
     "delete_cmd_prefix": "rm(",
     "library": "var_list.r",
     "varRefreshCmd": "cat(var_dic_list()) "
    }
   },
   "types_to_exclude": [
    "module",
    "function",
    "builtin_function_or_method",
    "instance",
    "_Feature"
   ],
   "window_display": false
  }
 },
 "nbformat": 4,
 "nbformat_minor": 5
}
