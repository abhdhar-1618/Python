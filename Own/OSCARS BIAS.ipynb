{
 "cells": [
  {
   "cell_type": "code",
   "execution_count": 1,
   "id": "e0891e93",
   "metadata": {},
   "outputs": [],
   "source": [
    "import pandas as pd\n",
    "import numpy as np\n",
    "import matplotlib.pyplot as plt\n",
    "import seaborn as sns\n",
    "import warnings\n",
    "warnings.filterwarnings(\"ignore\")\n"
   ]
  },
  {
   "cell_type": "code",
   "execution_count": 2,
   "id": "67eaef27",
   "metadata": {},
   "outputs": [],
   "source": [
    "M1 = pd.read_csv(r\"D:\\Main\\My Practice and experiments\\My Practice LAB\\Data_Hub\\datasets\\Oscars dataset\\Alternate approach\\database.csv\")\n",
    "M2 = pd.read_csv(r\"D:\\Main\\My Practice and experiments\\My Practice LAB\\Data_Hub\\datasets\\Oscars dataset\\Alternate approach\\movie_metadata.csv\")\n"
   ]
  },
  {
   "cell_type": "code",
   "execution_count": 3,
   "id": "5fc102c7",
   "metadata": {},
   "outputs": [],
   "source": [
    "M3 = pd.merge(M1, M2, left_on= 'Film', right_on= 'movie_title', how='left')"
   ]
  },
  {
   "cell_type": "code",
   "execution_count": 4,
   "id": "aba7a2b1",
   "metadata": {},
   "outputs": [
    {
     "data": {
      "text/html": [
       "<div>\n",
       "<style scoped>\n",
       "    .dataframe tbody tr th:only-of-type {\n",
       "        vertical-align: middle;\n",
       "    }\n",
       "\n",
       "    .dataframe tbody tr th {\n",
       "        vertical-align: top;\n",
       "    }\n",
       "\n",
       "    .dataframe thead th {\n",
       "        text-align: right;\n",
       "    }\n",
       "</style>\n",
       "<table border=\"1\" class=\"dataframe\">\n",
       "  <thead>\n",
       "    <tr style=\"text-align: right;\">\n",
       "      <th></th>\n",
       "      <th>Year</th>\n",
       "      <th>Ceremony</th>\n",
       "      <th>Award</th>\n",
       "      <th>Winner</th>\n",
       "      <th>Name</th>\n",
       "      <th>Film</th>\n",
       "      <th>color</th>\n",
       "      <th>director_name</th>\n",
       "      <th>num_critic_for_reviews</th>\n",
       "      <th>duration</th>\n",
       "      <th>...</th>\n",
       "      <th>num_user_for_reviews</th>\n",
       "      <th>language</th>\n",
       "      <th>country</th>\n",
       "      <th>content_rating</th>\n",
       "      <th>budget</th>\n",
       "      <th>title_year</th>\n",
       "      <th>actor_2_facebook_likes</th>\n",
       "      <th>imdb_score</th>\n",
       "      <th>aspect_ratio</th>\n",
       "      <th>movie_facebook_likes</th>\n",
       "    </tr>\n",
       "  </thead>\n",
       "  <tbody>\n",
       "    <tr>\n",
       "      <th>5607</th>\n",
       "      <td>1977</td>\n",
       "      <td>50</td>\n",
       "      <td>Short Film (Live Action)</td>\n",
       "      <td>NaN</td>\n",
       "      <td>Notes on the Popular Arts</td>\n",
       "      <td>Saul Bass, Producer</td>\n",
       "      <td>NaN</td>\n",
       "      <td>NaN</td>\n",
       "      <td>NaN</td>\n",
       "      <td>NaN</td>\n",
       "      <td>...</td>\n",
       "      <td>NaN</td>\n",
       "      <td>NaN</td>\n",
       "      <td>NaN</td>\n",
       "      <td>NaN</td>\n",
       "      <td>NaN</td>\n",
       "      <td>NaN</td>\n",
       "      <td>NaN</td>\n",
       "      <td>NaN</td>\n",
       "      <td>NaN</td>\n",
       "      <td>NaN</td>\n",
       "    </tr>\n",
       "    <tr>\n",
       "      <th>1828</th>\n",
       "      <td>1945</td>\n",
       "      <td>18</td>\n",
       "      <td>Art Direction (Black and White)</td>\n",
       "      <td>1.0</td>\n",
       "      <td>Blood on the Sun</td>\n",
       "      <td>Art Direction: Wiard Ihnen; Interior Decoratio...</td>\n",
       "      <td>NaN</td>\n",
       "      <td>NaN</td>\n",
       "      <td>NaN</td>\n",
       "      <td>NaN</td>\n",
       "      <td>...</td>\n",
       "      <td>NaN</td>\n",
       "      <td>NaN</td>\n",
       "      <td>NaN</td>\n",
       "      <td>NaN</td>\n",
       "      <td>NaN</td>\n",
       "      <td>NaN</td>\n",
       "      <td>NaN</td>\n",
       "      <td>NaN</td>\n",
       "      <td>NaN</td>\n",
       "      <td>NaN</td>\n",
       "    </tr>\n",
       "  </tbody>\n",
       "</table>\n",
       "<p>2 rows × 34 columns</p>\n",
       "</div>"
      ],
      "text/plain": [
       "      Year  Ceremony                            Award  Winner  \\\n",
       "5607  1977        50         Short Film (Live Action)     NaN   \n",
       "1828  1945        18  Art Direction (Black and White)     1.0   \n",
       "\n",
       "                            Name  \\\n",
       "5607  Notes on the Popular Arts    \n",
       "1828           Blood on the Sun    \n",
       "\n",
       "                                                   Film color director_name  \\\n",
       "5607                                Saul Bass, Producer   NaN           NaN   \n",
       "1828  Art Direction: Wiard Ihnen; Interior Decoratio...   NaN           NaN   \n",
       "\n",
       "      num_critic_for_reviews  duration  ...  num_user_for_reviews  language  \\\n",
       "5607                     NaN       NaN  ...                   NaN       NaN   \n",
       "1828                     NaN       NaN  ...                   NaN       NaN   \n",
       "\n",
       "     country  content_rating  budget title_year actor_2_facebook_likes  \\\n",
       "5607     NaN             NaN     NaN        NaN                    NaN   \n",
       "1828     NaN             NaN     NaN        NaN                    NaN   \n",
       "\n",
       "     imdb_score  aspect_ratio  movie_facebook_likes  \n",
       "5607        NaN           NaN                   NaN  \n",
       "1828        NaN           NaN                   NaN  \n",
       "\n",
       "[2 rows x 34 columns]"
      ]
     },
     "execution_count": 4,
     "metadata": {},
     "output_type": "execute_result"
    }
   ],
   "source": [
    "M3.sample(2)"
   ]
  },
  {
   "cell_type": "code",
   "execution_count": 5,
   "id": "0cca0bd3",
   "metadata": {},
   "outputs": [
    {
     "name": "stdout",
     "output_type": "stream",
     "text": [
      "<class 'pandas.core.frame.DataFrame'>\n",
      "RangeIndex: 9984 entries, 0 to 9983\n",
      "Data columns (total 34 columns):\n",
      " #   Column                     Non-Null Count  Dtype  \n",
      "---  ------                     --------------  -----  \n",
      " 0   Year                       9984 non-null   object \n",
      " 1   Ceremony                   9984 non-null   int64  \n",
      " 2   Award                      9984 non-null   object \n",
      " 3   Winner                     2330 non-null   float64\n",
      " 4   Name                       9984 non-null   object \n",
      " 5   Film                       9651 non-null   object \n",
      " 6   color                      698 non-null    object \n",
      " 7   director_name              698 non-null    object \n",
      " 8   num_critic_for_reviews     698 non-null    float64\n",
      " 9   duration                   698 non-null    float64\n",
      " 10  director_facebook_likes    698 non-null    float64\n",
      " 11  actor_3_facebook_likes     696 non-null    float64\n",
      " 12  actor_2_name               698 non-null    object \n",
      " 13  actor_1_facebook_likes     698 non-null    float64\n",
      " 14  gross                      589 non-null    float64\n",
      " 15  genres                     698 non-null    object \n",
      " 16  actor_1_name               698 non-null    object \n",
      " 17  movie_title                698 non-null    object \n",
      " 18  num_voted_users            698 non-null    float64\n",
      " 19  cast_total_facebook_likes  698 non-null    float64\n",
      " 20  actor_3_name               696 non-null    object \n",
      " 21  facenumber_in_poster       698 non-null    float64\n",
      " 22  plot_keywords              696 non-null    object \n",
      " 23  movie_imdb_link            698 non-null    object \n",
      " 24  num_user_for_reviews       698 non-null    float64\n",
      " 25  language                   698 non-null    object \n",
      " 26  country                    698 non-null    object \n",
      " 27  content_rating             698 non-null    object \n",
      " 28  budget                     678 non-null    float64\n",
      " 29  title_year                 698 non-null    float64\n",
      " 30  actor_2_facebook_likes     698 non-null    float64\n",
      " 31  imdb_score                 698 non-null    float64\n",
      " 32  aspect_ratio               697 non-null    float64\n",
      " 33  movie_facebook_likes       698 non-null    float64\n",
      "dtypes: float64(17), int64(1), object(16)\n",
      "memory usage: 2.6+ MB\n"
     ]
    }
   ],
   "source": [
    "M3.info()"
   ]
  },
  {
   "cell_type": "code",
   "execution_count": 6,
   "id": "cf86922f",
   "metadata": {},
   "outputs": [
    {
     "name": "stdout",
     "output_type": "stream",
     "text": [
      "      Winner country\n",
      "0        NaN     NaN\n",
      "1        1.0     NaN\n",
      "2        NaN     NaN\n",
      "3        1.0     NaN\n",
      "4        NaN     NaN\n",
      "...      ...     ...\n",
      "9979     1.0     NaN\n",
      "9980     NaN     NaN\n",
      "9981     1.0     NaN\n",
      "9982     1.0     NaN\n",
      "9983     1.0     NaN\n",
      "\n",
      "[9984 rows x 2 columns]\n"
     ]
    }
   ],
   "source": [
    "# Select the \"Winner\" and \"country\" columns from M3\n",
    "M3_selected = M3[[\"Winner\", \"country\"]]\n",
    "\n",
    "# Print the selected columns\n",
    "print(M3_selected)"
   ]
  },
  {
   "cell_type": "code",
   "execution_count": 7,
   "id": "3544e8d0",
   "metadata": {},
   "outputs": [
    {
     "data": {
      "image/png": "[encoded data removed]",
      "text/plain": [
       "<Figure size 1000x600 with 1 Axes>"
      ]
     },
     "metadata": {},
     "output_type": "display_data"
    }
   ],
   "source": [
    "# Assuming M3 is your DataFrame\n",
    "# Filter the DataFrame for rows where Winner is 1\n",
    "filtered_data = M3[M3['Winner'] == 1]\n",
    "\n",
    "# Count occurrences of each country\n",
    "country_counts = filtered_data['country'].value_counts()\n",
    "\n",
    "# Select the top 5 countries\n",
    "top_5_countries = country_counts.head(5)\n",
    "\n",
    "# Create a histogram\n",
    "plt.figure(figsize=(10, 6))\n",
    "bars = top_5_countries.plot(kind='bar', color='skyblue')\n",
    "plt.title('Oscar winning countries from 1916 to 2016')\n",
    "plt.xlabel('Country')\n",
    "plt.ylabel('Number of Winners')\n",
    "plt.xticks(rotation=45)\n",
    "plt.grid(axis='y')\n",
    "\n",
    "# Add count on top of each bar\n",
    "for bar in bars.patches:\n",
    "    plt.text(\n",
    "        bar.get_x() + bar.get_width() / 2,\n",
    "        bar.get_height() + 0.1,  # Adjust this value for spacing\n",
    "        int(bar.get_height()),  # Display the count as an integer\n",
    "        ha='center',\n",
    "        va='bottom'\n",
    "    )\n",
    "\n",
    "# Show the plot\n",
    "plt.tight_layout()\n",
    "plt.show()"
   ]
  }
 ],
 "metadata": {
  "kernelspec": {
   "display_name": "Python 3 (ipykernel)",
   "language": "python",
   "name": "python3"
  },
  "language_info": {
   "codemirror_mode": {
    "name": "ipython",
    "version": 3
   },
   "file_extension": ".py",
   "mimetype": "text/x-python",
   "name": "python",
   "nbconvert_exporter": "python",
   "pygments_lexer": "ipython3",
   "version": "3.10.13"
  },
  "varInspector": {
   "cols": {
    "lenName": 16,
    "lenType": 16,
    "lenVar": 40
   },
   "kernels_config": {
    "python": {
     "delete_cmd_postfix": "",
     "delete_cmd_prefix": "del ",
     "library": "var_list.py",
     "varRefreshCmd": "print(var_dic_list())"
    },
    "r": {
     "delete_cmd_postfix": ") ",
     "delete_cmd_prefix": "rm(",
     "library": "var_list.r",
     "varRefreshCmd": "cat(var_dic_list()) "
    }
   },
   "types_to_exclude": [
    "module",
    "function",
    "builtin_function_or_method",
    "instance",
    "_Feature"
   ],
   "window_display": false
  }
 },
 "nbformat": 4,
 "nbformat_minor": 5
}
