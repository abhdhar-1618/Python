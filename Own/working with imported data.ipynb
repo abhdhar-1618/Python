{
 "cells": [
  {
   "cell_type": "code",
   "execution_count": 1,
   "id": "d10bf82d",
   "metadata": {},
   "outputs": [],
   "source": [
    "import pandas as pd"
   ]
  },
  {
   "cell_type": "code",
   "execution_count": 8,
   "id": "3456aaca",
   "metadata": {},
   "outputs": [],
   "source": [
    "df_1 = pd.read_csv('Finance_1.csv', index_col=False)\n",
    "df_2 = pd.read_csv('Finance_2.csv', index_col=False)"
   ]
  },
  {
   "cell_type": "code",
   "execution_count": 14,
   "id": "1bab0a60",
   "metadata": {},
   "outputs": [
    {
     "data": {
      "text/html": [
       "<div>\n",
       "<style scoped>\n",
       "    .dataframe tbody tr th:only-of-type {\n",
       "        vertical-align: middle;\n",
       "    }\n",
       "\n",
       "    .dataframe tbody tr th {\n",
       "        vertical-align: top;\n",
       "    }\n",
       "\n",
       "    .dataframe thead th {\n",
       "        text-align: right;\n",
       "    }\n",
       "</style>\n",
       "<table border=\"1\" class=\"dataframe\">\n",
       "  <thead>\n",
       "    <tr style=\"text-align: right;\">\n",
       "      <th></th>\n",
       "      <th>bank</th>\n",
       "      <th>company</th>\n",
       "      <th>company_type</th>\n",
       "      <th>cryptocurrency_iso_code</th>\n",
       "    </tr>\n",
       "  </thead>\n",
       "  <tbody>\n",
       "    <tr>\n",
       "      <th>0</th>\n",
       "      <td>Howard Bancorp</td>\n",
       "      <td>Megatronic Mux</td>\n",
       "      <td>Limited Liability Limited Partnership</td>\n",
       "      <td>XBC</td>\n",
       "    </tr>\n",
       "    <tr>\n",
       "      <th>1</th>\n",
       "      <td>TIAA Bank</td>\n",
       "      <td>Lumencraft</td>\n",
       "      <td>Professional corporation</td>\n",
       "      <td>ZEC</td>\n",
       "    </tr>\n",
       "    <tr>\n",
       "      <th>2</th>\n",
       "      <td>Independent Bank Group</td>\n",
       "      <td>Bosch Brewing Company</td>\n",
       "      <td>Incorporated</td>\n",
       "      <td>DASH</td>\n",
       "    </tr>\n",
       "    <tr>\n",
       "      <th>3</th>\n",
       "      <td>Seaway Bank and Trust Company</td>\n",
       "      <td>Facebook</td>\n",
       "      <td>Professional Limited Liability Company</td>\n",
       "      <td>XMR</td>\n",
       "    </tr>\n",
       "    <tr>\n",
       "      <th>4</th>\n",
       "      <td>Camden National Bank</td>\n",
       "      <td>American Electric Power</td>\n",
       "      <td>Professional corporation</td>\n",
       "      <td>BTC</td>\n",
       "    </tr>\n",
       "  </tbody>\n",
       "</table>\n",
       "</div>"
      ],
      "text/plain": [
       "                            bank                  company  \\\n",
       "0                 Howard Bancorp           Megatronic Mux   \n",
       "1                      TIAA Bank               Lumencraft   \n",
       "2         Independent Bank Group    Bosch Brewing Company   \n",
       "3  Seaway Bank and Trust Company                 Facebook   \n",
       "4           Camden National Bank  American Electric Power   \n",
       "\n",
       "                             company_type cryptocurrency_iso_code  \n",
       "0   Limited Liability Limited Partnership                     XBC  \n",
       "1                Professional corporation                     ZEC  \n",
       "2                            Incorporated                    DASH  \n",
       "3  Professional Limited Liability Company                     XMR  \n",
       "4                Professional corporation                     BTC  "
      ]
     },
     "execution_count": 14,
     "metadata": {},
     "output_type": "execute_result"
    }
   ],
   "source": [
    "df_1.head()"
   ]
  },
  {
   "cell_type": "code",
   "execution_count": 15,
   "id": "000c73e5",
   "metadata": {},
   "outputs": [
    {
     "data": {
      "text/html": [
       "<div>\n",
       "<style scoped>\n",
       "    .dataframe tbody tr th:only-of-type {\n",
       "        vertical-align: middle;\n",
       "    }\n",
       "\n",
       "    .dataframe tbody tr th {\n",
       "        vertical-align: top;\n",
       "    }\n",
       "\n",
       "    .dataframe thead th {\n",
       "        text-align: right;\n",
       "    }\n",
       "</style>\n",
       "<table border=\"1\" class=\"dataframe\">\n",
       "  <thead>\n",
       "    <tr style=\"text-align: right;\">\n",
       "      <th></th>\n",
       "      <th>bank</th>\n",
       "      <th>price</th>\n",
       "      <th>price_in_btc</th>\n",
       "      <th>stock_exchange</th>\n",
       "      <th>stock_name</th>\n",
       "      <th>stock_ticker</th>\n",
       "    </tr>\n",
       "  </thead>\n",
       "  <tbody>\n",
       "    <tr>\n",
       "      <th>0</th>\n",
       "      <td>Howard Bancorp</td>\n",
       "      <td>1328.69</td>\n",
       "      <td>0.790428</td>\n",
       "      <td>JPX</td>\n",
       "      <td>Mountain Province Diamonds Inc.</td>\n",
       "      <td>NWBI</td>\n",
       "    </tr>\n",
       "    <tr>\n",
       "      <th>1</th>\n",
       "      <td>TIAA Bank</td>\n",
       "      <td>1062.63</td>\n",
       "      <td>1.865300</td>\n",
       "      <td>NASDAQ</td>\n",
       "      <td>Sangamo Therapeutics</td>\n",
       "      <td>IPKW</td>\n",
       "    </tr>\n",
       "    <tr>\n",
       "      <th>2</th>\n",
       "      <td>Independent Bank Group</td>\n",
       "      <td>618.34</td>\n",
       "      <td>1.848834</td>\n",
       "      <td>SSE</td>\n",
       "      <td>Pepsico</td>\n",
       "      <td>HCXY</td>\n",
       "    </tr>\n",
       "    <tr>\n",
       "      <th>3</th>\n",
       "      <td>Seaway Bank and Trust Company</td>\n",
       "      <td>1397.09</td>\n",
       "      <td>1.831953</td>\n",
       "      <td>NYSE</td>\n",
       "      <td>Eaton Vance NextShares Trust</td>\n",
       "      <td>VYMI</td>\n",
       "    </tr>\n",
       "    <tr>\n",
       "      <th>4</th>\n",
       "      <td>Camden National Bank</td>\n",
       "      <td>873.47</td>\n",
       "      <td>0.198099</td>\n",
       "      <td>SSE</td>\n",
       "      <td>Invesco S&amp;P SmallCap Materials ETF</td>\n",
       "      <td>ONCS</td>\n",
       "    </tr>\n",
       "  </tbody>\n",
       "</table>\n",
       "</div>"
      ],
      "text/plain": [
       "                            bank    price  price_in_btc stock_exchange  \\\n",
       "0                 Howard Bancorp  1328.69      0.790428            JPX   \n",
       "1                      TIAA Bank  1062.63      1.865300         NASDAQ   \n",
       "2         Independent Bank Group   618.34      1.848834            SSE   \n",
       "3  Seaway Bank and Trust Company  1397.09      1.831953           NYSE   \n",
       "4           Camden National Bank   873.47      0.198099            SSE   \n",
       "\n",
       "                           stock_name stock_ticker  \n",
       "0     Mountain Province Diamonds Inc.         NWBI  \n",
       "1                Sangamo Therapeutics         IPKW  \n",
       "2                             Pepsico         HCXY  \n",
       "3        Eaton Vance NextShares Trust         VYMI  \n",
       "4  Invesco S&P SmallCap Materials ETF         ONCS  "
      ]
     },
     "execution_count": 15,
     "metadata": {},
     "output_type": "execute_result"
    }
   ],
   "source": [
    "df_2.head()"
   ]
  },
  {
   "cell_type": "code",
   "execution_count": 19,
   "id": "843cc0d2",
   "metadata": {},
   "outputs": [
    {
     "data": {
      "text/plain": [
       "Index(['bank', 'company', 'company_type', 'cryptocurrency_iso_code'], dtype='object')"
      ]
     },
     "execution_count": 19,
     "metadata": {},
     "output_type": "execute_result"
    }
   ],
   "source": [
    "df_1.columns"
   ]
  },
  {
   "cell_type": "code",
   "execution_count": 20,
   "id": "569ddcb4",
   "metadata": {},
   "outputs": [
    {
     "data": {
      "text/plain": [
       "Index(['bank', 'price', 'price_in_btc', 'stock_exchange', 'stock_name',\n",
       "       'stock_ticker'],\n",
       "      dtype='object')"
      ]
     },
     "execution_count": 20,
     "metadata": {},
     "output_type": "execute_result"
    }
   ],
   "source": [
    "df_2.columns"
   ]
  },
  {
   "cell_type": "code",
   "execution_count": 22,
   "id": "e21feba9",
   "metadata": {},
   "outputs": [
    {
     "data": {
      "text/html": [
       "<div>\n",
       "<style scoped>\n",
       "    .dataframe tbody tr th:only-of-type {\n",
       "        vertical-align: middle;\n",
       "    }\n",
       "\n",
       "    .dataframe tbody tr th {\n",
       "        vertical-align: top;\n",
       "    }\n",
       "\n",
       "    .dataframe thead th {\n",
       "        text-align: right;\n",
       "    }\n",
       "</style>\n",
       "<table border=\"1\" class=\"dataframe\">\n",
       "  <thead>\n",
       "    <tr style=\"text-align: right;\">\n",
       "      <th></th>\n",
       "      <th>bank</th>\n",
       "      <th>company</th>\n",
       "      <th>company_type</th>\n",
       "      <th>cryptocurrency_iso_code</th>\n",
       "      <th>price</th>\n",
       "      <th>price_in_btc</th>\n",
       "      <th>stock_exchange</th>\n",
       "      <th>stock_name</th>\n",
       "      <th>stock_ticker</th>\n",
       "    </tr>\n",
       "  </thead>\n",
       "  <tbody>\n",
       "    <tr>\n",
       "      <th>0</th>\n",
       "      <td>Howard Bancorp</td>\n",
       "      <td>Megatronic Mux</td>\n",
       "      <td>Limited Liability Limited Partnership</td>\n",
       "      <td>XBC</td>\n",
       "      <td>1328.69</td>\n",
       "      <td>0.790428</td>\n",
       "      <td>JPX</td>\n",
       "      <td>Mountain Province Diamonds Inc.</td>\n",
       "      <td>NWBI</td>\n",
       "    </tr>\n",
       "    <tr>\n",
       "      <th>1</th>\n",
       "      <td>TIAA Bank</td>\n",
       "      <td>Lumencraft</td>\n",
       "      <td>Professional corporation</td>\n",
       "      <td>ZEC</td>\n",
       "      <td>1062.63</td>\n",
       "      <td>1.865300</td>\n",
       "      <td>NASDAQ</td>\n",
       "      <td>Sangamo Therapeutics</td>\n",
       "      <td>IPKW</td>\n",
       "    </tr>\n",
       "    <tr>\n",
       "      <th>2</th>\n",
       "      <td>Independent Bank Group</td>\n",
       "      <td>Bosch Brewing Company</td>\n",
       "      <td>Incorporated</td>\n",
       "      <td>DASH</td>\n",
       "      <td>618.34</td>\n",
       "      <td>1.848834</td>\n",
       "      <td>SSE</td>\n",
       "      <td>Pepsico</td>\n",
       "      <td>HCXY</td>\n",
       "    </tr>\n",
       "    <tr>\n",
       "      <th>3</th>\n",
       "      <td>Seaway Bank and Trust Company</td>\n",
       "      <td>Facebook</td>\n",
       "      <td>Professional Limited Liability Company</td>\n",
       "      <td>XMR</td>\n",
       "      <td>1397.09</td>\n",
       "      <td>1.831953</td>\n",
       "      <td>NYSE</td>\n",
       "      <td>Eaton Vance NextShares Trust</td>\n",
       "      <td>VYMI</td>\n",
       "    </tr>\n",
       "    <tr>\n",
       "      <th>4</th>\n",
       "      <td>Camden National Bank</td>\n",
       "      <td>American Electric Power</td>\n",
       "      <td>Professional corporation</td>\n",
       "      <td>BTC</td>\n",
       "      <td>873.47</td>\n",
       "      <td>0.198099</td>\n",
       "      <td>SSE</td>\n",
       "      <td>Invesco S&amp;P SmallCap Materials ETF</td>\n",
       "      <td>ONCS</td>\n",
       "    </tr>\n",
       "  </tbody>\n",
       "</table>\n",
       "</div>"
      ],
      "text/plain": [
       "                            bank                  company  \\\n",
       "0                 Howard Bancorp           Megatronic Mux   \n",
       "1                      TIAA Bank               Lumencraft   \n",
       "2         Independent Bank Group    Bosch Brewing Company   \n",
       "3  Seaway Bank and Trust Company                 Facebook   \n",
       "4           Camden National Bank  American Electric Power   \n",
       "\n",
       "                             company_type cryptocurrency_iso_code    price  \\\n",
       "0   Limited Liability Limited Partnership                     XBC  1328.69   \n",
       "1                Professional corporation                     ZEC  1062.63   \n",
       "2                            Incorporated                    DASH   618.34   \n",
       "3  Professional Limited Liability Company                     XMR  1397.09   \n",
       "4                Professional corporation                     BTC   873.47   \n",
       "\n",
       "   price_in_btc stock_exchange                          stock_name  \\\n",
       "0      0.790428            JPX     Mountain Province Diamonds Inc.   \n",
       "1      1.865300         NASDAQ                Sangamo Therapeutics   \n",
       "2      1.848834            SSE                             Pepsico   \n",
       "3      1.831953           NYSE        Eaton Vance NextShares Trust   \n",
       "4      0.198099            SSE  Invesco S&P SmallCap Materials ETF   \n",
       "\n",
       "  stock_ticker  \n",
       "0         NWBI  \n",
       "1         IPKW  \n",
       "2         HCXY  \n",
       "3         VYMI  \n",
       "4         ONCS  "
      ]
     },
     "execution_count": 22,
     "metadata": {},
     "output_type": "execute_result"
    }
   ],
   "source": [
    "# Perform a left join on the 'bank' column\n",
    "joined_df = pd.merge(df_1, df_2, on='bank', how='left')\n",
    "\n",
    "# Display the joined dataset\n",
    "#print(joined_df)\n",
    "joined_df.head()"
   ]
  }
 ],
 "metadata": {
  "kernelspec": {
   "display_name": "Python 3 (ipykernel)",
   "language": "python",
   "name": "python3"
  },
  "language_info": {
   "codemirror_mode": {
    "name": "ipython",
    "version": 3
   },
   "file_extension": ".py",
   "mimetype": "text/x-python",
   "name": "python",
   "nbconvert_exporter": "python",
   "pygments_lexer": "ipython3",
   "version": "3.11.5"
  },
  "varInspector": {
   "cols": {
    "lenName": 16,
    "lenType": 16,
    "lenVar": 40
   },
   "kernels_config": {
    "python": {
     "delete_cmd_postfix": "",
     "delete_cmd_prefix": "del ",
     "library": "var_list.py",
     "varRefreshCmd": "print(var_dic_list())"
    },
    "r": {
     "delete_cmd_postfix": ") ",
     "delete_cmd_prefix": "rm(",
     "library": "var_list.r",
     "varRefreshCmd": "cat(var_dic_list()) "
    }
   },
   "types_to_exclude": [
    "module",
    "function",
    "builtin_function_or_method",
    "instance",
    "_Feature"
   ],
   "window_display": false
  }
 },
 "nbformat": 4,
 "nbformat_minor": 5
}
