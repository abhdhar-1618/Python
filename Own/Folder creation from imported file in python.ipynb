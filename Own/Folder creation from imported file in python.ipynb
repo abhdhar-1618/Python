{
 "cells": [
  {
   "cell_type": "code",
   "execution_count": 1,
   "id": "e56c02e3",
   "metadata": {},
   "outputs": [
    {
     "name": "stdout",
     "output_type": "stream",
     "text": [
      "Enter the path to the CSV file: D:\\Main\\My Practice and experiments\\My Practice LAB\\Udemy Docs\\Udemy Course Map\\Enrolled Course contents\\folder_names.csv\n",
      "Enter the base folder path where you want to create folders: D:\\Main\\My Practice and experiments\\My Practice LAB\\Udemy Docs\\Udemy Course Map\\Enrolled Course contents\n"
     ]
    },
    {
     "name": "stderr",
     "output_type": "stream",
     "text": [
      "2024-03-25 17:07:25,517 - INFO - Folder '100 Days of Code_The Complete Python Pro Bootcamp' created at D:\\Main\\My Practice and experiments\\My Practice LAB\\Udemy Docs\\Udemy Course Map\\Enrolled Course contents\\100 Days of Code_The Complete Python Pro Bootcamp\n",
      "2024-03-25 17:07:25,517 - INFO - Folder 'Artificial Intelligence A-Z 2024  Build 5 AI + LLM & ChatGPT' created at D:\\Main\\My Practice and experiments\\My Practice LAB\\Udemy Docs\\Udemy Course Map\\Enrolled Course contents\\Artificial Intelligence A-Z 2024  Build 5 AI + LLM & ChatGPT\n",
      "2024-03-25 17:07:25,520 - INFO - Folder 'ChatGPT Complete Guide  Learn Midjourney, ChatGPT 4 & More' created at D:\\Main\\My Practice and experiments\\My Practice LAB\\Udemy Docs\\Udemy Course Map\\Enrolled Course contents\\ChatGPT Complete Guide  Learn Midjourney, ChatGPT 4 & More\n",
      "2024-03-25 17:07:25,522 - INFO - Folder 'Deep Learning A-Z 2024  Neural Networks, AI & ChatGPT Prize' created at D:\\Main\\My Practice and experiments\\My Practice LAB\\Udemy Docs\\Udemy Course Map\\Enrolled Course contents\\Deep Learning A-Z 2024  Neural Networks, AI & ChatGPT Prize\n",
      "2024-03-25 17:07:25,524 - INFO - Folder 'Machine Learning A-Z  AI, Python & R + ChatGPT Prize 2024' created at D:\\Main\\My Practice and experiments\\My Practice LAB\\Udemy Docs\\Udemy Course Map\\Enrolled Course contents\\Machine Learning A-Z  AI, Python & R + ChatGPT Prize 2024\n",
      "2024-03-25 17:07:25,525 - INFO - Folder 'Master statistics & machine learning- intuition, math, code' created at D:\\Main\\My Practice and experiments\\My Practice LAB\\Udemy Docs\\Udemy Course Map\\Enrolled Course contents\\Master statistics & machine learning- intuition, math, code\n",
      "2024-03-25 17:07:25,527 - INFO - Folder 'Microsoft Excel - Excel from Beginner to Advanced' created at D:\\Main\\My Practice and experiments\\My Practice LAB\\Udemy Docs\\Udemy Course Map\\Enrolled Course contents\\Microsoft Excel - Excel from Beginner to Advanced\n",
      "2024-03-25 17:07:25,528 - INFO - Folder 'Microsoft Power BI - The Practical Guide 2024' created at D:\\Main\\My Practice and experiments\\My Practice LAB\\Udemy Docs\\Udemy Course Map\\Enrolled Course contents\\Microsoft Power BI - The Practical Guide 2024\n",
      "2024-03-25 17:07:25,529 - INFO - Folder 'Python for Data Science and Machine Learning Bootcamp' created at D:\\Main\\My Practice and experiments\\My Practice LAB\\Udemy Docs\\Udemy Course Map\\Enrolled Course contents\\Python for Data Science and Machine Learning Bootcamp\n",
      "2024-03-25 17:07:25,530 - INFO - Folder 'SQL - MySQL for Data Analytics and Business Intelligence' created at D:\\Main\\My Practice and experiments\\My Practice LAB\\Udemy Docs\\Udemy Course Map\\Enrolled Course contents\\SQL - MySQL for Data Analytics and Business Intelligence\n",
      "2024-03-25 17:07:25,531 - INFO - Folder 'SQL for Data Analysis  Solving real-world problems with data' created at D:\\Main\\My Practice and experiments\\My Practice LAB\\Udemy Docs\\Udemy Course Map\\Enrolled Course contents\\SQL for Data Analysis  Solving real-world problems with data\n",
      "2024-03-25 17:07:25,531 - INFO - Folder 'Step By Step SQL ( MySQL )  Best for Newbies  100+Practice Q' created at D:\\Main\\My Practice and experiments\\My Practice LAB\\Udemy Docs\\Udemy Course Map\\Enrolled Course contents\\Step By Step SQL ( MySQL )  Best for Newbies  100+Practice Q\n",
      "2024-03-25 17:07:25,534 - INFO - Folder 'The Complete Python Bootcamp From Zero to Hero in Python' created at D:\\Main\\My Practice and experiments\\My Practice LAB\\Udemy Docs\\Udemy Course Map\\Enrolled Course contents\\The Complete Python Bootcamp From Zero to Hero in Python\n",
      "2024-03-25 17:07:25,536 - INFO - Folder 'The Data Science Course Complete Data Science Bootcamp 2024' created at D:\\Main\\My Practice and experiments\\My Practice LAB\\Udemy Docs\\Udemy Course Map\\Enrolled Course contents\\The Data Science Course Complete Data Science Bootcamp 2024\n",
      "2024-03-25 17:07:25,537 - INFO - Folder 'The Ultimate MySQL Bootcamp  Go from SQL Beginner to Expert' created at D:\\Main\\My Practice and experiments\\My Practice LAB\\Udemy Docs\\Udemy Course Map\\Enrolled Course contents\\The Ultimate MySQL Bootcamp  Go from SQL Beginner to Expert\n",
      "2024-03-25 17:07:25,538 - INFO - Folder 'Unlock Excel VBA and Excel Macros' created at D:\\Main\\My Practice and experiments\\My Practice LAB\\Udemy Docs\\Udemy Course Map\\Enrolled Course contents\\Unlock Excel VBA and Excel Macros\n"
     ]
    }
   ],
   "source": [
    "import os\n",
    "import csv\n",
    "import logging\n",
    "\n",
    "logging.basicConfig(level=logging.DEBUG, format='%(asctime)s - %(levelname)s - %(message)s')\n",
    "\n",
    "def browse_file():\n",
    "    try:\n",
    "        file_path = input(\"Enter the path to the CSV file: \")\n",
    "        if not os.path.isfile(file_path):\n",
    "            logging.error(\"Invalid file path provided.\")\n",
    "            return None\n",
    "        return file_path\n",
    "    except Exception as e:\n",
    "        logging.exception(\"An error occurred while browsing for file:\")\n",
    "        return None\n",
    "\n",
    "def create_folders_from_csv(csv_file, base_path):\n",
    "    try:\n",
    "        with open(csv_file, 'r') as file:\n",
    "            reader = csv.reader(file)\n",
    "            for row in reader:\n",
    "                folder_name = row[0].strip()  # Assuming the folder name is in the first column\n",
    "                folder_path = os.path.join(base_path, folder_name)\n",
    "                try:\n",
    "                    os.makedirs(folder_path, exist_ok=True)\n",
    "                    logging.info(f\"Folder '{folder_name}' created at {folder_path}\")\n",
    "                except FileExistsError:\n",
    "                    logging.info(f\"Folder '{folder_name}' already exists at {folder_path}\")\n",
    "    except Exception as e:\n",
    "        logging.exception(\"An error occurred while creating folders from CSV:\")\n",
    "        return None\n",
    "\n",
    "def main():\n",
    "    try:\n",
    "        csv_file_path = browse_file()\n",
    "        if not csv_file_path:\n",
    "            logging.info(\"No file selected. Exiting.\")\n",
    "            return\n",
    "\n",
    "        base_folder_path = input(\"Enter the base folder path where you want to create folders: \")\n",
    "\n",
    "        if not os.path.exists(base_folder_path):\n",
    "            logging.error(\"Base folder path does not exist. Exiting.\")\n",
    "            return\n",
    "\n",
    "        create_folders_from_csv(csv_file_path, base_folder_path)\n",
    "    except Exception as e:\n",
    "        logging.exception(\"An error occurred in the main function:\")\n",
    "\n",
    "if __name__ == \"__main__\":\n",
    "    main()"
   ]
  },
  {
   "cell_type": "code",
   "execution_count": null,
   "id": "fbcf61f8",
   "metadata": {},
   "outputs": [],
   "source": []
  }
 ],
 "metadata": {
  "kernelspec": {
   "display_name": "Python 3 (ipykernel)",
   "language": "python",
   "name": "python3"
  },
  "language_info": {
   "codemirror_mode": {
    "name": "ipython",
    "version": 3
   },
   "file_extension": ".py",
   "mimetype": "text/x-python",
   "name": "python",
   "nbconvert_exporter": "python",
   "pygments_lexer": "ipython3",
   "version": "3.11.5"
  },
  "varInspector": {
   "cols": {
    "lenName": 16,
    "lenType": 16,
    "lenVar": 40
   },
   "kernels_config": {
    "python": {
     "delete_cmd_postfix": "",
     "delete_cmd_prefix": "del ",
     "library": "var_list.py",
     "varRefreshCmd": "print(var_dic_list())"
    },
    "r": {
     "delete_cmd_postfix": ") ",
     "delete_cmd_prefix": "rm(",
     "library": "var_list.r",
     "varRefreshCmd": "cat(var_dic_list()) "
    }
   },
   "types_to_exclude": [
    "module",
    "function",
    "builtin_function_or_method",
    "instance",
    "_Feature"
   ],
   "window_display": false
  }
 },
 "nbformat": 4,
 "nbformat_minor": 5
}
